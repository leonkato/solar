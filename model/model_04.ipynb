{
 "cells": [
  {
   "cell_type": "markdown",
   "metadata": {},
   "source": [
    "### Model cost/watt as function of three features: time (days), size (kilowatts), state\n",
    "\n",
    "Add categorical feature state to model (cost ~ days, size, state(C)) \n",
    "\n",
    "Best parameters: {'features__num_vars__poly__degree': 14}, Best R squared: 0.534019834043528\n",
    "\n",
    "#### Summary of results\n",
    "\n",
    "OLS is better able to capture the trend of the data by including both _time_, _size_ and _state_ in the model (with a polynomial transformation). We did a 3-fold cross-validated test on the full dataset (364k rows) from polynomial degree 1 to degree 17 measuring  $R^2$  and the square root of the squared error (RMSE).\n",
    "\n",
    "The 14th degree polynomial has the best fit (test $R^2$  = 0.534). At higher polynomials, the model overfits and test performance deteriorates. The validation curve for polynomial degree suggests that with regularization, we may be able to increase the model flexibility (increase polynomial degree) without overfitting and improve performance."
   ]
  },
  {
   "cell_type": "code",
   "execution_count": 1,
   "metadata": {},
   "outputs": [],
   "source": [
    "%matplotlib inline\n",
    "\n",
    "import numpy as np\n",
    "import pandas as pd\n",
    "import matplotlib.pyplot as plt\n",
    "plt.rc('figure', figsize=(10, 8))\n",
    "np.set_printoptions(precision=4, suppress=False)\n",
    "# please show all columns\n",
    "pd.set_option(\"display.max_columns\", 60)\n",
    "import seaborn as sns\n",
    "sns.set()"
   ]
  },
  {
   "cell_type": "code",
   "execution_count": 2,
   "metadata": {},
   "outputs": [],
   "source": [
    "# Import sklearn stuff\n",
    "\n",
    "from sklearn.linear_model import LinearRegression, Ridge\n",
    "from sklearn.metrics import r2_score, mean_squared_error, make_scorer\n",
    "from sklearn.model_selection import train_test_split, cross_val_score, KFold, GridSearchCV\n",
    "from sklearn.preprocessing import PolynomialFeatures, StandardScaler\n",
    "from sklearn.pipeline import Pipeline,  make_pipeline, FeatureUnion\n",
    "from sklearn.base import BaseEstimator, TransformerMixin"
   ]
  },
  {
   "cell_type": "code",
   "execution_count": 3,
   "metadata": {},
   "outputs": [],
   "source": [
    "# read cleaned data\n",
    "dfModelAll = pd.read_csv('../local/data/LBNL_openpv_tts_data/ModelAll.csv', index_col='row', dtype={'state':'category'})"
   ]
  },
  {
   "cell_type": "code",
   "execution_count": 4,
   "metadata": {},
   "outputs": [
    {
     "data": {
      "text/html": [
       "<div>\n",
       "<style scoped>\n",
       "    .dataframe tbody tr th:only-of-type {\n",
       "        vertical-align: middle;\n",
       "    }\n",
       "\n",
       "    .dataframe tbody tr th {\n",
       "        vertical-align: top;\n",
       "    }\n",
       "\n",
       "    .dataframe thead th {\n",
       "        text-align: right;\n",
       "    }\n",
       "</style>\n",
       "<table border=\"1\" class=\"dataframe\">\n",
       "  <thead>\n",
       "    <tr style=\"text-align: right;\">\n",
       "      <th></th>\n",
       "      <th>num_days</th>\n",
       "      <th>size_kw</th>\n",
       "      <th>state</th>\n",
       "      <th>cost_per_watt</th>\n",
       "      <th>scaleSize</th>\n",
       "    </tr>\n",
       "    <tr>\n",
       "      <th>row</th>\n",
       "      <th></th>\n",
       "      <th></th>\n",
       "      <th></th>\n",
       "      <th></th>\n",
       "      <th></th>\n",
       "    </tr>\n",
       "  </thead>\n",
       "  <tbody>\n",
       "    <tr>\n",
       "      <th>0</th>\n",
       "      <td>0.0</td>\n",
       "      <td>2.2824</td>\n",
       "      <td>CA</td>\n",
       "      <td>10.734315</td>\n",
       "      <td>0</td>\n",
       "    </tr>\n",
       "    <tr>\n",
       "      <th>1</th>\n",
       "      <td>21.0</td>\n",
       "      <td>1.8504</td>\n",
       "      <td>CA</td>\n",
       "      <td>11.108701</td>\n",
       "      <td>0</td>\n",
       "    </tr>\n",
       "    <tr>\n",
       "      <th>2</th>\n",
       "      <td>26.0</td>\n",
       "      <td>2.3076</td>\n",
       "      <td>CA</td>\n",
       "      <td>8.667013</td>\n",
       "      <td>0</td>\n",
       "    </tr>\n",
       "    <tr>\n",
       "      <th>3</th>\n",
       "      <td>84.0</td>\n",
       "      <td>2.3316</td>\n",
       "      <td>CA</td>\n",
       "      <td>13.270286</td>\n",
       "      <td>0</td>\n",
       "    </tr>\n",
       "    <tr>\n",
       "      <th>4</th>\n",
       "      <td>111.0</td>\n",
       "      <td>0.9300</td>\n",
       "      <td>CA</td>\n",
       "      <td>14.654839</td>\n",
       "      <td>0</td>\n",
       "    </tr>\n",
       "  </tbody>\n",
       "</table>\n",
       "</div>"
      ],
      "text/plain": [
       "     num_days  size_kw state  cost_per_watt  scaleSize\n",
       "row                                                   \n",
       "0         0.0   2.2824    CA      10.734315          0\n",
       "1        21.0   1.8504    CA      11.108701          0\n",
       "2        26.0   2.3076    CA       8.667013          0\n",
       "3        84.0   2.3316    CA      13.270286          0\n",
       "4       111.0   0.9300    CA      14.654839          0"
      ]
     },
     "execution_count": 4,
     "metadata": {},
     "output_type": "execute_result"
    }
   ],
   "source": [
    "dfModelAll.head()"
   ]
  },
  {
   "cell_type": "code",
   "execution_count": 5,
   "metadata": {
    "scrolled": true
   },
   "outputs": [
    {
     "name": "stdout",
     "output_type": "stream",
     "text": [
      "<class 'pandas.core.frame.DataFrame'>\n",
      "Int64Index: 364212 entries, 0 to 364211\n",
      "Data columns (total 5 columns):\n",
      "num_days         364212 non-null float64\n",
      "size_kw          364212 non-null float64\n",
      "state            364212 non-null category\n",
      "cost_per_watt    364212 non-null float64\n",
      "scaleSize        364212 non-null int64\n",
      "dtypes: category(1), float64(3), int64(1)\n",
      "memory usage: 14.2 MB\n"
     ]
    }
   ],
   "source": [
    "dfModelAll.info()"
   ]
  },
  {
   "cell_type": "code",
   "execution_count": 6,
   "metadata": {
    "scrolled": false
   },
   "outputs": [
    {
     "data": {
      "text/plain": [
       "[CA, OR, AZ, NY, MN, ..., MD, CT, FL, NM, AR]\n",
       "Length: 19\n",
       "Categories (19, object): [CA, OR, AZ, NY, ..., CT, FL, NM, AR]"
      ]
     },
     "execution_count": 6,
     "metadata": {},
     "output_type": "execute_result"
    }
   ],
   "source": [
    "dfModelAll.state.unique()"
   ]
  },
  {
   "cell_type": "markdown",
   "metadata": {},
   "source": [
    "#### Add state to the model\n",
    "\n",
    "State is a categorical feature.  One standard method of including categorical variables is to encode them as a set of *n* columns that can the value 1 or 0 where *n* is the number of categories be encoded.  Only one of the variables (the one corresponding to the original category) will be 1; all the other new columns will contain 0.  This method is called one-hot encoding.\n",
    "\n",
    "The encoding can be done in the pipeline, but Pandas provides a method for doing the job in one step."
   ]
  },
  {
   "cell_type": "markdown",
   "metadata": {},
   "source": [
    "### Shuffle dataset (and reduce if desired)"
   ]
  },
  {
   "cell_type": "markdown",
   "metadata": {},
   "source": [
    "#### let's do the one hot encoding with pandas"
   ]
  },
  {
   "cell_type": "code",
   "execution_count": 7,
   "metadata": {},
   "outputs": [
    {
     "data": {
      "text/html": [
       "<div>\n",
       "<style scoped>\n",
       "    .dataframe tbody tr th:only-of-type {\n",
       "        vertical-align: middle;\n",
       "    }\n",
       "\n",
       "    .dataframe tbody tr th {\n",
       "        vertical-align: top;\n",
       "    }\n",
       "\n",
       "    .dataframe thead th {\n",
       "        text-align: right;\n",
       "    }\n",
       "</style>\n",
       "<table border=\"1\" class=\"dataframe\">\n",
       "  <thead>\n",
       "    <tr style=\"text-align: right;\">\n",
       "      <th></th>\n",
       "      <th>num_days</th>\n",
       "      <th>size_kw</th>\n",
       "      <th>state</th>\n",
       "      <th>cost_per_watt</th>\n",
       "      <th>scaleSize</th>\n",
       "    </tr>\n",
       "    <tr>\n",
       "      <th>row</th>\n",
       "      <th></th>\n",
       "      <th></th>\n",
       "      <th></th>\n",
       "      <th></th>\n",
       "      <th></th>\n",
       "    </tr>\n",
       "  </thead>\n",
       "  <tbody>\n",
       "    <tr>\n",
       "      <th>201275</th>\n",
       "      <td>6205.0</td>\n",
       "      <td>5.400</td>\n",
       "      <td>AZ</td>\n",
       "      <td>3.652963</td>\n",
       "      <td>2</td>\n",
       "    </tr>\n",
       "    <tr>\n",
       "      <th>298480</th>\n",
       "      <td>6692.0</td>\n",
       "      <td>8.990</td>\n",
       "      <td>CA</td>\n",
       "      <td>1.112347</td>\n",
       "      <td>3</td>\n",
       "    </tr>\n",
       "    <tr>\n",
       "      <th>237778</th>\n",
       "      <td>6478.0</td>\n",
       "      <td>9.810</td>\n",
       "      <td>CA</td>\n",
       "      <td>4.719164</td>\n",
       "      <td>3</td>\n",
       "    </tr>\n",
       "    <tr>\n",
       "      <th>237823</th>\n",
       "      <td>6479.0</td>\n",
       "      <td>7.848</td>\n",
       "      <td>CA</td>\n",
       "      <td>4.799949</td>\n",
       "      <td>3</td>\n",
       "    </tr>\n",
       "    <tr>\n",
       "      <th>78485</th>\n",
       "      <td>4540.0</td>\n",
       "      <td>7.524</td>\n",
       "      <td>AZ</td>\n",
       "      <td>5.927698</td>\n",
       "      <td>3</td>\n",
       "    </tr>\n",
       "  </tbody>\n",
       "</table>\n",
       "</div>"
      ],
      "text/plain": [
       "        num_days  size_kw state  cost_per_watt  scaleSize\n",
       "row                                                      \n",
       "201275    6205.0    5.400    AZ       3.652963          2\n",
       "298480    6692.0    8.990    CA       1.112347          3\n",
       "237778    6478.0    9.810    CA       4.719164          3\n",
       "237823    6479.0    7.848    CA       4.799949          3\n",
       "78485     4540.0    7.524    AZ       5.927698          3"
      ]
     },
     "execution_count": 7,
     "metadata": {},
     "output_type": "execute_result"
    }
   ],
   "source": [
    "dfMod = dfModelAll.sample(frac=1.0, random_state=21); dfMod.head()"
   ]
  },
  {
   "cell_type": "code",
   "execution_count": 8,
   "metadata": {
    "scrolled": true
   },
   "outputs": [],
   "source": [
    "dfMod = pd.get_dummies(dfMod, drop_first=True)"
   ]
  },
  {
   "cell_type": "code",
   "execution_count": 9,
   "metadata": {},
   "outputs": [
    {
     "data": {
      "text/html": [
       "<div>\n",
       "<style scoped>\n",
       "    .dataframe tbody tr th:only-of-type {\n",
       "        vertical-align: middle;\n",
       "    }\n",
       "\n",
       "    .dataframe tbody tr th {\n",
       "        vertical-align: top;\n",
       "    }\n",
       "\n",
       "    .dataframe thead th {\n",
       "        text-align: right;\n",
       "    }\n",
       "</style>\n",
       "<table border=\"1\" class=\"dataframe\">\n",
       "  <thead>\n",
       "    <tr style=\"text-align: right;\">\n",
       "      <th></th>\n",
       "      <th>num_days</th>\n",
       "      <th>size_kw</th>\n",
       "      <th>cost_per_watt</th>\n",
       "      <th>scaleSize</th>\n",
       "      <th>state_AZ</th>\n",
       "      <th>state_CA</th>\n",
       "      <th>state_CT</th>\n",
       "      <th>state_DE</th>\n",
       "      <th>state_FL</th>\n",
       "      <th>state_MA</th>\n",
       "      <th>state_MD</th>\n",
       "      <th>state_MN</th>\n",
       "      <th>state_NH</th>\n",
       "      <th>state_NJ</th>\n",
       "      <th>state_NM</th>\n",
       "      <th>state_NV</th>\n",
       "      <th>state_NY</th>\n",
       "      <th>state_OR</th>\n",
       "      <th>state_PA</th>\n",
       "      <th>state_TX</th>\n",
       "      <th>state_VT</th>\n",
       "      <th>state_WI</th>\n",
       "    </tr>\n",
       "    <tr>\n",
       "      <th>row</th>\n",
       "      <th></th>\n",
       "      <th></th>\n",
       "      <th></th>\n",
       "      <th></th>\n",
       "      <th></th>\n",
       "      <th></th>\n",
       "      <th></th>\n",
       "      <th></th>\n",
       "      <th></th>\n",
       "      <th></th>\n",
       "      <th></th>\n",
       "      <th></th>\n",
       "      <th></th>\n",
       "      <th></th>\n",
       "      <th></th>\n",
       "      <th></th>\n",
       "      <th></th>\n",
       "      <th></th>\n",
       "      <th></th>\n",
       "      <th></th>\n",
       "      <th></th>\n",
       "      <th></th>\n",
       "    </tr>\n",
       "  </thead>\n",
       "  <tbody>\n",
       "    <tr>\n",
       "      <th>201275</th>\n",
       "      <td>6205.0</td>\n",
       "      <td>5.400</td>\n",
       "      <td>3.652963</td>\n",
       "      <td>2</td>\n",
       "      <td>1</td>\n",
       "      <td>0</td>\n",
       "      <td>0</td>\n",
       "      <td>0</td>\n",
       "      <td>0</td>\n",
       "      <td>0</td>\n",
       "      <td>0</td>\n",
       "      <td>0</td>\n",
       "      <td>0</td>\n",
       "      <td>0</td>\n",
       "      <td>0</td>\n",
       "      <td>0</td>\n",
       "      <td>0</td>\n",
       "      <td>0</td>\n",
       "      <td>0</td>\n",
       "      <td>0</td>\n",
       "      <td>0</td>\n",
       "      <td>0</td>\n",
       "    </tr>\n",
       "    <tr>\n",
       "      <th>298480</th>\n",
       "      <td>6692.0</td>\n",
       "      <td>8.990</td>\n",
       "      <td>1.112347</td>\n",
       "      <td>3</td>\n",
       "      <td>0</td>\n",
       "      <td>1</td>\n",
       "      <td>0</td>\n",
       "      <td>0</td>\n",
       "      <td>0</td>\n",
       "      <td>0</td>\n",
       "      <td>0</td>\n",
       "      <td>0</td>\n",
       "      <td>0</td>\n",
       "      <td>0</td>\n",
       "      <td>0</td>\n",
       "      <td>0</td>\n",
       "      <td>0</td>\n",
       "      <td>0</td>\n",
       "      <td>0</td>\n",
       "      <td>0</td>\n",
       "      <td>0</td>\n",
       "      <td>0</td>\n",
       "    </tr>\n",
       "    <tr>\n",
       "      <th>237778</th>\n",
       "      <td>6478.0</td>\n",
       "      <td>9.810</td>\n",
       "      <td>4.719164</td>\n",
       "      <td>3</td>\n",
       "      <td>0</td>\n",
       "      <td>1</td>\n",
       "      <td>0</td>\n",
       "      <td>0</td>\n",
       "      <td>0</td>\n",
       "      <td>0</td>\n",
       "      <td>0</td>\n",
       "      <td>0</td>\n",
       "      <td>0</td>\n",
       "      <td>0</td>\n",
       "      <td>0</td>\n",
       "      <td>0</td>\n",
       "      <td>0</td>\n",
       "      <td>0</td>\n",
       "      <td>0</td>\n",
       "      <td>0</td>\n",
       "      <td>0</td>\n",
       "      <td>0</td>\n",
       "    </tr>\n",
       "    <tr>\n",
       "      <th>237823</th>\n",
       "      <td>6479.0</td>\n",
       "      <td>7.848</td>\n",
       "      <td>4.799949</td>\n",
       "      <td>3</td>\n",
       "      <td>0</td>\n",
       "      <td>1</td>\n",
       "      <td>0</td>\n",
       "      <td>0</td>\n",
       "      <td>0</td>\n",
       "      <td>0</td>\n",
       "      <td>0</td>\n",
       "      <td>0</td>\n",
       "      <td>0</td>\n",
       "      <td>0</td>\n",
       "      <td>0</td>\n",
       "      <td>0</td>\n",
       "      <td>0</td>\n",
       "      <td>0</td>\n",
       "      <td>0</td>\n",
       "      <td>0</td>\n",
       "      <td>0</td>\n",
       "      <td>0</td>\n",
       "    </tr>\n",
       "    <tr>\n",
       "      <th>78485</th>\n",
       "      <td>4540.0</td>\n",
       "      <td>7.524</td>\n",
       "      <td>5.927698</td>\n",
       "      <td>3</td>\n",
       "      <td>1</td>\n",
       "      <td>0</td>\n",
       "      <td>0</td>\n",
       "      <td>0</td>\n",
       "      <td>0</td>\n",
       "      <td>0</td>\n",
       "      <td>0</td>\n",
       "      <td>0</td>\n",
       "      <td>0</td>\n",
       "      <td>0</td>\n",
       "      <td>0</td>\n",
       "      <td>0</td>\n",
       "      <td>0</td>\n",
       "      <td>0</td>\n",
       "      <td>0</td>\n",
       "      <td>0</td>\n",
       "      <td>0</td>\n",
       "      <td>0</td>\n",
       "    </tr>\n",
       "  </tbody>\n",
       "</table>\n",
       "</div>"
      ],
      "text/plain": [
       "        num_days  size_kw  cost_per_watt  scaleSize  state_AZ  state_CA  \\\n",
       "row                                                                       \n",
       "201275    6205.0    5.400       3.652963          2         1         0   \n",
       "298480    6692.0    8.990       1.112347          3         0         1   \n",
       "237778    6478.0    9.810       4.719164          3         0         1   \n",
       "237823    6479.0    7.848       4.799949          3         0         1   \n",
       "78485     4540.0    7.524       5.927698          3         1         0   \n",
       "\n",
       "        state_CT  state_DE  state_FL  state_MA  state_MD  state_MN  state_NH  \\\n",
       "row                                                                            \n",
       "201275         0         0         0         0         0         0         0   \n",
       "298480         0         0         0         0         0         0         0   \n",
       "237778         0         0         0         0         0         0         0   \n",
       "237823         0         0         0         0         0         0         0   \n",
       "78485          0         0         0         0         0         0         0   \n",
       "\n",
       "        state_NJ  state_NM  state_NV  state_NY  state_OR  state_PA  state_TX  \\\n",
       "row                                                                            \n",
       "201275         0         0         0         0         0         0         0   \n",
       "298480         0         0         0         0         0         0         0   \n",
       "237778         0         0         0         0         0         0         0   \n",
       "237823         0         0         0         0         0         0         0   \n",
       "78485          0         0         0         0         0         0         0   \n",
       "\n",
       "        state_VT  state_WI  \n",
       "row                         \n",
       "201275         0         0  \n",
       "298480         0         0  \n",
       "237778         0         0  \n",
       "237823         0         0  \n",
       "78485          0         0  "
      ]
     },
     "execution_count": 9,
     "metadata": {},
     "output_type": "execute_result"
    }
   ],
   "source": [
    "dfMod.head()"
   ]
  },
  {
   "cell_type": "markdown",
   "metadata": {},
   "source": [
    "#### State is coded one-hot now, but how to do the polynomial transform in pipeline without including dummy vars?\n",
    "\n",
    "I want a FeatureUnion to do polynomial expansion on num_days, size_kw, do nothing to the state columns."
   ]
  },
  {
   "cell_type": "code",
   "execution_count": 10,
   "metadata": {
    "scrolled": true
   },
   "outputs": [
    {
     "data": {
      "text/plain": [
       "Index(['num_days', 'size_kw', 'cost_per_watt', 'scaleSize', 'state_AZ',\n",
       "       'state_CA', 'state_CT', 'state_DE', 'state_FL', 'state_MA', 'state_MD',\n",
       "       'state_MN', 'state_NH', 'state_NJ', 'state_NM', 'state_NV', 'state_NY',\n",
       "       'state_OR', 'state_PA', 'state_TX', 'state_VT', 'state_WI'],\n",
       "      dtype='object')"
      ]
     },
     "execution_count": 10,
     "metadata": {},
     "output_type": "execute_result"
    }
   ],
   "source": [
    "theCols = dfMod.columns; theCols"
   ]
  },
  {
   "cell_type": "markdown",
   "metadata": {},
   "source": [
    "#### Note: FeatureUnion transformation returns np.ndarray"
   ]
  },
  {
   "cell_type": "markdown",
   "metadata": {},
   "source": [
    "#### Prep data for sklearn "
   ]
  },
  {
   "cell_type": "code",
   "execution_count": 11,
   "metadata": {},
   "outputs": [
    {
     "data": {
      "text/plain": [
       "((364212, 20), (364212, 1))"
      ]
     },
     "execution_count": 11,
     "metadata": {},
     "output_type": "execute_result"
    }
   ],
   "source": [
    "# for now work with small set\n",
    "X = dfMod.drop(['cost_per_watt', 'scaleSize'], axis='columns')\n",
    "y = dfMod[['cost_per_watt']]\n",
    "X.shape, y.shape"
   ]
  },
  {
   "cell_type": "code",
   "execution_count": 12,
   "metadata": {},
   "outputs": [
    {
     "data": {
      "text/html": [
       "<div>\n",
       "<style scoped>\n",
       "    .dataframe tbody tr th:only-of-type {\n",
       "        vertical-align: middle;\n",
       "    }\n",
       "\n",
       "    .dataframe tbody tr th {\n",
       "        vertical-align: top;\n",
       "    }\n",
       "\n",
       "    .dataframe thead th {\n",
       "        text-align: right;\n",
       "    }\n",
       "</style>\n",
       "<table border=\"1\" class=\"dataframe\">\n",
       "  <thead>\n",
       "    <tr style=\"text-align: right;\">\n",
       "      <th></th>\n",
       "      <th>num_days</th>\n",
       "      <th>size_kw</th>\n",
       "      <th>state_AZ</th>\n",
       "      <th>state_CA</th>\n",
       "      <th>state_CT</th>\n",
       "      <th>state_DE</th>\n",
       "      <th>state_FL</th>\n",
       "      <th>state_MA</th>\n",
       "      <th>state_MD</th>\n",
       "      <th>state_MN</th>\n",
       "      <th>state_NH</th>\n",
       "      <th>state_NJ</th>\n",
       "      <th>state_NM</th>\n",
       "      <th>state_NV</th>\n",
       "      <th>state_NY</th>\n",
       "      <th>state_OR</th>\n",
       "      <th>state_PA</th>\n",
       "      <th>state_TX</th>\n",
       "      <th>state_VT</th>\n",
       "      <th>state_WI</th>\n",
       "    </tr>\n",
       "    <tr>\n",
       "      <th>row</th>\n",
       "      <th></th>\n",
       "      <th></th>\n",
       "      <th></th>\n",
       "      <th></th>\n",
       "      <th></th>\n",
       "      <th></th>\n",
       "      <th></th>\n",
       "      <th></th>\n",
       "      <th></th>\n",
       "      <th></th>\n",
       "      <th></th>\n",
       "      <th></th>\n",
       "      <th></th>\n",
       "      <th></th>\n",
       "      <th></th>\n",
       "      <th></th>\n",
       "      <th></th>\n",
       "      <th></th>\n",
       "      <th></th>\n",
       "      <th></th>\n",
       "    </tr>\n",
       "  </thead>\n",
       "  <tbody>\n",
       "    <tr>\n",
       "      <th>201275</th>\n",
       "      <td>6205.0</td>\n",
       "      <td>5.40</td>\n",
       "      <td>1</td>\n",
       "      <td>0</td>\n",
       "      <td>0</td>\n",
       "      <td>0</td>\n",
       "      <td>0</td>\n",
       "      <td>0</td>\n",
       "      <td>0</td>\n",
       "      <td>0</td>\n",
       "      <td>0</td>\n",
       "      <td>0</td>\n",
       "      <td>0</td>\n",
       "      <td>0</td>\n",
       "      <td>0</td>\n",
       "      <td>0</td>\n",
       "      <td>0</td>\n",
       "      <td>0</td>\n",
       "      <td>0</td>\n",
       "      <td>0</td>\n",
       "    </tr>\n",
       "    <tr>\n",
       "      <th>298480</th>\n",
       "      <td>6692.0</td>\n",
       "      <td>8.99</td>\n",
       "      <td>0</td>\n",
       "      <td>1</td>\n",
       "      <td>0</td>\n",
       "      <td>0</td>\n",
       "      <td>0</td>\n",
       "      <td>0</td>\n",
       "      <td>0</td>\n",
       "      <td>0</td>\n",
       "      <td>0</td>\n",
       "      <td>0</td>\n",
       "      <td>0</td>\n",
       "      <td>0</td>\n",
       "      <td>0</td>\n",
       "      <td>0</td>\n",
       "      <td>0</td>\n",
       "      <td>0</td>\n",
       "      <td>0</td>\n",
       "      <td>0</td>\n",
       "    </tr>\n",
       "    <tr>\n",
       "      <th>237778</th>\n",
       "      <td>6478.0</td>\n",
       "      <td>9.81</td>\n",
       "      <td>0</td>\n",
       "      <td>1</td>\n",
       "      <td>0</td>\n",
       "      <td>0</td>\n",
       "      <td>0</td>\n",
       "      <td>0</td>\n",
       "      <td>0</td>\n",
       "      <td>0</td>\n",
       "      <td>0</td>\n",
       "      <td>0</td>\n",
       "      <td>0</td>\n",
       "      <td>0</td>\n",
       "      <td>0</td>\n",
       "      <td>0</td>\n",
       "      <td>0</td>\n",
       "      <td>0</td>\n",
       "      <td>0</td>\n",
       "      <td>0</td>\n",
       "    </tr>\n",
       "  </tbody>\n",
       "</table>\n",
       "</div>"
      ],
      "text/plain": [
       "        num_days  size_kw  state_AZ  state_CA  state_CT  state_DE  state_FL  \\\n",
       "row                                                                           \n",
       "201275    6205.0     5.40         1         0         0         0         0   \n",
       "298480    6692.0     8.99         0         1         0         0         0   \n",
       "237778    6478.0     9.81         0         1         0         0         0   \n",
       "\n",
       "        state_MA  state_MD  state_MN  state_NH  state_NJ  state_NM  state_NV  \\\n",
       "row                                                                            \n",
       "201275         0         0         0         0         0         0         0   \n",
       "298480         0         0         0         0         0         0         0   \n",
       "237778         0         0         0         0         0         0         0   \n",
       "\n",
       "        state_NY  state_OR  state_PA  state_TX  state_VT  state_WI  \n",
       "row                                                                 \n",
       "201275         0         0         0         0         0         0  \n",
       "298480         0         0         0         0         0         0  \n",
       "237778         0         0         0         0         0         0  "
      ]
     },
     "execution_count": 12,
     "metadata": {},
     "output_type": "execute_result"
    }
   ],
   "source": [
    "# take a look to make sure it's right.\n",
    "X[:3]"
   ]
  },
  {
   "cell_type": "code",
   "execution_count": 13,
   "metadata": {},
   "outputs": [],
   "source": [
    "theStates = ['state_AZ', 'state_CA', 'state_CT', 'state_DE', 'state_FL', 'state_MA', 'state_MD',\n",
    "            'state_MN', 'state_NH', 'state_NJ', 'state_NM', 'state_NV', 'state_NY',\n",
    "            'state_OR', 'state_PA', 'state_TX', 'state_VT', 'state_WI']"
   ]
  },
  {
   "cell_type": "markdown",
   "metadata": {},
   "source": [
    "### Build a pipeline that does the right thing\n",
    "\n",
    "* Take the data apart into numerical and dummy variables encoding $State$.\n",
    "    * Numerical variables\n",
    "        * scale\n",
    "        * polynomial transform\n",
    "    * Dummy variables\n",
    "        * pass through\n",
    "* Put polynomial transform back together with dummy variables for the regression"
   ]
  },
  {
   "cell_type": "markdown",
   "metadata": {},
   "source": [
    "#### Make a transformer that can grab specified columns."
   ]
  },
  {
   "cell_type": "code",
   "execution_count": 14,
   "metadata": {},
   "outputs": [],
   "source": [
    "### make it an estimator and a transformer for general use\n",
    "class ColumnExtractor(BaseEstimator, TransformerMixin):\n",
    "    def __init__(self, columns=None):\n",
    "        self.columns = columns\n",
    "    def fit(self, X, y=None):\n",
    "        return self\n",
    "    def transform(self, X):\n",
    "        X_cols = X[self.columns]\n",
    "        return X_cols"
   ]
  },
  {
   "cell_type": "markdown",
   "metadata": {},
   "source": [
    "#### test ColumnExtractor"
   ]
  },
  {
   "cell_type": "code",
   "execution_count": 15,
   "metadata": {},
   "outputs": [
    {
     "data": {
      "text/html": [
       "<div>\n",
       "<style scoped>\n",
       "    .dataframe tbody tr th:only-of-type {\n",
       "        vertical-align: middle;\n",
       "    }\n",
       "\n",
       "    .dataframe tbody tr th {\n",
       "        vertical-align: top;\n",
       "    }\n",
       "\n",
       "    .dataframe thead th {\n",
       "        text-align: right;\n",
       "    }\n",
       "</style>\n",
       "<table border=\"1\" class=\"dataframe\">\n",
       "  <thead>\n",
       "    <tr style=\"text-align: right;\">\n",
       "      <th></th>\n",
       "      <th>num_days</th>\n",
       "      <th>size_kw</th>\n",
       "    </tr>\n",
       "    <tr>\n",
       "      <th>row</th>\n",
       "      <th></th>\n",
       "      <th></th>\n",
       "    </tr>\n",
       "  </thead>\n",
       "  <tbody>\n",
       "    <tr>\n",
       "      <th>201275</th>\n",
       "      <td>6205.0</td>\n",
       "      <td>5.40</td>\n",
       "    </tr>\n",
       "    <tr>\n",
       "      <th>298480</th>\n",
       "      <td>6692.0</td>\n",
       "      <td>8.99</td>\n",
       "    </tr>\n",
       "    <tr>\n",
       "      <th>237778</th>\n",
       "      <td>6478.0</td>\n",
       "      <td>9.81</td>\n",
       "    </tr>\n",
       "  </tbody>\n",
       "</table>\n",
       "</div>"
      ],
      "text/plain": [
       "        num_days  size_kw\n",
       "row                      \n",
       "201275    6205.0     5.40\n",
       "298480    6692.0     8.99\n",
       "237778    6478.0     9.81"
      ]
     },
     "execution_count": 15,
     "metadata": {},
     "output_type": "execute_result"
    }
   ],
   "source": [
    "extractNumerical = ColumnExtractor(columns=['num_days', 'size_kw'])\n",
    "extractNumerical.fit_transform(dfMod.head(3))            "
   ]
  },
  {
   "cell_type": "code",
   "execution_count": 16,
   "metadata": {
    "scrolled": true
   },
   "outputs": [
    {
     "data": {
      "text/html": [
       "<div>\n",
       "<style scoped>\n",
       "    .dataframe tbody tr th:only-of-type {\n",
       "        vertical-align: middle;\n",
       "    }\n",
       "\n",
       "    .dataframe tbody tr th {\n",
       "        vertical-align: top;\n",
       "    }\n",
       "\n",
       "    .dataframe thead th {\n",
       "        text-align: right;\n",
       "    }\n",
       "</style>\n",
       "<table border=\"1\" class=\"dataframe\">\n",
       "  <thead>\n",
       "    <tr style=\"text-align: right;\">\n",
       "      <th></th>\n",
       "      <th>state_AZ</th>\n",
       "      <th>state_CA</th>\n",
       "      <th>state_CT</th>\n",
       "      <th>state_DE</th>\n",
       "      <th>state_FL</th>\n",
       "      <th>state_MA</th>\n",
       "      <th>state_MD</th>\n",
       "      <th>state_MN</th>\n",
       "      <th>state_NH</th>\n",
       "      <th>state_NJ</th>\n",
       "      <th>state_NM</th>\n",
       "      <th>state_NV</th>\n",
       "      <th>state_NY</th>\n",
       "      <th>state_OR</th>\n",
       "      <th>state_PA</th>\n",
       "      <th>state_TX</th>\n",
       "      <th>state_VT</th>\n",
       "      <th>state_WI</th>\n",
       "    </tr>\n",
       "    <tr>\n",
       "      <th>row</th>\n",
       "      <th></th>\n",
       "      <th></th>\n",
       "      <th></th>\n",
       "      <th></th>\n",
       "      <th></th>\n",
       "      <th></th>\n",
       "      <th></th>\n",
       "      <th></th>\n",
       "      <th></th>\n",
       "      <th></th>\n",
       "      <th></th>\n",
       "      <th></th>\n",
       "      <th></th>\n",
       "      <th></th>\n",
       "      <th></th>\n",
       "      <th></th>\n",
       "      <th></th>\n",
       "      <th></th>\n",
       "    </tr>\n",
       "  </thead>\n",
       "  <tbody>\n",
       "    <tr>\n",
       "      <th>201275</th>\n",
       "      <td>1</td>\n",
       "      <td>0</td>\n",
       "      <td>0</td>\n",
       "      <td>0</td>\n",
       "      <td>0</td>\n",
       "      <td>0</td>\n",
       "      <td>0</td>\n",
       "      <td>0</td>\n",
       "      <td>0</td>\n",
       "      <td>0</td>\n",
       "      <td>0</td>\n",
       "      <td>0</td>\n",
       "      <td>0</td>\n",
       "      <td>0</td>\n",
       "      <td>0</td>\n",
       "      <td>0</td>\n",
       "      <td>0</td>\n",
       "      <td>0</td>\n",
       "    </tr>\n",
       "    <tr>\n",
       "      <th>298480</th>\n",
       "      <td>0</td>\n",
       "      <td>1</td>\n",
       "      <td>0</td>\n",
       "      <td>0</td>\n",
       "      <td>0</td>\n",
       "      <td>0</td>\n",
       "      <td>0</td>\n",
       "      <td>0</td>\n",
       "      <td>0</td>\n",
       "      <td>0</td>\n",
       "      <td>0</td>\n",
       "      <td>0</td>\n",
       "      <td>0</td>\n",
       "      <td>0</td>\n",
       "      <td>0</td>\n",
       "      <td>0</td>\n",
       "      <td>0</td>\n",
       "      <td>0</td>\n",
       "    </tr>\n",
       "    <tr>\n",
       "      <th>237778</th>\n",
       "      <td>0</td>\n",
       "      <td>1</td>\n",
       "      <td>0</td>\n",
       "      <td>0</td>\n",
       "      <td>0</td>\n",
       "      <td>0</td>\n",
       "      <td>0</td>\n",
       "      <td>0</td>\n",
       "      <td>0</td>\n",
       "      <td>0</td>\n",
       "      <td>0</td>\n",
       "      <td>0</td>\n",
       "      <td>0</td>\n",
       "      <td>0</td>\n",
       "      <td>0</td>\n",
       "      <td>0</td>\n",
       "      <td>0</td>\n",
       "      <td>0</td>\n",
       "    </tr>\n",
       "  </tbody>\n",
       "</table>\n",
       "</div>"
      ],
      "text/plain": [
       "        state_AZ  state_CA  state_CT  state_DE  state_FL  state_MA  state_MD  \\\n",
       "row                                                                            \n",
       "201275         1         0         0         0         0         0         0   \n",
       "298480         0         1         0         0         0         0         0   \n",
       "237778         0         1         0         0         0         0         0   \n",
       "\n",
       "        state_MN  state_NH  state_NJ  state_NM  state_NV  state_NY  state_OR  \\\n",
       "row                                                                            \n",
       "201275         0         0         0         0         0         0         0   \n",
       "298480         0         0         0         0         0         0         0   \n",
       "237778         0         0         0         0         0         0         0   \n",
       "\n",
       "        state_PA  state_TX  state_VT  state_WI  \n",
       "row                                             \n",
       "201275         0         0         0         0  \n",
       "298480         0         0         0         0  \n",
       "237778         0         0         0         0  "
      ]
     },
     "execution_count": 16,
     "metadata": {},
     "output_type": "execute_result"
    }
   ],
   "source": [
    "extractDummies = ColumnExtractor(columns=theStates)\n",
    "extractDummies.fit_transform(dfMod.head(3))            "
   ]
  },
  {
   "cell_type": "code",
   "execution_count": 17,
   "metadata": {},
   "outputs": [],
   "source": [
    "# take the data apart; numerical vars get scaled, then go to polynomial; state dummies pass through; \n",
    "# they get glued back together for the regression.\n",
    "testPipe = Pipeline([\n",
    "    ('features', \n",
    "     FeatureUnion([('num_vars', \n",
    "                    Pipeline([('extract', ColumnExtractor(columns=['num_days', 'size_kw'])) ,\n",
    "                              ('scale', StandardScaler()),\n",
    "                              ('poly', PolynomialFeatures())\n",
    "                              ])),\n",
    "                   ('cat_vars',\n",
    "                    ColumnExtractor(columns=theStates))\n",
    "                  ]) # end of FeatureUnion\n",
    "    )]) # end of Pipeline"
   ]
  },
  {
   "cell_type": "markdown",
   "metadata": {},
   "source": [
    "#### Test pipe without the regression"
   ]
  },
  {
   "cell_type": "markdown",
   "metadata": {},
   "source": [
    "#### First make sure of the name of the parameter I want to use"
   ]
  },
  {
   "cell_type": "code",
   "execution_count": 18,
   "metadata": {
    "scrolled": false
   },
   "outputs": [
    {
     "data": {
      "text/plain": [
       "2"
      ]
     },
     "execution_count": 18,
     "metadata": {},
     "output_type": "execute_result"
    }
   ],
   "source": [
    "testPipe.get_params()['features__num_vars__poly__degree']"
   ]
  },
  {
   "cell_type": "code",
   "execution_count": 19,
   "metadata": {
    "scrolled": true
   },
   "outputs": [
    {
     "data": {
      "text/plain": [
       "Pipeline(memory=None,\n",
       "     steps=[('features', FeatureUnion(n_jobs=1,\n",
       "       transformer_list=[('num_vars', Pipeline(memory=None,\n",
       "     steps=[('extract', ColumnExtractor(columns=['num_days', 'size_kw'])), ('scale', StandardScaler(copy=True, with_mean=True, with_std=True)), ('poly', PolynomialFeatures(degree=1, include_bias=True, interaction_only=False))])), ('cat_vars', Colu..., 'state_NM', 'state_NV', 'state_NY', 'state_OR', 'state_PA', 'state_TX', 'state_VT', 'state_WI']))],\n",
       "       transformer_weights=None))])"
      ]
     },
     "execution_count": 19,
     "metadata": {},
     "output_type": "execute_result"
    }
   ],
   "source": [
    "testPipe.set_params(features__num_vars__poly__degree=1)"
   ]
  },
  {
   "cell_type": "code",
   "execution_count": 20,
   "metadata": {
    "scrolled": true
   },
   "outputs": [
    {
     "data": {
      "text/plain": [
       "array([[ 1.    , -1.2711, -1.3924,  1.    ,  0.    ,  0.    ,  0.    ,\n",
       "         0.    ,  0.    ,  0.    ,  0.    ,  0.    ,  0.    ,  0.    ,\n",
       "         0.    ,  0.    ,  0.    ,  0.    ,  0.    ,  0.    ,  0.    ],\n",
       "       [ 1.    ,  1.1724,  0.4821,  0.    ,  1.    ,  0.    ,  0.    ,\n",
       "         0.    ,  0.    ,  0.    ,  0.    ,  0.    ,  0.    ,  0.    ,\n",
       "         0.    ,  0.    ,  0.    ,  0.    ,  0.    ,  0.    ,  0.    ],\n",
       "       [ 1.    ,  0.0987,  0.9103,  0.    ,  1.    ,  0.    ,  0.    ,\n",
       "         0.    ,  0.    ,  0.    ,  0.    ,  0.    ,  0.    ,  0.    ,\n",
       "         0.    ,  0.    ,  0.    ,  0.    ,  0.    ,  0.    ,  0.    ]])"
      ]
     },
     "execution_count": 20,
     "metadata": {},
     "output_type": "execute_result"
    }
   ],
   "source": [
    "testPipe.fit_transform(dfMod.head(3))"
   ]
  },
  {
   "cell_type": "markdown",
   "metadata": {},
   "source": [
    "#### Okay, this pipeline does what it should.  Now add the regression as the last step and grid_search_CV on the dataset."
   ]
  },
  {
   "cell_type": "code",
   "execution_count": 21,
   "metadata": {},
   "outputs": [],
   "source": [
    "# first, add LR to the pipeline\n",
    "# take the data apart; numerical vars get scaled, then go to polynomial; state dummies pass through; \n",
    "# they get glued back together for the regression.\n",
    "thePipe = Pipeline([\n",
    "    ('features', \n",
    "     FeatureUnion([('num_vars', \n",
    "                    Pipeline([('extract', ColumnExtractor(columns=['num_days', 'size_kw'])) ,\n",
    "                              ('scale', StandardScaler()),\n",
    "                              ('poly', PolynomialFeatures())\n",
    "                              ])),\n",
    "                   ('cat_vars',\n",
    "                    ColumnExtractor(columns=theStates))\n",
    "                  ]) # end of FeatureUnion\n",
    "    ),\n",
    "    ('LR', LinearRegression())\n",
    "]) # end of Pipeline"
   ]
  },
  {
   "cell_type": "code",
   "execution_count": 22,
   "metadata": {
    "scrolled": false
   },
   "outputs": [
    {
     "name": "stdout",
     "output_type": "stream",
     "text": [
      "Best parameters: {'features__num_vars__poly__degree': 14}\n",
      "test R squared: 0.5340198363990124\n"
     ]
    }
   ],
   "source": [
    "# Specify the hyperparameter space.\n",
    "poly_space = np.arange(1, 16)\n",
    "# Create the hyperparameter grid, just poly degree up to 6th\n",
    "param_grid = {'features__num_vars__poly__degree': poly_space}\n",
    "\n",
    "# Create train and test sets\n",
    "X_train, X_test, y_train, y_test = train_test_split(X, y, test_size=0.25, random_state=21)\n",
    "\n",
    "# Create the GridSearchCV object: gm_cv\n",
    "gs_cv = GridSearchCV(thePipe, param_grid, cv=3, return_train_score=True)\n",
    "\n",
    "# Fit to the training set\n",
    "gs_cv.fit(X_train, y_train)\n",
    "\n",
    "# Compute and print the metrics\n",
    "r2 = gs_cv.score(X_test, y_test)\n",
    "print(\"Best parameters: {}\".format(gs_cv.best_params_))\n",
    "print(\"test R squared: {}\".format(r2))"
   ]
  },
  {
   "cell_type": "code",
   "execution_count": 23,
   "metadata": {},
   "outputs": [
    {
     "data": {
      "text/plain": [
       "{'mean_fit_time': array([0.3863, 0.2794, 0.3282, 0.4194, 0.515 , 0.6862, 0.8135, 0.9896,\n",
       "        1.2049, 1.4636, 1.8228, 2.1567, 2.5819, 3.0107, 3.623 ]),\n",
       " 'std_fit_time': array([0.1914, 0.0081, 0.0053, 0.0219, 0.0112, 0.0277, 0.0182, 0.0291,\n",
       "        0.0052, 0.0163, 0.0818, 0.0413, 0.0242, 0.0186, 0.2193]),\n",
       " 'mean_score_time': array([0.0269, 0.0341, 0.0465, 0.0722, 0.1083, 0.1397, 0.1788, 0.234 ,\n",
       "        0.2881, 0.3666, 0.4555, 0.5448, 0.7079, 0.8108, 1.0515]),\n",
       " 'std_score_time': array([0.0013, 0.0033, 0.0025, 0.005 , 0.0114, 0.0161, 0.0009, 0.0127,\n",
       "        0.0038, 0.0058, 0.0082, 0.0039, 0.064 , 0.0005, 0.1248]),\n",
       " 'param_features__num_vars__poly__degree': masked_array(data=[1, 2, 3, 4, 5, 6, 7, 8, 9, 10, 11, 12, 13, 14, 15],\n",
       "              mask=[False, False, False, False, False, False, False, False,\n",
       "                    False, False, False, False, False, False, False],\n",
       "        fill_value='?',\n",
       "             dtype=object),\n",
       " 'params': [{'features__num_vars__poly__degree': 1},\n",
       "  {'features__num_vars__poly__degree': 2},\n",
       "  {'features__num_vars__poly__degree': 3},\n",
       "  {'features__num_vars__poly__degree': 4},\n",
       "  {'features__num_vars__poly__degree': 5},\n",
       "  {'features__num_vars__poly__degree': 6},\n",
       "  {'features__num_vars__poly__degree': 7},\n",
       "  {'features__num_vars__poly__degree': 8},\n",
       "  {'features__num_vars__poly__degree': 9},\n",
       "  {'features__num_vars__poly__degree': 10},\n",
       "  {'features__num_vars__poly__degree': 11},\n",
       "  {'features__num_vars__poly__degree': 12},\n",
       "  {'features__num_vars__poly__degree': 13},\n",
       "  {'features__num_vars__poly__degree': 14},\n",
       "  {'features__num_vars__poly__degree': 15}],\n",
       " 'split0_test_score': array([0.4584, 0.4804, 0.4983, 0.5119, 0.5146, 0.5248, 0.5256, 0.5277,\n",
       "        0.5282, 0.529 , 0.5295, 0.53  , 0.5305, 0.5307, 0.5307]),\n",
       " 'split1_test_score': array([0.4591, 0.4842, 0.501 , 0.5143, 0.5164, 0.5268, 0.5278, 0.5302,\n",
       "        0.5305, 0.5313, 0.5321, 0.5326, 0.5327, 0.5328, 0.5322]),\n",
       " 'split2_test_score': array([0.4563, 0.48  , 0.4979, 0.5114, 0.5132, 0.5236, 0.5245, 0.5267,\n",
       "        0.5273, 0.5281, 0.5289, 0.5296, 0.5298, 0.5306, 0.5307]),\n",
       " 'mean_test_score': array([0.4579, 0.4816, 0.499 , 0.5125, 0.5147, 0.525 , 0.526 , 0.5282,\n",
       "        0.5287, 0.5295, 0.5301, 0.5307, 0.531 , 0.5314, 0.5312]),\n",
       " 'std_test_score': array([0.0012, 0.0019, 0.0014, 0.0012, 0.0013, 0.0013, 0.0014, 0.0015,\n",
       "        0.0014, 0.0013, 0.0014, 0.0013, 0.0012, 0.001 , 0.0007]),\n",
       " 'rank_test_score': array([15, 14, 13, 12, 11, 10,  9,  8,  7,  6,  5,  4,  3,  1,  2]),\n",
       " 'split0_train_score': array([0.4578, 0.4822, 0.4996, 0.5131, 0.5152, 0.5254, 0.5265, 0.5288,\n",
       "        0.5294, 0.5303, 0.5311, 0.5318, 0.5325, 0.5329, 0.5334]),\n",
       " 'split1_train_score': array([0.4575, 0.4804, 0.4982, 0.5119, 0.5143, 0.5245, 0.5255, 0.5276,\n",
       "        0.5282, 0.5291, 0.5298, 0.5305, 0.5312, 0.5316, 0.5321]),\n",
       " 'split2_train_score': array([0.4589, 0.4825, 0.4998, 0.5133, 0.5159, 0.5261, 0.5271, 0.5293,\n",
       "        0.5299, 0.5308, 0.5314, 0.532 , 0.5327, 0.533 , 0.5333]),\n",
       " 'mean_train_score': array([0.458 , 0.4817, 0.4992, 0.5128, 0.5151, 0.5253, 0.5264, 0.5286,\n",
       "        0.5292, 0.5301, 0.5308, 0.5314, 0.5321, 0.5325, 0.5329]),\n",
       " 'std_train_score': array([0.0006, 0.0009, 0.0007, 0.0006, 0.0006, 0.0007, 0.0007, 0.0007,\n",
       "        0.0007, 0.0007, 0.0007, 0.0007, 0.0007, 0.0006, 0.0006])}"
      ]
     },
     "execution_count": 23,
     "metadata": {},
     "output_type": "execute_result"
    }
   ],
   "source": [
    "# this will show the results data structure\n",
    "gs_cv.cv_results_"
   ]
  },
  {
   "cell_type": "markdown",
   "metadata": {},
   "source": [
    "#### Now do multiple scoring so we can look at RMSE and $R^2$"
   ]
  },
  {
   "cell_type": "code",
   "execution_count": 24,
   "metadata": {},
   "outputs": [
    {
     "name": "stdout",
     "output_type": "stream",
     "text": [
      "Best parameters: {'features__num_vars__poly__degree': 14}\n",
      "Best R squared: 0.5340198363990124\n"
     ]
    }
   ],
   "source": [
    "def RMSE(y_true, y_pred):\n",
    "    return np.sqrt(mean_squared_error(y_true, y_pred))\n",
    "\n",
    "# Specify the hyperparameter space.\n",
    "poly_space = np.arange(1, 18)\n",
    "# Create the hyperparameter grid\n",
    "param_grid = {'features__num_vars__poly__degree': poly_space}\n",
    "\n",
    "# Create train and test sets\n",
    "X_train, X_test, y_train, y_test = train_test_split(X, y, test_size=0.25, random_state=21)\n",
    "\n",
    "# Create the GridSearchCV object: gs_cv\n",
    "scoring = {'Rsquared': 'r2',\n",
    "           'RMSE': make_scorer(RMSE, greater_is_better=False) }\n",
    "\n",
    "gs_cv = GridSearchCV(thePipe, param_grid, cv=3, \n",
    "                     scoring=scoring, return_train_score=True,\n",
    "                     refit='Rsquared')\n",
    "\n",
    "# Fit to the training set\n",
    "gs_cv.fit(X_train, y_train)\n",
    "\n",
    "# Compute and print the metrics\n",
    "r2 = gs_cv.score(X_test, y_test)\n",
    "print(\"Best parameters: {}\".format(gs_cv.best_params_))\n",
    "print(\"Best R squared: {}\".format(r2))\n",
    "\n",
    "# uncomment to see results ds\n",
    "# gs_cv.cv_results_"
   ]
  },
  {
   "cell_type": "code",
   "execution_count": 25,
   "metadata": {},
   "outputs": [
    {
     "data": {
      "text/plain": [
       "{'mean_fit_time': array([0.2677, 0.2764, 0.3727, 0.4923, 0.503 , 0.6511, 0.8723, 0.9963,\n",
       "        1.2774, 1.4733, 1.7607, 2.1116, 2.5277, 3.0658, 3.503 , 4.6872,\n",
       "        4.778 ]),\n",
       " 'std_fit_time': array([0.0242, 0.0139, 0.0655, 0.0969, 0.0074, 0.0381, 0.1241, 0.0225,\n",
       "        0.0726, 0.0066, 0.016 , 0.0073, 0.0352, 0.1046, 0.0206, 0.5186,\n",
       "        0.1151]),\n",
       " 'mean_score_time': array([0.0535, 0.0685, 0.108 , 0.1564, 0.1945, 0.2757, 0.3827, 0.4843,\n",
       "        0.6778, 0.7697, 0.9007, 1.1271, 1.3462, 1.6116, 1.9007, 2.2315,\n",
       "        2.5538]),\n",
       " 'std_score_time': array([0.0021, 0.0055, 0.0098, 0.0265, 0.0043, 0.003 , 0.0126, 0.0116,\n",
       "        0.1269, 0.0389, 0.0029, 0.0106, 0.0186, 0.0163, 0.0384, 0.0169,\n",
       "        0.0307]),\n",
       " 'param_features__num_vars__poly__degree': masked_array(data=[1, 2, 3, 4, 5, 6, 7, 8, 9, 10, 11, 12, 13, 14, 15, 16,\n",
       "                    17],\n",
       "              mask=[False, False, False, False, False, False, False, False,\n",
       "                    False, False, False, False, False, False, False, False,\n",
       "                    False],\n",
       "        fill_value='?',\n",
       "             dtype=object),\n",
       " 'params': [{'features__num_vars__poly__degree': 1},\n",
       "  {'features__num_vars__poly__degree': 2},\n",
       "  {'features__num_vars__poly__degree': 3},\n",
       "  {'features__num_vars__poly__degree': 4},\n",
       "  {'features__num_vars__poly__degree': 5},\n",
       "  {'features__num_vars__poly__degree': 6},\n",
       "  {'features__num_vars__poly__degree': 7},\n",
       "  {'features__num_vars__poly__degree': 8},\n",
       "  {'features__num_vars__poly__degree': 9},\n",
       "  {'features__num_vars__poly__degree': 10},\n",
       "  {'features__num_vars__poly__degree': 11},\n",
       "  {'features__num_vars__poly__degree': 12},\n",
       "  {'features__num_vars__poly__degree': 13},\n",
       "  {'features__num_vars__poly__degree': 14},\n",
       "  {'features__num_vars__poly__degree': 15},\n",
       "  {'features__num_vars__poly__degree': 16},\n",
       "  {'features__num_vars__poly__degree': 17}],\n",
       " 'split0_test_Rsquared': array([0.4584, 0.4804, 0.4983, 0.5119, 0.5146, 0.5248, 0.5256, 0.5277,\n",
       "        0.5282, 0.529 , 0.5295, 0.53  , 0.5305, 0.5307, 0.5307, 0.5308,\n",
       "        0.5314]),\n",
       " 'split1_test_Rsquared': array([0.4591, 0.4842, 0.501 , 0.5143, 0.5164, 0.5268, 0.5278, 0.5302,\n",
       "        0.5305, 0.5313, 0.5321, 0.5326, 0.5327, 0.5328, 0.5322, 0.5336,\n",
       "        0.5263]),\n",
       " 'split2_test_Rsquared': array([0.4563, 0.48  , 0.4979, 0.5114, 0.5132, 0.5236, 0.5245, 0.5267,\n",
       "        0.5273, 0.5281, 0.5289, 0.5296, 0.5298, 0.5306, 0.5307, 0.5297,\n",
       "        0.5306]),\n",
       " 'mean_test_Rsquared': array([0.4579, 0.4816, 0.499 , 0.5125, 0.5147, 0.525 , 0.526 , 0.5282,\n",
       "        0.5287, 0.5295, 0.5301, 0.5307, 0.531 , 0.5314, 0.5312, 0.5313,\n",
       "        0.5295]),\n",
       " 'std_test_Rsquared': array([0.0012, 0.0019, 0.0014, 0.0012, 0.0013, 0.0013, 0.0014, 0.0015,\n",
       "        0.0014, 0.0013, 0.0014, 0.0013, 0.0012, 0.001 , 0.0007, 0.0016,\n",
       "        0.0022]),\n",
       " 'rank_test_Rsquared': array([17, 16, 15, 14, 13, 12, 11, 10,  9,  7,  6,  5,  4,  1,  3,  2,  8]),\n",
       " 'split0_train_Rsquared': array([0.4578, 0.4822, 0.4996, 0.5131, 0.5152, 0.5254, 0.5265, 0.5288,\n",
       "        0.5294, 0.5303, 0.5311, 0.5318, 0.5325, 0.5329, 0.5334, 0.5341,\n",
       "        0.535 ]),\n",
       " 'split1_train_Rsquared': array([0.4575, 0.4804, 0.4982, 0.5119, 0.5143, 0.5245, 0.5255, 0.5276,\n",
       "        0.5282, 0.5291, 0.5298, 0.5305, 0.5312, 0.5316, 0.5321, 0.5328,\n",
       "        0.5335]),\n",
       " 'split2_train_Rsquared': array([0.4589, 0.4825, 0.4998, 0.5133, 0.5159, 0.5261, 0.5271, 0.5293,\n",
       "        0.5299, 0.5308, 0.5314, 0.532 , 0.5327, 0.533 , 0.5333, 0.534 ,\n",
       "        0.5346]),\n",
       " 'mean_train_Rsquared': array([0.458 , 0.4817, 0.4992, 0.5128, 0.5151, 0.5253, 0.5264, 0.5286,\n",
       "        0.5292, 0.5301, 0.5308, 0.5314, 0.5321, 0.5325, 0.5329, 0.5336,\n",
       "        0.5344]),\n",
       " 'std_train_Rsquared': array([0.0006, 0.0009, 0.0007, 0.0006, 0.0006, 0.0007, 0.0007, 0.0007,\n",
       "        0.0007, 0.0007, 0.0007, 0.0007, 0.0007, 0.0006, 0.0006, 0.0006,\n",
       "        0.0007]),\n",
       " 'split0_test_RMSE': array([-1.5816, -1.5491, -1.5223, -1.5015, -1.4973, -1.4816, -1.4802,\n",
       "        -1.477 , -1.4761, -1.4749, -1.4742, -1.4734, -1.4726, -1.4723,\n",
       "        -1.4722, -1.4721, -1.4711]),\n",
       " 'split1_test_RMSE': array([-1.5841, -1.5469, -1.5214, -1.5011, -1.4978, -1.4817, -1.4801,\n",
       "        -1.4763, -1.4758, -1.4746, -1.4734, -1.4726, -1.4723, -1.4722,\n",
       "        -1.4731, -1.471 , -1.4823]),\n",
       " 'split2_test_RMSE': array([-1.5861, -1.5511, -1.5243, -1.5036, -1.5008, -1.4847, -1.4833,\n",
       "        -1.4799, -1.479 , -1.4776, -1.4764, -1.4753, -1.475 , -1.4738,\n",
       "        -1.4737, -1.4752, -1.4737]),\n",
       " 'mean_test_RMSE': array([-1.584 , -1.549 , -1.5227, -1.5021, -1.4986, -1.4827, -1.4812,\n",
       "        -1.4778, -1.477 , -1.4757, -1.4747, -1.4738, -1.4733, -1.4728,\n",
       "        -1.473 , -1.4728, -1.4757]),\n",
       " 'std_test_RMSE': array([0.0018, 0.0017, 0.0012, 0.0011, 0.0015, 0.0015, 0.0015, 0.0015,\n",
       "        0.0014, 0.0014, 0.0013, 0.0012, 0.0012, 0.0008, 0.0006, 0.0018,\n",
       "        0.0048]),\n",
       " 'rank_test_RMSE': array([17, 16, 15, 14, 13, 12, 11, 10,  9,  7,  6,  5,  4,  1,  3,  2,  8]),\n",
       " 'split0_train_RMSE': array([-1.585 , -1.5488, -1.5227, -1.502 , -1.4988, -1.4828, -1.4811,\n",
       "        -1.4776, -1.4766, -1.4752, -1.4739, -1.4728, -1.4717, -1.4711,\n",
       "        -1.4704, -1.4692, -1.4678]),\n",
       " 'split1_train_RMSE': array([-1.5837, -1.5499, -1.5231, -1.5022, -1.4984, -1.4827, -1.4811,\n",
       "        -1.4778, -1.4768, -1.4754, -1.4744, -1.4733, -1.4722, -1.4715,\n",
       "        -1.4707, -1.4697, -1.4686]),\n",
       " 'split2_train_RMSE': array([-1.5827, -1.5478, -1.5216, -1.5009, -1.497 , -1.4812, -1.4795,\n",
       "        -1.4761, -1.4751, -1.4737, -1.4728, -1.4718, -1.4708, -1.4703,\n",
       "        -1.4697, -1.4687, -1.4678]),\n",
       " 'mean_train_RMSE': array([-1.5838, -1.5488, -1.5225, -1.5017, -1.498 , -1.4822, -1.4806,\n",
       "        -1.4772, -1.4762, -1.4748, -1.4737, -1.4726, -1.4716, -1.471 ,\n",
       "        -1.4703, -1.4692, -1.4681]),\n",
       " 'std_train_RMSE': array([0.0009, 0.0009, 0.0006, 0.0005, 0.0008, 0.0007, 0.0008, 0.0008,\n",
       "        0.0008, 0.0007, 0.0007, 0.0006, 0.0006, 0.0005, 0.0004, 0.0004,\n",
       "        0.0004])}"
      ]
     },
     "execution_count": 25,
     "metadata": {},
     "output_type": "execute_result"
    }
   ],
   "source": [
    "gs_cv.cv_results_"
   ]
  },
  {
   "cell_type": "code",
   "execution_count": 26,
   "metadata": {},
   "outputs": [
    {
     "data": {
      "text/plain": [
       "[(1, 0.45792472651552485, 1.5839518465330997),\n",
       " (2, 0.4815558592390755, 1.5490385562512914),\n",
       " (3, 0.4990456030729419, 1.5226874355936992),\n",
       " (4, 0.5125313062068645, 1.502052687662885),\n",
       " (5, 0.5147435834044393, 1.4986405188371241),\n",
       " (6, 0.5250349799371739, 1.4826634794899582),\n",
       " (7, 0.525987976251486, 1.4811751003019085),\n",
       " (8, 0.5281763864070167, 1.4777515524647913),\n",
       " (9, 0.528670132338545, 1.4769784767043685),\n",
       " (10, 0.5294896254245042, 1.475694030663164),\n",
       " (11, 0.5301481152923729, 1.474660767998539),\n",
       " (12, 0.5307192656887935, 1.4737643085948344),\n",
       " (13, 0.5310110188986272, 1.4733064561200195),\n",
       " (14, 0.5313501222952657, 1.4727742024053319),\n",
       " (15, 0.5312008982641229, 1.4730095703262542),\n",
       " (16, 0.5313477383412376, 1.4727762115297047),\n",
       " (17, 0.5294613128776553, 1.4757402130142)]"
      ]
     },
     "execution_count": 26,
     "metadata": {},
     "output_type": "execute_result"
    }
   ],
   "source": [
    "list(zip(gs_cv.cv_results_['param_features__num_vars__poly__degree'], \n",
    "         gs_cv.cv_results_['mean_test_Rsquared'], \n",
    "         np.abs(gs_cv.cv_results_['mean_test_RMSE'])))"
   ]
  },
  {
   "cell_type": "code",
   "execution_count": 27,
   "metadata": {},
   "outputs": [
    {
     "name": "stdout",
     "output_type": "stream",
     "text": [
      "Best parameters: {'features__num_vars__poly__degree': 14}\n",
      "Best R squared: 0.5340198363990124\n"
     ]
    },
    {
     "data": {
      "image/png": "[encoded data removed]",
      "text/plain": [
       "<Figure size 1152x576 with 2 Axes>"
      ]
     },
     "metadata": {},
     "output_type": "display_data"
    }
   ],
   "source": [
    "# Compute and print the metrics\n",
    "r2 = gs_cv.score(X_test, y_test)\n",
    "print(\"Best parameters: {}\".format(gs_cv.best_params_))\n",
    "print(\"Best R squared: {}\".format(r2))\n",
    "\n",
    "prediction = gs_cv.predict(X_test)\n",
    "\n",
    "fig, (ax1, ax2) = plt.subplots(1, 2, figsize=(16, 8))\n",
    "fig.suptitle('Actual vs. Best Model Prediction on Test Set')\n",
    "\n",
    "ax1.scatter(y_test, prediction, marker='.', s=2, color='royalblue', alpha=0.3, label='actual')\n",
    "ax1.plot(np.array([1,20]), np.array([1,20]), linewidth=1, color='red', label='predicted')\n",
    "ax1.set_xlabel('')\n",
    "ax1.set_ylabel('predicted')\n",
    "ax1.set_xlabel('actual')\n",
    "ax1.legend()\n",
    "\n",
    "ax2.scatter(X_test.iloc[:, 0], y_test, marker='.', color='blue', s=2, alpha=0.3, label='actual')\n",
    "ax2.scatter(X_test.iloc[:, 0], prediction, marker='.', color='red', s=2, alpha=0.3, label='predicted')\n",
    "ax2.set_ylabel('Cost/watt')\n",
    "ax2.set_xlabel('Days since epoch')\n",
    "ax2.legend()\n",
    "\n",
    "plt.show();"
   ]
  },
  {
   "cell_type": "code",
   "execution_count": 28,
   "metadata": {},
   "outputs": [],
   "source": [
    "def trainVsTestResults(results):\n",
    "    ''' Plot test/train results for R^2 and RMSE'''\n",
    "    fig, (ax1, ax2) = plt.subplots(1, 2, figsize=(16, 8))\n",
    "    sTitle = 'mean train/test RMSE and R^2 vs poly degree'\n",
    "    fig.suptitle(sTitle)\n",
    "          \n",
    "    mean_train_RMSE = results['mean_train_RMSE']\n",
    "    mean_test_RMSE = results['mean_test_RMSE']\n",
    "    n = len(mean_train_RMSE)\n",
    "        \n",
    "    ax1.plot(np.arange(1, n + 1), np.abs(mean_train_RMSE), marker='d', alpha=1, color='green', label='train');\n",
    "    ax1.plot(np.arange(1, n + 1), np.abs(mean_test_RMSE), marker='*', ms=10, alpha=0.5, color='red', label='test');\n",
    "    ax1.set_ylabel('RMSE')\n",
    "    ax1.set_xlabel('polynomial degree')\n",
    "    ax1.set_title('mean train/test RMSE vs poly degree')\n",
    "    ax1.legend()\n",
    "    \n",
    "    mean_train_R2 = results['mean_train_Rsquared']\n",
    "    mean_test_R2 = results['mean_test_Rsquared']\n",
    "    n = len(mean_train_R2)\n",
    "    \n",
    "    fig.suptitle(sTitle.format(gs_cv.best_params_['features__num_vars__poly__degree']))\n",
    "\n",
    "    ax2.plot(np.arange(1, n + 1), np.abs(mean_train_R2), marker='d', alpha=1, color='green', label='train');\n",
    "    ax2.plot(np.arange(1, n + 1), np.abs(mean_test_R2), marker='*', ms=10, alpha=0.5, color='red', label='test');\n",
    "    ax2.set_ylabel('R^2')\n",
    "    ax2.set_xlabel('polynomial degree')\n",
    "    ax2.set_title('mean train/test R2 vs poly degree')\n",
    "    ax2.legend()\n",
    "          \n",
    "    r2 = gs_cv.score(X_test, y_test)\n",
    "    print(\"Best parameters: {}\".format(gs_cv.best_params_))\n",
    "    print(\"Best R squared: {}\".format(r2))"
   ]
  },
  {
   "cell_type": "code",
   "execution_count": 29,
   "metadata": {},
   "outputs": [
    {
     "name": "stdout",
     "output_type": "stream",
     "text": [
      "Best parameters: {'features__num_vars__poly__degree': 14}\n",
      "Best R squared: 0.5340198363990124\n"
     ]
    },
    {
     "data": {
      "image/png": "[encoded data removed]",
      "text/plain": [
       "<Figure size 1152x576 with 2 Axes>"
      ]
     },
     "metadata": {},
     "output_type": "display_data"
    }
   ],
   "source": [
    "trainVsTestResults(gs_cv.cv_results_)"
   ]
  },
  {
   "cell_type": "code",
   "execution_count": 30,
   "metadata": {},
   "outputs": [
    {
     "data": {
      "text/plain": [
       "{'mean_fit_time': array([0.2677, 0.2764, 0.3727, 0.4923, 0.503 , 0.6511, 0.8723, 0.9963,\n",
       "        1.2774, 1.4733, 1.7607, 2.1116, 2.5277, 3.0658, 3.503 , 4.6872,\n",
       "        4.778 ]),\n",
       " 'std_fit_time': array([0.0242, 0.0139, 0.0655, 0.0969, 0.0074, 0.0381, 0.1241, 0.0225,\n",
       "        0.0726, 0.0066, 0.016 , 0.0073, 0.0352, 0.1046, 0.0206, 0.5186,\n",
       "        0.1151]),\n",
       " 'mean_score_time': array([0.0535, 0.0685, 0.108 , 0.1564, 0.1945, 0.2757, 0.3827, 0.4843,\n",
       "        0.6778, 0.7697, 0.9007, 1.1271, 1.3462, 1.6116, 1.9007, 2.2315,\n",
       "        2.5538]),\n",
       " 'std_score_time': array([0.0021, 0.0055, 0.0098, 0.0265, 0.0043, 0.003 , 0.0126, 0.0116,\n",
       "        0.1269, 0.0389, 0.0029, 0.0106, 0.0186, 0.0163, 0.0384, 0.0169,\n",
       "        0.0307]),\n",
       " 'param_features__num_vars__poly__degree': masked_array(data=[1, 2, 3, 4, 5, 6, 7, 8, 9, 10, 11, 12, 13, 14, 15, 16,\n",
       "                    17],\n",
       "              mask=[False, False, False, False, False, False, False, False,\n",
       "                    False, False, False, False, False, False, False, False,\n",
       "                    False],\n",
       "        fill_value='?',\n",
       "             dtype=object),\n",
       " 'params': [{'features__num_vars__poly__degree': 1},\n",
       "  {'features__num_vars__poly__degree': 2},\n",
       "  {'features__num_vars__poly__degree': 3},\n",
       "  {'features__num_vars__poly__degree': 4},\n",
       "  {'features__num_vars__poly__degree': 5},\n",
       "  {'features__num_vars__poly__degree': 6},\n",
       "  {'features__num_vars__poly__degree': 7},\n",
       "  {'features__num_vars__poly__degree': 8},\n",
       "  {'features__num_vars__poly__degree': 9},\n",
       "  {'features__num_vars__poly__degree': 10},\n",
       "  {'features__num_vars__poly__degree': 11},\n",
       "  {'features__num_vars__poly__degree': 12},\n",
       "  {'features__num_vars__poly__degree': 13},\n",
       "  {'features__num_vars__poly__degree': 14},\n",
       "  {'features__num_vars__poly__degree': 15},\n",
       "  {'features__num_vars__poly__degree': 16},\n",
       "  {'features__num_vars__poly__degree': 17}],\n",
       " 'split0_test_Rsquared': array([0.4584, 0.4804, 0.4983, 0.5119, 0.5146, 0.5248, 0.5256, 0.5277,\n",
       "        0.5282, 0.529 , 0.5295, 0.53  , 0.5305, 0.5307, 0.5307, 0.5308,\n",
       "        0.5314]),\n",
       " 'split1_test_Rsquared': array([0.4591, 0.4842, 0.501 , 0.5143, 0.5164, 0.5268, 0.5278, 0.5302,\n",
       "        0.5305, 0.5313, 0.5321, 0.5326, 0.5327, 0.5328, 0.5322, 0.5336,\n",
       "        0.5263]),\n",
       " 'split2_test_Rsquared': array([0.4563, 0.48  , 0.4979, 0.5114, 0.5132, 0.5236, 0.5245, 0.5267,\n",
       "        0.5273, 0.5281, 0.5289, 0.5296, 0.5298, 0.5306, 0.5307, 0.5297,\n",
       "        0.5306]),\n",
       " 'mean_test_Rsquared': array([0.4579, 0.4816, 0.499 , 0.5125, 0.5147, 0.525 , 0.526 , 0.5282,\n",
       "        0.5287, 0.5295, 0.5301, 0.5307, 0.531 , 0.5314, 0.5312, 0.5313,\n",
       "        0.5295]),\n",
       " 'std_test_Rsquared': array([0.0012, 0.0019, 0.0014, 0.0012, 0.0013, 0.0013, 0.0014, 0.0015,\n",
       "        0.0014, 0.0013, 0.0014, 0.0013, 0.0012, 0.001 , 0.0007, 0.0016,\n",
       "        0.0022]),\n",
       " 'rank_test_Rsquared': array([17, 16, 15, 14, 13, 12, 11, 10,  9,  7,  6,  5,  4,  1,  3,  2,  8]),\n",
       " 'split0_train_Rsquared': array([0.4578, 0.4822, 0.4996, 0.5131, 0.5152, 0.5254, 0.5265, 0.5288,\n",
       "        0.5294, 0.5303, 0.5311, 0.5318, 0.5325, 0.5329, 0.5334, 0.5341,\n",
       "        0.535 ]),\n",
       " 'split1_train_Rsquared': array([0.4575, 0.4804, 0.4982, 0.5119, 0.5143, 0.5245, 0.5255, 0.5276,\n",
       "        0.5282, 0.5291, 0.5298, 0.5305, 0.5312, 0.5316, 0.5321, 0.5328,\n",
       "        0.5335]),\n",
       " 'split2_train_Rsquared': array([0.4589, 0.4825, 0.4998, 0.5133, 0.5159, 0.5261, 0.5271, 0.5293,\n",
       "        0.5299, 0.5308, 0.5314, 0.532 , 0.5327, 0.533 , 0.5333, 0.534 ,\n",
       "        0.5346]),\n",
       " 'mean_train_Rsquared': array([0.458 , 0.4817, 0.4992, 0.5128, 0.5151, 0.5253, 0.5264, 0.5286,\n",
       "        0.5292, 0.5301, 0.5308, 0.5314, 0.5321, 0.5325, 0.5329, 0.5336,\n",
       "        0.5344]),\n",
       " 'std_train_Rsquared': array([0.0006, 0.0009, 0.0007, 0.0006, 0.0006, 0.0007, 0.0007, 0.0007,\n",
       "        0.0007, 0.0007, 0.0007, 0.0007, 0.0007, 0.0006, 0.0006, 0.0006,\n",
       "        0.0007]),\n",
       " 'split0_test_RMSE': array([-1.5816, -1.5491, -1.5223, -1.5015, -1.4973, -1.4816, -1.4802,\n",
       "        -1.477 , -1.4761, -1.4749, -1.4742, -1.4734, -1.4726, -1.4723,\n",
       "        -1.4722, -1.4721, -1.4711]),\n",
       " 'split1_test_RMSE': array([-1.5841, -1.5469, -1.5214, -1.5011, -1.4978, -1.4817, -1.4801,\n",
       "        -1.4763, -1.4758, -1.4746, -1.4734, -1.4726, -1.4723, -1.4722,\n",
       "        -1.4731, -1.471 , -1.4823]),\n",
       " 'split2_test_RMSE': array([-1.5861, -1.5511, -1.5243, -1.5036, -1.5008, -1.4847, -1.4833,\n",
       "        -1.4799, -1.479 , -1.4776, -1.4764, -1.4753, -1.475 , -1.4738,\n",
       "        -1.4737, -1.4752, -1.4737]),\n",
       " 'mean_test_RMSE': array([-1.584 , -1.549 , -1.5227, -1.5021, -1.4986, -1.4827, -1.4812,\n",
       "        -1.4778, -1.477 , -1.4757, -1.4747, -1.4738, -1.4733, -1.4728,\n",
       "        -1.473 , -1.4728, -1.4757]),\n",
       " 'std_test_RMSE': array([0.0018, 0.0017, 0.0012, 0.0011, 0.0015, 0.0015, 0.0015, 0.0015,\n",
       "        0.0014, 0.0014, 0.0013, 0.0012, 0.0012, 0.0008, 0.0006, 0.0018,\n",
       "        0.0048]),\n",
       " 'rank_test_RMSE': array([17, 16, 15, 14, 13, 12, 11, 10,  9,  7,  6,  5,  4,  1,  3,  2,  8]),\n",
       " 'split0_train_RMSE': array([-1.585 , -1.5488, -1.5227, -1.502 , -1.4988, -1.4828, -1.4811,\n",
       "        -1.4776, -1.4766, -1.4752, -1.4739, -1.4728, -1.4717, -1.4711,\n",
       "        -1.4704, -1.4692, -1.4678]),\n",
       " 'split1_train_RMSE': array([-1.5837, -1.5499, -1.5231, -1.5022, -1.4984, -1.4827, -1.4811,\n",
       "        -1.4778, -1.4768, -1.4754, -1.4744, -1.4733, -1.4722, -1.4715,\n",
       "        -1.4707, -1.4697, -1.4686]),\n",
       " 'split2_train_RMSE': array([-1.5827, -1.5478, -1.5216, -1.5009, -1.497 , -1.4812, -1.4795,\n",
       "        -1.4761, -1.4751, -1.4737, -1.4728, -1.4718, -1.4708, -1.4703,\n",
       "        -1.4697, -1.4687, -1.4678]),\n",
       " 'mean_train_RMSE': array([-1.5838, -1.5488, -1.5225, -1.5017, -1.498 , -1.4822, -1.4806,\n",
       "        -1.4772, -1.4762, -1.4748, -1.4737, -1.4726, -1.4716, -1.471 ,\n",
       "        -1.4703, -1.4692, -1.4681]),\n",
       " 'std_train_RMSE': array([0.0009, 0.0009, 0.0006, 0.0005, 0.0008, 0.0007, 0.0008, 0.0008,\n",
       "        0.0008, 0.0007, 0.0007, 0.0006, 0.0006, 0.0005, 0.0004, 0.0004,\n",
       "        0.0004])}"
      ]
     },
     "execution_count": 30,
     "metadata": {},
     "output_type": "execute_result"
    }
   ],
   "source": [
    "gs_cv.cv_results_"
   ]
  },
  {
   "cell_type": "code",
   "execution_count": 31,
   "metadata": {},
   "outputs": [
    {
     "data": {
      "text/plain": [
       "((364212, 20), (364212, 1))"
      ]
     },
     "execution_count": 31,
     "metadata": {},
     "output_type": "execute_result"
    }
   ],
   "source": [
    "X.shape, y.shape"
   ]
  }
 ],
 "metadata": {
  "kernelspec": {
   "display_name": "Python 3",
   "language": "python",
   "name": "python3"
  },
  "language_info": {
   "codemirror_mode": {
    "name": "ipython",
    "version": 3
   },
   "file_extension": ".py",
   "mimetype": "text/x-python",
   "name": "python",
   "nbconvert_exporter": "python",
   "pygments_lexer": "ipython3",
   "version": "3.6.5"
  }
 },
 "nbformat": 4,
 "nbformat_minor": 2
}
