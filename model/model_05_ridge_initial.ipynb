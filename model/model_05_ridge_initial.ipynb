{
 "cells": [
  {
   "cell_type": "markdown",
   "metadata": {},
   "source": [
    "## Commentary:\n",
    "\n",
    "__This file is trying to do too many things.  We want to know if regularization can help us model the dataset more accurately in order to have more confidence in predictions.__\n",
    "\n",
    "__What this code does, though, is to change the game from the previous model.  That model does a polynomial expansion of time and size while leaving the (18) one-hot encoded categorical variable $state$ unexpanded.__\n",
    "\n",
    "__That model has the benefit of restricting the number of terms of the expansion for computational efficiency.  The number of features in the expansion scales polynomially in the number of features of the input, and exponentially in the degree.  As we increase the degree, the subsequent feature explosion leads to serious issues.  For example, the full second degree polynomial for _time_, _size_ and all the _state_ features has 231 terms.  The 3rd degree expansion contains 2300 features.  By 6th degree we would be up to around 1.5M features.__\n",
    "\n",
    "__Keeping in mind that we want to fit a model to over 300k rows of data, this begins to look seriously unmanageable.__\n",
    "\n",
    "__In the model_4 notebook, we achieved $R^2$ of 0.53 with a 14th degree polynomial (without expanding the _state_ variables).__\n",
    "\n",
    "__In this code, we're having issues with 4th degree models for ridge and OLS due to huge number of features.  Best fit alpha for ridge is 100.  This is not where we're supposed to be if Ridge is helping us -- alpha should be << 1.0.__\n",
    "\n",
    "__The next step should be trying polynomial model without including one-hot vars in expansion.  The experiments below show that those polynomial terms do not help to improve performance without other techniques (feature selection?).__"
   ]
  },
  {
   "cell_type": "markdown",
   "metadata": {},
   "source": [
    "## Use ridge regression to model instead of OLS\n",
    "\n",
    "Try ridge regression to see if regularization is helpful."
   ]
  },
  {
   "cell_type": "code",
   "execution_count": 1,
   "metadata": {},
   "outputs": [],
   "source": [
    "%matplotlib inline\n",
    "\n",
    "import numpy as np\n",
    "import pandas as pd\n",
    "import matplotlib.pyplot as plt\n",
    "plt.rc('figure', figsize=(10, 8))\n",
    "np.set_printoptions(precision=4, suppress=False)\n",
    "# please show all columns\n",
    "pd.set_option(\"display.max_columns\", 60)\n",
    "import seaborn as sns\n",
    "sns.set()"
   ]
  },
  {
   "cell_type": "code",
   "execution_count": 2,
   "metadata": {},
   "outputs": [],
   "source": [
    "# Import sklearn stuff\n",
    "\n",
    "from sklearn.linear_model import LinearRegression, Ridge\n",
    "from sklearn.metrics import r2_score, mean_squared_error, make_scorer\n",
    "from sklearn.model_selection import train_test_split, cross_val_score, KFold, GridSearchCV\n",
    "from sklearn.preprocessing import PolynomialFeatures, StandardScaler\n",
    "from sklearn.pipeline import Pipeline,  make_pipeline, FeatureUnion\n",
    "from sklearn.base import BaseEstimator, TransformerMixin"
   ]
  },
  {
   "cell_type": "code",
   "execution_count": 3,
   "metadata": {},
   "outputs": [],
   "source": [
    "# read cleaned data\n",
    "dfModelAll = pd.read_csv('../local/data/LBNL_openpv_tts_data/ModelAll.csv', index_col='row', dtype={'state':'category'})"
   ]
  },
  {
   "cell_type": "code",
   "execution_count": 4,
   "metadata": {},
   "outputs": [
    {
     "data": {
      "text/html": [
       "<div>\n",
       "<style scoped>\n",
       "    .dataframe tbody tr th:only-of-type {\n",
       "        vertical-align: middle;\n",
       "    }\n",
       "\n",
       "    .dataframe tbody tr th {\n",
       "        vertical-align: top;\n",
       "    }\n",
       "\n",
       "    .dataframe thead th {\n",
       "        text-align: right;\n",
       "    }\n",
       "</style>\n",
       "<table border=\"1\" class=\"dataframe\">\n",
       "  <thead>\n",
       "    <tr style=\"text-align: right;\">\n",
       "      <th></th>\n",
       "      <th>num_days</th>\n",
       "      <th>size_kw</th>\n",
       "      <th>state</th>\n",
       "      <th>cost_per_watt</th>\n",
       "      <th>scaleSize</th>\n",
       "    </tr>\n",
       "    <tr>\n",
       "      <th>row</th>\n",
       "      <th></th>\n",
       "      <th></th>\n",
       "      <th></th>\n",
       "      <th></th>\n",
       "      <th></th>\n",
       "    </tr>\n",
       "  </thead>\n",
       "  <tbody>\n",
       "    <tr>\n",
       "      <th>0</th>\n",
       "      <td>0.0</td>\n",
       "      <td>2.2824</td>\n",
       "      <td>CA</td>\n",
       "      <td>10.734315</td>\n",
       "      <td>0</td>\n",
       "    </tr>\n",
       "    <tr>\n",
       "      <th>1</th>\n",
       "      <td>21.0</td>\n",
       "      <td>1.8504</td>\n",
       "      <td>CA</td>\n",
       "      <td>11.108701</td>\n",
       "      <td>0</td>\n",
       "    </tr>\n",
       "    <tr>\n",
       "      <th>2</th>\n",
       "      <td>26.0</td>\n",
       "      <td>2.3076</td>\n",
       "      <td>CA</td>\n",
       "      <td>8.667013</td>\n",
       "      <td>0</td>\n",
       "    </tr>\n",
       "    <tr>\n",
       "      <th>3</th>\n",
       "      <td>84.0</td>\n",
       "      <td>2.3316</td>\n",
       "      <td>CA</td>\n",
       "      <td>13.270286</td>\n",
       "      <td>0</td>\n",
       "    </tr>\n",
       "    <tr>\n",
       "      <th>4</th>\n",
       "      <td>111.0</td>\n",
       "      <td>0.9300</td>\n",
       "      <td>CA</td>\n",
       "      <td>14.654839</td>\n",
       "      <td>0</td>\n",
       "    </tr>\n",
       "  </tbody>\n",
       "</table>\n",
       "</div>"
      ],
      "text/plain": [
       "     num_days  size_kw state  cost_per_watt  scaleSize\n",
       "row                                                   \n",
       "0         0.0   2.2824    CA      10.734315          0\n",
       "1        21.0   1.8504    CA      11.108701          0\n",
       "2        26.0   2.3076    CA       8.667013          0\n",
       "3        84.0   2.3316    CA      13.270286          0\n",
       "4       111.0   0.9300    CA      14.654839          0"
      ]
     },
     "execution_count": 4,
     "metadata": {},
     "output_type": "execute_result"
    }
   ],
   "source": [
    "# note data is sorted by time\n",
    "dfModelAll.head()"
   ]
  },
  {
   "cell_type": "code",
   "execution_count": 5,
   "metadata": {
    "scrolled": true
   },
   "outputs": [
    {
     "name": "stdout",
     "output_type": "stream",
     "text": [
      "<class 'pandas.core.frame.DataFrame'>\n",
      "Int64Index: 364212 entries, 0 to 364211\n",
      "Data columns (total 5 columns):\n",
      "num_days         364212 non-null float64\n",
      "size_kw          364212 non-null float64\n",
      "state            364212 non-null category\n",
      "cost_per_watt    364212 non-null float64\n",
      "scaleSize        364212 non-null int64\n",
      "dtypes: category(1), float64(3), int64(1)\n",
      "memory usage: 14.2 MB\n"
     ]
    }
   ],
   "source": [
    "dfModelAll.info()"
   ]
  },
  {
   "cell_type": "markdown",
   "metadata": {},
   "source": [
    "### Check out number of terms in polynomial expansion"
   ]
  },
  {
   "cell_type": "code",
   "execution_count": 6,
   "metadata": {
    "scrolled": true
   },
   "outputs": [
    {
     "data": {
      "text/plain": [
       "[21, 231, 1771, 10626, 53130, 230230, 888030]"
      ]
     },
     "execution_count": 6,
     "metadata": {},
     "output_type": "execute_result"
    }
   ],
   "source": [
    "# the independent variables\n",
    "numFeatures =[]\n",
    "live_vars = ['num_days', 'size_kw', 'state']\n",
    "# downsize by 10,000\n",
    "dfmini = dfModelAll.sample(frac=0.0001)\n",
    "dfmini = pd.get_dummies(dfmini[live_vars], drop_first=True)\n",
    "for i in range(1, 8): \n",
    "    # print(i)\n",
    "    poly_mini = PolynomialFeatures(degree=i).fit_transform(dfmini)\n",
    "    numFeatures.append(poly_mini.shape[1])\n",
    "numFeatures"
   ]
  },
  {
   "cell_type": "code",
   "execution_count": 7,
   "metadata": {
    "scrolled": false
   },
   "outputs": [
    {
     "data": {
      "image/png": "[encoded data removed]",
      "text/plain": [
       "<Figure size 432x432 with 1 Axes>"
      ]
     },
     "metadata": {},
     "output_type": "display_data"
    }
   ],
   "source": [
    "fig, ax = plt.subplots(figsize=(6, 6))\n",
    "sTitle = 'Number of features in polynomial by degree (linear = 21 features)'\n",
    "fig.suptitle(sTitle)\n",
    "ax.set_ylabel('Number of features')\n",
    "ax.set_xlabel('polynomial degree')\n",
    "ax.semilogy(np.arange(1.0, len(numFeatures) + 1), np.array(numFeatures));"
   ]
  },
  {
   "cell_type": "markdown",
   "metadata": {},
   "source": [
    "### make a small dataset to try out the pipeline"
   ]
  },
  {
   "cell_type": "markdown",
   "metadata": {},
   "source": [
    "#### let's do the one hot encoding with pandas"
   ]
  },
  {
   "cell_type": "code",
   "execution_count": 8,
   "metadata": {
    "scrolled": false
   },
   "outputs": [
    {
     "data": {
      "text/html": [
       "<div>\n",
       "<style scoped>\n",
       "    .dataframe tbody tr th:only-of-type {\n",
       "        vertical-align: middle;\n",
       "    }\n",
       "\n",
       "    .dataframe tbody tr th {\n",
       "        vertical-align: top;\n",
       "    }\n",
       "\n",
       "    .dataframe thead th {\n",
       "        text-align: right;\n",
       "    }\n",
       "</style>\n",
       "<table border=\"1\" class=\"dataframe\">\n",
       "  <thead>\n",
       "    <tr style=\"text-align: right;\">\n",
       "      <th></th>\n",
       "      <th>num_days</th>\n",
       "      <th>size_kw</th>\n",
       "      <th>state</th>\n",
       "      <th>cost_per_watt</th>\n",
       "      <th>scaleSize</th>\n",
       "    </tr>\n",
       "    <tr>\n",
       "      <th>row</th>\n",
       "      <th></th>\n",
       "      <th></th>\n",
       "      <th></th>\n",
       "      <th></th>\n",
       "      <th></th>\n",
       "    </tr>\n",
       "  </thead>\n",
       "  <tbody>\n",
       "    <tr>\n",
       "      <th>86054</th>\n",
       "      <td>4637.0</td>\n",
       "      <td>7.320</td>\n",
       "      <td>CA</td>\n",
       "      <td>4.193716</td>\n",
       "      <td>2</td>\n",
       "    </tr>\n",
       "    <tr>\n",
       "      <th>355214</th>\n",
       "      <td>6901.0</td>\n",
       "      <td>8.215</td>\n",
       "      <td>CA</td>\n",
       "      <td>2.015581</td>\n",
       "      <td>3</td>\n",
       "    </tr>\n",
       "    <tr>\n",
       "      <th>129566</th>\n",
       "      <td>5236.0</td>\n",
       "      <td>2.535</td>\n",
       "      <td>CA</td>\n",
       "      <td>5.978304</td>\n",
       "      <td>1</td>\n",
       "    </tr>\n",
       "    <tr>\n",
       "      <th>319703</th>\n",
       "      <td>6772.0</td>\n",
       "      <td>9.975</td>\n",
       "      <td>CA</td>\n",
       "      <td>4.554737</td>\n",
       "      <td>3</td>\n",
       "    </tr>\n",
       "    <tr>\n",
       "      <th>29154</th>\n",
       "      <td>3486.0</td>\n",
       "      <td>4.800</td>\n",
       "      <td>CA</td>\n",
       "      <td>8.442177</td>\n",
       "      <td>1</td>\n",
       "    </tr>\n",
       "  </tbody>\n",
       "</table>\n",
       "</div>"
      ],
      "text/plain": [
       "        num_days  size_kw state  cost_per_watt  scaleSize\n",
       "row                                                      \n",
       "86054     4637.0    7.320    CA       4.193716          2\n",
       "355214    6901.0    8.215    CA       2.015581          3\n",
       "129566    5236.0    2.535    CA       5.978304          1\n",
       "319703    6772.0    9.975    CA       4.554737          3\n",
       "29154     3486.0    4.800    CA       8.442177          1"
      ]
     },
     "execution_count": 8,
     "metadata": {},
     "output_type": "execute_result"
    }
   ],
   "source": [
    "dfMod100k = dfModelAll.sample(n=10000); dfMod100k.head()"
   ]
  },
  {
   "cell_type": "markdown",
   "metadata": {},
   "source": [
    "### do one-hot encoding of $state$"
   ]
  },
  {
   "cell_type": "code",
   "execution_count": 9,
   "metadata": {
    "scrolled": true
   },
   "outputs": [],
   "source": [
    "dfMod100k = pd.get_dummies(dfMod100k, drop_first=True)"
   ]
  },
  {
   "cell_type": "code",
   "execution_count": 10,
   "metadata": {},
   "outputs": [
    {
     "data": {
      "text/html": [
       "<div>\n",
       "<style scoped>\n",
       "    .dataframe tbody tr th:only-of-type {\n",
       "        vertical-align: middle;\n",
       "    }\n",
       "\n",
       "    .dataframe tbody tr th {\n",
       "        vertical-align: top;\n",
       "    }\n",
       "\n",
       "    .dataframe thead th {\n",
       "        text-align: right;\n",
       "    }\n",
       "</style>\n",
       "<table border=\"1\" class=\"dataframe\">\n",
       "  <thead>\n",
       "    <tr style=\"text-align: right;\">\n",
       "      <th></th>\n",
       "      <th>num_days</th>\n",
       "      <th>size_kw</th>\n",
       "      <th>cost_per_watt</th>\n",
       "      <th>scaleSize</th>\n",
       "      <th>state_AZ</th>\n",
       "      <th>state_CA</th>\n",
       "      <th>state_CT</th>\n",
       "      <th>state_DE</th>\n",
       "      <th>state_FL</th>\n",
       "      <th>state_MA</th>\n",
       "      <th>state_MD</th>\n",
       "      <th>state_MN</th>\n",
       "      <th>state_NH</th>\n",
       "      <th>state_NJ</th>\n",
       "      <th>state_NM</th>\n",
       "      <th>state_NV</th>\n",
       "      <th>state_NY</th>\n",
       "      <th>state_OR</th>\n",
       "      <th>state_PA</th>\n",
       "      <th>state_TX</th>\n",
       "      <th>state_VT</th>\n",
       "      <th>state_WI</th>\n",
       "    </tr>\n",
       "    <tr>\n",
       "      <th>row</th>\n",
       "      <th></th>\n",
       "      <th></th>\n",
       "      <th></th>\n",
       "      <th></th>\n",
       "      <th></th>\n",
       "      <th></th>\n",
       "      <th></th>\n",
       "      <th></th>\n",
       "      <th></th>\n",
       "      <th></th>\n",
       "      <th></th>\n",
       "      <th></th>\n",
       "      <th></th>\n",
       "      <th></th>\n",
       "      <th></th>\n",
       "      <th></th>\n",
       "      <th></th>\n",
       "      <th></th>\n",
       "      <th></th>\n",
       "      <th></th>\n",
       "      <th></th>\n",
       "      <th></th>\n",
       "    </tr>\n",
       "  </thead>\n",
       "  <tbody>\n",
       "    <tr>\n",
       "      <th>86054</th>\n",
       "      <td>4637.0</td>\n",
       "      <td>7.320</td>\n",
       "      <td>4.193716</td>\n",
       "      <td>2</td>\n",
       "      <td>0</td>\n",
       "      <td>1</td>\n",
       "      <td>0</td>\n",
       "      <td>0</td>\n",
       "      <td>0</td>\n",
       "      <td>0</td>\n",
       "      <td>0</td>\n",
       "      <td>0</td>\n",
       "      <td>0</td>\n",
       "      <td>0</td>\n",
       "      <td>0</td>\n",
       "      <td>0</td>\n",
       "      <td>0</td>\n",
       "      <td>0</td>\n",
       "      <td>0</td>\n",
       "      <td>0</td>\n",
       "      <td>0</td>\n",
       "      <td>0</td>\n",
       "    </tr>\n",
       "    <tr>\n",
       "      <th>355214</th>\n",
       "      <td>6901.0</td>\n",
       "      <td>8.215</td>\n",
       "      <td>2.015581</td>\n",
       "      <td>3</td>\n",
       "      <td>0</td>\n",
       "      <td>1</td>\n",
       "      <td>0</td>\n",
       "      <td>0</td>\n",
       "      <td>0</td>\n",
       "      <td>0</td>\n",
       "      <td>0</td>\n",
       "      <td>0</td>\n",
       "      <td>0</td>\n",
       "      <td>0</td>\n",
       "      <td>0</td>\n",
       "      <td>0</td>\n",
       "      <td>0</td>\n",
       "      <td>0</td>\n",
       "      <td>0</td>\n",
       "      <td>0</td>\n",
       "      <td>0</td>\n",
       "      <td>0</td>\n",
       "    </tr>\n",
       "    <tr>\n",
       "      <th>129566</th>\n",
       "      <td>5236.0</td>\n",
       "      <td>2.535</td>\n",
       "      <td>5.978304</td>\n",
       "      <td>1</td>\n",
       "      <td>0</td>\n",
       "      <td>1</td>\n",
       "      <td>0</td>\n",
       "      <td>0</td>\n",
       "      <td>0</td>\n",
       "      <td>0</td>\n",
       "      <td>0</td>\n",
       "      <td>0</td>\n",
       "      <td>0</td>\n",
       "      <td>0</td>\n",
       "      <td>0</td>\n",
       "      <td>0</td>\n",
       "      <td>0</td>\n",
       "      <td>0</td>\n",
       "      <td>0</td>\n",
       "      <td>0</td>\n",
       "      <td>0</td>\n",
       "      <td>0</td>\n",
       "    </tr>\n",
       "    <tr>\n",
       "      <th>319703</th>\n",
       "      <td>6772.0</td>\n",
       "      <td>9.975</td>\n",
       "      <td>4.554737</td>\n",
       "      <td>3</td>\n",
       "      <td>0</td>\n",
       "      <td>1</td>\n",
       "      <td>0</td>\n",
       "      <td>0</td>\n",
       "      <td>0</td>\n",
       "      <td>0</td>\n",
       "      <td>0</td>\n",
       "      <td>0</td>\n",
       "      <td>0</td>\n",
       "      <td>0</td>\n",
       "      <td>0</td>\n",
       "      <td>0</td>\n",
       "      <td>0</td>\n",
       "      <td>0</td>\n",
       "      <td>0</td>\n",
       "      <td>0</td>\n",
       "      <td>0</td>\n",
       "      <td>0</td>\n",
       "    </tr>\n",
       "    <tr>\n",
       "      <th>29154</th>\n",
       "      <td>3486.0</td>\n",
       "      <td>4.800</td>\n",
       "      <td>8.442177</td>\n",
       "      <td>1</td>\n",
       "      <td>0</td>\n",
       "      <td>1</td>\n",
       "      <td>0</td>\n",
       "      <td>0</td>\n",
       "      <td>0</td>\n",
       "      <td>0</td>\n",
       "      <td>0</td>\n",
       "      <td>0</td>\n",
       "      <td>0</td>\n",
       "      <td>0</td>\n",
       "      <td>0</td>\n",
       "      <td>0</td>\n",
       "      <td>0</td>\n",
       "      <td>0</td>\n",
       "      <td>0</td>\n",
       "      <td>0</td>\n",
       "      <td>0</td>\n",
       "      <td>0</td>\n",
       "    </tr>\n",
       "  </tbody>\n",
       "</table>\n",
       "</div>"
      ],
      "text/plain": [
       "        num_days  size_kw  cost_per_watt  scaleSize  state_AZ  state_CA  \\\n",
       "row                                                                       \n",
       "86054     4637.0    7.320       4.193716          2         0         1   \n",
       "355214    6901.0    8.215       2.015581          3         0         1   \n",
       "129566    5236.0    2.535       5.978304          1         0         1   \n",
       "319703    6772.0    9.975       4.554737          3         0         1   \n",
       "29154     3486.0    4.800       8.442177          1         0         1   \n",
       "\n",
       "        state_CT  state_DE  state_FL  state_MA  state_MD  state_MN  state_NH  \\\n",
       "row                                                                            \n",
       "86054          0         0         0         0         0         0         0   \n",
       "355214         0         0         0         0         0         0         0   \n",
       "129566         0         0         0         0         0         0         0   \n",
       "319703         0         0         0         0         0         0         0   \n",
       "29154          0         0         0         0         0         0         0   \n",
       "\n",
       "        state_NJ  state_NM  state_NV  state_NY  state_OR  state_PA  state_TX  \\\n",
       "row                                                                            \n",
       "86054          0         0         0         0         0         0         0   \n",
       "355214         0         0         0         0         0         0         0   \n",
       "129566         0         0         0         0         0         0         0   \n",
       "319703         0         0         0         0         0         0         0   \n",
       "29154          0         0         0         0         0         0         0   \n",
       "\n",
       "        state_VT  state_WI  \n",
       "row                         \n",
       "86054          0         0  \n",
       "355214         0         0  \n",
       "129566         0         0  \n",
       "319703         0         0  \n",
       "29154          0         0  "
      ]
     },
     "execution_count": 10,
     "metadata": {},
     "output_type": "execute_result"
    }
   ],
   "source": [
    "dfMod100k.head()"
   ]
  },
  {
   "cell_type": "markdown",
   "metadata": {},
   "source": [
    "### Important: since the data is sorted by time, it needs to be shuffed first or cross_val_score will pick bad sets."
   ]
  },
  {
   "cell_type": "code",
   "execution_count": 11,
   "metadata": {},
   "outputs": [],
   "source": [
    "# now the whole model; shuffle it though\n",
    "dfMod = pd.get_dummies(dfModelAll, drop_first=True).sample(frac=1.0)"
   ]
  },
  {
   "cell_type": "markdown",
   "metadata": {},
   "source": [
    "### Regress on time, size and state"
   ]
  },
  {
   "cell_type": "code",
   "execution_count": 12,
   "metadata": {
    "scrolled": true
   },
   "outputs": [
    {
     "data": {
      "text/plain": [
       "Index(['num_days', 'size_kw', 'cost_per_watt', 'scaleSize', 'state_AZ',\n",
       "       'state_CA', 'state_CT', 'state_DE', 'state_FL', 'state_MA', 'state_MD',\n",
       "       'state_MN', 'state_NH', 'state_NJ', 'state_NM', 'state_NV', 'state_NY',\n",
       "       'state_OR', 'state_PA', 'state_TX', 'state_VT', 'state_WI'],\n",
       "      dtype='object')"
      ]
     },
     "execution_count": 12,
     "metadata": {},
     "output_type": "execute_result"
    }
   ],
   "source": [
    "theCols = dfMod100k.columns; theCols"
   ]
  },
  {
   "cell_type": "markdown",
   "metadata": {},
   "source": [
    "### Try ridge on small dataset, simple model, vary alpha."
   ]
  },
  {
   "cell_type": "markdown",
   "metadata": {},
   "source": [
    "#### chose one of these cells to set X and y"
   ]
  },
  {
   "cell_type": "code",
   "execution_count": 13,
   "metadata": {},
   "outputs": [],
   "source": [
    "# prep data and target; this is about 30% of the data\n",
    "X = dfMod100k[['num_days', 'size_kw', 'state_AZ',\n",
    "              'state_CA', 'state_CT', 'state_DE', 'state_FL', 'state_MA', 'state_MD',\n",
    "              'state_MN', 'state_NH', 'state_NJ', 'state_NM', 'state_NV', 'state_NY',\n",
    "              'state_OR', 'state_PA', 'state_TX', 'state_VT', 'state_WI']]\n",
    "y = dfMod100k[['cost_per_watt']]"
   ]
  },
  {
   "cell_type": "code",
   "execution_count": 14,
   "metadata": {},
   "outputs": [],
   "source": [
    "# prep data and target\n",
    "# X = dfMod[['num_days', 'size_kw', 'state_AZ',\n",
    "#               'state_CA', 'state_CT', 'state_DE', 'state_FL', 'state_MA', 'state_MD',\n",
    "#               'state_MN', 'state_NH', 'state_NJ', 'state_NM', 'state_NV', 'state_NY',\n",
    "#               'state_OR', 'state_PA', 'state_TX', 'state_VT', 'state_WI']]\n",
    "# y = dfMod[['cost_per_watt']]"
   ]
  },
  {
   "cell_type": "code",
   "execution_count": 15,
   "metadata": {},
   "outputs": [],
   "source": [
    "### Helper to plot cv score vs alpha\n",
    "def display_plot(cv_scores, cv_scores_std):\n",
    "    fig = plt.figure(figsize=(6,6))\n",
    "    ax = fig.add_subplot(1,1,1) \n",
    "    ax.plot(alpha_space, cv_scores)\n",
    "    std_error = cv_scores_std / np.sqrt(10)\n",
    "    \n",
    "    ax.fill_between(alpha_space, cv_scores + std_error, cv_scores - std_error, alpha=0.2)\n",
    "    ax.set_ylabel('CV Score +/- Std Error')\n",
    "    ax.set_xlabel('Alpha')\n",
    "    ax.axhline(np.max(cv_scores), linestyle='--', color='.5')\n",
    "    ax.set_xlim([alpha_space[0], alpha_space[-1]])\n",
    "    ax.set_xscale('log')\n",
    "    plt.show()"
   ]
  },
  {
   "cell_type": "markdown",
   "metadata": {},
   "source": [
    "### Vary alpha to see what looks good (if anything).  There's not much chance we're overfitting with a linear model so regularization should not do anything useful.  Compare to OLS regressor."
   ]
  },
  {
   "cell_type": "code",
   "execution_count": 16,
   "metadata": {},
   "outputs": [
    {
     "data": {
      "image/png": "[encoded data removed]",
      "text/plain": [
       "<Figure size 432x432 with 1 Axes>"
      ]
     },
     "metadata": {},
     "output_type": "display_data"
    }
   ],
   "source": [
    "### Just mess with alpha to see what looks good (if anything).\n",
    "### There's not much chance we're overfitting with a linear model.\n",
    "### Compare to OLS regressor.\n",
    "from sklearn.linear_model import Ridge\n",
    "\n",
    "# Setup the array of alphas and lists to store scores\n",
    "alpha_space = np.logspace(-4, 2, 20)\n",
    "ridge_scores = []\n",
    "ridge_scores_std = []\n",
    "\n",
    "# Create a ridge regressor: ridge\n",
    "ridge = Ridge(normalize=True)\n",
    "\n",
    "# Compute scores over range of alphas\n",
    "for alpha in alpha_space:\n",
    "    # Specify the alpha value to use: ridge.alpha\n",
    "    ridge.alpha = alpha   \n",
    "    # Perform 4-fold CV: ridge_cv_scores\n",
    "    ridge_cv_scores = cross_val_score(ridge, X, y, cv=4)\n",
    "    # Append the mean of ridge_cv_scores to ridge_scores\n",
    "    ridge_scores.append(np.mean(ridge_cv_scores))  \n",
    "    # Append the std of ridge_cv_scores to ridge_scores_std\n",
    "    ridge_scores_std.append(np.std(ridge_cv_scores))\n",
    "\n",
    "# print scores and std\n",
    "# print('ridge scores: {}'.format(ridge_scores))\n",
    "# print('ridge scores std: {}'.format(ridge_scores_std))\n",
    "\n",
    "# Display the plot\n",
    "display_plot(ridge_scores, ridge_scores_std)"
   ]
  },
  {
   "cell_type": "markdown",
   "metadata": {},
   "source": [
    "### OLS does just as well on this model"
   ]
  },
  {
   "cell_type": "code",
   "execution_count": 17,
   "metadata": {},
   "outputs": [
    {
     "name": "stdout",
     "output_type": "stream",
     "text": [
      "R^2 train: 0.447, R^2 test: 0.452\n"
     ]
    }
   ],
   "source": [
    "pLR = Pipeline([('scale', StandardScaler()), \n",
    "                ('OLS', LinearRegression())])\n",
    "\n",
    "from sklearn.model_selection import train_test_split\n",
    "\n",
    "X_train, X_test, y_train, y_test = train_test_split(X, y, test_size=0.3, random_state=0)\n",
    "model = pLR\n",
    "model.fit(X_train, y_train)\n",
    "y_train_pred = model.predict(X_train)\n",
    "y_test_pred = model.predict(X_test)\n",
    "\n",
    "print('R^2 train: %.3f, R^2 test: %.3f' % \n",
    "      (r2_score(y_train, y_train_pred),\n",
    "       r2_score(y_test, y_test_pred)))\n"
   ]
  },
  {
   "cell_type": "code",
   "execution_count": 18,
   "metadata": {},
   "outputs": [
    {
     "data": {
      "text/plain": [
       "array([0.4599, 0.4433, 0.4224, 0.4627])"
      ]
     },
     "execution_count": 18,
     "metadata": {},
     "output_type": "execute_result"
    }
   ],
   "source": [
    "# cross_val_score needs the data randomized not sorted that's why this works with small dataset but gives garbage for full ds.\n",
    "cross_val_score(pLR, X, y, cv=4)"
   ]
  },
  {
   "cell_type": "markdown",
   "metadata": {},
   "source": [
    "### Conclusion: Ridge doesn't do anything useful with this model. \n",
    "\n",
    "Alpha from 0 to about 0.1 doesn't help or hurt.  More than that and $R^2$ goes down.\n",
    "\n",
    "Regularization helps a model with enough complexity to capture the trend not overfit (by weakening terms that don't help the model).\n",
    "\n",
    "Next we add some complexity to the model."
   ]
  },
  {
   "cell_type": "markdown",
   "metadata": {},
   "source": [
    "### End of trial of ridge with simple model..."
   ]
  },
  {
   "cell_type": "markdown",
   "metadata": {},
   "source": [
    "---"
   ]
  },
  {
   "cell_type": "markdown",
   "metadata": {},
   "source": [
    "### Now try straightforward polynomial transformation (including the one-hot encoded state in the expansion)"
   ]
  },
  {
   "cell_type": "markdown",
   "metadata": {},
   "source": [
    "### Build a pipeline that does the right thing\n",
    "\n",
    "Treat all input variables the same (i.e. polynomial expansion includes state one-hot columns)."
   ]
  },
  {
   "cell_type": "code",
   "execution_count": 19,
   "metadata": {},
   "outputs": [],
   "source": [
    "# Scale, poly then Ridge\n",
    "# for now use tiny alpha to make equivalent to OLS\n",
    "thePolyRidgePipe = Pipeline([\n",
    "    ('scale', StandardScaler()),\n",
    "    ('poly', PolynomialFeatures()),\n",
    "    ('Ridge', Ridge(normalize=False, alpha=0.001))\n",
    "]) # end of Pipeline"
   ]
  },
  {
   "cell_type": "code",
   "execution_count": 20,
   "metadata": {},
   "outputs": [
    {
     "data": {
      "text/plain": [
       "{'Ridge': Ridge(alpha=0.001, copy_X=True, fit_intercept=True, max_iter=None,\n",
       "    normalize=False, random_state=None, solver='auto', tol=0.001),\n",
       " 'Ridge__alpha': 0.001,\n",
       " 'Ridge__copy_X': True,\n",
       " 'Ridge__fit_intercept': True,\n",
       " 'Ridge__max_iter': None,\n",
       " 'Ridge__normalize': False,\n",
       " 'Ridge__random_state': None,\n",
       " 'Ridge__solver': 'auto',\n",
       " 'Ridge__tol': 0.001,\n",
       " 'memory': None,\n",
       " 'poly': PolynomialFeatures(degree=2, include_bias=True, interaction_only=False),\n",
       " 'poly__degree': 2,\n",
       " 'poly__include_bias': True,\n",
       " 'poly__interaction_only': False,\n",
       " 'scale': StandardScaler(copy=True, with_mean=True, with_std=True),\n",
       " 'scale__copy': True,\n",
       " 'scale__with_mean': True,\n",
       " 'scale__with_std': True,\n",
       " 'steps': [('scale', StandardScaler(copy=True, with_mean=True, with_std=True)),\n",
       "  ('poly',\n",
       "   PolynomialFeatures(degree=2, include_bias=True, interaction_only=False)),\n",
       "  ('Ridge', Ridge(alpha=0.001, copy_X=True, fit_intercept=True, max_iter=None,\n",
       "      normalize=False, random_state=None, solver='auto', tol=0.001))]}"
      ]
     },
     "execution_count": 20,
     "metadata": {},
     "output_type": "execute_result"
    }
   ],
   "source": [
    "thePolyRidgePipe.get_params()"
   ]
  },
  {
   "cell_type": "markdown",
   "metadata": {},
   "source": [
    "### Do  not run Ridge pipe on the full dataset - this takes a while; actually a ridulously long time; need verbose set to true in grid_search_cv."
   ]
  },
  {
   "cell_type": "markdown",
   "metadata": {},
   "source": [
    "##### This is example output from cell below\n",
    "```\n",
    "# Specify the hyperparameter space.\n",
    "poly_space = np.arange(1, 4)\n",
    "alpha_space = np.logspace(-4, 0, 5)\n",
    "# Create the hyperparameter grid, just poly degree up to 6th\n",
    "param_grid = {'poly__degree': poly_space,\n",
    "              'Ridge__alpha': alpha_space}\n",
    "\n",
    "Fitting 4 folds for each of 15 candidates, totalling 60 fits\n",
    "[Parallel(n_jobs=1)]: Done  60 out of  60 | elapsed:   22.2s finished\n",
    "Best parameters: {'Ridge__alpha': 1.0, 'poly__degree': 3}\n",
    "test R squared: 0.474783779159491\n",
    "```"
   ]
  },
  {
   "cell_type": "code",
   "execution_count": 21,
   "metadata": {},
   "outputs": [
    {
     "name": "stdout",
     "output_type": "stream",
     "text": [
      "Fitting 4 folds for each of 15 candidates, totalling 60 fits\n"
     ]
    },
    {
     "name": "stderr",
     "output_type": "stream",
     "text": [
      "[Parallel(n_jobs=1)]: Done  60 out of  60 | elapsed:   24.7s finished\n"
     ]
    },
    {
     "name": "stdout",
     "output_type": "stream",
     "text": [
      "Best parameters: {'Ridge__alpha': 100.0, 'poly__degree': 3}\n",
      "test R squared: 0.5015083733979022\n"
     ]
    },
    {
     "data": {
      "image/png": "[encoded data removed]",
      "text/plain": [
       "<Figure size 720x360 with 2 Axes>"
      ]
     },
     "metadata": {},
     "output_type": "display_data"
    }
   ],
   "source": [
    "# use 100k data points for test\n",
    "X = dfMod100k[['num_days', 'size_kw', 'state_AZ',\n",
    "              'state_CA', 'state_CT', 'state_DE', 'state_FL', 'state_MA', 'state_MD',\n",
    "              'state_MN', 'state_NH', 'state_NJ', 'state_NM', 'state_NV', 'state_NY',\n",
    "              'state_OR', 'state_PA', 'state_TX', 'state_VT', 'state_WI']]\n",
    "y = dfMod100k[['cost_per_watt']]\n",
    "\n",
    "# Specify the hyperparameter space.\n",
    "poly_space = np.arange(1, 4)\n",
    "alpha_space = np.logspace(-2, 2, 5)\n",
    "# Create the hyperparameter grid, just poly degree up to 6th\n",
    "param_grid = {'poly__degree': poly_space,\n",
    "              'Ridge__alpha': alpha_space}\n",
    "\n",
    "# Create train and test sets\n",
    "X_train, X_test, y_train, y_test = train_test_split(X, y, test_size=0.25, random_state=42)\n",
    "\n",
    "# Create the GridSearchCV object: gm_cv\n",
    "gs_cv = GridSearchCV(thePolyRidgePipe, param_grid, cv=4, return_train_score=True, verbose=True)\n",
    "\n",
    "# Fit to the training set\n",
    "model = gs_cv.fit(X_train, y_train)\n",
    "\n",
    "# Compute and print the metrics\n",
    "r2 = model.score(X_test, y_test)\n",
    "print(\"Best parameters: {}\".format(gs_cv.best_params_))\n",
    "print(\"test R squared: {}\".format(r2))\n",
    "\n",
    "fig, (ax1, ax2) = plt.subplots(1, 2, figsize=(10, 5))\n",
    "sTitle = 'Ridge regression with best parameters alpha: {} and polynomial degree {}'\n",
    "fig.suptitle(sTitle.format(gs_cv.best_params_['Ridge__alpha'],\n",
    "                           gs_cv.best_params_['poly__degree']))\n",
    "\n",
    "ax1.scatter(y_test, model.predict(X_test), marker='.', s=4, alpha=0.5);\n",
    "ax1.plot(np.array([1,20]), np.array([1,20]), linewidth=1, color='red')\n",
    "ax1.set_ylabel('cost/watt')\n",
    "ax1.set_xlabel('cost/watt')\n",
    "\n",
    "ax2.scatter(X_test.iloc[:, 0], y_test, marker='.', color='blue', s=4, alpha=0.5, label='actual')\n",
    "ax2.scatter(X_test.iloc[:, 0], model.predict(X_test), marker='.', color='red', s=4, alpha=0.5, label='predicted')\n",
    "ax2.set_ylabel('cost/watt')\n",
    "ax2.set_xlabel('time(days)')\n",
    "ax2.legend()\n",
    "plt.show();"
   ]
  },
  {
   "cell_type": "markdown",
   "metadata": {},
   "source": [
    "### Take a look at the best model i.e. {'Ridge__alpha': 100.0, 'poly__degree': 3} )"
   ]
  },
  {
   "cell_type": "code",
   "execution_count": 22,
   "metadata": {},
   "outputs": [],
   "source": [
    "bestE = model.best_estimator_"
   ]
  },
  {
   "cell_type": "code",
   "execution_count": 23,
   "metadata": {},
   "outputs": [
    {
     "data": {
      "text/plain": [
       "[('scale', StandardScaler(copy=True, with_mean=True, with_std=True)),\n",
       " ('poly',\n",
       "  PolynomialFeatures(degree=3, include_bias=True, interaction_only=False)),\n",
       " ('Ridge', Ridge(alpha=100.0, copy_X=True, fit_intercept=True, max_iter=None,\n",
       "     normalize=False, random_state=None, solver='auto', tol=0.001))]"
      ]
     },
     "execution_count": 23,
     "metadata": {},
     "output_type": "execute_result"
    }
   ],
   "source": [
    "bestE.steps"
   ]
  },
  {
   "cell_type": "code",
   "execution_count": 24,
   "metadata": {},
   "outputs": [
    {
     "data": {
      "text/plain": [
       "array([[ 0.0000e+00, -5.3622e-01, -2.5845e-01, ...,  1.4476e-06,\n",
       "        -3.3365e-07,  6.0007e-05]])"
      ]
     },
     "execution_count": 24,
     "metadata": {},
     "output_type": "execute_result"
    }
   ],
   "source": [
    "bestE.steps[-1][1].coef_"
   ]
  },
  {
   "cell_type": "code",
   "execution_count": 25,
   "metadata": {
    "scrolled": true
   },
   "outputs": [
    {
     "data": {
      "text/plain": [
       "array([5.3182])"
      ]
     },
     "execution_count": 25,
     "metadata": {},
     "output_type": "execute_result"
    }
   ],
   "source": [
    "bestE.steps[-1][1].intercept_"
   ]
  },
  {
   "cell_type": "code",
   "execution_count": 26,
   "metadata": {},
   "outputs": [
    {
     "data": {
      "text/plain": [
       "(1, 1771)"
      ]
     },
     "execution_count": 26,
     "metadata": {},
     "output_type": "execute_result"
    }
   ],
   "source": [
    "bestE.steps[-1][1].coef_.shape"
   ]
  },
  {
   "cell_type": "code",
   "execution_count": 27,
   "metadata": {
    "scrolled": false
   },
   "outputs": [
    {
     "data": {
      "image/png": "[encoded data removed]",
      "text/plain": [
       "<Figure size 432x432 with 1 Axes>"
      ]
     },
     "metadata": {},
     "output_type": "display_data"
    }
   ],
   "source": [
    "fig = plt.figure(figsize=(6,6))\n",
    "ax = fig.add_subplot(1,1,1) \n",
    "\n",
    "ax.scatter(np.arange(bestE.steps[-1][1].coef_.size), \n",
    "           np.log(np.abs(bestE.steps[-1][1].coef_ + 0.0000000000001)),\n",
    "           s=3);\n",
    "ax.set_xlabel('Coefficient')\n",
    "ax.set_ylabel('Log of coefficient value');"
   ]
  },
  {
   "cell_type": "code",
   "execution_count": 28,
   "metadata": {},
   "outputs": [
    {
     "data": {
      "text/plain": [
       "{'mean_fit_time': array([0.0095, 0.0494, 0.7856, 0.0075, 0.0459, 0.9137, 0.0113, 0.092 ,\n",
       "        0.8084, 0.0073, 0.0494, 0.8039, 0.0083, 0.0476, 0.8552]),\n",
       " 'mean_score_time': array([0.0038, 0.0078, 0.0797, 0.0025, 0.009 , 0.0917, 0.0015, 0.0085,\n",
       "        0.09  , 0.0013, 0.0073, 0.0985, 0.0015, 0.0073, 0.1025]),\n",
       " 'mean_test_score': array([0.4434, 0.4702, 0.4736, 0.4434, 0.4702, 0.4738, 0.4434, 0.4702,\n",
       "        0.4749, 0.4434, 0.4702, 0.4797, 0.4434, 0.4704, 0.4838]),\n",
       " 'mean_train_score': array([0.4484, 0.4851, 0.5144, 0.4484, 0.4851, 0.5144, 0.4484, 0.4851,\n",
       "        0.5144, 0.4484, 0.4851, 0.5144, 0.4483, 0.4848, 0.5141]),\n",
       " 'param_Ridge__alpha': masked_array(data=[0.01, 0.01, 0.01, 0.1, 0.1, 0.1, 1.0, 1.0, 1.0, 10.0,\n",
       "                    10.0, 10.0, 100.0, 100.0, 100.0],\n",
       "              mask=[False, False, False, False, False, False, False, False,\n",
       "                    False, False, False, False, False, False, False],\n",
       "        fill_value='?',\n",
       "             dtype=object),\n",
       " 'param_poly__degree': masked_array(data=[1, 2, 3, 1, 2, 3, 1, 2, 3, 1, 2, 3, 1, 2, 3],\n",
       "              mask=[False, False, False, False, False, False, False, False,\n",
       "                    False, False, False, False, False, False, False],\n",
       "        fill_value='?',\n",
       "             dtype=object),\n",
       " 'params': [{'Ridge__alpha': 0.01, 'poly__degree': 1},\n",
       "  {'Ridge__alpha': 0.01, 'poly__degree': 2},\n",
       "  {'Ridge__alpha': 0.01, 'poly__degree': 3},\n",
       "  {'Ridge__alpha': 0.1, 'poly__degree': 1},\n",
       "  {'Ridge__alpha': 0.1, 'poly__degree': 2},\n",
       "  {'Ridge__alpha': 0.1, 'poly__degree': 3},\n",
       "  {'Ridge__alpha': 1.0, 'poly__degree': 1},\n",
       "  {'Ridge__alpha': 1.0, 'poly__degree': 2},\n",
       "  {'Ridge__alpha': 1.0, 'poly__degree': 3},\n",
       "  {'Ridge__alpha': 10.0, 'poly__degree': 1},\n",
       "  {'Ridge__alpha': 10.0, 'poly__degree': 2},\n",
       "  {'Ridge__alpha': 10.0, 'poly__degree': 3},\n",
       "  {'Ridge__alpha': 100.0, 'poly__degree': 1},\n",
       "  {'Ridge__alpha': 100.0, 'poly__degree': 2},\n",
       "  {'Ridge__alpha': 100.0, 'poly__degree': 3}],\n",
       " 'rank_test_score': array([14, 10,  5, 13,  9,  4, 12,  8,  3, 11,  7,  2, 15,  6,  1]),\n",
       " 'split0_test_score': array([0.439 , 0.4688, 0.4641, 0.439 , 0.4688, 0.4642, 0.439 , 0.4688,\n",
       "        0.4642, 0.4391, 0.4688, 0.4645, 0.4391, 0.4686, 0.4667]),\n",
       " 'split0_train_score': array([0.4502, 0.4857, 0.5149, 0.4502, 0.4857, 0.5149, 0.4502, 0.4857,\n",
       "        0.5149, 0.4502, 0.4857, 0.5149, 0.4501, 0.4854, 0.5147]),\n",
       " 'split1_test_score': array([0.4592, 0.4828, 0.5048, 0.4592, 0.4828, 0.5048, 0.4592, 0.4828,\n",
       "        0.5048, 0.4592, 0.4828, 0.5051, 0.4588, 0.4829, 0.5066]),\n",
       " 'split1_train_score': array([0.4428, 0.4801, 0.5081, 0.4428, 0.4801, 0.5081, 0.4428, 0.4801,\n",
       "        0.5081, 0.4428, 0.4801, 0.5081, 0.4426, 0.4797, 0.5078]),\n",
       " 'split2_test_score': array([0.4398, 0.468 , 0.4771, 0.4398, 0.468 , 0.4771, 0.4398, 0.468 ,\n",
       "        0.4772, 0.4399, 0.4681, 0.4777, 0.4407, 0.4692, 0.4809]),\n",
       " 'split2_train_score': array([0.4493, 0.4859, 0.5167, 0.4493, 0.4859, 0.5167, 0.4493, 0.4859,\n",
       "        0.5167, 0.4493, 0.4859, 0.5167, 0.4492, 0.4856, 0.5164]),\n",
       " 'split3_test_score': array([0.4355, 0.461 , 0.4484, 0.4355, 0.461 , 0.449 , 0.4355, 0.461 ,\n",
       "        0.4535, 0.4355, 0.4611, 0.4716, 0.435 , 0.4609, 0.4811]),\n",
       " 'split3_train_score': array([0.4514, 0.4888, 0.5179, 0.4514, 0.4888, 0.5179, 0.4514, 0.4888,\n",
       "        0.5179, 0.4514, 0.4888, 0.5179, 0.4512, 0.4884, 0.5175]),\n",
       " 'std_fit_time': array([0.0022, 0.0044, 0.0665, 0.0017, 0.0013, 0.0967, 0.0026, 0.052 ,\n",
       "        0.0378, 0.0011, 0.0034, 0.0627, 0.0008, 0.0035, 0.0225]),\n",
       " 'std_score_time': array([0.0042, 0.0008, 0.0111, 0.0015, 0.0012, 0.0144, 0.0005, 0.0005,\n",
       "        0.0199, 0.0004, 0.0008, 0.0183, 0.0005, 0.0004, 0.0192]),\n",
       " 'std_test_score': array([0.0093, 0.0079, 0.0207, 0.0093, 0.0079, 0.0205, 0.0093, 0.0079,\n",
       "        0.0192, 0.0093, 0.0079, 0.0154, 0.0091, 0.0079, 0.0144]),\n",
       " 'std_train_score': array([0.0033, 0.0032, 0.0038, 0.0033, 0.0032, 0.0038, 0.0033, 0.0032,\n",
       "        0.0038, 0.0033, 0.0032, 0.0038, 0.0033, 0.0032, 0.0038])}"
      ]
     },
     "execution_count": 28,
     "metadata": {},
     "output_type": "execute_result"
    }
   ],
   "source": [
    "model.cv_results_"
   ]
  },
  {
   "cell_type": "code",
   "execution_count": 29,
   "metadata": {},
   "outputs": [],
   "source": [
    "thing = pd.DataFrame(model.cv_results_)"
   ]
  },
  {
   "cell_type": "code",
   "execution_count": 30,
   "metadata": {
    "scrolled": false
   },
   "outputs": [
    {
     "data": {
      "image/png": "[encoded data removed]",
      "text/plain": [
       "<Figure size 458.25x360 with 1 Axes>"
      ]
     },
     "metadata": {},
     "output_type": "display_data"
    }
   ],
   "source": [
    "sns.lmplot('param_poly__degree', 'mean_test_score', hue='param_Ridge__alpha', data=thing, fit_reg=False);"
   ]
  },
  {
   "cell_type": "code",
   "execution_count": 31,
   "metadata": {},
   "outputs": [],
   "source": [
    "def trainVsTest(results):\n",
    "    mean_train_scores = results['mean_train_score']\n",
    "    mean_test_scores = results['mean_train_score']\n",
    "    n = len(mean_train_scores)\n",
    "    # print(mean_train_scores, mean_test_scores)\n",
    "    # \n",
    "    fig, ax = plt.subplots(1, 1, figsize=(5, 5))\n",
    "    sTitle = 'train/test scores vs parameters'\n",
    "    fig.suptitle(sTitle.format(gs_cv.best_params_['poly__degree']))\n",
    "\n",
    "    ax.scatter(np.arange(1, n + 1), mean_train_scores, marker='d', s=100, alpha=1, color='green', label='train');\n",
    "    ax.scatter(np.arange(1, n + 1), mean_test_scores, marker='+', s=100, alpha=0.5, color='red', label='test');\n",
    "    ax.set_ylabel('score')\n",
    "    ax.set_xlabel('param combination')"
   ]
  },
  {
   "cell_type": "code",
   "execution_count": 32,
   "metadata": {
    "scrolled": true
   },
   "outputs": [
    {
     "data": {
      "image/png": "[encoded data removed]",
      "text/plain": [
       "<Figure size 360x360 with 1 Axes>"
      ]
     },
     "metadata": {},
     "output_type": "display_data"
    }
   ],
   "source": [
    "trainVsTest(model.cv_results_)"
   ]
  },
  {
   "cell_type": "markdown",
   "metadata": {},
   "source": [
    "### Interesting, now substitute OLS and see what happens.  This is different from previous model because all the one-hot encoded vars participate in poly expansion."
   ]
  },
  {
   "cell_type": "code",
   "execution_count": 33,
   "metadata": {},
   "outputs": [],
   "source": [
    "# change to OLS \n",
    "# all vars get scaled, then go to polynomial\n",
    "thePolyOLSPipe = Pipeline([\n",
    "    ('scale', StandardScaler()),\n",
    "    ('poly', PolynomialFeatures()),\n",
    "    ('OLS', LinearRegression())\n",
    "]) # end of Pipeline"
   ]
  },
  {
   "cell_type": "code",
   "execution_count": 34,
   "metadata": {},
   "outputs": [
    {
     "name": "stdout",
     "output_type": "stream",
     "text": [
      "Fitting 4 folds for each of 3 candidates, totalling 12 fits\n"
     ]
    },
    {
     "name": "stderr",
     "output_type": "stream",
     "text": [
      "[Parallel(n_jobs=1)]: Done  12 out of  12 | elapsed:   13.7s finished\n"
     ]
    },
    {
     "name": "stdout",
     "output_type": "stream",
     "text": [
      "Best parameters: {'poly__degree': 2}\n",
      "test R squared: 0.4901763903933912\n"
     ]
    },
    {
     "data": {
      "image/png": "[encoded data removed]",
      "text/plain": [
       "<Figure size 720x360 with 2 Axes>"
      ]
     },
     "metadata": {},
     "output_type": "display_data"
    }
   ],
   "source": [
    "# use 100k data points for test\n",
    "X = dfMod100k[['num_days', 'size_kw', 'state_AZ',\n",
    "              'state_CA', 'state_CT', 'state_DE', 'state_FL', 'state_MA', 'state_MD',\n",
    "              'state_MN', 'state_NH', 'state_NJ', 'state_NM', 'state_NV', 'state_NY',\n",
    "              'state_OR', 'state_PA', 'state_TX', 'state_VT', 'state_WI']]\n",
    "y = dfMod100k[['cost_per_watt']]\n",
    "\n",
    "# poly degrees 1, 2 and 3\n",
    "poly_space = np.arange(1, 4)\n",
    "# no alpha for this pipleline\n",
    "# alpha_space = np.logspace(-4, 0, 5)\n",
    "\n",
    "# Create the hyperparameter grid, just poly degree up to 4th\n",
    "param_grid = {'poly__degree': poly_space} # ,\n",
    "#              'Ridge__alpha': alpha_space}\n",
    "\n",
    "# Create train and test sets\n",
    "X_train, X_test, y_train, y_test = train_test_split(X, y, test_size=0.25, random_state=0)\n",
    "\n",
    "# Create the GridSearchCV object: gm_cv\n",
    "gs_cv = GridSearchCV(thePolyOLSPipe, param_grid, cv=4, return_train_score=True, verbose=True)\n",
    "\n",
    "# Fit to the training set\n",
    "model = gs_cv.fit(X_train, y_train)\n",
    "\n",
    "# Compute and print the metrics\n",
    "r2 = model.score(X_test, y_test)\n",
    "print(\"Best parameters: {}\".format(gs_cv.best_params_))\n",
    "print(\"test R squared: {}\".format(r2))\n",
    "\n",
    "# plot best model on test set\n",
    "fig, (ax1, ax2) = plt.subplots(1, 2, figsize=(10, 5))\n",
    "sTitle = 'OLS regression with best polynomial degree: {}'\n",
    "fig.suptitle(sTitle.format(gs_cv.best_params_['poly__degree']))\n",
    "\n",
    "ax1.scatter(y_test, model.predict(X_test), marker='.', s=4, alpha=0.5);\n",
    "ax1.plot(np.array([1,20]), np.array([1,20]), linewidth=1, color='red')\n",
    "ax1.set_ylabel('cost/watt')\n",
    "ax1.set_xlabel('cost/watt')\n",
    "\n",
    "ax2.scatter(X_test.iloc[:, 0], y_test, marker='.', color='blue', s=4, alpha=0.5, label='actual')\n",
    "ax2.scatter(X_test.iloc[:, 0], model.predict(X_test), marker='.', color='red', s=4, alpha=0.5, label='predicted')\n",
    "ax2.set_ylabel('cost/watt')\n",
    "ax2.set_xlabel('time(days)')\n",
    "ax2.legend()\n",
    "plt.show();"
   ]
  },
  {
   "cell_type": "code",
   "execution_count": 35,
   "metadata": {},
   "outputs": [
    {
     "data": {
      "text/plain": [
       "{'mean_fit_time': array([0.0088, 0.0963, 3.0098]),\n",
       " 'mean_score_time': array([0.002 , 0.0158, 0.0978]),\n",
       " 'mean_test_score': array([0.446 , 0.4707, 0.4643]),\n",
       " 'mean_train_score': array([0.4486, 0.4827, 0.5106]),\n",
       " 'param_poly__degree': masked_array(data=[1, 2, 3],\n",
       "              mask=[False, False, False],\n",
       "        fill_value='?',\n",
       "             dtype=object),\n",
       " 'params': [{'poly__degree': 1}, {'poly__degree': 2}, {'poly__degree': 3}],\n",
       " 'rank_test_score': array([3, 1, 2]),\n",
       " 'split0_test_score': array([0.4204, 0.4314, 0.4605]),\n",
       " 'split0_train_score': array([0.4566, 0.4928, 0.5199]),\n",
       " 'split1_test_score': array([0.4519, 0.477 , 0.4852]),\n",
       " 'split1_train_score': array([0.4464, 0.4812, 0.51  ]),\n",
       " 'split2_test_score': array([0.4739, 0.4974, 0.4419]),\n",
       " 'split2_train_score': array([0.4398, 0.4752, 0.5033]),\n",
       " 'split3_test_score': array([0.4377, 0.4771, 0.4695]),\n",
       " 'split3_train_score': array([0.4517, 0.4816, 0.5093]),\n",
       " 'std_fit_time': array([0.0024, 0.0079, 0.0549]),\n",
       " 'std_score_time': array([7.6331e-07, 1.2328e-02, 2.9030e-02]),\n",
       " 'std_test_score': array([0.0196, 0.0242, 0.0157]),\n",
       " 'std_train_score': array([0.0063, 0.0064, 0.006 ])}"
      ]
     },
     "execution_count": 35,
     "metadata": {},
     "output_type": "execute_result"
    }
   ],
   "source": [
    "model.cv_results_"
   ]
  },
  {
   "cell_type": "markdown",
   "metadata": {},
   "source": [
    "### What does the above say?\n",
    "\n",
    "It says as poly degree goes up training score goes up but test score dives off a cliff (very large negative $R^2$).\n",
    "The best $R^2$ is 0.45 at poly degree 1 (i.e. linear).  So this proves that driving the state one-hot vars through the poly expansion does not help.  "
   ]
  }
 ],
 "metadata": {
  "kernelspec": {
   "display_name": "Python 3",
   "language": "python",
   "name": "python3"
  },
  "language_info": {
   "codemirror_mode": {
    "name": "ipython",
    "version": 3
   },
   "file_extension": ".py",
   "mimetype": "text/x-python",
   "name": "python",
   "nbconvert_exporter": "python",
   "pygments_lexer": "ipython3",
   "version": "3.6.5"
  }
 },
 "nbformat": 4,
 "nbformat_minor": 2
}
