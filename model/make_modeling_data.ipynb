{
 "cells": [
  {
   "cell_type": "markdown",
   "metadata": {},
   "source": [
    "###  Do some often needed feature transformations and save.\n",
    "\n",
    "One thing that's become apparent is that it may be very helpful if I want to try a bunch of models to pre-compute and save everything in a master modeling dataset.\n",
    "\n",
    "Here's the set I want to end up with.  Don't lose original source fields; I might need them.\n",
    "\n",
    "Before I save, I want to question whether I need to save out install_week and install_date.  I can see keeping install_date.\n",
    "But I can't think of a reason to use the other two for modeling - sklearn can't deal with them (AFAIK).  I'll dispense with them for now.\n",
    "\n",
    "1. install_date ==> num_days\n",
    "1. install_week ==> num_weeks\n",
    "1. install_month ==> num_months\n",
    "1. size_kw\t== scaleSize\n",
    "1. state ==> one-hot rep  -- actually, since it's very fast to do this, I'll leave state alone (saves a lot of i/o)\n",
    "1. cost_per_watt gets left alone"
   ]
  },
  {
   "cell_type": "code",
   "execution_count": 1,
   "metadata": {},
   "outputs": [],
   "source": [
    "import datetime\n",
    "\n",
    "# the ususal suspects\n",
    "import numpy as np\n",
    "import pandas as pd\n",
    "import matplotlib.pyplot as plt\n",
    "%matplotlib inline\n",
    "plt.rc('figure', figsize=(10, 8))\n",
    "np.set_printoptions(precision=4, suppress=False)\n",
    "# please show all columns\n",
    "pd.set_option(\"display.max_columns\", 60)\n",
    "\n",
    "import seaborn as sns\n",
    "sns.set()\n",
    "\n",
    "# Import sklearn stuff\n",
    "from sklearn.linear_model import LinearRegression, Ridge\n",
    "from sklearn.metrics import r2_score, mean_squared_error, make_scorer\n",
    "from sklearn.model_selection import train_test_split, cross_val_score, KFold, GridSearchCV\n",
    "from sklearn.preprocessing import PolynomialFeatures, StandardScaler\n",
    "from sklearn.pipeline import Pipeline"
   ]
  },
  {
   "cell_type": "code",
   "execution_count": 2,
   "metadata": {},
   "outputs": [],
   "source": [
    "# lodd up\n",
    "dfMod = pd.read_csv('../local/data/LBNL_openpv_tts_data/ModelData.csv',\n",
    "                    encoding='iso-8859-1', # avoids windows encoding issue\n",
    "                    index_col='row_id',\n",
    "                    parse_dates=['install_date'])"
   ]
  },
  {
   "cell_type": "code",
   "execution_count": 3,
   "metadata": {
    "scrolled": true
   },
   "outputs": [
    {
     "data": {
      "text/html": [
       "<div>\n",
       "<style scoped>\n",
       "    .dataframe tbody tr th:only-of-type {\n",
       "        vertical-align: middle;\n",
       "    }\n",
       "\n",
       "    .dataframe tbody tr th {\n",
       "        vertical-align: top;\n",
       "    }\n",
       "\n",
       "    .dataframe thead th {\n",
       "        text-align: right;\n",
       "    }\n",
       "</style>\n",
       "<table border=\"1\" class=\"dataframe\">\n",
       "  <thead>\n",
       "    <tr style=\"text-align: right;\">\n",
       "      <th></th>\n",
       "      <th>num_days</th>\n",
       "      <th>size_kw</th>\n",
       "      <th>state</th>\n",
       "      <th>cost_per_watt</th>\n",
       "      <th>install_date</th>\n",
       "      <th>scaleSize</th>\n",
       "    </tr>\n",
       "    <tr>\n",
       "      <th>row_id</th>\n",
       "      <th></th>\n",
       "      <th></th>\n",
       "      <th></th>\n",
       "      <th></th>\n",
       "      <th></th>\n",
       "      <th></th>\n",
       "    </tr>\n",
       "  </thead>\n",
       "  <tbody>\n",
       "    <tr>\n",
       "      <th>1</th>\n",
       "      <td>0</td>\n",
       "      <td>2.2824</td>\n",
       "      <td>CA</td>\n",
       "      <td>10.734315</td>\n",
       "      <td>1998-01-09</td>\n",
       "      <td>0</td>\n",
       "    </tr>\n",
       "    <tr>\n",
       "      <th>2</th>\n",
       "      <td>21</td>\n",
       "      <td>1.8504</td>\n",
       "      <td>CA</td>\n",
       "      <td>11.108701</td>\n",
       "      <td>1998-01-30</td>\n",
       "      <td>0</td>\n",
       "    </tr>\n",
       "    <tr>\n",
       "      <th>4</th>\n",
       "      <td>26</td>\n",
       "      <td>2.3076</td>\n",
       "      <td>CA</td>\n",
       "      <td>8.667013</td>\n",
       "      <td>1998-02-04</td>\n",
       "      <td>0</td>\n",
       "    </tr>\n",
       "    <tr>\n",
       "      <th>6</th>\n",
       "      <td>84</td>\n",
       "      <td>2.3316</td>\n",
       "      <td>CA</td>\n",
       "      <td>13.270286</td>\n",
       "      <td>1998-04-03</td>\n",
       "      <td>0</td>\n",
       "    </tr>\n",
       "    <tr>\n",
       "      <th>7</th>\n",
       "      <td>111</td>\n",
       "      <td>0.9300</td>\n",
       "      <td>CA</td>\n",
       "      <td>14.654839</td>\n",
       "      <td>1998-04-30</td>\n",
       "      <td>0</td>\n",
       "    </tr>\n",
       "  </tbody>\n",
       "</table>\n",
       "</div>"
      ],
      "text/plain": [
       "        num_days  size_kw state  cost_per_watt install_date  scaleSize\n",
       "row_id                                                                \n",
       "1              0   2.2824    CA      10.734315   1998-01-09          0\n",
       "2             21   1.8504    CA      11.108701   1998-01-30          0\n",
       "4             26   2.3076    CA       8.667013   1998-02-04          0\n",
       "6             84   2.3316    CA      13.270286   1998-04-03          0\n",
       "7            111   0.9300    CA      14.654839   1998-04-30          0"
      ]
     },
     "execution_count": 3,
     "metadata": {},
     "output_type": "execute_result"
    }
   ],
   "source": [
    "# some transformed field are already here, i.e. scaleSize, num_days\n",
    "dfMod.head()"
   ]
  },
  {
   "cell_type": "code",
   "execution_count": 4,
   "metadata": {},
   "outputs": [],
   "source": [
    "# capture the installation month for each row\n",
    "month = dfMod.install_date.apply(lambda x: x.to_period('M'))\n",
    "\n",
    "# save in a new column\n",
    "dfMod = dfMod.assign(install_month=month)"
   ]
  },
  {
   "cell_type": "code",
   "execution_count": 26,
   "metadata": {},
   "outputs": [
    {
     "data": {
      "text/html": [
       "<div>\n",
       "<style scoped>\n",
       "    .dataframe tbody tr th:only-of-type {\n",
       "        vertical-align: middle;\n",
       "    }\n",
       "\n",
       "    .dataframe tbody tr th {\n",
       "        vertical-align: top;\n",
       "    }\n",
       "\n",
       "    .dataframe thead th {\n",
       "        text-align: right;\n",
       "    }\n",
       "</style>\n",
       "<table border=\"1\" class=\"dataframe\">\n",
       "  <thead>\n",
       "    <tr style=\"text-align: right;\">\n",
       "      <th></th>\n",
       "      <th>num_days</th>\n",
       "      <th>num_weeks</th>\n",
       "      <th>num_months</th>\n",
       "      <th>size_kw</th>\n",
       "      <th>scaleSize</th>\n",
       "      <th>state</th>\n",
       "      <th>cost_per_watt</th>\n",
       "      <th>install_date</th>\n",
       "    </tr>\n",
       "    <tr>\n",
       "      <th>row_id</th>\n",
       "      <th></th>\n",
       "      <th></th>\n",
       "      <th></th>\n",
       "      <th></th>\n",
       "      <th></th>\n",
       "      <th></th>\n",
       "      <th></th>\n",
       "      <th></th>\n",
       "    </tr>\n",
       "  </thead>\n",
       "  <tbody>\n",
       "    <tr>\n",
       "      <th>1</th>\n",
       "      <td>0.0</td>\n",
       "      <td>0.0</td>\n",
       "      <td>0.0</td>\n",
       "      <td>2.2824</td>\n",
       "      <td>0.0</td>\n",
       "      <td>CA</td>\n",
       "      <td>10.734315</td>\n",
       "      <td>1998-01-09</td>\n",
       "    </tr>\n",
       "    <tr>\n",
       "      <th>2</th>\n",
       "      <td>21.0</td>\n",
       "      <td>3.0</td>\n",
       "      <td>0.0</td>\n",
       "      <td>1.8504</td>\n",
       "      <td>0.0</td>\n",
       "      <td>CA</td>\n",
       "      <td>11.108701</td>\n",
       "      <td>1998-01-30</td>\n",
       "    </tr>\n",
       "    <tr>\n",
       "      <th>4</th>\n",
       "      <td>26.0</td>\n",
       "      <td>4.0</td>\n",
       "      <td>1.0</td>\n",
       "      <td>2.3076</td>\n",
       "      <td>0.0</td>\n",
       "      <td>CA</td>\n",
       "      <td>8.667013</td>\n",
       "      <td>1998-02-04</td>\n",
       "    </tr>\n",
       "    <tr>\n",
       "      <th>6</th>\n",
       "      <td>84.0</td>\n",
       "      <td>12.0</td>\n",
       "      <td>3.0</td>\n",
       "      <td>2.3316</td>\n",
       "      <td>0.0</td>\n",
       "      <td>CA</td>\n",
       "      <td>13.270286</td>\n",
       "      <td>1998-04-03</td>\n",
       "    </tr>\n",
       "    <tr>\n",
       "      <th>7</th>\n",
       "      <td>111.0</td>\n",
       "      <td>16.0</td>\n",
       "      <td>3.0</td>\n",
       "      <td>0.9300</td>\n",
       "      <td>0.0</td>\n",
       "      <td>CA</td>\n",
       "      <td>14.654839</td>\n",
       "      <td>1998-04-30</td>\n",
       "    </tr>\n",
       "  </tbody>\n",
       "</table>\n",
       "</div>"
      ],
      "text/plain": [
       "        num_days  num_weeks  num_months  size_kw  scaleSize state  \\\n",
       "row_id                                                              \n",
       "1            0.0        0.0         0.0   2.2824        0.0    CA   \n",
       "2           21.0        3.0         0.0   1.8504        0.0    CA   \n",
       "4           26.0        4.0         1.0   2.3076        0.0    CA   \n",
       "6           84.0       12.0         3.0   2.3316        0.0    CA   \n",
       "7          111.0       16.0         3.0   0.9300        0.0    CA   \n",
       "\n",
       "        cost_per_watt install_date  \n",
       "row_id                              \n",
       "1           10.734315   1998-01-09  \n",
       "2           11.108701   1998-01-30  \n",
       "4            8.667013   1998-02-04  \n",
       "6           13.270286   1998-04-03  \n",
       "7           14.654839   1998-04-30  "
      ]
     },
     "execution_count": 26,
     "metadata": {},
     "output_type": "execute_result"
    }
   ],
   "source": [
    "dfMod.head()"
   ]
  },
  {
   "cell_type": "code",
   "execution_count": 6,
   "metadata": {},
   "outputs": [],
   "source": [
    "week = dfMod.install_date.apply(lambda x: x.to_period('W'))"
   ]
  },
  {
   "cell_type": "code",
   "execution_count": 7,
   "metadata": {
    "scrolled": true
   },
   "outputs": [
    {
     "data": {
      "text/html": [
       "<div>\n",
       "<style scoped>\n",
       "    .dataframe tbody tr th:only-of-type {\n",
       "        vertical-align: middle;\n",
       "    }\n",
       "\n",
       "    .dataframe tbody tr th {\n",
       "        vertical-align: top;\n",
       "    }\n",
       "\n",
       "    .dataframe thead th {\n",
       "        text-align: right;\n",
       "    }\n",
       "</style>\n",
       "<table border=\"1\" class=\"dataframe\">\n",
       "  <thead>\n",
       "    <tr style=\"text-align: right;\">\n",
       "      <th></th>\n",
       "      <th>num_days</th>\n",
       "      <th>size_kw</th>\n",
       "      <th>state</th>\n",
       "      <th>cost_per_watt</th>\n",
       "      <th>install_date</th>\n",
       "      <th>scaleSize</th>\n",
       "      <th>install_month</th>\n",
       "      <th>install_week</th>\n",
       "    </tr>\n",
       "    <tr>\n",
       "      <th>row_id</th>\n",
       "      <th></th>\n",
       "      <th></th>\n",
       "      <th></th>\n",
       "      <th></th>\n",
       "      <th></th>\n",
       "      <th></th>\n",
       "      <th></th>\n",
       "      <th></th>\n",
       "    </tr>\n",
       "  </thead>\n",
       "  <tbody>\n",
       "    <tr>\n",
       "      <th>1</th>\n",
       "      <td>0</td>\n",
       "      <td>2.2824</td>\n",
       "      <td>CA</td>\n",
       "      <td>10.734315</td>\n",
       "      <td>1998-01-09</td>\n",
       "      <td>0</td>\n",
       "      <td>1998-01</td>\n",
       "      <td>1998-01-05/1998-01-11</td>\n",
       "    </tr>\n",
       "    <tr>\n",
       "      <th>2</th>\n",
       "      <td>21</td>\n",
       "      <td>1.8504</td>\n",
       "      <td>CA</td>\n",
       "      <td>11.108701</td>\n",
       "      <td>1998-01-30</td>\n",
       "      <td>0</td>\n",
       "      <td>1998-01</td>\n",
       "      <td>1998-01-26/1998-02-01</td>\n",
       "    </tr>\n",
       "    <tr>\n",
       "      <th>4</th>\n",
       "      <td>26</td>\n",
       "      <td>2.3076</td>\n",
       "      <td>CA</td>\n",
       "      <td>8.667013</td>\n",
       "      <td>1998-02-04</td>\n",
       "      <td>0</td>\n",
       "      <td>1998-02</td>\n",
       "      <td>1998-02-02/1998-02-08</td>\n",
       "    </tr>\n",
       "    <tr>\n",
       "      <th>6</th>\n",
       "      <td>84</td>\n",
       "      <td>2.3316</td>\n",
       "      <td>CA</td>\n",
       "      <td>13.270286</td>\n",
       "      <td>1998-04-03</td>\n",
       "      <td>0</td>\n",
       "      <td>1998-04</td>\n",
       "      <td>1998-03-30/1998-04-05</td>\n",
       "    </tr>\n",
       "    <tr>\n",
       "      <th>7</th>\n",
       "      <td>111</td>\n",
       "      <td>0.9300</td>\n",
       "      <td>CA</td>\n",
       "      <td>14.654839</td>\n",
       "      <td>1998-04-30</td>\n",
       "      <td>0</td>\n",
       "      <td>1998-04</td>\n",
       "      <td>1998-04-27/1998-05-03</td>\n",
       "    </tr>\n",
       "  </tbody>\n",
       "</table>\n",
       "</div>"
      ],
      "text/plain": [
       "        num_days  size_kw state  cost_per_watt install_date  scaleSize  \\\n",
       "row_id                                                                   \n",
       "1              0   2.2824    CA      10.734315   1998-01-09          0   \n",
       "2             21   1.8504    CA      11.108701   1998-01-30          0   \n",
       "4             26   2.3076    CA       8.667013   1998-02-04          0   \n",
       "6             84   2.3316    CA      13.270286   1998-04-03          0   \n",
       "7            111   0.9300    CA      14.654839   1998-04-30          0   \n",
       "\n",
       "       install_month          install_week  \n",
       "row_id                                      \n",
       "1            1998-01 1998-01-05/1998-01-11  \n",
       "2            1998-01 1998-01-26/1998-02-01  \n",
       "4            1998-02 1998-02-02/1998-02-08  \n",
       "6            1998-04 1998-03-30/1998-04-05  \n",
       "7            1998-04 1998-04-27/1998-05-03  "
      ]
     },
     "execution_count": 7,
     "metadata": {},
     "output_type": "execute_result"
    }
   ],
   "source": [
    "dfMod = dfMod.assign(install_week=week)\n",
    "dfMod.head()"
   ]
  },
  {
   "cell_type": "code",
   "execution_count": 8,
   "metadata": {},
   "outputs": [],
   "source": [
    "### go from install_week to number of weeks\n",
    "week0 = dfMod.install_week.iloc[0]"
   ]
  },
  {
   "cell_type": "code",
   "execution_count": 9,
   "metadata": {
    "scrolled": true
   },
   "outputs": [
    {
     "data": {
      "text/plain": [
       "pandas._libs.period.Period"
      ]
     },
     "execution_count": 9,
     "metadata": {},
     "output_type": "execute_result"
    }
   ],
   "source": [
    "type(week0)"
   ]
  },
  {
   "cell_type": "code",
   "execution_count": 10,
   "metadata": {},
   "outputs": [
    {
     "data": {
      "text/plain": [
       "row_id\n",
       "1     0.0\n",
       "2     3.0\n",
       "4     4.0\n",
       "6    12.0\n",
       "7    16.0\n",
       "Name: install_week, dtype: float64"
      ]
     },
     "execution_count": 10,
     "metadata": {},
     "output_type": "execute_result"
    }
   ],
   "source": [
    "num_weeks = (dfMod['install_week'] - week0 )\n",
    "num_weeks = num_weeks.astype(np.float)\n",
    "num_weeks[:5]"
   ]
  },
  {
   "cell_type": "code",
   "execution_count": 11,
   "metadata": {},
   "outputs": [
    {
     "data": {
      "text/html": [
       "<div>\n",
       "<style scoped>\n",
       "    .dataframe tbody tr th:only-of-type {\n",
       "        vertical-align: middle;\n",
       "    }\n",
       "\n",
       "    .dataframe tbody tr th {\n",
       "        vertical-align: top;\n",
       "    }\n",
       "\n",
       "    .dataframe thead th {\n",
       "        text-align: right;\n",
       "    }\n",
       "</style>\n",
       "<table border=\"1\" class=\"dataframe\">\n",
       "  <thead>\n",
       "    <tr style=\"text-align: right;\">\n",
       "      <th></th>\n",
       "      <th>num_days</th>\n",
       "      <th>size_kw</th>\n",
       "      <th>state</th>\n",
       "      <th>cost_per_watt</th>\n",
       "      <th>install_date</th>\n",
       "      <th>scaleSize</th>\n",
       "      <th>install_month</th>\n",
       "      <th>install_week</th>\n",
       "      <th>num_weeks</th>\n",
       "    </tr>\n",
       "    <tr>\n",
       "      <th>row_id</th>\n",
       "      <th></th>\n",
       "      <th></th>\n",
       "      <th></th>\n",
       "      <th></th>\n",
       "      <th></th>\n",
       "      <th></th>\n",
       "      <th></th>\n",
       "      <th></th>\n",
       "      <th></th>\n",
       "    </tr>\n",
       "  </thead>\n",
       "  <tbody>\n",
       "    <tr>\n",
       "      <th>1</th>\n",
       "      <td>0</td>\n",
       "      <td>2.2824</td>\n",
       "      <td>CA</td>\n",
       "      <td>10.734315</td>\n",
       "      <td>1998-01-09</td>\n",
       "      <td>0</td>\n",
       "      <td>1998-01</td>\n",
       "      <td>1998-01-05/1998-01-11</td>\n",
       "      <td>0.0</td>\n",
       "    </tr>\n",
       "    <tr>\n",
       "      <th>2</th>\n",
       "      <td>21</td>\n",
       "      <td>1.8504</td>\n",
       "      <td>CA</td>\n",
       "      <td>11.108701</td>\n",
       "      <td>1998-01-30</td>\n",
       "      <td>0</td>\n",
       "      <td>1998-01</td>\n",
       "      <td>1998-01-26/1998-02-01</td>\n",
       "      <td>3.0</td>\n",
       "    </tr>\n",
       "    <tr>\n",
       "      <th>4</th>\n",
       "      <td>26</td>\n",
       "      <td>2.3076</td>\n",
       "      <td>CA</td>\n",
       "      <td>8.667013</td>\n",
       "      <td>1998-02-04</td>\n",
       "      <td>0</td>\n",
       "      <td>1998-02</td>\n",
       "      <td>1998-02-02/1998-02-08</td>\n",
       "      <td>4.0</td>\n",
       "    </tr>\n",
       "    <tr>\n",
       "      <th>6</th>\n",
       "      <td>84</td>\n",
       "      <td>2.3316</td>\n",
       "      <td>CA</td>\n",
       "      <td>13.270286</td>\n",
       "      <td>1998-04-03</td>\n",
       "      <td>0</td>\n",
       "      <td>1998-04</td>\n",
       "      <td>1998-03-30/1998-04-05</td>\n",
       "      <td>12.0</td>\n",
       "    </tr>\n",
       "    <tr>\n",
       "      <th>7</th>\n",
       "      <td>111</td>\n",
       "      <td>0.9300</td>\n",
       "      <td>CA</td>\n",
       "      <td>14.654839</td>\n",
       "      <td>1998-04-30</td>\n",
       "      <td>0</td>\n",
       "      <td>1998-04</td>\n",
       "      <td>1998-04-27/1998-05-03</td>\n",
       "      <td>16.0</td>\n",
       "    </tr>\n",
       "  </tbody>\n",
       "</table>\n",
       "</div>"
      ],
      "text/plain": [
       "        num_days  size_kw state  cost_per_watt install_date  scaleSize  \\\n",
       "row_id                                                                   \n",
       "1              0   2.2824    CA      10.734315   1998-01-09          0   \n",
       "2             21   1.8504    CA      11.108701   1998-01-30          0   \n",
       "4             26   2.3076    CA       8.667013   1998-02-04          0   \n",
       "6             84   2.3316    CA      13.270286   1998-04-03          0   \n",
       "7            111   0.9300    CA      14.654839   1998-04-30          0   \n",
       "\n",
       "       install_month          install_week  num_weeks  \n",
       "row_id                                                 \n",
       "1            1998-01 1998-01-05/1998-01-11        0.0  \n",
       "2            1998-01 1998-01-26/1998-02-01        3.0  \n",
       "4            1998-02 1998-02-02/1998-02-08        4.0  \n",
       "6            1998-04 1998-03-30/1998-04-05       12.0  \n",
       "7            1998-04 1998-04-27/1998-05-03       16.0  "
      ]
     },
     "execution_count": 11,
     "metadata": {},
     "output_type": "execute_result"
    }
   ],
   "source": [
    "dfMod = dfMod.assign(num_weeks=num_weeks); dfMod.head()"
   ]
  },
  {
   "cell_type": "code",
   "execution_count": 12,
   "metadata": {},
   "outputs": [],
   "source": [
    "### same thing with months\n",
    "### go from install_week to number of weeks\n",
    "month0 = dfMod.install_month.iloc[0]"
   ]
  },
  {
   "cell_type": "code",
   "execution_count": 13,
   "metadata": {},
   "outputs": [
    {
     "data": {
      "text/plain": [
       "pandas._libs.period.Period"
      ]
     },
     "execution_count": 13,
     "metadata": {},
     "output_type": "execute_result"
    }
   ],
   "source": [
    "type(month0)"
   ]
  },
  {
   "cell_type": "code",
   "execution_count": 14,
   "metadata": {},
   "outputs": [
    {
     "data": {
      "text/plain": [
       "row_id\n",
       "1    0.0\n",
       "2    0.0\n",
       "4    1.0\n",
       "6    3.0\n",
       "7    3.0\n",
       "Name: install_month, dtype: float64"
      ]
     },
     "execution_count": 14,
     "metadata": {},
     "output_type": "execute_result"
    }
   ],
   "source": [
    "num_months = (dfMod['install_month'] - month0 )\n",
    "num_months = num_months.astype(np.float)\n",
    "num_months[:5]"
   ]
  },
  {
   "cell_type": "code",
   "execution_count": 15,
   "metadata": {},
   "outputs": [
    {
     "data": {
      "text/html": [
       "<div>\n",
       "<style scoped>\n",
       "    .dataframe tbody tr th:only-of-type {\n",
       "        vertical-align: middle;\n",
       "    }\n",
       "\n",
       "    .dataframe tbody tr th {\n",
       "        vertical-align: top;\n",
       "    }\n",
       "\n",
       "    .dataframe thead th {\n",
       "        text-align: right;\n",
       "    }\n",
       "</style>\n",
       "<table border=\"1\" class=\"dataframe\">\n",
       "  <thead>\n",
       "    <tr style=\"text-align: right;\">\n",
       "      <th></th>\n",
       "      <th>num_days</th>\n",
       "      <th>size_kw</th>\n",
       "      <th>state</th>\n",
       "      <th>cost_per_watt</th>\n",
       "      <th>install_date</th>\n",
       "      <th>scaleSize</th>\n",
       "      <th>install_month</th>\n",
       "      <th>install_week</th>\n",
       "      <th>num_weeks</th>\n",
       "      <th>num_months</th>\n",
       "    </tr>\n",
       "    <tr>\n",
       "      <th>row_id</th>\n",
       "      <th></th>\n",
       "      <th></th>\n",
       "      <th></th>\n",
       "      <th></th>\n",
       "      <th></th>\n",
       "      <th></th>\n",
       "      <th></th>\n",
       "      <th></th>\n",
       "      <th></th>\n",
       "      <th></th>\n",
       "    </tr>\n",
       "  </thead>\n",
       "  <tbody>\n",
       "    <tr>\n",
       "      <th>1</th>\n",
       "      <td>0</td>\n",
       "      <td>2.2824</td>\n",
       "      <td>CA</td>\n",
       "      <td>10.734315</td>\n",
       "      <td>1998-01-09</td>\n",
       "      <td>0</td>\n",
       "      <td>1998-01</td>\n",
       "      <td>1998-01-05/1998-01-11</td>\n",
       "      <td>0.0</td>\n",
       "      <td>0.0</td>\n",
       "    </tr>\n",
       "    <tr>\n",
       "      <th>2</th>\n",
       "      <td>21</td>\n",
       "      <td>1.8504</td>\n",
       "      <td>CA</td>\n",
       "      <td>11.108701</td>\n",
       "      <td>1998-01-30</td>\n",
       "      <td>0</td>\n",
       "      <td>1998-01</td>\n",
       "      <td>1998-01-26/1998-02-01</td>\n",
       "      <td>3.0</td>\n",
       "      <td>0.0</td>\n",
       "    </tr>\n",
       "    <tr>\n",
       "      <th>4</th>\n",
       "      <td>26</td>\n",
       "      <td>2.3076</td>\n",
       "      <td>CA</td>\n",
       "      <td>8.667013</td>\n",
       "      <td>1998-02-04</td>\n",
       "      <td>0</td>\n",
       "      <td>1998-02</td>\n",
       "      <td>1998-02-02/1998-02-08</td>\n",
       "      <td>4.0</td>\n",
       "      <td>1.0</td>\n",
       "    </tr>\n",
       "    <tr>\n",
       "      <th>6</th>\n",
       "      <td>84</td>\n",
       "      <td>2.3316</td>\n",
       "      <td>CA</td>\n",
       "      <td>13.270286</td>\n",
       "      <td>1998-04-03</td>\n",
       "      <td>0</td>\n",
       "      <td>1998-04</td>\n",
       "      <td>1998-03-30/1998-04-05</td>\n",
       "      <td>12.0</td>\n",
       "      <td>3.0</td>\n",
       "    </tr>\n",
       "    <tr>\n",
       "      <th>7</th>\n",
       "      <td>111</td>\n",
       "      <td>0.9300</td>\n",
       "      <td>CA</td>\n",
       "      <td>14.654839</td>\n",
       "      <td>1998-04-30</td>\n",
       "      <td>0</td>\n",
       "      <td>1998-04</td>\n",
       "      <td>1998-04-27/1998-05-03</td>\n",
       "      <td>16.0</td>\n",
       "      <td>3.0</td>\n",
       "    </tr>\n",
       "  </tbody>\n",
       "</table>\n",
       "</div>"
      ],
      "text/plain": [
       "        num_days  size_kw state  cost_per_watt install_date  scaleSize  \\\n",
       "row_id                                                                   \n",
       "1              0   2.2824    CA      10.734315   1998-01-09          0   \n",
       "2             21   1.8504    CA      11.108701   1998-01-30          0   \n",
       "4             26   2.3076    CA       8.667013   1998-02-04          0   \n",
       "6             84   2.3316    CA      13.270286   1998-04-03          0   \n",
       "7            111   0.9300    CA      14.654839   1998-04-30          0   \n",
       "\n",
       "       install_month          install_week  num_weeks  num_months  \n",
       "row_id                                                             \n",
       "1            1998-01 1998-01-05/1998-01-11        0.0         0.0  \n",
       "2            1998-01 1998-01-26/1998-02-01        3.0         0.0  \n",
       "4            1998-02 1998-02-02/1998-02-08        4.0         1.0  \n",
       "6            1998-04 1998-03-30/1998-04-05       12.0         3.0  \n",
       "7            1998-04 1998-04-27/1998-05-03       16.0         3.0  "
      ]
     },
     "execution_count": 15,
     "metadata": {},
     "output_type": "execute_result"
    }
   ],
   "source": [
    "dfMod = dfMod.assign(num_months=num_months); dfMod.head()"
   ]
  },
  {
   "cell_type": "code",
   "execution_count": 16,
   "metadata": {},
   "outputs": [
    {
     "data": {
      "text/plain": [
       "Index(['num_days', 'size_kw', 'state', 'cost_per_watt', 'install_date',\n",
       "       'scaleSize', 'install_month', 'install_week', 'num_weeks',\n",
       "       'num_months'],\n",
       "      dtype='object')"
      ]
     },
     "execution_count": 16,
     "metadata": {},
     "output_type": "execute_result"
    }
   ],
   "source": [
    "dfMod.columns"
   ]
  },
  {
   "cell_type": "code",
   "execution_count": 17,
   "metadata": {},
   "outputs": [],
   "source": [
    "### reorder columns\n",
    "dfMod = dfMod[['num_days', 'num_weeks', 'num_months', 'size_kw', 'scaleSize', 'state', 'cost_per_watt', 'install_date']]"
   ]
  },
  {
   "cell_type": "code",
   "execution_count": 18,
   "metadata": {},
   "outputs": [
    {
     "data": {
      "text/html": [
       "<div>\n",
       "<style scoped>\n",
       "    .dataframe tbody tr th:only-of-type {\n",
       "        vertical-align: middle;\n",
       "    }\n",
       "\n",
       "    .dataframe tbody tr th {\n",
       "        vertical-align: top;\n",
       "    }\n",
       "\n",
       "    .dataframe thead th {\n",
       "        text-align: right;\n",
       "    }\n",
       "</style>\n",
       "<table border=\"1\" class=\"dataframe\">\n",
       "  <thead>\n",
       "    <tr style=\"text-align: right;\">\n",
       "      <th></th>\n",
       "      <th>num_days</th>\n",
       "      <th>num_weeks</th>\n",
       "      <th>num_months</th>\n",
       "      <th>size_kw</th>\n",
       "      <th>scaleSize</th>\n",
       "      <th>state</th>\n",
       "      <th>cost_per_watt</th>\n",
       "      <th>install_date</th>\n",
       "    </tr>\n",
       "    <tr>\n",
       "      <th>row_id</th>\n",
       "      <th></th>\n",
       "      <th></th>\n",
       "      <th></th>\n",
       "      <th></th>\n",
       "      <th></th>\n",
       "      <th></th>\n",
       "      <th></th>\n",
       "      <th></th>\n",
       "    </tr>\n",
       "  </thead>\n",
       "  <tbody>\n",
       "    <tr>\n",
       "      <th>1</th>\n",
       "      <td>0</td>\n",
       "      <td>0.0</td>\n",
       "      <td>0.0</td>\n",
       "      <td>2.2824</td>\n",
       "      <td>0</td>\n",
       "      <td>CA</td>\n",
       "      <td>10.734315</td>\n",
       "      <td>1998-01-09</td>\n",
       "    </tr>\n",
       "    <tr>\n",
       "      <th>2</th>\n",
       "      <td>21</td>\n",
       "      <td>3.0</td>\n",
       "      <td>0.0</td>\n",
       "      <td>1.8504</td>\n",
       "      <td>0</td>\n",
       "      <td>CA</td>\n",
       "      <td>11.108701</td>\n",
       "      <td>1998-01-30</td>\n",
       "    </tr>\n",
       "    <tr>\n",
       "      <th>4</th>\n",
       "      <td>26</td>\n",
       "      <td>4.0</td>\n",
       "      <td>1.0</td>\n",
       "      <td>2.3076</td>\n",
       "      <td>0</td>\n",
       "      <td>CA</td>\n",
       "      <td>8.667013</td>\n",
       "      <td>1998-02-04</td>\n",
       "    </tr>\n",
       "    <tr>\n",
       "      <th>6</th>\n",
       "      <td>84</td>\n",
       "      <td>12.0</td>\n",
       "      <td>3.0</td>\n",
       "      <td>2.3316</td>\n",
       "      <td>0</td>\n",
       "      <td>CA</td>\n",
       "      <td>13.270286</td>\n",
       "      <td>1998-04-03</td>\n",
       "    </tr>\n",
       "    <tr>\n",
       "      <th>7</th>\n",
       "      <td>111</td>\n",
       "      <td>16.0</td>\n",
       "      <td>3.0</td>\n",
       "      <td>0.9300</td>\n",
       "      <td>0</td>\n",
       "      <td>CA</td>\n",
       "      <td>14.654839</td>\n",
       "      <td>1998-04-30</td>\n",
       "    </tr>\n",
       "  </tbody>\n",
       "</table>\n",
       "</div>"
      ],
      "text/plain": [
       "        num_days  num_weeks  num_months  size_kw  scaleSize state  \\\n",
       "row_id                                                              \n",
       "1              0        0.0         0.0   2.2824          0    CA   \n",
       "2             21        3.0         0.0   1.8504          0    CA   \n",
       "4             26        4.0         1.0   2.3076          0    CA   \n",
       "6             84       12.0         3.0   2.3316          0    CA   \n",
       "7            111       16.0         3.0   0.9300          0    CA   \n",
       "\n",
       "        cost_per_watt install_date  \n",
       "row_id                              \n",
       "1           10.734315   1998-01-09  \n",
       "2           11.108701   1998-01-30  \n",
       "4            8.667013   1998-02-04  \n",
       "6           13.270286   1998-04-03  \n",
       "7           14.654839   1998-04-30  "
      ]
     },
     "execution_count": 18,
     "metadata": {},
     "output_type": "execute_result"
    }
   ],
   "source": [
    "dfMod.head()"
   ]
  },
  {
   "cell_type": "code",
   "execution_count": 19,
   "metadata": {},
   "outputs": [],
   "source": [
    "_days = dfMod.num_days.astype(np.float)\n",
    "dfMod = dfMod.assign(num_days=_days)"
   ]
  },
  {
   "cell_type": "code",
   "execution_count": 20,
   "metadata": {},
   "outputs": [],
   "source": [
    "_scaleSize = dfMod.scaleSize.astype(np.float)\n",
    "dfMod = dfMod.assign(scaleSize=_scaleSize)"
   ]
  },
  {
   "cell_type": "code",
   "execution_count": 21,
   "metadata": {},
   "outputs": [],
   "source": [
    "dfMod.to_csv('../local/data/LBNL_openpv_tts_data/model_data_2.csv')"
   ]
  },
  {
   "cell_type": "code",
   "execution_count": 22,
   "metadata": {},
   "outputs": [],
   "source": [
    "thing = pd.read_csv('../local/data/LBNL_openpv_tts_data/model_data_2.csv', index_col='row_id', parse_dates=['install_date'])"
   ]
  },
  {
   "cell_type": "code",
   "execution_count": 23,
   "metadata": {},
   "outputs": [
    {
     "data": {
      "text/html": [
       "<div>\n",
       "<style scoped>\n",
       "    .dataframe tbody tr th:only-of-type {\n",
       "        vertical-align: middle;\n",
       "    }\n",
       "\n",
       "    .dataframe tbody tr th {\n",
       "        vertical-align: top;\n",
       "    }\n",
       "\n",
       "    .dataframe thead th {\n",
       "        text-align: right;\n",
       "    }\n",
       "</style>\n",
       "<table border=\"1\" class=\"dataframe\">\n",
       "  <thead>\n",
       "    <tr style=\"text-align: right;\">\n",
       "      <th></th>\n",
       "      <th>num_days</th>\n",
       "      <th>num_weeks</th>\n",
       "      <th>num_months</th>\n",
       "      <th>size_kw</th>\n",
       "      <th>scaleSize</th>\n",
       "      <th>state</th>\n",
       "      <th>cost_per_watt</th>\n",
       "      <th>install_date</th>\n",
       "    </tr>\n",
       "    <tr>\n",
       "      <th>row_id</th>\n",
       "      <th></th>\n",
       "      <th></th>\n",
       "      <th></th>\n",
       "      <th></th>\n",
       "      <th></th>\n",
       "      <th></th>\n",
       "      <th></th>\n",
       "      <th></th>\n",
       "    </tr>\n",
       "  </thead>\n",
       "  <tbody>\n",
       "    <tr>\n",
       "      <th>1</th>\n",
       "      <td>0.0</td>\n",
       "      <td>0.0</td>\n",
       "      <td>0.0</td>\n",
       "      <td>2.2824</td>\n",
       "      <td>0.0</td>\n",
       "      <td>CA</td>\n",
       "      <td>10.734315</td>\n",
       "      <td>1998-01-09</td>\n",
       "    </tr>\n",
       "    <tr>\n",
       "      <th>2</th>\n",
       "      <td>21.0</td>\n",
       "      <td>3.0</td>\n",
       "      <td>0.0</td>\n",
       "      <td>1.8504</td>\n",
       "      <td>0.0</td>\n",
       "      <td>CA</td>\n",
       "      <td>11.108701</td>\n",
       "      <td>1998-01-30</td>\n",
       "    </tr>\n",
       "    <tr>\n",
       "      <th>4</th>\n",
       "      <td>26.0</td>\n",
       "      <td>4.0</td>\n",
       "      <td>1.0</td>\n",
       "      <td>2.3076</td>\n",
       "      <td>0.0</td>\n",
       "      <td>CA</td>\n",
       "      <td>8.667013</td>\n",
       "      <td>1998-02-04</td>\n",
       "    </tr>\n",
       "    <tr>\n",
       "      <th>6</th>\n",
       "      <td>84.0</td>\n",
       "      <td>12.0</td>\n",
       "      <td>3.0</td>\n",
       "      <td>2.3316</td>\n",
       "      <td>0.0</td>\n",
       "      <td>CA</td>\n",
       "      <td>13.270286</td>\n",
       "      <td>1998-04-03</td>\n",
       "    </tr>\n",
       "    <tr>\n",
       "      <th>7</th>\n",
       "      <td>111.0</td>\n",
       "      <td>16.0</td>\n",
       "      <td>3.0</td>\n",
       "      <td>0.9300</td>\n",
       "      <td>0.0</td>\n",
       "      <td>CA</td>\n",
       "      <td>14.654839</td>\n",
       "      <td>1998-04-30</td>\n",
       "    </tr>\n",
       "  </tbody>\n",
       "</table>\n",
       "</div>"
      ],
      "text/plain": [
       "        num_days  num_weeks  num_months  size_kw  scaleSize state  \\\n",
       "row_id                                                              \n",
       "1            0.0        0.0         0.0   2.2824        0.0    CA   \n",
       "2           21.0        3.0         0.0   1.8504        0.0    CA   \n",
       "4           26.0        4.0         1.0   2.3076        0.0    CA   \n",
       "6           84.0       12.0         3.0   2.3316        0.0    CA   \n",
       "7          111.0       16.0         3.0   0.9300        0.0    CA   \n",
       "\n",
       "        cost_per_watt install_date  \n",
       "row_id                              \n",
       "1           10.734315   1998-01-09  \n",
       "2           11.108701   1998-01-30  \n",
       "4            8.667013   1998-02-04  \n",
       "6           13.270286   1998-04-03  \n",
       "7           14.654839   1998-04-30  "
      ]
     },
     "execution_count": 23,
     "metadata": {},
     "output_type": "execute_result"
    }
   ],
   "source": [
    "thing.head()"
   ]
  },
  {
   "cell_type": "code",
   "execution_count": 24,
   "metadata": {},
   "outputs": [
    {
     "name": "stdout",
     "output_type": "stream",
     "text": [
      "<class 'pandas.core.frame.DataFrame'>\n",
      "Int64Index: 364212 entries, 1 to 1094908\n",
      "Data columns (total 8 columns):\n",
      "num_days         364212 non-null float64\n",
      "num_weeks        364212 non-null float64\n",
      "num_months       364212 non-null float64\n",
      "size_kw          364212 non-null float64\n",
      "scaleSize        364212 non-null float64\n",
      "state            364212 non-null object\n",
      "cost_per_watt    364212 non-null float64\n",
      "install_date     364212 non-null datetime64[ns]\n",
      "dtypes: datetime64[ns](1), float64(6), object(1)\n",
      "memory usage: 25.0+ MB\n"
     ]
    }
   ],
   "source": [
    "dfMod.info()"
   ]
  },
  {
   "cell_type": "code",
   "execution_count": 25,
   "metadata": {},
   "outputs": [
    {
     "name": "stdout",
     "output_type": "stream",
     "text": [
      "<class 'pandas.core.frame.DataFrame'>\n",
      "Int64Index: 364212 entries, 1 to 1094908\n",
      "Data columns (total 8 columns):\n",
      "num_days         364212 non-null float64\n",
      "num_weeks        364212 non-null float64\n",
      "num_months       364212 non-null float64\n",
      "size_kw          364212 non-null float64\n",
      "scaleSize        364212 non-null float64\n",
      "state            364212 non-null object\n",
      "cost_per_watt    364212 non-null float64\n",
      "install_date     364212 non-null datetime64[ns]\n",
      "dtypes: datetime64[ns](1), float64(6), object(1)\n",
      "memory usage: 25.0+ MB\n"
     ]
    }
   ],
   "source": [
    "thing.info()"
   ]
  },
  {
   "cell_type": "markdown",
   "metadata": {},
   "source": [
    "### some information about scale sizes that's needed when size_kw is a feature instead of scaleSize"
   ]
  },
  {
   "cell_type": "code",
   "execution_count": 28,
   "metadata": {},
   "outputs": [
    {
     "name": "stdout",
     "output_type": "stream",
     "text": [
      "<class 'pandas.core.frame.DataFrame'>\n",
      "Int64Index: 364212 entries, 1 to 1094908\n",
      "Data columns (total 8 columns):\n",
      "num_days         364212 non-null float64\n",
      "num_weeks        364212 non-null float64\n",
      "num_months       364212 non-null float64\n",
      "size_kw          364212 non-null float64\n",
      "scaleSize        364212 non-null float64\n",
      "state            364212 non-null object\n",
      "cost_per_watt    364212 non-null float64\n",
      "install_date     364212 non-null datetime64[ns]\n",
      "dtypes: datetime64[ns](1), float64(6), object(1)\n",
      "memory usage: 25.0+ MB\n"
     ]
    }
   ],
   "source": [
    "dfMod.info()"
   ]
  },
  {
   "cell_type": "code",
   "execution_count": 30,
   "metadata": {},
   "outputs": [
    {
     "data": {
      "text/plain": [
       "1.0    116541\n",
       "2.0    111929\n",
       "3.0     60571\n",
       "0.0     36554\n",
       "4.0     24431\n",
       "5.0      7780\n",
       "6.0      3310\n",
       "7.0      1667\n",
       "8.0       893\n",
       "9.0       536\n",
       "Name: scaleSize, dtype: int64"
      ]
     },
     "execution_count": 30,
     "metadata": {},
     "output_type": "execute_result"
    }
   ],
   "source": [
    "dfMod.scaleSize.value_counts()"
   ]
  },
  {
   "cell_type": "markdown",
   "metadata": {},
   "source": [
    "#### Median size in scaleSize 1, 2 and 3 (the biggest groups)"
   ]
  },
  {
   "cell_type": "code",
   "execution_count": 39,
   "metadata": {},
   "outputs": [
    {
     "data": {
      "text/plain": [
       "[3.84, 6.0, 8.5]"
      ]
     },
     "execution_count": 39,
     "metadata": {},
     "output_type": "execute_result"
    }
   ],
   "source": [
    "[dfMod[dfMod.scaleSize == x].size_kw.median() for x in [1.0, 2.0, 3.0]]"
   ]
  },
  {
   "cell_type": "markdown",
   "metadata": {},
   "source": [
    "#### Overall median size"
   ]
  },
  {
   "cell_type": "code",
   "execution_count": 41,
   "metadata": {},
   "outputs": [
    {
     "data": {
      "text/plain": [
       "(5.5, 6.042169246822802)"
      ]
     },
     "execution_count": 41,
     "metadata": {},
     "output_type": "execute_result"
    }
   ],
   "source": [
    "dfMod.size_kw.median(), dfMod.size_kw.mean()"
   ]
  }
 ],
 "metadata": {
  "kernelspec": {
   "display_name": "Python 3",
   "language": "python",
   "name": "python3"
  },
  "language_info": {
   "codemirror_mode": {
    "name": "ipython",
    "version": 3
   },
   "file_extension": ".py",
   "mimetype": "text/x-python",
   "name": "python",
   "nbconvert_exporter": "python",
   "pygments_lexer": "ipython3",
   "version": "3.6.5"
  }
 },
 "nbformat": 4,
 "nbformat_minor": 2
}
