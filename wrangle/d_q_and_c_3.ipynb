{
 "cells": [
  {
   "cell_type": "markdown",
   "metadata": {},
   "source": [
    "## Part 3 begins here.\n",
    "\n",
    "The plan for part 3.\n",
    "\n",
    "##### divide columns into 3 groups\n",
    "1. keepers (13)\n",
    "    * date_installed\n",
    "    * cost_per_watt\n",
    "    * cost\n",
    "    * size_kw\n",
    "    * state                         \n",
    "    * zipcode                       \n",
    "    * city                          \n",
    "    * county       \n",
    "    * install_type\n",
    "    * new_const\n",
    "    * tracking\n",
    "    * 3rd_party\n",
    "    * appraised\n",
    "<br>\n",
    "2. Decide later - maybe useful in story/model (6)\n",
    "    * incentive_prog_names \n",
    "    * utility_clean \n",
    "    * tech_1\n",
    "    * model1_clean\n",
    "    * installer\n",
    "    * bipv_1\n",
    "<br>    \n",
    "3. don't keep (19)\n",
    "    * LBNL internal\n",
    "        * type (gone already)\n",
    "        * lbnl_tts_version_year \n",
    "        * lbnl_tts \n",
    "        * year \n",
    "    * physical parameter of installation\n",
    "        * annual_PV_prod \n",
    "        * annual_insolation \n",
    "        * azimuth1 \n",
    "        * tilt1 \n",
    "        * tracking_type \n",
    "        * reported_annual_energy_prod \n",
    "    * financial (beyond scope)\n",
    "        * rebate \n",
    "        * sales_tax_cost \n",
    "        * pbi_length\n",
    "    * manufacturer information\n",
    "        * manuf2_clean\n",
    "        * manuf3_clean\n",
    "        * manuf1_clean \n",
    "        * inv_man_clean \n",
    "        * bipv_2\n",
    "        * bipv_2\n",
    "\n",
    "##### Drop \"don't keep\" category\n",
    "\n",
    "##### Save data as csv"
   ]
  },
  {
   "cell_type": "markdown",
   "metadata": {},
   "source": [
    "### Start by loading up"
   ]
  },
  {
   "cell_type": "code",
   "execution_count": 1,
   "metadata": {},
   "outputs": [],
   "source": [
    "# %load ../pycode/setup.py\n",
    "# set up\n",
    "import numpy as np\n",
    "import pandas as pd\n",
    "import random\n",
    "import matplotlib.pyplot as plt\n",
    "import seaborn as sns\n",
    "sns.set()\n",
    "\n",
    "%matplotlib inline\n",
    "\n",
    "def ecdf(data):\n",
    "    '''Compute ECDF for a one-dimensional array of measurements.'''\n",
    "    n = len(data)\n",
    "    x = np.sort(data)\n",
    "    y = np.arange(1, n + 1) / n\n",
    "    return x, y\n",
    "\n",
    "def min015099max(series):\n",
    "    ''' return list of [ min, 1%, median, 99%, max ] series values '''\n",
    "    vals = list(np.percentile(series, [1.0, 50.0, 99.0]))\n",
    "    vals.insert(-1, series.max())\n",
    "    vals.insert(0, series.min())\n",
    "    return vals\n",
    "\n",
    "# ss = np.arange(1, 101)\n",
    "# min_1_50_99_max(ss)             \n",
    "\n",
    "def mid98(series):\n",
    "    '''  return middle 98% of series '''\n",
    "    bounds = series.quantile([0.01, 0.99])\n",
    "    return(series[(series > bounds.values[0]) & (series < bounds.values[1])])\n",
    "\n",
    "# ss = np.arange(1, 101)\n",
    "# min_1_50_99_max(ss)"
   ]
  },
  {
   "cell_type": "code",
   "execution_count": 2,
   "metadata": {},
   "outputs": [
    {
     "name": "stderr",
     "output_type": "stream",
     "text": [
      "C:\\Users\\saus\\Anaconda3\\lib\\site-packages\\IPython\\core\\interactiveshell.py:2728: DtypeWarning: Columns (19,29,31) have mixed types. Specify dtype option on import or set low_memory=False.\n",
      "  interactivity=interactivity, compiler=compiler, result=result)\n"
     ]
    }
   ],
   "source": [
    "dfFull = pd.read_csv('../local/data/live_20171219_1.csv', index_col='date_installed', \n",
    "                     parse_dates=True, dtype={'zipcode' : np.object})"
   ]
  },
  {
   "cell_type": "code",
   "execution_count": 3,
   "metadata": {},
   "outputs": [],
   "source": [
    "theColumns = dict(enumerate(dfFull.columns))"
   ]
  },
  {
   "cell_type": "code",
   "execution_count": 4,
   "metadata": {},
   "outputs": [
    {
     "data": {
      "text/plain": [
       "['sales_tax_cost', 'pbi_length', 'bipv_3']"
      ]
     },
     "execution_count": 4,
     "metadata": {},
     "output_type": "execute_result"
    }
   ],
   "source": [
    "# which columns have mixed type at this point\n",
    "[theColumns[col] for col in (19,29,31)]\n",
    "# okay, these are on the chopping block already"
   ]
  },
  {
   "cell_type": "code",
   "execution_count": 5,
   "metadata": {},
   "outputs": [],
   "source": [
    "dfLive = dfFull[['cost_per_watt', 'cost', 'size_kw',\n",
    "                 'state', 'zipcode', 'city', 'county',\n",
    "                 'install_type', 'new_constr', 'tracking', '3rdparty',\n",
    "                 'appraised', 'incentive_prog_names', 'utility_clean',\n",
    "                 'tech_1', 'model1_clean', 'installer', 'bipv_1']]"
   ]
  },
  {
   "cell_type": "code",
   "execution_count": 6,
   "metadata": {},
   "outputs": [
    {
     "data": {
      "text/html": [
       "<div>\n",
       "<style scoped>\n",
       "    .dataframe tbody tr th:only-of-type {\n",
       "        vertical-align: middle;\n",
       "    }\n",
       "\n",
       "    .dataframe tbody tr th {\n",
       "        vertical-align: top;\n",
       "    }\n",
       "\n",
       "    .dataframe thead th {\n",
       "        text-align: right;\n",
       "    }\n",
       "</style>\n",
       "<table border=\"1\" class=\"dataframe\">\n",
       "  <thead>\n",
       "    <tr style=\"text-align: right;\">\n",
       "      <th></th>\n",
       "      <th>cost_per_watt</th>\n",
       "      <th>cost</th>\n",
       "      <th>size_kw</th>\n",
       "      <th>state</th>\n",
       "      <th>zipcode</th>\n",
       "      <th>city</th>\n",
       "      <th>county</th>\n",
       "      <th>install_type</th>\n",
       "      <th>new_constr</th>\n",
       "      <th>tracking</th>\n",
       "      <th>3rdparty</th>\n",
       "      <th>appraised</th>\n",
       "      <th>incentive_prog_names</th>\n",
       "      <th>utility_clean</th>\n",
       "      <th>tech_1</th>\n",
       "      <th>model1_clean</th>\n",
       "      <th>installer</th>\n",
       "      <th>bipv_1</th>\n",
       "    </tr>\n",
       "    <tr>\n",
       "      <th>date_installed</th>\n",
       "      <th></th>\n",
       "      <th></th>\n",
       "      <th></th>\n",
       "      <th></th>\n",
       "      <th></th>\n",
       "      <th></th>\n",
       "      <th></th>\n",
       "      <th></th>\n",
       "      <th></th>\n",
       "      <th></th>\n",
       "      <th></th>\n",
       "      <th></th>\n",
       "      <th></th>\n",
       "      <th></th>\n",
       "      <th></th>\n",
       "      <th></th>\n",
       "      <th></th>\n",
       "      <th></th>\n",
       "    </tr>\n",
       "  </thead>\n",
       "  <tbody>\n",
       "    <tr>\n",
       "      <th>1909-07-07</th>\n",
       "      <td>NaN</td>\n",
       "      <td>NaN</td>\n",
       "      <td>4.90</td>\n",
       "      <td>IN</td>\n",
       "      <td>47401</td>\n",
       "      <td>Bloomington</td>\n",
       "      <td>NaN</td>\n",
       "      <td>residential</td>\n",
       "      <td>NaN</td>\n",
       "      <td>NaN</td>\n",
       "      <td>NaN</td>\n",
       "      <td>NaN</td>\n",
       "      <td>NaN</td>\n",
       "      <td>NaN</td>\n",
       "      <td>NaN</td>\n",
       "      <td>NaN</td>\n",
       "      <td>Stumpner</td>\n",
       "      <td>NaN</td>\n",
       "    </tr>\n",
       "    <tr>\n",
       "      <th>1909-07-07</th>\n",
       "      <td>NaN</td>\n",
       "      <td>NaN</td>\n",
       "      <td>7.35</td>\n",
       "      <td>IN</td>\n",
       "      <td>47401</td>\n",
       "      <td>Bloomington</td>\n",
       "      <td>NaN</td>\n",
       "      <td>residential</td>\n",
       "      <td>NaN</td>\n",
       "      <td>NaN</td>\n",
       "      <td>NaN</td>\n",
       "      <td>NaN</td>\n",
       "      <td>NaN</td>\n",
       "      <td>NaN</td>\n",
       "      <td>NaN</td>\n",
       "      <td>NaN</td>\n",
       "      <td>Stumpner</td>\n",
       "      <td>NaN</td>\n",
       "    </tr>\n",
       "    <tr>\n",
       "      <th>1909-07-07</th>\n",
       "      <td>NaN</td>\n",
       "      <td>NaN</td>\n",
       "      <td>3.90</td>\n",
       "      <td>IN</td>\n",
       "      <td>47408</td>\n",
       "      <td>Bloomington</td>\n",
       "      <td>NaN</td>\n",
       "      <td>residential</td>\n",
       "      <td>NaN</td>\n",
       "      <td>NaN</td>\n",
       "      <td>NaN</td>\n",
       "      <td>NaN</td>\n",
       "      <td>NaN</td>\n",
       "      <td>NaN</td>\n",
       "      <td>NaN</td>\n",
       "      <td>NaN</td>\n",
       "      <td>Stumpner</td>\n",
       "      <td>NaN</td>\n",
       "    </tr>\n",
       "    <tr>\n",
       "      <th>1909-07-07</th>\n",
       "      <td>NaN</td>\n",
       "      <td>NaN</td>\n",
       "      <td>9000.00</td>\n",
       "      <td>IN</td>\n",
       "      <td>46222</td>\n",
       "      <td>Indianapolis</td>\n",
       "      <td>NaN</td>\n",
       "      <td>commercial</td>\n",
       "      <td>NaN</td>\n",
       "      <td>NaN</td>\n",
       "      <td>NaN</td>\n",
       "      <td>NaN</td>\n",
       "      <td>NaN</td>\n",
       "      <td>NaN</td>\n",
       "      <td>NaN</td>\n",
       "      <td>NaN</td>\n",
       "      <td>JMS</td>\n",
       "      <td>NaN</td>\n",
       "    </tr>\n",
       "    <tr>\n",
       "      <th>1969-12-31</th>\n",
       "      <td>5.9</td>\n",
       "      <td>32568.0</td>\n",
       "      <td>5.52</td>\n",
       "      <td>FL</td>\n",
       "      <td>32653</td>\n",
       "      <td>NaN</td>\n",
       "      <td>Alachua</td>\n",
       "      <td>residential</td>\n",
       "      <td>NaN</td>\n",
       "      <td>NaN</td>\n",
       "      <td>NaN</td>\n",
       "      <td>NaN</td>\n",
       "      <td>NaN</td>\n",
       "      <td>NaN</td>\n",
       "      <td>NaN</td>\n",
       "      <td>NaN</td>\n",
       "      <td>NaN</td>\n",
       "      <td>NaN</td>\n",
       "    </tr>\n",
       "  </tbody>\n",
       "</table>\n",
       "</div>"
      ],
      "text/plain": [
       "                cost_per_watt     cost  size_kw state zipcode          city  \\\n",
       "date_installed                                                                \n",
       "1909-07-07                NaN      NaN     4.90    IN   47401   Bloomington   \n",
       "1909-07-07                NaN      NaN     7.35    IN   47401   Bloomington   \n",
       "1909-07-07                NaN      NaN     3.90    IN   47408   Bloomington   \n",
       "1909-07-07                NaN      NaN  9000.00    IN   46222  Indianapolis   \n",
       "1969-12-31                5.9  32568.0     5.52    FL   32653           NaN   \n",
       "\n",
       "                 county install_type  new_constr  tracking  3rdparty  \\\n",
       "date_installed                                                         \n",
       "1909-07-07          NaN  residential         NaN       NaN       NaN   \n",
       "1909-07-07          NaN  residential         NaN       NaN       NaN   \n",
       "1909-07-07          NaN  residential         NaN       NaN       NaN   \n",
       "1909-07-07          NaN   commercial         NaN       NaN       NaN   \n",
       "1969-12-31      Alachua  residential         NaN       NaN       NaN   \n",
       "\n",
       "               appraised incentive_prog_names utility_clean tech_1  \\\n",
       "date_installed                                                       \n",
       "1909-07-07           NaN                  NaN           NaN    NaN   \n",
       "1909-07-07           NaN                  NaN           NaN    NaN   \n",
       "1909-07-07           NaN                  NaN           NaN    NaN   \n",
       "1909-07-07           NaN                  NaN           NaN    NaN   \n",
       "1969-12-31           NaN                  NaN           NaN    NaN   \n",
       "\n",
       "               model1_clean installer  bipv_1  \n",
       "date_installed                                 \n",
       "1909-07-07              NaN  Stumpner     NaN  \n",
       "1909-07-07              NaN  Stumpner     NaN  \n",
       "1909-07-07              NaN  Stumpner     NaN  \n",
       "1909-07-07              NaN       JMS     NaN  \n",
       "1969-12-31              NaN       NaN     NaN  "
      ]
     },
     "execution_count": 6,
     "metadata": {},
     "output_type": "execute_result"
    }
   ],
   "source": [
    "# looking good\n",
    "dfLive.head()"
   ]
  },
  {
   "cell_type": "code",
   "execution_count": 7,
   "metadata": {},
   "outputs": [],
   "source": [
    "# rename columns for convenience\n",
    "dfLive.columns = ['cost_per_watt', 'cost', 'size_kw',\n",
    "                 'state', 'zipcode', 'city', 'county',\n",
    "                 'install_type', 'new_constr', 'tracking', 'third_party',\n",
    "                 'appraised', 'incentive', 'utility',\n",
    "                 'tech', 'model', 'installer', 'bipv']"
   ]
  },
  {
   "cell_type": "code",
   "execution_count": 8,
   "metadata": {},
   "outputs": [
    {
     "data": {
      "text/html": [
       "<div>\n",
       "<style scoped>\n",
       "    .dataframe tbody tr th:only-of-type {\n",
       "        vertical-align: middle;\n",
       "    }\n",
       "\n",
       "    .dataframe tbody tr th {\n",
       "        vertical-align: top;\n",
       "    }\n",
       "\n",
       "    .dataframe thead th {\n",
       "        text-align: right;\n",
       "    }\n",
       "</style>\n",
       "<table border=\"1\" class=\"dataframe\">\n",
       "  <thead>\n",
       "    <tr style=\"text-align: right;\">\n",
       "      <th></th>\n",
       "      <th>cost_per_watt</th>\n",
       "      <th>cost</th>\n",
       "      <th>size_kw</th>\n",
       "      <th>state</th>\n",
       "      <th>zipcode</th>\n",
       "      <th>city</th>\n",
       "      <th>county</th>\n",
       "      <th>install_type</th>\n",
       "      <th>new_constr</th>\n",
       "      <th>tracking</th>\n",
       "      <th>third_party</th>\n",
       "      <th>appraised</th>\n",
       "      <th>incentive</th>\n",
       "      <th>utility</th>\n",
       "      <th>tech</th>\n",
       "      <th>model</th>\n",
       "      <th>installer</th>\n",
       "      <th>bipv</th>\n",
       "    </tr>\n",
       "    <tr>\n",
       "      <th>date_installed</th>\n",
       "      <th></th>\n",
       "      <th></th>\n",
       "      <th></th>\n",
       "      <th></th>\n",
       "      <th></th>\n",
       "      <th></th>\n",
       "      <th></th>\n",
       "      <th></th>\n",
       "      <th></th>\n",
       "      <th></th>\n",
       "      <th></th>\n",
       "      <th></th>\n",
       "      <th></th>\n",
       "      <th></th>\n",
       "      <th></th>\n",
       "      <th></th>\n",
       "      <th></th>\n",
       "      <th></th>\n",
       "    </tr>\n",
       "  </thead>\n",
       "  <tbody>\n",
       "    <tr>\n",
       "      <th>1909-07-07</th>\n",
       "      <td>NaN</td>\n",
       "      <td>NaN</td>\n",
       "      <td>4.90</td>\n",
       "      <td>IN</td>\n",
       "      <td>47401</td>\n",
       "      <td>Bloomington</td>\n",
       "      <td>NaN</td>\n",
       "      <td>residential</td>\n",
       "      <td>NaN</td>\n",
       "      <td>NaN</td>\n",
       "      <td>NaN</td>\n",
       "      <td>NaN</td>\n",
       "      <td>NaN</td>\n",
       "      <td>NaN</td>\n",
       "      <td>NaN</td>\n",
       "      <td>NaN</td>\n",
       "      <td>Stumpner</td>\n",
       "      <td>NaN</td>\n",
       "    </tr>\n",
       "    <tr>\n",
       "      <th>1909-07-07</th>\n",
       "      <td>NaN</td>\n",
       "      <td>NaN</td>\n",
       "      <td>7.35</td>\n",
       "      <td>IN</td>\n",
       "      <td>47401</td>\n",
       "      <td>Bloomington</td>\n",
       "      <td>NaN</td>\n",
       "      <td>residential</td>\n",
       "      <td>NaN</td>\n",
       "      <td>NaN</td>\n",
       "      <td>NaN</td>\n",
       "      <td>NaN</td>\n",
       "      <td>NaN</td>\n",
       "      <td>NaN</td>\n",
       "      <td>NaN</td>\n",
       "      <td>NaN</td>\n",
       "      <td>Stumpner</td>\n",
       "      <td>NaN</td>\n",
       "    </tr>\n",
       "    <tr>\n",
       "      <th>1909-07-07</th>\n",
       "      <td>NaN</td>\n",
       "      <td>NaN</td>\n",
       "      <td>3.90</td>\n",
       "      <td>IN</td>\n",
       "      <td>47408</td>\n",
       "      <td>Bloomington</td>\n",
       "      <td>NaN</td>\n",
       "      <td>residential</td>\n",
       "      <td>NaN</td>\n",
       "      <td>NaN</td>\n",
       "      <td>NaN</td>\n",
       "      <td>NaN</td>\n",
       "      <td>NaN</td>\n",
       "      <td>NaN</td>\n",
       "      <td>NaN</td>\n",
       "      <td>NaN</td>\n",
       "      <td>Stumpner</td>\n",
       "      <td>NaN</td>\n",
       "    </tr>\n",
       "    <tr>\n",
       "      <th>1909-07-07</th>\n",
       "      <td>NaN</td>\n",
       "      <td>NaN</td>\n",
       "      <td>9000.00</td>\n",
       "      <td>IN</td>\n",
       "      <td>46222</td>\n",
       "      <td>Indianapolis</td>\n",
       "      <td>NaN</td>\n",
       "      <td>commercial</td>\n",
       "      <td>NaN</td>\n",
       "      <td>NaN</td>\n",
       "      <td>NaN</td>\n",
       "      <td>NaN</td>\n",
       "      <td>NaN</td>\n",
       "      <td>NaN</td>\n",
       "      <td>NaN</td>\n",
       "      <td>NaN</td>\n",
       "      <td>JMS</td>\n",
       "      <td>NaN</td>\n",
       "    </tr>\n",
       "    <tr>\n",
       "      <th>1969-12-31</th>\n",
       "      <td>5.9</td>\n",
       "      <td>32568.0</td>\n",
       "      <td>5.52</td>\n",
       "      <td>FL</td>\n",
       "      <td>32653</td>\n",
       "      <td>NaN</td>\n",
       "      <td>Alachua</td>\n",
       "      <td>residential</td>\n",
       "      <td>NaN</td>\n",
       "      <td>NaN</td>\n",
       "      <td>NaN</td>\n",
       "      <td>NaN</td>\n",
       "      <td>NaN</td>\n",
       "      <td>NaN</td>\n",
       "      <td>NaN</td>\n",
       "      <td>NaN</td>\n",
       "      <td>NaN</td>\n",
       "      <td>NaN</td>\n",
       "    </tr>\n",
       "  </tbody>\n",
       "</table>\n",
       "</div>"
      ],
      "text/plain": [
       "                cost_per_watt     cost  size_kw state zipcode          city  \\\n",
       "date_installed                                                                \n",
       "1909-07-07                NaN      NaN     4.90    IN   47401   Bloomington   \n",
       "1909-07-07                NaN      NaN     7.35    IN   47401   Bloomington   \n",
       "1909-07-07                NaN      NaN     3.90    IN   47408   Bloomington   \n",
       "1909-07-07                NaN      NaN  9000.00    IN   46222  Indianapolis   \n",
       "1969-12-31                5.9  32568.0     5.52    FL   32653           NaN   \n",
       "\n",
       "                 county install_type  new_constr  tracking  third_party  \\\n",
       "date_installed                                                            \n",
       "1909-07-07          NaN  residential         NaN       NaN          NaN   \n",
       "1909-07-07          NaN  residential         NaN       NaN          NaN   \n",
       "1909-07-07          NaN  residential         NaN       NaN          NaN   \n",
       "1909-07-07          NaN   commercial         NaN       NaN          NaN   \n",
       "1969-12-31      Alachua  residential         NaN       NaN          NaN   \n",
       "\n",
       "               appraised incentive utility tech model installer  bipv  \n",
       "date_installed                                                         \n",
       "1909-07-07           NaN       NaN     NaN  NaN   NaN  Stumpner   NaN  \n",
       "1909-07-07           NaN       NaN     NaN  NaN   NaN  Stumpner   NaN  \n",
       "1909-07-07           NaN       NaN     NaN  NaN   NaN  Stumpner   NaN  \n",
       "1909-07-07           NaN       NaN     NaN  NaN   NaN       JMS   NaN  \n",
       "1969-12-31           NaN       NaN     NaN  NaN   NaN       NaN   NaN  "
      ]
     },
     "execution_count": 8,
     "metadata": {},
     "output_type": "execute_result"
    }
   ],
   "source": [
    "dfLive.head()"
   ]
  },
  {
   "cell_type": "code",
   "execution_count": 9,
   "metadata": {},
   "outputs": [
    {
     "data": {
      "text/plain": [
       "date_installed\n",
       "1909         4\n",
       "1969       119\n",
       "1983         2\n",
       "1984         1\n",
       "1986         1\n",
       "1988         1\n",
       "1992         1\n",
       "1994        11\n",
       "1995        14\n",
       "1996        27\n",
       "1997       104\n",
       "1998        98\n",
       "1999      1428\n",
       "2000       625\n",
       "2001      2890\n",
       "2002      5524\n",
       "2003      7080\n",
       "2004     10963\n",
       "2005     10682\n",
       "2006     17360\n",
       "2007     29472\n",
       "2008     32409\n",
       "2009     53681\n",
       "2010     78182\n",
       "2011     88620\n",
       "2012    121354\n",
       "2013    122679\n",
       "2014    170873\n",
       "2015    265750\n",
       "2016       349\n",
       "2017       212\n",
       "dtype: int64"
      ]
     },
     "execution_count": 9,
     "metadata": {},
     "output_type": "execute_result"
    }
   ],
   "source": [
    "# how many per year\n",
    "byYear = dfLive.groupby(dfFull.index.year)\n",
    "byYear.size()"
   ]
  },
  {
   "cell_type": "code",
   "execution_count": 10,
   "metadata": {},
   "outputs": [
    {
     "data": {
      "image/png": "[encoded data removed]",
      "text/plain": [
       "<matplotlib.figure.Figure at 0x2b5bbf55eb8>"
      ]
     },
     "metadata": {},
     "output_type": "display_data"
    }
   ],
   "source": [
    "# plot data size per year\n",
    "byYear.size().plot( marker='.', linestyle='none')\n",
    "plt.title('Number of installs per installation year')\n",
    "plt.ylabel('Number of Installations')\n",
    "plt.xlabel('Installation Date');"
   ]
  },
  {
   "cell_type": "code",
   "execution_count": 11,
   "metadata": {},
   "outputs": [
    {
     "data": {
      "image/png": "[encoded data removed]",
      "text/plain": [
       "<matplotlib.figure.Figure at 0x2b5bc8d34a8>"
      ]
     },
     "metadata": {},
     "output_type": "display_data"
    }
   ],
   "source": [
    "# zoom in a little on recent\n",
    "bYsizes = byYear.size()\n",
    "bYsizes[bYsizes.index > 2000].plot(marker='.', linestyle='none')\n",
    "plt.title('Number of installs per installation year')\n",
    "plt.ylabel('Number of Installations')\n",
    "plt.xlabel('Installation Date');"
   ]
  },
  {
   "cell_type": "code",
   "execution_count": 12,
   "metadata": {},
   "outputs": [
    {
     "data": {
      "text/plain": [
       "0.98188073484394167"
      ]
     },
     "execution_count": 12,
     "metadata": {},
     "output_type": "execute_result"
    }
   ],
   "source": [
    "# what fraction is that 11 from 2005 to 2015 years of the total? 96%\n",
    "byYearSize = byYearSize = byYear.size()\n",
    "byYearSize[(byYearSize.index >= 2004) & (byYearSize.index < 2016)].sum()/byYearSize.sum()"
   ]
  },
  {
   "cell_type": "markdown",
   "metadata": {},
   "source": [
    "#### focus on the years 2004 though 2015 (12 years)\n",
    "\n",
    "Capture installations before 2004 in dfEarly and installations after 2015 in dfLate.  Capture 2004 though 2015 in dfLive."
   ]
  },
  {
   "cell_type": "code",
   "execution_count": 13,
   "metadata": {},
   "outputs": [],
   "source": [
    "dfEarly = dfLive.loc[dfLive.index.year < 2004]"
   ]
  },
  {
   "cell_type": "code",
   "execution_count": 14,
   "metadata": {},
   "outputs": [
    {
     "data": {
      "image/png": "[encoded data removed]",
      "text/plain": [
       "<matplotlib.figure.Figure at 0x2b5bc957160>"
      ]
     },
     "metadata": {},
     "output_type": "display_data"
    }
   ],
   "source": [
    "dfEarly.groupby(dfEarly.index.year).size().plot(marker='.', linestyle='none')\n",
    "plt.title('Number of installs per installation year')\n",
    "plt.ylabel('Number of Installations')\n",
    "plt.xlabel('Installation Date');"
   ]
  },
  {
   "cell_type": "code",
   "execution_count": 15,
   "metadata": {},
   "outputs": [],
   "source": [
    "dfLate = dfLive.loc[dfLive.index.year > 2015]"
   ]
  },
  {
   "cell_type": "code",
   "execution_count": 16,
   "metadata": {},
   "outputs": [
    {
     "data": {
      "image/png": "[encoded data removed]",
      "text/plain": [
       "<matplotlib.figure.Figure at 0x2b5bc9b77f0>"
      ]
     },
     "metadata": {},
     "output_type": "display_data"
    }
   ],
   "source": [
    "dfLate.groupby(dfLate.index.year).size().plot(marker='.', linestyle='none')\n",
    "plt.title('Number of installs per installation year')\n",
    "plt.ylabel('Number of Installations')\n",
    "plt.xlabel('Installation Date');"
   ]
  },
  {
   "cell_type": "code",
   "execution_count": 17,
   "metadata": {},
   "outputs": [],
   "source": [
    "# save this, just in cast\n",
    "dfAllYears = dfLive.copy()"
   ]
  },
  {
   "cell_type": "code",
   "execution_count": 18,
   "metadata": {},
   "outputs": [],
   "source": [
    "dfLive = dfLive.loc[(dfLive.index.year > 2003)& (dfLive.index.year <= 2015)]"
   ]
  },
  {
   "cell_type": "code",
   "execution_count": 19,
   "metadata": {},
   "outputs": [
    {
     "data": {
      "image/png": "[encoded data removed]",
      "text/plain": [
       "<matplotlib.figure.Figure at 0x2b5bcdd1160>"
      ]
     },
     "metadata": {},
     "output_type": "display_data"
    }
   ],
   "source": [
    "dfLive.groupby(dfLive.index.year).size().plot(marker='.', linestyle='none')\n",
    "plt.title('Number of installs per installation year')\n",
    "plt.ylabel('Number of Installations')\n",
    "plt.xlabel('Installation Date');"
   ]
  },
  {
   "cell_type": "code",
   "execution_count": 20,
   "metadata": {},
   "outputs": [
    {
     "data": {
      "text/plain": [
       "date_installed\n",
       "2004     10963\n",
       "2005     10682\n",
       "2006     17360\n",
       "2007     29472\n",
       "2008     32409\n",
       "2009     53681\n",
       "2010     78182\n",
       "2011     88620\n",
       "2012    121354\n",
       "2013    122679\n",
       "2014    170873\n",
       "2015    265750\n",
       "dtype: int64"
      ]
     },
     "execution_count": 20,
     "metadata": {},
     "output_type": "execute_result"
    }
   ],
   "source": [
    "dfLive.groupby(dfLive.index.year).size()"
   ]
  },
  {
   "cell_type": "code",
   "execution_count": 21,
   "metadata": {},
   "outputs": [],
   "source": [
    "dfLive.to_csv('../local/data/live20171229.csv')"
   ]
  },
  {
   "cell_type": "code",
   "execution_count": 23,
   "metadata": {},
   "outputs": [
    {
     "name": "stdout",
     "output_type": "stream",
     "text": [
      "<class 'pandas.core.frame.DataFrame'>\n",
      "DatetimeIndex: 1002025 entries, 2004-01-01 to 2015-12-31\n",
      "Data columns (total 18 columns):\n",
      "cost_per_watt    745516 non-null float64\n",
      "cost             745629 non-null float64\n",
      "size_kw          1002025 non-null float64\n",
      "state            1002025 non-null object\n",
      "zipcode          1002025 non-null object\n",
      "city             788849 non-null object\n",
      "county           980790 non-null object\n",
      "install_type     966720 non-null object\n",
      "new_constr       27098 non-null float64\n",
      "tracking         1920 non-null float64\n",
      "third_party      306989 non-null float64\n",
      "appraised        223431 non-null object\n",
      "incentive        788415 non-null object\n",
      "utility          783186 non-null object\n",
      "tech             580399 non-null object\n",
      "model            580399 non-null object\n",
      "installer        694390 non-null object\n",
      "bipv             5252 non-null float64\n",
      "dtypes: float64(7), object(11)\n",
      "memory usage: 165.3+ MB\n"
     ]
    }
   ],
   "source": [
    "dfLive.info()"
   ]
  }
 ],
 "metadata": {
  "kernelspec": {
   "display_name": "Python 3",
   "language": "python",
   "name": "python3"
  },
  "language_info": {
   "codemirror_mode": {
    "name": "ipython",
    "version": 3
   },
   "file_extension": ".py",
   "mimetype": "text/x-python",
   "name": "python",
   "nbconvert_exporter": "python",
   "pygments_lexer": "ipython3",
   "version": "3.6.3"
  }
 },
 "nbformat": 4,
 "nbformat_minor": 2
}
