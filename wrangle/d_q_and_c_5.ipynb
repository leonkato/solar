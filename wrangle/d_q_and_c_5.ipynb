{
 "cells": [
  {
   "cell_type": "markdown",
   "metadata": {},
   "source": [
    "### Clean up the nulls and any 0 values before continuing.\n",
    "\n",
    "#### Issues\n",
    "1. There are many null values in cost and cost_per_watt.  Get rid of these because they don't add any value.\n",
    "1. There are 35k installations with null values for installation type. \n",
    "1. Important variables need sanity checking.\n",
    "    How many have size_kw * cost_per_watt - cost != 0\n",
    "\n",
    "##### Defer to next step\n",
    "1. There are outlying values in the residential size_kw, cost, cost_per_watt.  \n",
    "1. Then I want to check all of the above on the commercial installs.\n"
   ]
  },
  {
   "cell_type": "code",
   "execution_count": 1,
   "metadata": {},
   "outputs": [],
   "source": [
    "# %load ../pycode/setup.py\n",
    "# set up\n",
    "import numpy as np\n",
    "import pandas as pd\n",
    "import random\n",
    "import matplotlib.pyplot as plt\n",
    "import seaborn as sns\n",
    "sns.set()\n",
    "\n",
    "%matplotlib inline\n",
    "\n",
    "def ecdf(data):\n",
    "    '''Compute ECDF for a one-dimensional array of measurements.'''\n",
    "    n = len(data)\n",
    "    x = np.sort(data)\n",
    "    y = np.arange(1, n + 1) / n\n",
    "    return x, y\n",
    "\n",
    "def min015099max(series, minmax=False):\n",
    "    ''' return list of [ min, 1%, median, 99%, max ] series values '''\n",
    "    vals = list(np.percentile(series, [1.0, 50.0, 99.0]))\n",
    "    if minmax: \n",
    "        vals.insert(0, series.min())\n",
    "        vals.append(series.max())    \n",
    "    return vals\n",
    "# ss = np.arange(1, 101)\n",
    "# min_1_50_99_max(ss)             \n",
    "\n",
    "def mid98(series):\n",
    "    '''  return middle 98% of series '''\n",
    "    bounds = series.quantile([0.01, 0.99])\n",
    "    return(series[(series > bounds.values[0]) & (series < bounds.values[1])])\n",
    "\n",
    "# ss = np.arange(1, 101)\n",
    "# min_1_50_99_max(ss)\n"
   ]
  },
  {
   "cell_type": "code",
   "execution_count": 2,
   "metadata": {},
   "outputs": [],
   "source": [
    "# %load ../pycode/side_by_side.py\n",
    "from pandas.io.formats.printing import adjoin\n",
    "\n",
    "def side_by_side(*objs, **kwds):\n",
    "    from pandas.io.formats.printing import adjoin\n",
    "    space = kwds.get('space', 4)\n",
    "    reprs = [repr(obj).split('\\n') for obj in objs]\n",
    "    print(adjoin(space, *reprs))\n",
    "\n",
    "# tdf = pd.DataFrame(np.arange(12).reshape(4, 3), index=list ('abcd'), columns=list('wxy'))\n",
    "\n",
    "# udf = pd.DataFrame(np.arange(100, 112).reshape(4, 3), index=list ('abcd'), columns=list('wxy'))\n",
    "\n",
    "# side_by_side(tdf, udf)"
   ]
  },
  {
   "cell_type": "code",
   "execution_count": 3,
   "metadata": {},
   "outputs": [],
   "source": [
    "# load data with install_type cleaned up and replaced by i_type\n",
    "dfLive = pd.read_csv('../local/data/20180101.csv', index_col='date_installed', \n",
    "                     parse_dates=True,  dtype={'zipcode' : np.object})"
   ]
  },
  {
   "cell_type": "code",
   "execution_count": 4,
   "metadata": {
    "scrolled": true
   },
   "outputs": [
    {
     "name": "stdout",
     "output_type": "stream",
     "text": [
      "<class 'pandas.core.frame.DataFrame'>\n",
      "DatetimeIndex: 1002025 entries, 2004-01-01 to 2015-12-31\n",
      "Data columns (total 18 columns):\n",
      "cost_per_watt    745516 non-null float64\n",
      "cost             745629 non-null float64\n",
      "size_kw          1002025 non-null float64\n",
      "state            1002025 non-null object\n",
      "zipcode          1002025 non-null object\n",
      "city             788849 non-null object\n",
      "county           980790 non-null object\n",
      "new_constr       27098 non-null float64\n",
      "tracking         1920 non-null float64\n",
      "third_party      306989 non-null float64\n",
      "appraised        223431 non-null object\n",
      "incentive        788415 non-null object\n",
      "utility          783186 non-null object\n",
      "tech             580399 non-null object\n",
      "model            580399 non-null object\n",
      "installer        694390 non-null object\n",
      "bipv             5252 non-null float64\n",
      "i_type           966720 non-null object\n",
      "dtypes: float64(7), object(11)\n",
      "memory usage: 145.3+ MB\n"
     ]
    }
   ],
   "source": [
    "dfLive.info()"
   ]
  },
  {
   "cell_type": "code",
   "execution_count": 5,
   "metadata": {
    "scrolled": true
   },
   "outputs": [
    {
     "data": {
      "text/html": [
       "<div>\n",
       "<style scoped>\n",
       "    .dataframe tbody tr th:only-of-type {\n",
       "        vertical-align: middle;\n",
       "    }\n",
       "\n",
       "    .dataframe tbody tr th {\n",
       "        vertical-align: top;\n",
       "    }\n",
       "\n",
       "    .dataframe thead th {\n",
       "        text-align: right;\n",
       "    }\n",
       "</style>\n",
       "<table border=\"1\" class=\"dataframe\">\n",
       "  <thead>\n",
       "    <tr style=\"text-align: right;\">\n",
       "      <th></th>\n",
       "      <th>cost_per_watt</th>\n",
       "      <th>cost</th>\n",
       "      <th>size_kw</th>\n",
       "      <th>new_constr</th>\n",
       "      <th>tracking</th>\n",
       "      <th>third_party</th>\n",
       "      <th>bipv</th>\n",
       "    </tr>\n",
       "  </thead>\n",
       "  <tbody>\n",
       "    <tr>\n",
       "      <th>count</th>\n",
       "      <td>745516.000000</td>\n",
       "      <td>7.456290e+05</td>\n",
       "      <td>1.002025e+06</td>\n",
       "      <td>27098.0</td>\n",
       "      <td>1920.0</td>\n",
       "      <td>306989.0</td>\n",
       "      <td>5252.0</td>\n",
       "    </tr>\n",
       "    <tr>\n",
       "      <th>mean</th>\n",
       "      <td>5.864389</td>\n",
       "      <td>6.531153e+04</td>\n",
       "      <td>1.629462e+01</td>\n",
       "      <td>1.0</td>\n",
       "      <td>1.0</td>\n",
       "      <td>1.0</td>\n",
       "      <td>1.0</td>\n",
       "    </tr>\n",
       "    <tr>\n",
       "      <th>std</th>\n",
       "      <td>2.026492</td>\n",
       "      <td>4.952030e+05</td>\n",
       "      <td>8.891764e+02</td>\n",
       "      <td>0.0</td>\n",
       "      <td>0.0</td>\n",
       "      <td>0.0</td>\n",
       "      <td>0.0</td>\n",
       "    </tr>\n",
       "    <tr>\n",
       "      <th>min</th>\n",
       "      <td>0.000000</td>\n",
       "      <td>0.000000e+00</td>\n",
       "      <td>2.000000e-03</td>\n",
       "      <td>1.0</td>\n",
       "      <td>1.0</td>\n",
       "      <td>1.0</td>\n",
       "      <td>1.0</td>\n",
       "    </tr>\n",
       "    <tr>\n",
       "      <th>25%</th>\n",
       "      <td>4.565217</td>\n",
       "      <td>2.114000e+04</td>\n",
       "      <td>3.750000e+00</td>\n",
       "      <td>1.0</td>\n",
       "      <td>1.0</td>\n",
       "      <td>1.0</td>\n",
       "      <td>1.0</td>\n",
       "    </tr>\n",
       "    <tr>\n",
       "      <th>50%</th>\n",
       "      <td>5.500000</td>\n",
       "      <td>3.030132e+04</td>\n",
       "      <td>5.500000e+00</td>\n",
       "      <td>1.0</td>\n",
       "      <td>1.0</td>\n",
       "      <td>1.0</td>\n",
       "      <td>1.0</td>\n",
       "    </tr>\n",
       "    <tr>\n",
       "      <th>75%</th>\n",
       "      <td>7.050000</td>\n",
       "      <td>4.363560e+04</td>\n",
       "      <td>7.905000e+00</td>\n",
       "      <td>1.0</td>\n",
       "      <td>1.0</td>\n",
       "      <td>1.0</td>\n",
       "      <td>1.0</td>\n",
       "    </tr>\n",
       "    <tr>\n",
       "      <th>max</th>\n",
       "      <td>30.000000</td>\n",
       "      <td>1.522000e+08</td>\n",
       "      <td>7.373190e+05</td>\n",
       "      <td>1.0</td>\n",
       "      <td>1.0</td>\n",
       "      <td>1.0</td>\n",
       "      <td>1.0</td>\n",
       "    </tr>\n",
       "  </tbody>\n",
       "</table>\n",
       "</div>"
      ],
      "text/plain": [
       "       cost_per_watt          cost       size_kw  new_constr  tracking  \\\n",
       "count  745516.000000  7.456290e+05  1.002025e+06     27098.0    1920.0   \n",
       "mean        5.864389  6.531153e+04  1.629462e+01         1.0       1.0   \n",
       "std         2.026492  4.952030e+05  8.891764e+02         0.0       0.0   \n",
       "min         0.000000  0.000000e+00  2.000000e-03         1.0       1.0   \n",
       "25%         4.565217  2.114000e+04  3.750000e+00         1.0       1.0   \n",
       "50%         5.500000  3.030132e+04  5.500000e+00         1.0       1.0   \n",
       "75%         7.050000  4.363560e+04  7.905000e+00         1.0       1.0   \n",
       "max        30.000000  1.522000e+08  7.373190e+05         1.0       1.0   \n",
       "\n",
       "       third_party    bipv  \n",
       "count     306989.0  5252.0  \n",
       "mean           1.0     1.0  \n",
       "std            0.0     0.0  \n",
       "min            1.0     1.0  \n",
       "25%            1.0     1.0  \n",
       "50%            1.0     1.0  \n",
       "75%            1.0     1.0  \n",
       "max            1.0     1.0  "
      ]
     },
     "execution_count": 5,
     "metadata": {},
     "output_type": "execute_result"
    }
   ],
   "source": [
    "dfLive.describe()"
   ]
  },
  {
   "cell_type": "code",
   "execution_count": 6,
   "metadata": {},
   "outputs": [
    {
     "data": {
      "text/html": [
       "<div>\n",
       "<style scoped>\n",
       "    .dataframe tbody tr th:only-of-type {\n",
       "        vertical-align: middle;\n",
       "    }\n",
       "\n",
       "    .dataframe tbody tr th {\n",
       "        vertical-align: top;\n",
       "    }\n",
       "\n",
       "    .dataframe thead th {\n",
       "        text-align: right;\n",
       "    }\n",
       "</style>\n",
       "<table border=\"1\" class=\"dataframe\">\n",
       "  <thead>\n",
       "    <tr style=\"text-align: right;\">\n",
       "      <th></th>\n",
       "      <th>state</th>\n",
       "      <th>zipcode</th>\n",
       "      <th>city</th>\n",
       "      <th>county</th>\n",
       "      <th>appraised</th>\n",
       "      <th>incentive</th>\n",
       "      <th>utility</th>\n",
       "      <th>tech</th>\n",
       "      <th>model</th>\n",
       "      <th>installer</th>\n",
       "      <th>i_type</th>\n",
       "    </tr>\n",
       "  </thead>\n",
       "  <tbody>\n",
       "    <tr>\n",
       "      <th>count</th>\n",
       "      <td>1002025</td>\n",
       "      <td>1002025</td>\n",
       "      <td>788849</td>\n",
       "      <td>980790</td>\n",
       "      <td>223431</td>\n",
       "      <td>788415</td>\n",
       "      <td>783186</td>\n",
       "      <td>580399</td>\n",
       "      <td>580399</td>\n",
       "      <td>694390</td>\n",
       "      <td>966720</td>\n",
       "    </tr>\n",
       "    <tr>\n",
       "      <th>unique</th>\n",
       "      <td>52</td>\n",
       "      <td>13381</td>\n",
       "      <td>11152</td>\n",
       "      <td>1019</td>\n",
       "      <td>1</td>\n",
       "      <td>65</td>\n",
       "      <td>378</td>\n",
       "      <td>11</td>\n",
       "      <td>3263</td>\n",
       "      <td>10168</td>\n",
       "      <td>8</td>\n",
       "    </tr>\n",
       "    <tr>\n",
       "      <th>top</th>\n",
       "      <td>CA</td>\n",
       "      <td>93312</td>\n",
       "      <td>SAN DIEGO</td>\n",
       "      <td>Los Angeles</td>\n",
       "      <td>True</td>\n",
       "      <td>California Public Utilities Commission (Non-CS...</td>\n",
       "      <td>Pacific Gas &amp; Electric Company</td>\n",
       "      <td>Poly</td>\n",
       "      <td>multiple matches</td>\n",
       "      <td>SolarCity</td>\n",
       "      <td>residential</td>\n",
       "    </tr>\n",
       "    <tr>\n",
       "      <th>freq</th>\n",
       "      <td>611709</td>\n",
       "      <td>3725</td>\n",
       "      <td>13681</td>\n",
       "      <td>80985</td>\n",
       "      <td>223431</td>\n",
       "      <td>260940</td>\n",
       "      <td>211222</td>\n",
       "      <td>350294</td>\n",
       "      <td>96843</td>\n",
       "      <td>167523</td>\n",
       "      <td>898183</td>\n",
       "    </tr>\n",
       "  </tbody>\n",
       "</table>\n",
       "</div>"
      ],
      "text/plain": [
       "          state  zipcode       city       county appraised  \\\n",
       "count   1002025  1002025     788849       980790    223431   \n",
       "unique       52    13381      11152         1019         1   \n",
       "top          CA    93312  SAN DIEGO  Los Angeles      True   \n",
       "freq     611709     3725      13681        80985    223431   \n",
       "\n",
       "                                                incentive  \\\n",
       "count                                              788415   \n",
       "unique                                                 65   \n",
       "top     California Public Utilities Commission (Non-CS...   \n",
       "freq                                               260940   \n",
       "\n",
       "                               utility    tech             model  installer  \\\n",
       "count                           783186  580399            580399     694390   \n",
       "unique                             378      11              3263      10168   \n",
       "top     Pacific Gas & Electric Company    Poly  multiple matches  SolarCity   \n",
       "freq                            211222  350294             96843     167523   \n",
       "\n",
       "             i_type  \n",
       "count        966720  \n",
       "unique            8  \n",
       "top     residential  \n",
       "freq         898183  "
      ]
     },
     "execution_count": 6,
     "metadata": {},
     "output_type": "execute_result"
    }
   ],
   "source": [
    "dfLive.describe(include=np.object)"
   ]
  },
  {
   "cell_type": "code",
   "execution_count": 7,
   "metadata": {},
   "outputs": [
    {
     "data": {
      "text/plain": [
       "residential     898183\n",
       "commercial       35950\n",
       "unknown          19520\n",
       "government        5702\n",
       "nonprofit         4220\n",
       "educational       2572\n",
       "agricultural       349\n",
       "utility            224\n",
       "Name: i_type, dtype: int64"
      ]
     },
     "execution_count": 7,
     "metadata": {},
     "output_type": "execute_result"
    }
   ],
   "source": [
    "dfLive.i_type.value_counts()"
   ]
  },
  {
   "cell_type": "code",
   "execution_count": 8,
   "metadata": {},
   "outputs": [],
   "source": [
    "# drop any rows that don't have all of ['cost_per_watt', 'cost', 'size_kw']\n",
    "thing = dfLive.dropna(subset=['cost_per_watt', 'cost', 'size_kw'], how='any')"
   ]
  },
  {
   "cell_type": "code",
   "execution_count": 51,
   "metadata": {},
   "outputs": [
    {
     "name": "stdout",
     "output_type": "stream",
     "text": [
      "<class 'pandas.core.frame.DataFrame'>\n",
      "Int64Index: 745362 entries, 0 to 745370\n",
      "Data columns (total 19 columns):\n",
      "date_installed    745362 non-null datetime64[ns]\n",
      "cost_per_watt     745362 non-null float64\n",
      "cost              745362 non-null float64\n",
      "size_kw           745362 non-null float64\n",
      "state             745362 non-null object\n",
      "zipcode           745362 non-null object\n",
      "city              552240 non-null object\n",
      "county            732641 non-null object\n",
      "new_constr        23813 non-null float64\n",
      "tracking          1705 non-null float64\n",
      "third_party       239541 non-null float64\n",
      "appraised         146655 non-null object\n",
      "incentive         552618 non-null object\n",
      "utility           550246 non-null object\n",
      "tech              421871 non-null object\n",
      "model             421871 non-null object\n",
      "installer         470553 non-null object\n",
      "bipv              3897 non-null float64\n",
      "i_type            715437 non-null object\n",
      "dtypes: datetime64[ns](1), float64(7), object(11)\n",
      "memory usage: 113.7+ MB\n"
     ]
    }
   ],
   "source": [
    "thing.info()"
   ]
  },
  {
   "cell_type": "code",
   "execution_count": 9,
   "metadata": {
    "scrolled": true
   },
   "outputs": [
    {
     "data": {
      "text/html": [
       "<div>\n",
       "<style scoped>\n",
       "    .dataframe tbody tr th:only-of-type {\n",
       "        vertical-align: middle;\n",
       "    }\n",
       "\n",
       "    .dataframe tbody tr th {\n",
       "        vertical-align: top;\n",
       "    }\n",
       "\n",
       "    .dataframe thead th {\n",
       "        text-align: right;\n",
       "    }\n",
       "</style>\n",
       "<table border=\"1\" class=\"dataframe\">\n",
       "  <thead>\n",
       "    <tr style=\"text-align: right;\">\n",
       "      <th></th>\n",
       "      <th>cost_per_watt</th>\n",
       "      <th>cost</th>\n",
       "      <th>size_kw</th>\n",
       "      <th>new_constr</th>\n",
       "      <th>tracking</th>\n",
       "      <th>third_party</th>\n",
       "      <th>bipv</th>\n",
       "    </tr>\n",
       "  </thead>\n",
       "  <tbody>\n",
       "    <tr>\n",
       "      <th>count</th>\n",
       "      <td>745516.000000</td>\n",
       "      <td>7.456290e+05</td>\n",
       "      <td>1.002025e+06</td>\n",
       "      <td>27098.0</td>\n",
       "      <td>1920.0</td>\n",
       "      <td>306989.0</td>\n",
       "      <td>5252.0</td>\n",
       "    </tr>\n",
       "    <tr>\n",
       "      <th>mean</th>\n",
       "      <td>5.864389</td>\n",
       "      <td>6.531153e+04</td>\n",
       "      <td>1.629462e+01</td>\n",
       "      <td>1.0</td>\n",
       "      <td>1.0</td>\n",
       "      <td>1.0</td>\n",
       "      <td>1.0</td>\n",
       "    </tr>\n",
       "    <tr>\n",
       "      <th>std</th>\n",
       "      <td>2.026492</td>\n",
       "      <td>4.952030e+05</td>\n",
       "      <td>8.891764e+02</td>\n",
       "      <td>0.0</td>\n",
       "      <td>0.0</td>\n",
       "      <td>0.0</td>\n",
       "      <td>0.0</td>\n",
       "    </tr>\n",
       "    <tr>\n",
       "      <th>min</th>\n",
       "      <td>0.000000</td>\n",
       "      <td>0.000000e+00</td>\n",
       "      <td>2.000000e-03</td>\n",
       "      <td>1.0</td>\n",
       "      <td>1.0</td>\n",
       "      <td>1.0</td>\n",
       "      <td>1.0</td>\n",
       "    </tr>\n",
       "    <tr>\n",
       "      <th>25%</th>\n",
       "      <td>4.565217</td>\n",
       "      <td>2.114000e+04</td>\n",
       "      <td>3.750000e+00</td>\n",
       "      <td>1.0</td>\n",
       "      <td>1.0</td>\n",
       "      <td>1.0</td>\n",
       "      <td>1.0</td>\n",
       "    </tr>\n",
       "    <tr>\n",
       "      <th>50%</th>\n",
       "      <td>5.500000</td>\n",
       "      <td>3.030132e+04</td>\n",
       "      <td>5.500000e+00</td>\n",
       "      <td>1.0</td>\n",
       "      <td>1.0</td>\n",
       "      <td>1.0</td>\n",
       "      <td>1.0</td>\n",
       "    </tr>\n",
       "    <tr>\n",
       "      <th>75%</th>\n",
       "      <td>7.050000</td>\n",
       "      <td>4.363560e+04</td>\n",
       "      <td>7.905000e+00</td>\n",
       "      <td>1.0</td>\n",
       "      <td>1.0</td>\n",
       "      <td>1.0</td>\n",
       "      <td>1.0</td>\n",
       "    </tr>\n",
       "    <tr>\n",
       "      <th>max</th>\n",
       "      <td>30.000000</td>\n",
       "      <td>1.522000e+08</td>\n",
       "      <td>7.373190e+05</td>\n",
       "      <td>1.0</td>\n",
       "      <td>1.0</td>\n",
       "      <td>1.0</td>\n",
       "      <td>1.0</td>\n",
       "    </tr>\n",
       "  </tbody>\n",
       "</table>\n",
       "</div>"
      ],
      "text/plain": [
       "       cost_per_watt          cost       size_kw  new_constr  tracking  \\\n",
       "count  745516.000000  7.456290e+05  1.002025e+06     27098.0    1920.0   \n",
       "mean        5.864389  6.531153e+04  1.629462e+01         1.0       1.0   \n",
       "std         2.026492  4.952030e+05  8.891764e+02         0.0       0.0   \n",
       "min         0.000000  0.000000e+00  2.000000e-03         1.0       1.0   \n",
       "25%         4.565217  2.114000e+04  3.750000e+00         1.0       1.0   \n",
       "50%         5.500000  3.030132e+04  5.500000e+00         1.0       1.0   \n",
       "75%         7.050000  4.363560e+04  7.905000e+00         1.0       1.0   \n",
       "max        30.000000  1.522000e+08  7.373190e+05         1.0       1.0   \n",
       "\n",
       "       third_party    bipv  \n",
       "count     306989.0  5252.0  \n",
       "mean           1.0     1.0  \n",
       "std            0.0     0.0  \n",
       "min            1.0     1.0  \n",
       "25%            1.0     1.0  \n",
       "50%            1.0     1.0  \n",
       "75%            1.0     1.0  \n",
       "max            1.0     1.0  "
      ]
     },
     "execution_count": 9,
     "metadata": {},
     "output_type": "execute_result"
    }
   ],
   "source": [
    "# compare \n",
    "dfLive.describe()"
   ]
  },
  {
   "cell_type": "code",
   "execution_count": 10,
   "metadata": {},
   "outputs": [
    {
     "data": {
      "text/html": [
       "<div>\n",
       "<style scoped>\n",
       "    .dataframe tbody tr th:only-of-type {\n",
       "        vertical-align: middle;\n",
       "    }\n",
       "\n",
       "    .dataframe tbody tr th {\n",
       "        vertical-align: top;\n",
       "    }\n",
       "\n",
       "    .dataframe thead th {\n",
       "        text-align: right;\n",
       "    }\n",
       "</style>\n",
       "<table border=\"1\" class=\"dataframe\">\n",
       "  <thead>\n",
       "    <tr style=\"text-align: right;\">\n",
       "      <th></th>\n",
       "      <th>cost_per_watt</th>\n",
       "      <th>cost</th>\n",
       "      <th>size_kw</th>\n",
       "      <th>new_constr</th>\n",
       "      <th>tracking</th>\n",
       "      <th>third_party</th>\n",
       "      <th>bipv</th>\n",
       "    </tr>\n",
       "  </thead>\n",
       "  <tbody>\n",
       "    <tr>\n",
       "      <th>count</th>\n",
       "      <td>745371.000000</td>\n",
       "      <td>7.453710e+05</td>\n",
       "      <td>745371.000000</td>\n",
       "      <td>23813.0</td>\n",
       "      <td>1705.0</td>\n",
       "      <td>239541.0</td>\n",
       "      <td>3897.0</td>\n",
       "    </tr>\n",
       "    <tr>\n",
       "      <th>mean</th>\n",
       "      <td>5.863977</td>\n",
       "      <td>6.524818e+04</td>\n",
       "      <td>12.470437</td>\n",
       "      <td>1.0</td>\n",
       "      <td>1.0</td>\n",
       "      <td>1.0</td>\n",
       "      <td>1.0</td>\n",
       "    </tr>\n",
       "    <tr>\n",
       "      <th>std</th>\n",
       "      <td>2.026111</td>\n",
       "      <td>4.898935e+05</td>\n",
       "      <td>112.741907</td>\n",
       "      <td>0.0</td>\n",
       "      <td>0.0</td>\n",
       "      <td>0.0</td>\n",
       "      <td>0.0</td>\n",
       "    </tr>\n",
       "    <tr>\n",
       "      <th>min</th>\n",
       "      <td>0.000000</td>\n",
       "      <td>0.000000e+00</td>\n",
       "      <td>0.010000</td>\n",
       "      <td>1.0</td>\n",
       "      <td>1.0</td>\n",
       "      <td>1.0</td>\n",
       "      <td>1.0</td>\n",
       "    </tr>\n",
       "    <tr>\n",
       "      <th>25%</th>\n",
       "      <td>4.565018</td>\n",
       "      <td>2.115000e+04</td>\n",
       "      <td>3.780000</td>\n",
       "      <td>1.0</td>\n",
       "      <td>1.0</td>\n",
       "      <td>1.0</td>\n",
       "      <td>1.0</td>\n",
       "    </tr>\n",
       "    <tr>\n",
       "      <th>50%</th>\n",
       "      <td>5.500000</td>\n",
       "      <td>3.031500e+04</td>\n",
       "      <td>5.550000</td>\n",
       "      <td>1.0</td>\n",
       "      <td>1.0</td>\n",
       "      <td>1.0</td>\n",
       "      <td>1.0</td>\n",
       "    </tr>\n",
       "    <tr>\n",
       "      <th>75%</th>\n",
       "      <td>7.050000</td>\n",
       "      <td>4.364647e+04</td>\n",
       "      <td>7.980000</td>\n",
       "      <td>1.0</td>\n",
       "      <td>1.0</td>\n",
       "      <td>1.0</td>\n",
       "      <td>1.0</td>\n",
       "    </tr>\n",
       "    <tr>\n",
       "      <th>max</th>\n",
       "      <td>30.000000</td>\n",
       "      <td>1.522000e+08</td>\n",
       "      <td>34000.000000</td>\n",
       "      <td>1.0</td>\n",
       "      <td>1.0</td>\n",
       "      <td>1.0</td>\n",
       "      <td>1.0</td>\n",
       "    </tr>\n",
       "  </tbody>\n",
       "</table>\n",
       "</div>"
      ],
      "text/plain": [
       "       cost_per_watt          cost        size_kw  new_constr  tracking  \\\n",
       "count  745371.000000  7.453710e+05  745371.000000     23813.0    1705.0   \n",
       "mean        5.863977  6.524818e+04      12.470437         1.0       1.0   \n",
       "std         2.026111  4.898935e+05     112.741907         0.0       0.0   \n",
       "min         0.000000  0.000000e+00       0.010000         1.0       1.0   \n",
       "25%         4.565018  2.115000e+04       3.780000         1.0       1.0   \n",
       "50%         5.500000  3.031500e+04       5.550000         1.0       1.0   \n",
       "75%         7.050000  4.364647e+04       7.980000         1.0       1.0   \n",
       "max        30.000000  1.522000e+08   34000.000000         1.0       1.0   \n",
       "\n",
       "       third_party    bipv  \n",
       "count     239541.0  3897.0  \n",
       "mean           1.0     1.0  \n",
       "std            0.0     0.0  \n",
       "min            1.0     1.0  \n",
       "25%            1.0     1.0  \n",
       "50%            1.0     1.0  \n",
       "75%            1.0     1.0  \n",
       "max            1.0     1.0  "
      ]
     },
     "execution_count": 10,
     "metadata": {},
     "output_type": "execute_result"
    }
   ],
   "source": [
    "# compare\n",
    "thing.describe()"
   ]
  },
  {
   "cell_type": "markdown",
   "metadata": {},
   "source": [
    "#### Okay, dropped 250k rows.\n",
    "All rows should have no null values for cpw, cost, size_kw"
   ]
  },
  {
   "cell_type": "code",
   "execution_count": 11,
   "metadata": {},
   "outputs": [
    {
     "name": "stdout",
     "output_type": "stream",
     "text": [
      "<class 'pandas.core.frame.DataFrame'>\n",
      "DatetimeIndex: 745371 entries, 2004-01-01 to 2015-12-31\n",
      "Data columns (total 18 columns):\n",
      "cost_per_watt    745371 non-null float64\n",
      "cost             745371 non-null float64\n",
      "size_kw          745371 non-null float64\n",
      "state            745371 non-null object\n",
      "zipcode          745371 non-null object\n",
      "city             552242 non-null object\n",
      "county           732647 non-null object\n",
      "new_constr       23813 non-null float64\n",
      "tracking         1705 non-null float64\n",
      "third_party      239541 non-null float64\n",
      "appraised        146655 non-null object\n",
      "incentive        552618 non-null object\n",
      "utility          550246 non-null object\n",
      "tech             421871 non-null object\n",
      "model            421871 non-null object\n",
      "installer        470554 non-null object\n",
      "bipv             3897 non-null float64\n",
      "i_type           715446 non-null object\n",
      "dtypes: float64(7), object(11)\n",
      "memory usage: 108.0+ MB\n"
     ]
    }
   ],
   "source": [
    "thing.info()"
   ]
  },
  {
   "cell_type": "markdown",
   "metadata": {},
   "source": [
    "#### Looks good; reassign dfLive"
   ]
  },
  {
   "cell_type": "code",
   "execution_count": 12,
   "metadata": {},
   "outputs": [],
   "source": [
    "dfLive = thing"
   ]
  },
  {
   "cell_type": "markdown",
   "metadata": {},
   "source": [
    "#### Now look at the null install type entrys; there are 40+k of them...."
   ]
  },
  {
   "cell_type": "code",
   "execution_count": 13,
   "metadata": {},
   "outputs": [],
   "source": [
    "iTypeNull = dfLive[dfLive.i_type.isnull()]"
   ]
  },
  {
   "cell_type": "code",
   "execution_count": 14,
   "metadata": {},
   "outputs": [
    {
     "name": "stdout",
     "output_type": "stream",
     "text": [
      "<class 'pandas.core.frame.DataFrame'>\n",
      "DatetimeIndex: 29925 entries, 2004-01-01 to 2015-12-31\n",
      "Data columns (total 18 columns):\n",
      "cost_per_watt    29925 non-null float64\n",
      "cost             29925 non-null float64\n",
      "size_kw          29925 non-null float64\n",
      "state            29925 non-null object\n",
      "zipcode          29925 non-null object\n",
      "city             26030 non-null object\n",
      "county           29703 non-null object\n",
      "new_constr       2575 non-null float64\n",
      "tracking         70 non-null float64\n",
      "third_party      205 non-null float64\n",
      "appraised        604 non-null object\n",
      "incentive        27093 non-null object\n",
      "utility          27037 non-null object\n",
      "tech             13435 non-null object\n",
      "model            13435 non-null object\n",
      "installer        12579 non-null object\n",
      "bipv             771 non-null float64\n",
      "i_type           0 non-null object\n",
      "dtypes: float64(7), object(11)\n",
      "memory usage: 4.3+ MB\n"
     ]
    }
   ],
   "source": [
    "iTypeNull.info()"
   ]
  },
  {
   "cell_type": "markdown",
   "metadata": {},
   "source": [
    "#### These rows are a bit strange.\n",
    "Max is obviously pretty out there.  $100M is a lot of money.\n",
    "\n",
    "\n",
    "Mean and median are off by factor of 2.  And they're pretty expensive compared to the larger data set. \n",
    "\n",
    "\n",
    "Timing (see groupby) is a bit funny.  I could fold them into i_type unknown.  First check their sensibility.  Looks pretty good.  Don't throw away yet.  They won't do any harm."
   ]
  },
  {
   "cell_type": "code",
   "execution_count": 15,
   "metadata": {},
   "outputs": [
    {
     "data": {
      "text/html": [
       "<div>\n",
       "<style scoped>\n",
       "    .dataframe tbody tr th:only-of-type {\n",
       "        vertical-align: middle;\n",
       "    }\n",
       "\n",
       "    .dataframe tbody tr th {\n",
       "        vertical-align: top;\n",
       "    }\n",
       "\n",
       "    .dataframe thead th {\n",
       "        text-align: right;\n",
       "    }\n",
       "</style>\n",
       "<table border=\"1\" class=\"dataframe\">\n",
       "  <thead>\n",
       "    <tr style=\"text-align: right;\">\n",
       "      <th></th>\n",
       "      <th>cost_per_watt</th>\n",
       "      <th>cost</th>\n",
       "      <th>size_kw</th>\n",
       "      <th>new_constr</th>\n",
       "      <th>tracking</th>\n",
       "      <th>third_party</th>\n",
       "      <th>bipv</th>\n",
       "    </tr>\n",
       "  </thead>\n",
       "  <tbody>\n",
       "    <tr>\n",
       "      <th>count</th>\n",
       "      <td>29925.000000</td>\n",
       "      <td>2.992500e+04</td>\n",
       "      <td>29925.000000</td>\n",
       "      <td>2575.0</td>\n",
       "      <td>70.0</td>\n",
       "      <td>205.0</td>\n",
       "      <td>771.0</td>\n",
       "    </tr>\n",
       "    <tr>\n",
       "      <th>mean</th>\n",
       "      <td>7.571928</td>\n",
       "      <td>7.010113e+04</td>\n",
       "      <td>10.026701</td>\n",
       "      <td>1.0</td>\n",
       "      <td>1.0</td>\n",
       "      <td>1.0</td>\n",
       "      <td>1.0</td>\n",
       "    </tr>\n",
       "    <tr>\n",
       "      <th>std</th>\n",
       "      <td>1.956078</td>\n",
       "      <td>6.529559e+05</td>\n",
       "      <td>93.699826</td>\n",
       "      <td>0.0</td>\n",
       "      <td>0.0</td>\n",
       "      <td>0.0</td>\n",
       "      <td>0.0</td>\n",
       "    </tr>\n",
       "    <tr>\n",
       "      <th>min</th>\n",
       "      <td>0.824386</td>\n",
       "      <td>7.640000e+02</td>\n",
       "      <td>0.050000</td>\n",
       "      <td>1.0</td>\n",
       "      <td>1.0</td>\n",
       "      <td>1.0</td>\n",
       "      <td>1.0</td>\n",
       "    </tr>\n",
       "    <tr>\n",
       "      <th>25%</th>\n",
       "      <td>6.664394</td>\n",
       "      <td>2.128459e+04</td>\n",
       "      <td>2.960000</td>\n",
       "      <td>1.0</td>\n",
       "      <td>1.0</td>\n",
       "      <td>1.0</td>\n",
       "      <td>1.0</td>\n",
       "    </tr>\n",
       "    <tr>\n",
       "      <th>50%</th>\n",
       "      <td>7.570000</td>\n",
       "      <td>3.212706e+04</td>\n",
       "      <td>4.320000</td>\n",
       "      <td>1.0</td>\n",
       "      <td>1.0</td>\n",
       "      <td>1.0</td>\n",
       "      <td>1.0</td>\n",
       "    </tr>\n",
       "    <tr>\n",
       "      <th>75%</th>\n",
       "      <td>8.451552</td>\n",
       "      <td>4.863860e+04</td>\n",
       "      <td>6.800000</td>\n",
       "      <td>1.0</td>\n",
       "      <td>1.0</td>\n",
       "      <td>1.0</td>\n",
       "      <td>1.0</td>\n",
       "    </tr>\n",
       "    <tr>\n",
       "      <th>max</th>\n",
       "      <td>29.598039</td>\n",
       "      <td>1.000000e+08</td>\n",
       "      <td>14200.000000</td>\n",
       "      <td>1.0</td>\n",
       "      <td>1.0</td>\n",
       "      <td>1.0</td>\n",
       "      <td>1.0</td>\n",
       "    </tr>\n",
       "  </tbody>\n",
       "</table>\n",
       "</div>"
      ],
      "text/plain": [
       "       cost_per_watt          cost       size_kw  new_constr  tracking  \\\n",
       "count   29925.000000  2.992500e+04  29925.000000      2575.0      70.0   \n",
       "mean        7.571928  7.010113e+04     10.026701         1.0       1.0   \n",
       "std         1.956078  6.529559e+05     93.699826         0.0       0.0   \n",
       "min         0.824386  7.640000e+02      0.050000         1.0       1.0   \n",
       "25%         6.664394  2.128459e+04      2.960000         1.0       1.0   \n",
       "50%         7.570000  3.212706e+04      4.320000         1.0       1.0   \n",
       "75%         8.451552  4.863860e+04      6.800000         1.0       1.0   \n",
       "max        29.598039  1.000000e+08  14200.000000         1.0       1.0   \n",
       "\n",
       "       third_party   bipv  \n",
       "count        205.0  771.0  \n",
       "mean           1.0    1.0  \n",
       "std            0.0    0.0  \n",
       "min            1.0    1.0  \n",
       "25%            1.0    1.0  \n",
       "50%            1.0    1.0  \n",
       "75%            1.0    1.0  \n",
       "max            1.0    1.0  "
      ]
     },
     "execution_count": 15,
     "metadata": {},
     "output_type": "execute_result"
    }
   ],
   "source": [
    "iTypeNull.describe()"
   ]
  },
  {
   "cell_type": "code",
   "execution_count": 16,
   "metadata": {},
   "outputs": [
    {
     "data": {
      "text/plain": [
       "date_installed\n",
       "2004    4824\n",
       "2005    4143\n",
       "2006    6521\n",
       "2007    6555\n",
       "2008    1704\n",
       "2009    1549\n",
       "2010    1039\n",
       "2011     423\n",
       "2012     695\n",
       "2013     696\n",
       "2014     810\n",
       "2015     966\n",
       "dtype: int64"
      ]
     },
     "execution_count": 16,
     "metadata": {},
     "output_type": "execute_result"
    }
   ],
   "source": [
    "# how are they distributed over time?\n",
    "iTypeNull.groupby(iTypeNull.index.map(lambda x: x.year)).size()"
   ]
  },
  {
   "cell_type": "code",
   "execution_count": 17,
   "metadata": {},
   "outputs": [],
   "source": [
    "# This value should be near 1.0\n",
    "shouldBe1 = iTypeNull.cost_per_watt * 1000 * iTypeNull.size_kw/iTypeNull.cost"
   ]
  },
  {
   "cell_type": "code",
   "execution_count": 18,
   "metadata": {},
   "outputs": [
    {
     "data": {
      "text/plain": [
       "count    29925.000000\n",
       "mean         0.999998\n",
       "std          0.000326\n",
       "min          0.946092\n",
       "25%          1.000000\n",
       "50%          1.000000\n",
       "75%          1.000000\n",
       "max          1.001571\n",
       "dtype: float64"
      ]
     },
     "execution_count": 18,
     "metadata": {},
     "output_type": "execute_result"
    }
   ],
   "source": [
    "# are they?  yes, very much so.\n",
    "shouldBe1.describe()"
   ]
  },
  {
   "cell_type": "markdown",
   "metadata": {},
   "source": [
    "#### Sanity check all values in cost/watt, cost and size."
   ]
  },
  {
   "cell_type": "code",
   "execution_count": 19,
   "metadata": {},
   "outputs": [],
   "source": [
    "# start by checking sense (now that I know null install types won't throw it off) of all rows.\n",
    "shouldBe1 = dfLive.cost_per_watt * 1000 * dfLive.size_kw/dfLive.cost"
   ]
  },
  {
   "cell_type": "code",
   "execution_count": 20,
   "metadata": {},
   "outputs": [
    {
     "data": {
      "text/plain": [
       "count    7.453700e+05\n",
       "mean              inf\n",
       "std               NaN\n",
       "min      7.413729e-01\n",
       "25%      1.000000e+00\n",
       "50%      1.000000e+00\n",
       "75%      1.000000e+00\n",
       "max               inf\n",
       "dtype: float64"
      ]
     },
     "execution_count": 20,
     "metadata": {},
     "output_type": "execute_result"
    }
   ],
   "source": [
    "# get stats\n",
    "shouldBe1.describe()"
   ]
  },
  {
   "cell_type": "markdown",
   "metadata": {},
   "source": [
    "#### there are some bad data in there\n"
   ]
  },
  {
   "cell_type": "code",
   "execution_count": 21,
   "metadata": {},
   "outputs": [
    {
     "data": {
      "image/png": "[encoded data removed]",
      "text/plain": [
       "<matplotlib.figure.Figure at 0x2cfd59ebd68>"
      ]
     },
     "metadata": {},
     "output_type": "display_data"
    }
   ],
   "source": [
    "shouldBe1.plot(marker='.',linestyle='none')\n",
    "plt.ylabel( '(1000 cost/watt * size_kw)/cost')\n",
    "plt.title('Should be 1.0 for all rows');"
   ]
  },
  {
   "cell_type": "code",
   "execution_count": 22,
   "metadata": {},
   "outputs": [
    {
     "data": {
      "text/plain": [
       "8"
      ]
     },
     "execution_count": 22,
     "metadata": {},
     "output_type": "execute_result"
    }
   ],
   "source": [
    "# how many are off by 10% or more\n",
    "(abs(dfLive.cost_per_watt * 1000 * dfLive.size_kw/dfLive.cost - 1) > 0.1).sum()"
   ]
  },
  {
   "cell_type": "code",
   "execution_count": 23,
   "metadata": {},
   "outputs": [],
   "source": [
    "badGuys= dfLive.loc[(abs(dfLive.cost_per_watt * 1000 * dfLive.size_kw/dfLive.cost - 1) > 0.1)]"
   ]
  },
  {
   "cell_type": "code",
   "execution_count": 24,
   "metadata": {},
   "outputs": [
    {
     "data": {
      "text/plain": [
       "DatetimeIndex(['2009-12-19', '2010-01-09', '2010-05-01', '2010-11-19',\n",
       "               '2011-12-20', '2012-10-25', '2013-03-24', '2014-12-31'],\n",
       "              dtype='datetime64[ns]', name='date_installed', freq=None)"
      ]
     },
     "execution_count": 24,
     "metadata": {},
     "output_type": "execute_result"
    }
   ],
   "source": [
    "badGuys.index"
   ]
  },
  {
   "cell_type": "code",
   "execution_count": 25,
   "metadata": {},
   "outputs": [],
   "source": [
    "# I need to reindex to get rid of the bad values\n",
    "thing = dfLive.reset_index()"
   ]
  },
  {
   "cell_type": "code",
   "execution_count": 26,
   "metadata": {},
   "outputs": [],
   "source": [
    "# find bad ones in the newly indexed df\n",
    "badGuys= thing.loc[(abs(thing.cost_per_watt * 1000 * thing.size_kw/thing.cost - 1) > 0.1)]"
   ]
  },
  {
   "cell_type": "code",
   "execution_count": 27,
   "metadata": {},
   "outputs": [
    {
     "data": {
      "text/html": [
       "<div>\n",
       "<style scoped>\n",
       "    .dataframe tbody tr th:only-of-type {\n",
       "        vertical-align: middle;\n",
       "    }\n",
       "\n",
       "    .dataframe tbody tr th {\n",
       "        vertical-align: top;\n",
       "    }\n",
       "\n",
       "    .dataframe thead th {\n",
       "        text-align: right;\n",
       "    }\n",
       "</style>\n",
       "<table border=\"1\" class=\"dataframe\">\n",
       "  <thead>\n",
       "    <tr style=\"text-align: right;\">\n",
       "      <th></th>\n",
       "      <th>date_installed</th>\n",
       "      <th>cost_per_watt</th>\n",
       "      <th>cost</th>\n",
       "      <th>size_kw</th>\n",
       "      <th>state</th>\n",
       "      <th>zipcode</th>\n",
       "      <th>city</th>\n",
       "      <th>county</th>\n",
       "      <th>new_constr</th>\n",
       "      <th>tracking</th>\n",
       "      <th>third_party</th>\n",
       "      <th>appraised</th>\n",
       "      <th>incentive</th>\n",
       "      <th>utility</th>\n",
       "      <th>tech</th>\n",
       "      <th>model</th>\n",
       "      <th>installer</th>\n",
       "      <th>bipv</th>\n",
       "      <th>i_type</th>\n",
       "    </tr>\n",
       "  </thead>\n",
       "  <tbody>\n",
       "    <tr>\n",
       "      <th>144088</th>\n",
       "      <td>2009-12-19</td>\n",
       "      <td>5.90</td>\n",
       "      <td>55000.0</td>\n",
       "      <td>10.800</td>\n",
       "      <td>TX</td>\n",
       "      <td>75706</td>\n",
       "      <td>NaN</td>\n",
       "      <td>Smith</td>\n",
       "      <td>NaN</td>\n",
       "      <td>NaN</td>\n",
       "      <td>NaN</td>\n",
       "      <td>NaN</td>\n",
       "      <td>NaN</td>\n",
       "      <td>NaN</td>\n",
       "      <td>NaN</td>\n",
       "      <td>NaN</td>\n",
       "      <td>NaN</td>\n",
       "      <td>NaN</td>\n",
       "      <td>residential</td>\n",
       "    </tr>\n",
       "    <tr>\n",
       "      <th>147691</th>\n",
       "      <td>2010-01-09</td>\n",
       "      <td>6.30</td>\n",
       "      <td>58808.0</td>\n",
       "      <td>10.800</td>\n",
       "      <td>TX</td>\n",
       "      <td>75758</td>\n",
       "      <td>NaN</td>\n",
       "      <td>Henderson</td>\n",
       "      <td>NaN</td>\n",
       "      <td>NaN</td>\n",
       "      <td>NaN</td>\n",
       "      <td>NaN</td>\n",
       "      <td>NaN</td>\n",
       "      <td>NaN</td>\n",
       "      <td>NaN</td>\n",
       "      <td>NaN</td>\n",
       "      <td>NaN</td>\n",
       "      <td>NaN</td>\n",
       "      <td>residential</td>\n",
       "    </tr>\n",
       "    <tr>\n",
       "      <th>169136</th>\n",
       "      <td>2010-05-01</td>\n",
       "      <td>6.10</td>\n",
       "      <td>3095.0</td>\n",
       "      <td>0.400</td>\n",
       "      <td>NH</td>\n",
       "      <td>03750</td>\n",
       "      <td>NaN</td>\n",
       "      <td>Grafton</td>\n",
       "      <td>NaN</td>\n",
       "      <td>NaN</td>\n",
       "      <td>NaN</td>\n",
       "      <td>NaN</td>\n",
       "      <td>NaN</td>\n",
       "      <td>NaN</td>\n",
       "      <td>NaN</td>\n",
       "      <td>NaN</td>\n",
       "      <td>NaN</td>\n",
       "      <td>NaN</td>\n",
       "      <td>residential</td>\n",
       "    </tr>\n",
       "    <tr>\n",
       "      <th>211208</th>\n",
       "      <td>2010-11-19</td>\n",
       "      <td>3.33</td>\n",
       "      <td>2695000.0</td>\n",
       "      <td>600.000</td>\n",
       "      <td>MN</td>\n",
       "      <td>55403</td>\n",
       "      <td>NaN</td>\n",
       "      <td>Hennepin</td>\n",
       "      <td>NaN</td>\n",
       "      <td>NaN</td>\n",
       "      <td>NaN</td>\n",
       "      <td>NaN</td>\n",
       "      <td>NaN</td>\n",
       "      <td>NaN</td>\n",
       "      <td>NaN</td>\n",
       "      <td>NaN</td>\n",
       "      <td>NaN</td>\n",
       "      <td>NaN</td>\n",
       "      <td>commercial</td>\n",
       "    </tr>\n",
       "    <tr>\n",
       "      <th>295231</th>\n",
       "      <td>2011-12-20</td>\n",
       "      <td>4.00</td>\n",
       "      <td>120000000.0</td>\n",
       "      <td>34000.000</td>\n",
       "      <td>TX</td>\n",
       "      <td>78653</td>\n",
       "      <td>NaN</td>\n",
       "      <td>Travis</td>\n",
       "      <td>NaN</td>\n",
       "      <td>NaN</td>\n",
       "      <td>NaN</td>\n",
       "      <td>NaN</td>\n",
       "      <td>NaN</td>\n",
       "      <td>NaN</td>\n",
       "      <td>NaN</td>\n",
       "      <td>NaN</td>\n",
       "      <td>NaN</td>\n",
       "      <td>NaN</td>\n",
       "      <td>utility</td>\n",
       "    </tr>\n",
       "    <tr>\n",
       "      <th>382718</th>\n",
       "      <td>2012-10-25</td>\n",
       "      <td>4.05</td>\n",
       "      <td>69190.0</td>\n",
       "      <td>19.285</td>\n",
       "      <td>IN</td>\n",
       "      <td>47630</td>\n",
       "      <td>NaN</td>\n",
       "      <td>Warrick</td>\n",
       "      <td>NaN</td>\n",
       "      <td>NaN</td>\n",
       "      <td>NaN</td>\n",
       "      <td>NaN</td>\n",
       "      <td>NaN</td>\n",
       "      <td>NaN</td>\n",
       "      <td>NaN</td>\n",
       "      <td>NaN</td>\n",
       "      <td>Morton Solar, LLC</td>\n",
       "      <td>NaN</td>\n",
       "      <td>residential</td>\n",
       "    </tr>\n",
       "    <tr>\n",
       "      <th>424477</th>\n",
       "      <td>2013-03-24</td>\n",
       "      <td>1.00</td>\n",
       "      <td>0.0</td>\n",
       "      <td>3.430</td>\n",
       "      <td>CO</td>\n",
       "      <td>80130</td>\n",
       "      <td>NaN</td>\n",
       "      <td>NaN</td>\n",
       "      <td>NaN</td>\n",
       "      <td>NaN</td>\n",
       "      <td>NaN</td>\n",
       "      <td>NaN</td>\n",
       "      <td>NaN</td>\n",
       "      <td>NaN</td>\n",
       "      <td>NaN</td>\n",
       "      <td>NaN</td>\n",
       "      <td>NaN</td>\n",
       "      <td>NaN</td>\n",
       "      <td>residential</td>\n",
       "    </tr>\n",
       "    <tr>\n",
       "      <th>557277</th>\n",
       "      <td>2014-12-31</td>\n",
       "      <td>5.91</td>\n",
       "      <td>1300000.0</td>\n",
       "      <td>191.000</td>\n",
       "      <td>CA</td>\n",
       "      <td>91605</td>\n",
       "      <td>North Hollywood</td>\n",
       "      <td>NaN</td>\n",
       "      <td>NaN</td>\n",
       "      <td>NaN</td>\n",
       "      <td>NaN</td>\n",
       "      <td>NaN</td>\n",
       "      <td>NaN</td>\n",
       "      <td>NaN</td>\n",
       "      <td>NaN</td>\n",
       "      <td>NaN</td>\n",
       "      <td>NaN</td>\n",
       "      <td>NaN</td>\n",
       "      <td>commercial</td>\n",
       "    </tr>\n",
       "  </tbody>\n",
       "</table>\n",
       "</div>"
      ],
      "text/plain": [
       "       date_installed  cost_per_watt         cost    size_kw state zipcode  \\\n",
       "144088     2009-12-19           5.90      55000.0     10.800    TX   75706   \n",
       "147691     2010-01-09           6.30      58808.0     10.800    TX   75758   \n",
       "169136     2010-05-01           6.10       3095.0      0.400    NH   03750   \n",
       "211208     2010-11-19           3.33    2695000.0    600.000    MN   55403   \n",
       "295231     2011-12-20           4.00  120000000.0  34000.000    TX   78653   \n",
       "382718     2012-10-25           4.05      69190.0     19.285    IN   47630   \n",
       "424477     2013-03-24           1.00          0.0      3.430    CO   80130   \n",
       "557277     2014-12-31           5.91    1300000.0    191.000    CA   91605   \n",
       "\n",
       "                   city     county  new_constr  tracking  third_party  \\\n",
       "144088              NaN      Smith         NaN       NaN          NaN   \n",
       "147691              NaN  Henderson         NaN       NaN          NaN   \n",
       "169136              NaN    Grafton         NaN       NaN          NaN   \n",
       "211208              NaN   Hennepin         NaN       NaN          NaN   \n",
       "295231              NaN     Travis         NaN       NaN          NaN   \n",
       "382718              NaN    Warrick         NaN       NaN          NaN   \n",
       "424477              NaN        NaN         NaN       NaN          NaN   \n",
       "557277  North Hollywood        NaN         NaN       NaN          NaN   \n",
       "\n",
       "       appraised incentive utility tech model          installer  bipv  \\\n",
       "144088       NaN       NaN     NaN  NaN   NaN                NaN   NaN   \n",
       "147691       NaN       NaN     NaN  NaN   NaN                NaN   NaN   \n",
       "169136       NaN       NaN     NaN  NaN   NaN                NaN   NaN   \n",
       "211208       NaN       NaN     NaN  NaN   NaN                NaN   NaN   \n",
       "295231       NaN       NaN     NaN  NaN   NaN                NaN   NaN   \n",
       "382718       NaN       NaN     NaN  NaN   NaN  Morton Solar, LLC   NaN   \n",
       "424477       NaN       NaN     NaN  NaN   NaN                NaN   NaN   \n",
       "557277       NaN       NaN     NaN  NaN   NaN                NaN   NaN   \n",
       "\n",
       "             i_type  \n",
       "144088  residential  \n",
       "147691  residential  \n",
       "169136  residential  \n",
       "211208   commercial  \n",
       "295231      utility  \n",
       "382718  residential  \n",
       "424477  residential  \n",
       "557277   commercial  "
      ]
     },
     "execution_count": 27,
     "metadata": {},
     "output_type": "execute_result"
    }
   ],
   "source": [
    "# let's see\n",
    "badGuys"
   ]
  },
  {
   "cell_type": "code",
   "execution_count": 28,
   "metadata": {},
   "outputs": [
    {
     "data": {
      "text/plain": [
       "Int64Index([144088, 147691, 169136, 211208, 295231, 382718, 424477, 557277], dtype='int64')"
      ]
     },
     "execution_count": 28,
     "metadata": {},
     "output_type": "execute_result"
    }
   ],
   "source": [
    "# where are they?\n",
    "badGuys.index"
   ]
  },
  {
   "cell_type": "code",
   "execution_count": 29,
   "metadata": {},
   "outputs": [],
   "source": [
    "# drop marginal values\n",
    "thing.drop(badGuys.index, inplace=True)"
   ]
  },
  {
   "cell_type": "code",
   "execution_count": 30,
   "metadata": {},
   "outputs": [
    {
     "data": {
      "text/plain": [
       "0"
      ]
     },
     "execution_count": 30,
     "metadata": {},
     "output_type": "execute_result"
    }
   ],
   "source": [
    "# all gone\n",
    "(abs(thing.cost_per_watt * 1000 * thing.size_kw/thing.cost - 1) > 0.1).sum()"
   ]
  },
  {
   "cell_type": "code",
   "execution_count": 31,
   "metadata": {},
   "outputs": [
    {
     "data": {
      "image/png": "[encoded data removed]",
      "text/plain": [
       "<matplotlib.figure.Figure at 0x2cfda89df60>"
      ]
     },
     "metadata": {},
     "output_type": "display_data"
    }
   ],
   "source": [
    "(thing.cost_per_watt * 1000 * thing.size_kw/thing.cost).plot(marker='.',linestyle='none')\n",
    "plt.ylabel( '(1000 cost/watt * size_kw)/cost')\n",
    "plt.title('Should be 1.0 for all rows');"
   ]
  },
  {
   "cell_type": "code",
   "execution_count": 32,
   "metadata": {},
   "outputs": [
    {
     "data": {
      "text/plain": [
       "count    745362.000000\n",
       "mean          0.999991\n",
       "std           0.000301\n",
       "min           0.911127\n",
       "25%           1.000000\n",
       "50%           1.000000\n",
       "75%           1.000000\n",
       "max           1.087374\n",
       "dtype: float64"
      ]
     },
     "execution_count": 32,
     "metadata": {},
     "output_type": "execute_result"
    }
   ],
   "source": [
    "# look at stats now\n",
    "(thing.cost_per_watt * 1000 * thing.size_kw/thing.cost).describe()"
   ]
  },
  {
   "cell_type": "markdown",
   "metadata": {},
   "source": [
    "### before continuing, check for zero values in important variables\n",
    "\n",
    "Okay, one row has 0 cost and cost_per_watt.  Let's get rid of it."
   ]
  },
  {
   "cell_type": "code",
   "execution_count": 33,
   "metadata": {},
   "outputs": [
    {
     "data": {
      "text/html": [
       "<div>\n",
       "<style scoped>\n",
       "    .dataframe tbody tr th:only-of-type {\n",
       "        vertical-align: middle;\n",
       "    }\n",
       "\n",
       "    .dataframe tbody tr th {\n",
       "        vertical-align: top;\n",
       "    }\n",
       "\n",
       "    .dataframe thead th {\n",
       "        text-align: right;\n",
       "    }\n",
       "</style>\n",
       "<table border=\"1\" class=\"dataframe\">\n",
       "  <thead>\n",
       "    <tr style=\"text-align: right;\">\n",
       "      <th></th>\n",
       "      <th>date_installed</th>\n",
       "      <th>cost_per_watt</th>\n",
       "      <th>cost</th>\n",
       "      <th>size_kw</th>\n",
       "      <th>state</th>\n",
       "      <th>zipcode</th>\n",
       "      <th>city</th>\n",
       "      <th>county</th>\n",
       "      <th>new_constr</th>\n",
       "      <th>tracking</th>\n",
       "      <th>third_party</th>\n",
       "      <th>appraised</th>\n",
       "      <th>incentive</th>\n",
       "      <th>utility</th>\n",
       "      <th>tech</th>\n",
       "      <th>model</th>\n",
       "      <th>installer</th>\n",
       "      <th>bipv</th>\n",
       "      <th>i_type</th>\n",
       "    </tr>\n",
       "  </thead>\n",
       "  <tbody>\n",
       "    <tr>\n",
       "      <th>584522</th>\n",
       "      <td>2015-04-09</td>\n",
       "      <td>0.0</td>\n",
       "      <td>0.0</td>\n",
       "      <td>12.3</td>\n",
       "      <td>MN</td>\n",
       "      <td>56435</td>\n",
       "      <td>Pontoria</td>\n",
       "      <td>NaN</td>\n",
       "      <td>NaN</td>\n",
       "      <td>NaN</td>\n",
       "      <td>NaN</td>\n",
       "      <td>NaN</td>\n",
       "      <td>NaN</td>\n",
       "      <td>NaN</td>\n",
       "      <td>NaN</td>\n",
       "      <td>NaN</td>\n",
       "      <td>NaN</td>\n",
       "      <td>NaN</td>\n",
       "      <td>residential</td>\n",
       "    </tr>\n",
       "  </tbody>\n",
       "</table>\n",
       "</div>"
      ],
      "text/plain": [
       "       date_installed  cost_per_watt  cost  size_kw state zipcode      city  \\\n",
       "584522     2015-04-09            0.0   0.0     12.3    MN   56435  Pontoria   \n",
       "\n",
       "       county  new_constr  tracking  third_party appraised incentive utility  \\\n",
       "584522    NaN         NaN       NaN          NaN       NaN       NaN     NaN   \n",
       "\n",
       "       tech model installer  bipv       i_type  \n",
       "584522  NaN   NaN       NaN   NaN  residential  "
      ]
     },
     "execution_count": 33,
     "metadata": {},
     "output_type": "execute_result"
    }
   ],
   "source": [
    "# check cost; 1 bad row\n",
    "thing.loc[thing.cost == 0]"
   ]
  },
  {
   "cell_type": "code",
   "execution_count": 34,
   "metadata": {},
   "outputs": [
    {
     "data": {
      "text/html": [
       "<div>\n",
       "<style scoped>\n",
       "    .dataframe tbody tr th:only-of-type {\n",
       "        vertical-align: middle;\n",
       "    }\n",
       "\n",
       "    .dataframe tbody tr th {\n",
       "        vertical-align: top;\n",
       "    }\n",
       "\n",
       "    .dataframe thead th {\n",
       "        text-align: right;\n",
       "    }\n",
       "</style>\n",
       "<table border=\"1\" class=\"dataframe\">\n",
       "  <thead>\n",
       "    <tr style=\"text-align: right;\">\n",
       "      <th></th>\n",
       "      <th>date_installed</th>\n",
       "      <th>cost_per_watt</th>\n",
       "      <th>cost</th>\n",
       "      <th>size_kw</th>\n",
       "      <th>state</th>\n",
       "      <th>zipcode</th>\n",
       "      <th>city</th>\n",
       "      <th>county</th>\n",
       "      <th>new_constr</th>\n",
       "      <th>tracking</th>\n",
       "      <th>third_party</th>\n",
       "      <th>appraised</th>\n",
       "      <th>incentive</th>\n",
       "      <th>utility</th>\n",
       "      <th>tech</th>\n",
       "      <th>model</th>\n",
       "      <th>installer</th>\n",
       "      <th>bipv</th>\n",
       "      <th>i_type</th>\n",
       "    </tr>\n",
       "  </thead>\n",
       "  <tbody>\n",
       "    <tr>\n",
       "      <th>584522</th>\n",
       "      <td>2015-04-09</td>\n",
       "      <td>0.0</td>\n",
       "      <td>0.0</td>\n",
       "      <td>12.3</td>\n",
       "      <td>MN</td>\n",
       "      <td>56435</td>\n",
       "      <td>Pontoria</td>\n",
       "      <td>NaN</td>\n",
       "      <td>NaN</td>\n",
       "      <td>NaN</td>\n",
       "      <td>NaN</td>\n",
       "      <td>NaN</td>\n",
       "      <td>NaN</td>\n",
       "      <td>NaN</td>\n",
       "      <td>NaN</td>\n",
       "      <td>NaN</td>\n",
       "      <td>NaN</td>\n",
       "      <td>NaN</td>\n",
       "      <td>residential</td>\n",
       "    </tr>\n",
       "  </tbody>\n",
       "</table>\n",
       "</div>"
      ],
      "text/plain": [
       "       date_installed  cost_per_watt  cost  size_kw state zipcode      city  \\\n",
       "584522     2015-04-09            0.0   0.0     12.3    MN   56435  Pontoria   \n",
       "\n",
       "       county  new_constr  tracking  third_party appraised incentive utility  \\\n",
       "584522    NaN         NaN       NaN          NaN       NaN       NaN     NaN   \n",
       "\n",
       "       tech model installer  bipv       i_type  \n",
       "584522  NaN   NaN       NaN   NaN  residential  "
      ]
     },
     "execution_count": 34,
     "metadata": {},
     "output_type": "execute_result"
    }
   ],
   "source": [
    "# check cost_per_watt; the same row is bad\n",
    "thing.loc[thing.cost_per_watt == 0]"
   ]
  },
  {
   "cell_type": "code",
   "execution_count": 35,
   "metadata": {},
   "outputs": [
    {
     "data": {
      "text/plain": [
       "0"
      ]
     },
     "execution_count": 35,
     "metadata": {},
     "output_type": "execute_result"
    }
   ],
   "source": [
    "# check size_kw; all ok\n",
    "thing.loc[thing.size_kw == 0].size"
   ]
  },
  {
   "cell_type": "code",
   "execution_count": 36,
   "metadata": {},
   "outputs": [],
   "source": [
    "# get rid of bad guy\n",
    "thing.drop(thing.loc[thing.cost == 0].index, inplace=True)"
   ]
  },
  {
   "cell_type": "code",
   "execution_count": 37,
   "metadata": {},
   "outputs": [
    {
     "data": {
      "text/plain": [
       "0"
      ]
     },
     "execution_count": 37,
     "metadata": {},
     "output_type": "execute_result"
    }
   ],
   "source": [
    "# check that it's gone\n",
    "thing.loc[thing.cost == 0].size"
   ]
  },
  {
   "cell_type": "markdown",
   "metadata": {},
   "source": [
    "#### Looking good; reassign dfLive"
   ]
  },
  {
   "cell_type": "code",
   "execution_count": 38,
   "metadata": {},
   "outputs": [],
   "source": [
    "dfLive = thing"
   ]
  },
  {
   "cell_type": "markdown",
   "metadata": {},
   "source": [
    "### Now let's look at distribution of residential install variable with some useless data gone."
   ]
  },
  {
   "cell_type": "code",
   "execution_count": 39,
   "metadata": {},
   "outputs": [],
   "source": [
    "resMask = (dfLive.i_type == 'residential')"
   ]
  },
  {
   "cell_type": "code",
   "execution_count": 40,
   "metadata": {},
   "outputs": [
    {
     "data": {
      "text/html": [
       "<div>\n",
       "<style scoped>\n",
       "    .dataframe tbody tr th:only-of-type {\n",
       "        vertical-align: middle;\n",
       "    }\n",
       "\n",
       "    .dataframe tbody tr th {\n",
       "        vertical-align: top;\n",
       "    }\n",
       "\n",
       "    .dataframe thead th {\n",
       "        text-align: right;\n",
       "    }\n",
       "</style>\n",
       "<table border=\"1\" class=\"dataframe\">\n",
       "  <thead>\n",
       "    <tr style=\"text-align: right;\">\n",
       "      <th></th>\n",
       "      <th>cost_per_watt</th>\n",
       "      <th>cost</th>\n",
       "      <th>size_kw</th>\n",
       "      <th>new_constr</th>\n",
       "      <th>tracking</th>\n",
       "      <th>third_party</th>\n",
       "      <th>bipv</th>\n",
       "    </tr>\n",
       "  </thead>\n",
       "  <tbody>\n",
       "    <tr>\n",
       "      <th>count</th>\n",
       "      <td>664982.000000</td>\n",
       "      <td>6.649820e+05</td>\n",
       "      <td>664982.000000</td>\n",
       "      <td>20997.0</td>\n",
       "      <td>1262.0</td>\n",
       "      <td>234924.0</td>\n",
       "      <td>2979.0</td>\n",
       "    </tr>\n",
       "    <tr>\n",
       "      <th>mean</th>\n",
       "      <td>5.765620</td>\n",
       "      <td>3.378477e+04</td>\n",
       "      <td>6.153678</td>\n",
       "      <td>1.0</td>\n",
       "      <td>1.0</td>\n",
       "      <td>1.0</td>\n",
       "      <td>1.0</td>\n",
       "    </tr>\n",
       "    <tr>\n",
       "      <th>std</th>\n",
       "      <td>1.960203</td>\n",
       "      <td>3.162304e+04</td>\n",
       "      <td>7.070553</td>\n",
       "      <td>0.0</td>\n",
       "      <td>0.0</td>\n",
       "      <td>0.0</td>\n",
       "      <td>0.0</td>\n",
       "    </tr>\n",
       "    <tr>\n",
       "      <th>min</th>\n",
       "      <td>0.750000</td>\n",
       "      <td>2.270000e+02</td>\n",
       "      <td>0.050000</td>\n",
       "      <td>1.0</td>\n",
       "      <td>1.0</td>\n",
       "      <td>1.0</td>\n",
       "      <td>1.0</td>\n",
       "    </tr>\n",
       "    <tr>\n",
       "      <th>25%</th>\n",
       "      <td>4.519231</td>\n",
       "      <td>2.071178e+04</td>\n",
       "      <td>3.760000</td>\n",
       "      <td>1.0</td>\n",
       "      <td>1.0</td>\n",
       "      <td>1.0</td>\n",
       "      <td>1.0</td>\n",
       "    </tr>\n",
       "    <tr>\n",
       "      <th>50%</th>\n",
       "      <td>5.370000</td>\n",
       "      <td>2.940000e+04</td>\n",
       "      <td>5.460000</td>\n",
       "      <td>1.0</td>\n",
       "      <td>1.0</td>\n",
       "      <td>1.0</td>\n",
       "      <td>1.0</td>\n",
       "    </tr>\n",
       "    <tr>\n",
       "      <th>75%</th>\n",
       "      <td>6.880000</td>\n",
       "      <td>4.110000e+04</td>\n",
       "      <td>7.650000</td>\n",
       "      <td>1.0</td>\n",
       "      <td>1.0</td>\n",
       "      <td>1.0</td>\n",
       "      <td>1.0</td>\n",
       "    </tr>\n",
       "    <tr>\n",
       "      <th>max</th>\n",
       "      <td>29.825243</td>\n",
       "      <td>3.940000e+06</td>\n",
       "      <td>1989.520000</td>\n",
       "      <td>1.0</td>\n",
       "      <td>1.0</td>\n",
       "      <td>1.0</td>\n",
       "      <td>1.0</td>\n",
       "    </tr>\n",
       "  </tbody>\n",
       "</table>\n",
       "</div>"
      ],
      "text/plain": [
       "       cost_per_watt          cost        size_kw  new_constr  tracking  \\\n",
       "count  664982.000000  6.649820e+05  664982.000000     20997.0    1262.0   \n",
       "mean        5.765620  3.378477e+04       6.153678         1.0       1.0   \n",
       "std         1.960203  3.162304e+04       7.070553         0.0       0.0   \n",
       "min         0.750000  2.270000e+02       0.050000         1.0       1.0   \n",
       "25%         4.519231  2.071178e+04       3.760000         1.0       1.0   \n",
       "50%         5.370000  2.940000e+04       5.460000         1.0       1.0   \n",
       "75%         6.880000  4.110000e+04       7.650000         1.0       1.0   \n",
       "max        29.825243  3.940000e+06    1989.520000         1.0       1.0   \n",
       "\n",
       "       third_party    bipv  \n",
       "count     234924.0  2979.0  \n",
       "mean           1.0     1.0  \n",
       "std            0.0     0.0  \n",
       "min            1.0     1.0  \n",
       "25%            1.0     1.0  \n",
       "50%            1.0     1.0  \n",
       "75%            1.0     1.0  \n",
       "max            1.0     1.0  "
      ]
     },
     "execution_count": 40,
     "metadata": {},
     "output_type": "execute_result"
    }
   ],
   "source": [
    "dfLive.loc[resMask].describe()"
   ]
  },
  {
   "cell_type": "code",
   "execution_count": 41,
   "metadata": {},
   "outputs": [
    {
     "data": {
      "text/plain": [
       "0"
      ]
     },
     "execution_count": 41,
     "metadata": {},
     "output_type": "execute_result"
    }
   ],
   "source": [
    "# this tells me I have no null sizes\n",
    "dfLive.loc[resMask].size_kw.isnull().sum()"
   ]
  },
  {
   "cell_type": "code",
   "execution_count": 42,
   "metadata": {},
   "outputs": [
    {
     "data": {
      "text/plain": [
       "0"
      ]
     },
     "execution_count": 42,
     "metadata": {},
     "output_type": "execute_result"
    }
   ],
   "source": [
    "# no null costs\n",
    "dfLive.loc[resMask].cost.isnull().sum()"
   ]
  },
  {
   "cell_type": "code",
   "execution_count": 43,
   "metadata": {},
   "outputs": [
    {
     "data": {
      "text/plain": [
       "0"
      ]
     },
     "execution_count": 43,
     "metadata": {},
     "output_type": "execute_result"
    }
   ],
   "source": [
    "# no null cpw\n",
    "dfLive.loc[resMask].cost_per_watt.isnull().sum()"
   ]
  },
  {
   "cell_type": "code",
   "execution_count": 44,
   "metadata": {},
   "outputs": [
    {
     "data": {
      "image/png": "[encoded data removed]",
      "text/plain": [
       "<matplotlib.figure.Figure at 0x2cfd9477a90>"
      ]
     },
     "metadata": {},
     "output_type": "display_data"
    }
   ],
   "source": [
    "dfLive.loc[resMask].size_kw.plot(kind='hist', bins=30)\n",
    "plt.xlabel('Size of installation')\n",
    "plt.ylabel('Frequency')\n",
    "plt.title('Distribution of Size in kw');"
   ]
  },
  {
   "cell_type": "code",
   "execution_count": 45,
   "metadata": {},
   "outputs": [
    {
     "data": {
      "image/png": "[encoded data removed]",
      "text/plain": [
       "<matplotlib.figure.Figure at 0x2cfdaac40b8>"
      ]
     },
     "metadata": {},
     "output_type": "display_data"
    }
   ],
   "source": [
    "np.log10(dfLive.loc[resMask].size_kw).plot(kind='hist', bins=30)\n",
    "plt.xlabel('log10(Size) of installation')\n",
    "plt.ylabel('Frequency')\n",
    "plt.title('Distribution of log10(Size) in kw');"
   ]
  },
  {
   "cell_type": "code",
   "execution_count": 46,
   "metadata": {},
   "outputs": [
    {
     "data": {
      "image/png": "[encoded data removed]",
      "text/plain": [
       "<matplotlib.figure.Figure at 0x2cfd9292630>"
      ]
     },
     "metadata": {},
     "output_type": "display_data"
    }
   ],
   "source": [
    "dfLive.loc[resMask].cost_per_watt.plot(kind='hist', bins=30)\n",
    "plt.xlabel('Cost per watt')\n",
    "plt.ylabel('Frequency')\n",
    "plt.title('Distribution of cost per watt');"
   ]
  },
  {
   "cell_type": "code",
   "execution_count": 47,
   "metadata": {},
   "outputs": [
    {
     "data": {
      "image/png": "[encoded data removed]",
      "text/plain": [
       "<matplotlib.figure.Figure at 0x2cfd96c9f98>"
      ]
     },
     "metadata": {},
     "output_type": "display_data"
    }
   ],
   "source": [
    "dfLive.loc[resMask].cost.plot(kind='hist', bins=30)\n",
    "plt.xlabel('Cost of installation')\n",
    "plt.ylabel('Frequency')\n",
    "plt.title('Distribution of cost of installation');"
   ]
  },
  {
   "cell_type": "code",
   "execution_count": 48,
   "metadata": {},
   "outputs": [
    {
     "data": {
      "image/png": "[encoded data removed]",
      "text/plain": [
       "<matplotlib.figure.Figure at 0x2cfda9176d8>"
      ]
     },
     "metadata": {},
     "output_type": "display_data"
    }
   ],
   "source": [
    "np.log10(dfLive.loc[resMask].cost).plot(kind='hist', bins=30)\n",
    "plt.xlabel('log10(cost) of installation')\n",
    "plt.ylabel('Frequency')\n",
    "plt.title('Distribution of log10(cost) of installation');"
   ]
  },
  {
   "cell_type": "code",
   "execution_count": 49,
   "metadata": {},
   "outputs": [],
   "source": [
    "# save this data...\n",
    "dfLive.to_csv('../local/data/20180105')"
   ]
  },
  {
   "cell_type": "code",
   "execution_count": 50,
   "metadata": {},
   "outputs": [
    {
     "name": "stdout",
     "output_type": "stream",
     "text": [
      "<class 'pandas.core.frame.DataFrame'>\n",
      "Int64Index: 745362 entries, 0 to 745370\n",
      "Data columns (total 19 columns):\n",
      "date_installed    745362 non-null datetime64[ns]\n",
      "cost_per_watt     745362 non-null float64\n",
      "cost              745362 non-null float64\n",
      "size_kw           745362 non-null float64\n",
      "state             745362 non-null object\n",
      "zipcode           745362 non-null object\n",
      "city              552240 non-null object\n",
      "county            732641 non-null object\n",
      "new_constr        23813 non-null float64\n",
      "tracking          1705 non-null float64\n",
      "third_party       239541 non-null float64\n",
      "appraised         146655 non-null object\n",
      "incentive         552618 non-null object\n",
      "utility           550246 non-null object\n",
      "tech              421871 non-null object\n",
      "model             421871 non-null object\n",
      "installer         470553 non-null object\n",
      "bipv              3897 non-null float64\n",
      "i_type            715437 non-null object\n",
      "dtypes: datetime64[ns](1), float64(7), object(11)\n",
      "memory usage: 113.7+ MB\n"
     ]
    }
   ],
   "source": [
    "dfLive.info()"
   ]
  },
  {
   "cell_type": "markdown",
   "metadata": {},
   "source": [
    "### Stopping here.  Continue with checking outlying values in cost, cost/watt, size_kw"
   ]
  }
 ],
 "metadata": {
  "kernelspec": {
   "display_name": "Python 3",
   "language": "python",
   "name": "python3"
  },
  "language_info": {
   "codemirror_mode": {
    "name": "ipython",
    "version": 3
   },
   "file_extension": ".py",
   "mimetype": "text/x-python",
   "name": "python",
   "nbconvert_exporter": "python",
   "pygments_lexer": "ipython3",
   "version": "3.6.3"
  }
 },
 "nbformat": 4,
 "nbformat_minor": 2
}
