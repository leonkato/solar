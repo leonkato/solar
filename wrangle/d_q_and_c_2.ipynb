{
 "cells": [
  {
   "cell_type": "markdown",
   "metadata": {},
   "source": [
    "## Part 2 begins here.\n",
    "\n",
    "Note: this notebook is too big; should have been done in two parts.  Detailed contents at the end.\n",
    "\n",
    "Load and reindex by date_installed after checking no nulls.  I want to see if null data in the date_installed column was a one-time thing.\n",
    "\n",
    "Will there be any change in the mixed type warnings (because of removing misaligned rows)?   "
   ]
  },
  {
   "cell_type": "markdown",
   "metadata": {},
   "source": [
    "\n",
    "* Load data\n",
    "\n",
    "* Examine <a href=\"#Install_type\">Install_type</a>.\n",
    "    Many install types exist in data.  Top two types are residential and commercial.\n",
    "\n",
    "* Pull out <a href=\"#Residential\">residential</a> and commercial data into their own dataframes.\n",
    "    * Examine relationships among price_per_watt, size and cost.  Data is dirty, but masking out top and bottom 1% cleans it up nicely, while not losing much data.\n",
    "    * Breaking out the data for residential did not clean up the distributions.  Masking away the top and bottom 1% brings us much closer to a working set.  It will be interesting to see what happens when the same approach is applied to commercial installations, the next largest group.\n",
    "    \n",
    "*  Examine <a href=\"#Geo\">geograpical</a> variables\n",
    "    * state                          \n",
    "        Make all into 2-character strings. Check.\n",
    "    * zipcode                        \n",
    "        Make all into 5-character strings with leading zeros.  Check.\n",
    "    * city                           \n",
    "        Save for EDA\n",
    "    * county                         \n",
    "        Save for EDA\n",
    "    \n",
    "* Examine <a href=\"#Other\">other</a> variables\n",
    "    * installer:\n",
    "        keep for now, though we may not do anything with it\n",
    "    * new_constr:\n",
    "        keep for now, though we may not do anything with it\n",
    "    * tracking: \n",
    "        keep for now, though we may not do anything with it\n",
    "    * 3rd_party:\n",
    "        keep for sure; there are enough to make the question of price divergence interesting\n",
    " \n",
    "* Examine <a href=\"#Possible\">possibly</a> usable fields\n",
    "\n",
    "##### Divide into 3 groups \n",
    "1. keepers\n",
    "    * date_installed\n",
    "    * cost_per_watt\n",
    "    * size_kw\n",
    "    * cost\n",
    "<br>\n",
    "    * state\n",
    "    * zipcode\n",
    "    * city\n",
    "    * county\n",
    "<br>\n",
    "    * appraised\n",
    "    * install_type\n",
    "    * new_const\n",
    "    * tracking\n",
    "    * 3rd_party\n",
    "2. decide later\n",
    "    * incentive_prog_names\n",
    "    * utility_clean\n",
    "    * tech_1\n",
    "    * model1_clean\n",
    "    * installer\n",
    "    * bipv_1\n",
    "3. don't keep\n",
    "    * type \n",
    "    * lbnl_tts_version_year \n",
    "    * lbnl_tts \n",
    "    * annual_PV_prod \n",
    "    * annual_insolation \n",
    "    * rebate \n",
    "    * sales_tax_cost \n",
    "    * tilt1 \n",
    "    * tracking_type \n",
    "    * azimuth1 \n",
    "    * manuf2_clean\n",
    "    * manuf3_clean\n",
    "    * manuf1_clean \n",
    "    * inv_man_clean \n",
    "    * reported_annual_energy_prod \n",
    "    * year \n",
    "    * pbi_length \n",
    "    * utility \n",
    "    * bipv_3 \n",
    "    * bipv_2 \n"
   ]
  },
  {
   "cell_type": "markdown",
   "metadata": {},
   "source": [
    "### Start by loading up"
   ]
  },
  {
   "cell_type": "code",
   "execution_count": 1,
   "metadata": {},
   "outputs": [],
   "source": [
    "# set up\n",
    "import numpy as np\n",
    "import pandas as pd\n",
    "import random\n",
    "import matplotlib.pyplot as plt\n",
    "import seaborn as sns\n",
    "sns.set()\n",
    "%matplotlib inline"
   ]
  },
  {
   "cell_type": "code",
   "execution_count": 2,
   "metadata": {},
   "outputs": [
    {
     "name": "stderr",
     "output_type": "stream",
     "text": [
      "C:\\Users\\saus\\Anaconda3\\lib\\site-packages\\IPython\\core\\interactiveshell.py:2728: DtypeWarning: Columns (19,29,31) have mixed types. Specify dtype option on import or set low_memory=False.\n",
      "  interactivity=interactivity, compiler=compiler, result=result)\n"
     ]
    }
   ],
   "source": [
    "dfFull = pd.read_csv('../local/data/live_20171219_1.csv', index_col='date_installed', parse_dates=True)"
   ]
  },
  {
   "cell_type": "code",
   "execution_count": 3,
   "metadata": {},
   "outputs": [
    {
     "data": {
      "text/plain": [
       "0"
      ]
     },
     "execution_count": 3,
     "metadata": {},
     "output_type": "execute_result"
    }
   ],
   "source": [
    "# check that index contains no null entries\n",
    "dfFull.index.isnull().sum()"
   ]
  },
  {
   "cell_type": "code",
   "execution_count": 4,
   "metadata": {},
   "outputs": [],
   "source": [
    "# this doesn't modify the file.\n",
    "dfFull.sort_index(inplace=True)"
   ]
  },
  {
   "cell_type": "code",
   "execution_count": 5,
   "metadata": {
    "scrolled": true
   },
   "outputs": [
    {
     "name": "stdout",
     "output_type": "stream",
     "text": [
      "<class 'pandas.core.frame.DataFrame'>\n",
      "DatetimeIndex: 1020516 entries, 1909-07-07 to 2017-11-25\n",
      "Data columns (total 37 columns):\n",
      "state                          1020516 non-null object\n",
      "incentive_prog_names           797958 non-null object\n",
      "size_kw                        1020516 non-null float64\n",
      "appraised                      224036 non-null object\n",
      "zipcode                        1020516 non-null int64\n",
      "install_type                   977940 non-null object\n",
      "installer                      702466 non-null object\n",
      "cost_per_watt                  762941 non-null float64\n",
      "cost                           763102 non-null float64\n",
      "lbnl_tts_version_year          797958 non-null float64\n",
      "lbnl_tts                       797958 non-null object\n",
      "city                           798954 non-null object\n",
      "utility_clean                  792717 non-null object\n",
      "tech_1                         580917 non-null object\n",
      "model1_clean                   580917 non-null object\n",
      "county                         998649 non-null object\n",
      "annual_PV_prod                 780966 non-null float64\n",
      "annual_insolation              780966 non-null float64\n",
      "rebate                         386698 non-null object\n",
      "sales_tax_cost                 355309 non-null float64\n",
      "tilt1                          383365 non-null float64\n",
      "tracking_type                  526055 non-null object\n",
      "azimuth1                       363281 non-null float64\n",
      "manuf2_clean                   231606 non-null object\n",
      "manuf3_clean                   209652 non-null object\n",
      "manuf1_clean                   201120 non-null object\n",
      "inv_man_clean                  49932 non-null object\n",
      "reported_annual_energy_prod    204426 non-null float64\n",
      "year                           68 non-null object\n",
      "pbi_length                     5427 non-null float64\n",
      "utility                        2117 non-null object\n",
      "bipv_3                         5255 non-null float64\n",
      "bipv_2                         5255 non-null float64\n",
      "bipv_1                         5255 non-null float64\n",
      "new_constr                     27106 non-null float64\n",
      "tracking                       1930 non-null float64\n",
      "3rdparty                       306990 non-null float64\n",
      "dtypes: float64(17), int64(1), object(19)\n",
      "memory usage: 295.9+ MB\n"
     ]
    }
   ],
   "source": [
    "dfFull.info()"
   ]
  },
  {
   "cell_type": "code",
   "execution_count": 6,
   "metadata": {},
   "outputs": [],
   "source": [
    "theColumns = dict(enumerate(dfFull.columns))"
   ]
  },
  {
   "cell_type": "code",
   "execution_count": 7,
   "metadata": {},
   "outputs": [
    {
     "data": {
      "text/plain": [
       "{0: 'state',\n",
       " 1: 'incentive_prog_names',\n",
       " 2: 'size_kw',\n",
       " 3: 'appraised',\n",
       " 4: 'zipcode',\n",
       " 5: 'install_type',\n",
       " 6: 'installer',\n",
       " 7: 'cost_per_watt',\n",
       " 8: 'cost',\n",
       " 9: 'lbnl_tts_version_year',\n",
       " 10: 'lbnl_tts',\n",
       " 11: 'city',\n",
       " 12: 'utility_clean',\n",
       " 13: 'tech_1',\n",
       " 14: 'model1_clean',\n",
       " 15: 'county',\n",
       " 16: 'annual_PV_prod',\n",
       " 17: 'annual_insolation',\n",
       " 18: 'rebate',\n",
       " 19: 'sales_tax_cost',\n",
       " 20: 'tilt1',\n",
       " 21: 'tracking_type',\n",
       " 22: 'azimuth1',\n",
       " 23: 'manuf2_clean',\n",
       " 24: 'manuf3_clean',\n",
       " 25: 'manuf1_clean',\n",
       " 26: 'inv_man_clean',\n",
       " 27: 'reported_annual_energy_prod',\n",
       " 28: 'year',\n",
       " 29: 'pbi_length',\n",
       " 30: 'utility',\n",
       " 31: 'bipv_3',\n",
       " 32: 'bipv_2',\n",
       " 33: 'bipv_1',\n",
       " 34: 'new_constr',\n",
       " 35: 'tracking',\n",
       " 36: '3rdparty'}"
      ]
     },
     "execution_count": 7,
     "metadata": {},
     "output_type": "execute_result"
    }
   ],
   "source": [
    "theColumns"
   ]
  },
  {
   "cell_type": "code",
   "execution_count": 8,
   "metadata": {},
   "outputs": [
    {
     "data": {
      "text/plain": [
       "['sales_tax_cost', 'pbi_length', 'bipv_3']"
      ]
     },
     "execution_count": 8,
     "metadata": {},
     "output_type": "execute_result"
    }
   ],
   "source": [
    "# which columns have mixed type at this point\n",
    "[theColumns[col] for col in (19,29,31)]"
   ]
  },
  {
   "cell_type": "markdown",
   "metadata": {},
   "source": [
    "##### Note: cleaning has reduced number of mixed type columns."
   ]
  },
  {
   "cell_type": "markdown",
   "metadata": {},
   "source": [
    "<a id=\"Install_type\"></a>\n",
    "###  Can I clean up install_type?\n",
    "<a id=\"Install_type\"></a>\n",
    "At this point it becomes apparent that we need to partition the data because there are too many disparate types of installation to manage.  \n",
    "\n",
    "We begin by looking closely at installation type.  The top two categories are residential (93% of the data) and commercial (4%) of the data.  The next largest category is 'unknown' with 2%.  \n",
    "\n",
    "It doesn't seem to make much sense to dive deeper into the smaller categories unless time permits."
   ]
  },
  {
   "cell_type": "code",
   "execution_count": 9,
   "metadata": {},
   "outputs": [
    {
     "data": {
      "text/plain": [
       "residential                    907982\n",
       "commercial                      36378\n",
       "unknown                         19805\n",
       "government                       5748\n",
       "nonprofit                        4220\n",
       "educational                      2413\n",
       "agricultural                      408\n",
       "customer                          371\n",
       "education                         290\n",
       "utility                           230\n",
       "institutional                      29\n",
       "commercial - other                 16\n",
       "public                             16\n",
       "gov't/np                           11\n",
       "residential/sf                      5\n",
       "agriculture                         5\n",
       "nonresidential                      3\n",
       "small business                      2\n",
       "not stated                          2\n",
       "commercial - small business         2\n",
       "commercial - agriculture            1\n",
       "commerical                          1\n",
       "commercial - builders               1\n",
       "municipal                           1\n",
       "Name: install_type, dtype: int64"
      ]
     },
     "execution_count": 9,
     "metadata": {},
     "output_type": "execute_result"
    }
   ],
   "source": [
    "dfFull.install_type.value_counts()"
   ]
  },
  {
   "cell_type": "code",
   "execution_count": 10,
   "metadata": {},
   "outputs": [],
   "source": [
    "# capture the value counts for further calculation\n",
    "installVCs = dfFull.install_type.value_counts()"
   ]
  },
  {
   "cell_type": "code",
   "execution_count": 11,
   "metadata": {},
   "outputs": [
    {
     "data": {
      "text/plain": [
       "residential    0.928464\n",
       "commercial     0.037199\n",
       "unknown        0.020252\n",
       "Name: install_type, dtype: float64"
      ]
     },
     "execution_count": 11,
     "metadata": {},
     "output_type": "execute_result"
    }
   ],
   "source": [
    "installVCs[['residential', 'commercial', 'unknown']]/dfFull.install_type.count()"
   ]
  },
  {
   "cell_type": "markdown",
   "metadata": {},
   "source": [
    "### Pull out residential and commercial data into their own dataframes"
   ]
  },
  {
   "cell_type": "code",
   "execution_count": 12,
   "metadata": {},
   "outputs": [],
   "source": [
    "dfRes = dfFull[dfFull.install_type == 'residential']"
   ]
  },
  {
   "cell_type": "code",
   "execution_count": 13,
   "metadata": {},
   "outputs": [],
   "source": [
    "dfCom = dfFull[dfFull.install_type == 'commercial']"
   ]
  },
  {
   "cell_type": "markdown",
   "metadata": {},
   "source": [
    "###  size and cost in residential installations\n",
    "<a id=\"Residential\"></a>\n",
    "Cost_per_watt is the most important variable because it is the value we'll be modeling. It is not completely populated (763k/1.02M).\n",
    "\n",
    "Investigate relationship between cost_per_watt, cost and size_kw.  One might assume that \n",
    "\n",
    "  $$ costPerWatt ~= cost/size(kw  * 0.001 $$\n",
    "\n",
    "First we look at the distribution of $cost\\_per\\_watt$, $size\\_kw$ and $cost$.\n",
    "\n",
    "It's evident that there are outliers in each variable.  After discarding the top and bottom 1%, the distributions look relatively well-behaved.  "
   ]
  },
  {
   "cell_type": "code",
   "execution_count": 14,
   "metadata": {},
   "outputs": [
    {
     "data": {
      "text/html": [
       "<div>\n",
       "<style scoped>\n",
       "    .dataframe tbody tr th:only-of-type {\n",
       "        vertical-align: middle;\n",
       "    }\n",
       "\n",
       "    .dataframe tbody tr th {\n",
       "        vertical-align: top;\n",
       "    }\n",
       "\n",
       "    .dataframe thead th {\n",
       "        text-align: right;\n",
       "    }\n",
       "</style>\n",
       "<table border=\"1\" class=\"dataframe\">\n",
       "  <thead>\n",
       "    <tr style=\"text-align: right;\">\n",
       "      <th></th>\n",
       "      <th>cost_per_watt</th>\n",
       "      <th>size_kw</th>\n",
       "      <th>cost</th>\n",
       "    </tr>\n",
       "  </thead>\n",
       "  <tbody>\n",
       "    <tr>\n",
       "      <th>count</th>\n",
       "      <td>674728.000000</td>\n",
       "      <td>907982.000000</td>\n",
       "      <td>6.747460e+05</td>\n",
       "    </tr>\n",
       "    <tr>\n",
       "      <th>mean</th>\n",
       "      <td>5.799613</td>\n",
       "      <td>7.276421</td>\n",
       "      <td>3.375231e+04</td>\n",
       "    </tr>\n",
       "    <tr>\n",
       "      <th>std</th>\n",
       "      <td>1.993290</td>\n",
       "      <td>839.134757</td>\n",
       "      <td>3.153980e+04</td>\n",
       "    </tr>\n",
       "    <tr>\n",
       "      <th>min</th>\n",
       "      <td>0.000000</td>\n",
       "      <td>0.005600</td>\n",
       "      <td>0.000000e+00</td>\n",
       "    </tr>\n",
       "    <tr>\n",
       "      <th>25%</th>\n",
       "      <td>4.535147</td>\n",
       "      <td>3.709381</td>\n",
       "      <td>2.065000e+04</td>\n",
       "    </tr>\n",
       "    <tr>\n",
       "      <th>50%</th>\n",
       "      <td>5.410000</td>\n",
       "      <td>5.376000</td>\n",
       "      <td>2.937600e+04</td>\n",
       "    </tr>\n",
       "    <tr>\n",
       "      <th>75%</th>\n",
       "      <td>6.950000</td>\n",
       "      <td>7.500000</td>\n",
       "      <td>4.108200e+04</td>\n",
       "    </tr>\n",
       "    <tr>\n",
       "      <th>max</th>\n",
       "      <td>29.825243</td>\n",
       "      <td>737319.000000</td>\n",
       "      <td>3.940000e+06</td>\n",
       "    </tr>\n",
       "  </tbody>\n",
       "</table>\n",
       "</div>"
      ],
      "text/plain": [
       "       cost_per_watt        size_kw          cost\n",
       "count  674728.000000  907982.000000  6.747460e+05\n",
       "mean        5.799613       7.276421  3.375231e+04\n",
       "std         1.993290     839.134757  3.153980e+04\n",
       "min         0.000000       0.005600  0.000000e+00\n",
       "25%         4.535147       3.709381  2.065000e+04\n",
       "50%         5.410000       5.376000  2.937600e+04\n",
       "75%         6.950000       7.500000  4.108200e+04\n",
       "max        29.825243  737319.000000  3.940000e+06"
      ]
     },
     "execution_count": 14,
     "metadata": {},
     "output_type": "execute_result"
    }
   ],
   "source": [
    "dfRes[['cost_per_watt', 'size_kw', 'cost']].describe()"
   ]
  },
  {
   "cell_type": "markdown",
   "metadata": {},
   "source": [
    "###### cost_per_watt\n",
    "\n",
    "The distribution looks fairly reasonable for the data we have.   Median \\$5.41/watt.  Mean is \\$5.80.\n"
   ]
  },
  {
   "cell_type": "code",
   "execution_count": 15,
   "metadata": {},
   "outputs": [],
   "source": [
    "# utility for hiding top and bottom 1% for plotting\n",
    "def mid98(series):\n",
    "    '''\n",
    "    return middle 98% of series\n",
    "    '''\n",
    "    bounds = series.quantile([0.01, 0.99])\n",
    "    return(series[(series > bounds.values[0]) & (series < bounds.values[1])])"
   ]
  },
  {
   "cell_type": "code",
   "execution_count": 16,
   "metadata": {},
   "outputs": [
    {
     "data": {
      "text/plain": [
       "count    661225.000000\n",
       "mean          5.755547\n",
       "std           1.738462\n",
       "min           1.964879\n",
       "25%           4.569204\n",
       "50%           5.410000\n",
       "75%           6.900000\n",
       "max          12.088889\n",
       "Name: cost_per_watt, dtype: float64"
      ]
     },
     "execution_count": 16,
     "metadata": {},
     "output_type": "execute_result"
    }
   ],
   "source": [
    "mid98(dfRes.cost_per_watt).describe()"
   ]
  },
  {
   "cell_type": "code",
   "execution_count": 17,
   "metadata": {},
   "outputs": [
    {
     "data": {
      "text/plain": [
       "count    674728.000000\n",
       "mean          5.799613\n",
       "std           1.993290\n",
       "min           0.000000\n",
       "25%           4.535147\n",
       "50%           5.410000\n",
       "75%           6.950000\n",
       "max          29.825243\n",
       "Name: cost_per_watt, dtype: float64"
      ]
     },
     "execution_count": 17,
     "metadata": {},
     "output_type": "execute_result"
    }
   ],
   "source": [
    "dfRes.cost_per_watt.describe()"
   ]
  },
  {
   "cell_type": "code",
   "execution_count": 18,
   "metadata": {},
   "outputs": [
    {
     "data": {
      "text/plain": [
       "0.01     1.964860\n",
       "0.99    12.089286\n",
       "Name: cost_per_watt, dtype: float64"
      ]
     },
     "execution_count": 18,
     "metadata": {},
     "output_type": "execute_result"
    }
   ],
   "source": [
    "dfRes.cost_per_watt.quantile([0.01, 0.99])"
   ]
  },
  {
   "cell_type": "code",
   "execution_count": 19,
   "metadata": {},
   "outputs": [
    {
     "data": {
      "image/png": "[encoded data removed]",
      "text/plain": [
       "<matplotlib.figure.Figure at 0x19729eee5f8>"
      ]
     },
     "metadata": {},
     "output_type": "display_data"
    }
   ],
   "source": [
    "## some bad data at the high and low ends.\n",
    "dfRes.cost_per_watt.plot(kind='hist', bins=30)\n",
    "plt.xlabel('cost per watt')\n",
    "plt.ylabel('frequency')\n",
    "plt.title('distribution of cost_per_watt');"
   ]
  },
  {
   "cell_type": "code",
   "execution_count": 20,
   "metadata": {},
   "outputs": [
    {
     "data": {
      "image/png": "[encoded data removed]",
      "text/plain": [
       "<matplotlib.figure.Figure at 0x1972af1b588>"
      ]
     },
     "metadata": {},
     "output_type": "display_data"
    }
   ],
   "source": [
    "mid98(dfRes.cost_per_watt).plot(kind='hist', bins=30)\n",
    "plt.xlabel('cost per watt')\n",
    "plt.ylabel('frequency')\n",
    "plt.title('distribution of middle 98% of cost_per_watt');"
   ]
  },
  {
   "cell_type": "code",
   "execution_count": 21,
   "metadata": {},
   "outputs": [
    {
     "data": {
      "image/png": "[encoded data removed]",
      "text/plain": [
       "<matplotlib.figure.Figure at 0x1972c986080>"
      ]
     },
     "metadata": {},
     "output_type": "display_data"
    }
   ],
   "source": [
    "dfRes.cost_per_watt.plot(kind='hist', bins=30, cumulative=True, normed=True)\n",
    "plt.xlabel('cost per watt')\n",
    "plt.ylabel('CDF')\n",
    "plt.title('cumulative distribution of cost_per_watt');"
   ]
  },
  {
   "cell_type": "code",
   "execution_count": 22,
   "metadata": {},
   "outputs": [
    {
     "data": {
      "image/png": "[encoded data removed]",
      "text/plain": [
       "<matplotlib.figure.Figure at 0x1972ca17470>"
      ]
     },
     "metadata": {},
     "output_type": "display_data"
    }
   ],
   "source": [
    "mid98(dfRes.cost_per_watt).plot(kind='hist', bins=30, cumulative=True, normed=True)\n",
    "plt.xlabel('cost per watt')\n",
    "plt.ylabel('CDF')\n",
    "plt.title('cumulative distribution mid 98% of cost_per_watt');"
   ]
  },
  {
   "cell_type": "markdown",
   "metadata": {},
   "source": [
    "###### cost\n",
    "Presumably this is the total cost of the installation."
   ]
  },
  {
   "cell_type": "code",
   "execution_count": 23,
   "metadata": {},
   "outputs": [
    {
     "data": {
      "image/png": "[encoded data removed]",
      "text/plain": [
       "<matplotlib.figure.Figure at 0x1972ca29898>"
      ]
     },
     "metadata": {},
     "output_type": "display_data"
    }
   ],
   "source": [
    "# something funny here.  Summary stats say median is $30k.  Mean is double that.\n",
    "dfRes.cost.plot(kind='hist', bins=30)\n",
    "plt.xlabel('total install cost ')\n",
    "plt.ylabel('frequency')\n",
    "plt.title('Distribution of total install cost');"
   ]
  },
  {
   "cell_type": "code",
   "execution_count": 24,
   "metadata": {},
   "outputs": [
    {
     "data": {
      "image/png": "[encoded data removed]",
      "text/plain": [
       "<matplotlib.figure.Figure at 0x1972a3e0f28>"
      ]
     },
     "metadata": {},
     "output_type": "display_data"
    }
   ],
   "source": [
    "# without the bottom and top 1%\n",
    "mid98(dfRes.cost).plot(kind='hist', bins=30)\n",
    "plt.xlabel('total install cost ')\n",
    "plt.ylabel('frequency')\n",
    "plt.title('Distribution of mid 98% total install cost');"
   ]
  },
  {
   "cell_type": "markdown",
   "metadata": {},
   "source": [
    "##### size\n",
    "Total kilowatts for installation."
   ]
  },
  {
   "cell_type": "code",
   "execution_count": 25,
   "metadata": {},
   "outputs": [
    {
     "data": {
      "image/png": "[encoded data removed]",
      "text/plain": [
       "<matplotlib.figure.Figure at 0x1972c9b4518>"
      ]
     },
     "metadata": {},
     "output_type": "display_data"
    }
   ],
   "source": [
    "# looks a lot like the cost distribution\n",
    "dfRes.size_kw.plot(kind='hist', bins=30)\n",
    "plt.xlabel('installation size ')\n",
    "plt.ylabel('frequency')\n",
    "plt.title('Distribution of installation size');"
   ]
  },
  {
   "cell_type": "code",
   "execution_count": 26,
   "metadata": {},
   "outputs": [
    {
     "data": {
      "image/png": "[encoded data removed]",
      "text/plain": [
       "<matplotlib.figure.Figure at 0x1972af18ba8>"
      ]
     },
     "metadata": {},
     "output_type": "display_data"
    }
   ],
   "source": [
    "# much more like data\n",
    "mid98(dfRes.size_kw).plot(kind='hist', bins=30)\n",
    "plt.xlabel('total installation size')\n",
    "plt.ylabel('frequency')\n",
    "plt.title('Distribution of mid 98% of installation size');"
   ]
  },
  {
   "cell_type": "markdown",
   "metadata": {},
   "source": [
    "---"
   ]
  },
  {
   "cell_type": "markdown",
   "metadata": {},
   "source": [
    "### Commentary on data quality for cost_per_watt, cost and size\n",
    "\n",
    "Breaking out the data for residential did not clean up the distributions.  Since they are far and away the largest group, this might not be surprising.  Masking away the top and bottom 1% seem to bring us much closer to a working set.  It will be interesting to see what happens when the same approach is applied to commercial installations, the next largest group."
   ]
  },
  {
   "cell_type": "markdown",
   "metadata": {},
   "source": [
    "### Breaking here..."
   ]
  },
  {
   "cell_type": "markdown",
   "metadata": {},
   "source": [
    "### look at the relationship between cost-per-watt, cost and size(kw)\n",
    "If this data is good, size_kw * cost/watt ~= cost.  We want to find out if it's true"
   ]
  },
  {
   "cell_type": "code",
   "execution_count": 27,
   "metadata": {},
   "outputs": [],
   "source": [
    "# ignore before 2004 for now\n",
    "def after(df=dfFull, year=2004):\n",
    "    return dfFull.loc[dfFull.index > pd.to_datetime(year)]    "
   ]
  },
  {
   "cell_type": "code",
   "execution_count": 28,
   "metadata": {},
   "outputs": [],
   "source": [
    "# keep going on variables; Come back to this.\n",
    "# (size_kw * cost_per_watt) * 1000 ~= cost\n",
    "# thing =  (after().size_kw * after().cost_per_watt * 1000)/after().cost"
   ]
  },
  {
   "cell_type": "markdown",
   "metadata": {},
   "source": [
    "<a id=\"Geo\"></a> \n",
    "#### Geography\n",
    "```\n",
    "* state                          1020521 non-null object\n",
    "* zipcode                        1020516 non-null float64\n",
    "* city                           798954 non-null object\n",
    "* county                         998652 non-null object\n",
    "```"
   ]
  },
  {
   "cell_type": "code",
   "execution_count": 29,
   "metadata": {},
   "outputs": [
    {
     "name": "stdout",
     "output_type": "stream",
     "text": [
      "<class 'pandas.core.frame.DataFrame'>\n",
      "DatetimeIndex: 1020516 entries, 1909-07-07 to 2017-11-25\n",
      "Data columns (total 4 columns):\n",
      "state      1020516 non-null object\n",
      "zipcode    1020516 non-null int64\n",
      "city       798954 non-null object\n",
      "county     998649 non-null object\n",
      "dtypes: int64(1), object(3)\n",
      "memory usage: 38.9+ MB\n"
     ]
    }
   ],
   "source": [
    "dfFull[['state', 'zipcode', 'city', 'county']].info()"
   ]
  },
  {
   "cell_type": "markdown",
   "metadata": {},
   "source": [
    "##### State"
   ]
  },
  {
   "cell_type": "code",
   "execution_count": 30,
   "metadata": {},
   "outputs": [
    {
     "data": {
      "text/plain": [
       "count     1020516\n",
       "unique         52\n",
       "top            CA\n",
       "freq       626820\n",
       "Name: state, dtype: object"
      ]
     },
     "execution_count": 30,
     "metadata": {},
     "output_type": "execute_result"
    }
   ],
   "source": [
    "dfFull.state.describe()\n",
    "# 63% of the data is California; there are perhaps some typos (55 states?)"
   ]
  },
  {
   "cell_type": "markdown",
   "metadata": {},
   "source": [
    "##### City"
   ]
  },
  {
   "cell_type": "code",
   "execution_count": 31,
   "metadata": {},
   "outputs": [
    {
     "data": {
      "text/plain": [
       "count        798954\n",
       "unique        11294\n",
       "top       SAN DIEGO\n",
       "freq          13681\n",
       "Name: city, dtype: object"
      ]
     },
     "execution_count": 31,
     "metadata": {},
     "output_type": "execute_result"
    }
   ],
   "source": [
    "# 11k cities; not sure what I can do these.\n",
    "dfFull.city.describe()"
   ]
  },
  {
   "cell_type": "markdown",
   "metadata": {},
   "source": [
    "##### County"
   ]
  },
  {
   "cell_type": "code",
   "execution_count": 32,
   "metadata": {},
   "outputs": [
    {
     "data": {
      "text/plain": [
       "count          998649\n",
       "unique           1039\n",
       "top       Los Angeles\n",
       "freq            82647\n",
       "Name: county, dtype: object"
      ]
     },
     "execution_count": 32,
     "metadata": {},
     "output_type": "execute_result"
    }
   ],
   "source": [
    "# almost 10% in LA county.\n",
    "dfFull.county.describe()"
   ]
  },
  {
   "cell_type": "markdown",
   "metadata": {},
   "source": [
    "##### Zipcode"
   ]
  },
  {
   "cell_type": "code",
   "execution_count": 33,
   "metadata": {},
   "outputs": [
    {
     "data": {
      "text/plain": [
       "count    1.020516e+06\n",
       "mean     7.195138e+04\n",
       "std      3.548949e+04\n",
       "min      0.000000e+00\n",
       "25%      7.500200e+04\n",
       "50%      9.202800e+04\n",
       "75%      9.372200e+04\n",
       "max      9.973700e+04\n",
       "Name: zipcode, dtype: float64"
      ]
     },
     "execution_count": 33,
     "metadata": {},
     "output_type": "execute_result"
    }
   ],
   "source": [
    "# hmmm, shouldn't be any zeros but there are.  Only 1.\n",
    "# this should probably be int; actually s.b. 5-char string.\n",
    "dfFull.zipcode.describe()"
   ]
  },
  {
   "cell_type": "code",
   "execution_count": 34,
   "metadata": {},
   "outputs": [
    {
     "data": {
      "text/plain": [
       "1"
      ]
     },
     "execution_count": 34,
     "metadata": {},
     "output_type": "execute_result"
    }
   ],
   "source": [
    "(dfFull.zipcode == 0).sum()"
   ]
  },
  {
   "cell_type": "markdown",
   "metadata": {},
   "source": [
    "<a id=\"#Other\"></a>\n",
    "### Other\n",
    "\n",
    "Installation type tells us whether or not an installation is at a home or business, school, government, etc.  There are potentially some interesting questions to ask about relative pricing among these groups, even though that's not the main thrust of this effort (residential).  If larger organizations pay less, it could provide a floor for residential installations.\n",
    "\n",
    "Do costs vary by installer?  It may be possible to say something sensible depending on the data.\n",
    "\n",
    "Is solar less or more expensize in new construction?\n",
    "\n",
    "Do third party owners pay more or less for PV installations?  How many 3rd party installation occur and when?\n",
    "\n",
    "\n",
    "type                           1020516 non-null object\n",
    "install_type                   977940 non-null object\n",
    "installer                      702466 non-null object\n",
    "new_constr                     27106 non-null float64\n",
    "tracking                       1930 non-null float64\n",
    "3rdparty                       306993 non-null float6"
   ]
  },
  {
   "cell_type": "markdown",
   "metadata": {},
   "source": [
    "##### Installer"
   ]
  },
  {
   "cell_type": "code",
   "execution_count": 35,
   "metadata": {},
   "outputs": [
    {
     "data": {
      "text/plain": [
       "count        702466\n",
       "unique        10956\n",
       "top       SolarCity\n",
       "freq         168125\n",
       "Name: installer, dtype: object"
      ]
     },
     "execution_count": 35,
     "metadata": {},
     "output_type": "execute_result"
    }
   ],
   "source": [
    "### 11k installers; that's a lot\n",
    "dfFull.installer.describe()"
   ]
  },
  {
   "cell_type": "code",
   "execution_count": 36,
   "metadata": {},
   "outputs": [
    {
     "data": {
      "text/plain": [
       "SolarCity                            168125\n",
       "Vivint                                41615\n",
       "Sunpower                              19925\n",
       "Verengo                               16396\n",
       "Sungevity                             14939\n",
       "Rec Solar                             14291\n",
       "PetersenDean                          11235\n",
       "RGS/Real Goods                        10951\n",
       "Sunrun                                 9968\n",
       "Grid Alternatives                      8119\n",
       "Trinity Heating & Air                  7966\n",
       "Roof Diagnostics Solar & Electric      6012\n",
       "Self                                   5345\n",
       "American Solar Direct                  4917\n",
       "Direct Energy Solar                    4761\n",
       "American Solar Electric                4453\n",
       "Future Energy Corp                     4215\n",
       "Sullivan Solar Power                   4186\n",
       "Baker Electric                         3591\n",
       "Solar Service Center                   3295\n",
       "A1 Solar Power                         3180\n",
       "Next Step Living                       3172\n",
       "Solar Company                          3043\n",
       "Horizon Solar Power                    2660\n",
       "Solar Universe                         2623\n",
       "Trinity Solar                          2532\n",
       "Akeena                                 2463\n",
       "Sun Valley Solar Solutions             2348\n",
       "Heliopower                             2147\n",
       "Semper Solaris Construction            2095\n",
       "Name: installer, dtype: int64"
      ]
     },
     "execution_count": 36,
     "metadata": {},
     "output_type": "execute_result"
    }
   ],
   "source": [
    "# let's look at the top 30\n",
    "# wonder if DIY pays less?  how much?\n",
    "dfFull.installer.value_counts().head(30)"
   ]
  },
  {
   "cell_type": "code",
   "execution_count": 37,
   "metadata": {},
   "outputs": [
    {
     "data": {
      "text/plain": [
       "SolarCity                             168125\n",
       "Vivint                                209740\n",
       "Sunpower                              229665\n",
       "Verengo                               246061\n",
       "Sungevity                             261000\n",
       "Rec Solar                             275291\n",
       "PetersenDean                          286526\n",
       "RGS/Real Goods                        297477\n",
       "Sunrun                                307445\n",
       "Grid Alternatives                     315564\n",
       "Trinity Heating & Air                 323530\n",
       "Roof Diagnostics Solar & Electric     329542\n",
       "Self                                  334887\n",
       "American Solar Direct                 339804\n",
       "Direct Energy Solar                   344565\n",
       "American Solar Electric               349018\n",
       "Future Energy Corp                    353233\n",
       "Sullivan Solar Power                  357419\n",
       "Baker Electric                        361010\n",
       "Solar Service Center                  364305\n",
       "A1 Solar Power                        367485\n",
       "Next Step Living                      370657\n",
       "Solar Company                         373700\n",
       "Horizon Solar Power                   376360\n",
       "Solar Universe                        378983\n",
       "Trinity Solar                         381515\n",
       "Akeena                                383978\n",
       "Sun Valley Solar Solutions            386326\n",
       "Heliopower                            388473\n",
       "Semper Solaris Construction           390568\n",
       "                                       ...  \n",
       "Revolve Solar Ca                      445373\n",
       "Sun Solar Energy Solutiions           446358\n",
       "Fidelity Home Energy                  447343\n",
       "West Coast Solar                      448316\n",
       "Mohr Power Solar                      449283\n",
       "Adr Electric                          450247\n",
       "Valley Unique Electric                451211\n",
       "California Solar Electric Co          452170\n",
       "Solare Energy                         453127\n",
       "Sun Light & Power                     454073\n",
       "Enver Solar                           455015\n",
       "Arizona Solar Solutions               455946\n",
       "Fralick Homes                         456867\n",
       "Herca Solar                           457782\n",
       "Sunspot Solar Energy Systems          458692\n",
       "Solarflair Energy                     459591\n",
       "Advanced Solar & Electric             460476\n",
       "Luminalt Energy Corp                  461358\n",
       "Renova Energy Corp                    462229\n",
       "Affordable Solar                      463059\n",
       "Solarcraft Services                   463885\n",
       "Sunpro Solar                          464711\n",
       "Quality First Home Improvement        465530\n",
       "360 Solar Energy                      466340\n",
       "Sunbug Solar                          467140\n",
       "Rcl Enterprises                       467934\n",
       "Nexus Energy Systems                  468723\n",
       "Arizona Solar Concepts                469509\n",
       "Streamline Solar Power Systems LLC    470292\n",
       "Sky Power Systems                     471073\n",
       "Name: installer, Length: 100, dtype: int64"
      ]
     },
     "execution_count": 37,
     "metadata": {},
     "output_type": "execute_result"
    }
   ],
   "source": [
    "dfFull.installer.value_counts().head(100).cumsum()"
   ]
  },
  {
   "cell_type": "markdown",
   "metadata": {},
   "source": [
    "##### new_constr "
   ]
  },
  {
   "cell_type": "code",
   "execution_count": 38,
   "metadata": {},
   "outputs": [
    {
     "data": {
      "text/plain": [
       "count    27106.0\n",
       "mean         1.0\n",
       "std          0.0\n",
       "min          1.0\n",
       "25%          1.0\n",
       "50%          1.0\n",
       "75%          1.0\n",
       "max          1.0\n",
       "Name: new_constr, dtype: float64"
      ]
     },
     "execution_count": 38,
     "metadata": {},
     "output_type": "execute_result"
    }
   ],
   "source": [
    "# presumably this is 1 if a new construction project; otherwise NA\n",
    "# should be boolean?\n",
    "dfFull.new_constr.describe()"
   ]
  },
  {
   "cell_type": "markdown",
   "metadata": {},
   "source": [
    "##### tracking"
   ]
  },
  {
   "cell_type": "code",
   "execution_count": 39,
   "metadata": {},
   "outputs": [
    {
     "data": {
      "text/plain": [
       "count    1930.0\n",
       "mean        1.0\n",
       "std         0.0\n",
       "min         1.0\n",
       "25%         1.0\n",
       "50%         1.0\n",
       "75%         1.0\n",
       "max         1.0\n",
       "Name: tracking, dtype: float64"
      ]
     },
     "execution_count": 39,
     "metadata": {},
     "output_type": "execute_result"
    }
   ],
   "source": [
    "# presumably this is 1 if project has tracking; otherwise NA, meaning fixed\n",
    "# should be boolean?\n",
    "dfFull.tracking.describe()"
   ]
  },
  {
   "cell_type": "markdown",
   "metadata": {},
   "source": [
    "##### 3rdparty "
   ]
  },
  {
   "cell_type": "code",
   "execution_count": 40,
   "metadata": {},
   "outputs": [
    {
     "data": {
      "text/plain": [
       "count    306990.0\n",
       "mean          1.0\n",
       "std           0.0\n",
       "min           1.0\n",
       "25%           1.0\n",
       "50%           1.0\n",
       "75%           1.0\n",
       "max           1.0\n",
       "Name: 3rdparty, dtype: float64"
      ]
     },
     "execution_count": 40,
     "metadata": {},
     "output_type": "execute_result"
    }
   ],
   "source": [
    "# another value that could be boolean; there is a pretty large number of these\n",
    "\n",
    "dfFull['3rdparty'].describe()"
   ]
  },
  {
   "cell_type": "markdown",
   "metadata": {},
   "source": [
    "<a id=\"possible\"></a>\n",
    "### Examine columns - part ii: other possibly usable fields"
   ]
  },
  {
   "cell_type": "markdown",
   "metadata": {},
   "source": [
    "##### dfFull.year (as opposed to the index)"
   ]
  },
  {
   "cell_type": "code",
   "execution_count": 41,
   "metadata": {},
   "outputs": [
    {
     "name": "stdout",
     "output_type": "stream",
     "text": [
      "['1/1/1999', '1/1/1999', '1/1/1999', '1999', '1999', '1999', '1/1/2000', '1/1/2000', '1/1/2000', '1/3/2000', '1/1/2001', '1/1/2001', '1/1/2001', '1/1/2001', '1/1/2002', '1/1/2002', '1/1/2002', '1/1/2002', '1/1/2003', '1/1/2004', '1/1/2004', '1/1/2005', '1/1/2005', '1/1/2005', '1/1/2006', '1/1/2006', '1/1/2006', '1/1/2006', '1/1/2006', '1/1/2006', '1/1/2006', '1/1/2007', '1/1/2007', '1/1/2007', '1/1/2007', '1/1/2007', '1/1/2007', '1/1/2007', '1/1/2007', '1/1/2007', '1/1/2007', '1/1/2007', '1/1/2007', '1/1/2007', '1/1/2007', '1/1/2007', '1/1/2007', '1/1/2007', '1/1/2007', '1/1/2007', '1/1/2007', '1/1/2007', '1/1/2007', '1/1/2007', '1/1/2007', '1/1/2007', '1/1/2007', '1/1/2007', '1/2/2007', '1/1/2008', '1/1/2008', '1/1/2008', '1/1/2008', '1/1/2008', '1/1/2008', '1/1/2008', '1/1/2008', '1/1/2008']\n"
     ]
    }
   ],
   "source": [
    "# What is the 'year' variable.\n",
    "# Only 68 non-null, while date_installed is fully populated\n",
    "# This may be a field internal to NREL/LBNL\n",
    "print(list(dfFull[dfFull.year.notnull()].year))"
   ]
  },
  {
   "cell_type": "markdown",
   "metadata": {},
   "source": [
    "##### Incentive_program_name"
   ]
  },
  {
   "cell_type": "code",
   "execution_count": 42,
   "metadata": {},
   "outputs": [
    {
     "data": {
      "text/plain": [
       "California Public Utilities Commission (Non-CSI Net Metered Systems)          260940\n",
       "California Public Utilities Commission (California Solar Initiative)          148988\n",
       "New York State Energy Research and Development Authority                       44012\n",
       "Arizona Public Service                                                         40647\n",
       "Massachusetts Clean Energy Center                                              36810\n",
       "New Jersey Board of Public Utilities (SREC Program)                            34168\n",
       "California Energy Commission (Emerging Renewables Program)                     27952\n",
       "Massachusetts Department of Energy Resources                                   24828\n",
       "Los Angeles Department of Water & Power                                        19757\n",
       "California Energy Commission (New Solar Homes Partnership)                     17286\n",
       "Connecticut Clean Energy Finance and Investment Authority                      15746\n",
       "Salt River Project                                                             15275\n",
       "NV Energy                                                                      14530\n",
       "Sacramento Municipal Utility District                                          11694\n",
       "Tucson Electric Power                                                          10921\n",
       "New Jersey Board of Public Utilities (CORE & REIP Programs)                     8081\n",
       "Maryland Energy Administration                                                  7472\n",
       "Pennsylvania Department of Environmental Protection                             7033\n",
       "New Mexico Energy, Minerals and Natural Resources Department                    6527\n",
       "Austin Energy                                                                   4688\n",
       "Ameren                                                                          3650\n",
       "CPS Energy                                                                      3284\n",
       "Delaware Department of Natural Resources and Environmental Control              3022\n",
       "New Hampshire Public Utilities Commission                                       2909\n",
       "Imperial Irrigation District                                                    2333\n",
       "Wisconsin Focus on Energy                                                       2106\n",
       "Ohio Public Utilities Commission                                                1918\n",
       "UniSource Energy Services                                                       1827\n",
       "Oregon Department of Energy                                                     1637\n",
       "Kansas City Power & Light                                                       1517\n",
       "                                                                               ...  \n",
       "Minnesota Department of Commerce                                                1027\n",
       "Washington, DC Public Service Commission                                         953\n",
       "Oncor Electric Delivery Company                                                  904\n",
       "Washington, DC Department of Energy & Environment                                848\n",
       "City of Palo Alto Utilities                                                      823\n",
       "Pacific Power                                                                    698\n",
       "Efficiency Maine                                                                 551\n",
       "California Public Utilities Commission (Self-Generation Incentive Program)       544\n",
       "Rhode Island Office of Energy Resources                                          541\n",
       "Gainesville Regional Utilities                                                   478\n",
       "Mohave Electric Cooperative                                                      449\n",
       "Rocky Mountain Power                                                             430\n",
       "El Paso Electric                                                                 368\n",
       "Orlando Utilities Commission                                                     202\n",
       "Pennsylvania Sustainable Development Fund                                        200\n",
       "Pacific Power (California Center for Sustainable Energy)                         181\n",
       "Rebuild a Greener San Diego (California Center for Sustainable Energy)           152\n",
       "Texas Central Company                                                            146\n",
       "Navopache Electric Cooperative                                                   140\n",
       "Graham County Electric Cooperative                                               129\n",
       "Arkansas State Energy Office                                                      98\n",
       "Bear Valley Electric (California Center for Sustainable Energy)                   78\n",
       "Texas North Company                                                               74\n",
       "Entergy                                                                           57\n",
       "Southwestern Electric Power Company                                               39\n",
       "Texas New Mexico Power Company                                                    23\n",
       "Duncan Valley Electric Cooperative                                                 5\n",
       "Ajo Improvement Company                                                            3\n",
       "Morenci Water and Electric                                                         3\n",
       "Sharyland Utilities                                                                2\n",
       "Name: incentive_prog_names, Length: 65, dtype: int64"
      ]
     },
     "execution_count": 42,
     "metadata": {},
     "output_type": "execute_result"
    }
   ],
   "source": [
    "### incentive program name\n",
    "### data manual says these orgs may have provided the data\n",
    "dfFull.incentive_prog_names.value_counts()"
   ]
  },
  {
   "cell_type": "markdown",
   "metadata": {},
   "source": [
    "##### Appraised"
   ]
  },
  {
   "cell_type": "code",
   "execution_count": 43,
   "metadata": {},
   "outputs": [
    {
     "data": {
      "text/plain": [
       "True    224036\n",
       "Name: appraised, dtype: int64"
      ]
     },
     "execution_count": 43,
     "metadata": {},
     "output_type": "execute_result"
    }
   ],
   "source": [
    "### appraised\n",
    "### data manual cautions that appraised values do not represent a transaction cost \n",
    "### (i.e. may not reflect market price)\n",
    "dfFull.appraised.value_counts()"
   ]
  },
  {
   "cell_type": "markdown",
   "metadata": {},
   "source": [
    "##### dfFull.lbnl_tts and dfFull.lbnl_tts_version_year"
   ]
  },
  {
   "cell_type": "code",
   "execution_count": 44,
   "metadata": {},
   "outputs": [
    {
     "data": {
      "text/plain": [
       "True    797958\n",
       "Name: lbnl_tts, dtype: int64"
      ]
     },
     "execution_count": 44,
     "metadata": {},
     "output_type": "execute_result"
    }
   ],
   "source": [
    "### these next 2 have to do with LBNL's Tracking the Sun project\n",
    "### probably of no use \n",
    "dfFull.lbnl_tts.value_counts()"
   ]
  },
  {
   "cell_type": "code",
   "execution_count": 45,
   "metadata": {},
   "outputs": [
    {
     "data": {
      "text/plain": [
       "2016.0    797958\n",
       "Name: lbnl_tts_version_year, dtype: int64"
      ]
     },
     "execution_count": 45,
     "metadata": {},
     "output_type": "execute_result"
    }
   ],
   "source": [
    "dfFull.lbnl_tts_version_year.value_counts()"
   ]
  },
  {
   "cell_type": "markdown",
   "metadata": {},
   "source": [
    "##### utility and utility_clean"
   ]
  },
  {
   "cell_type": "code",
   "execution_count": 46,
   "metadata": {},
   "outputs": [
    {
     "name": "stdout",
     "output_type": "stream",
     "text": [
      "False\n",
      "2117\n",
      "PPL Electric Utilities                              415\n",
      "PECO                                                354\n",
      "Oncor                                               207\n",
      "Met-Ed                                              202\n",
      "Nevada Power                                        169\n",
      "Sierra Pacific Power Company                        140\n",
      "CVPS Corp                                           128\n",
      "GMP Corp.                                            73\n",
      "ComEd                                                72\n",
      "Allegheny (West Penn)                                45\n",
      "Sierra Pacific                                       42\n",
      "First Energy (Pennsylvania Electric Co)              30\n",
      "Other                                                20\n",
      "AmerenIP                                             16\n",
      "Duquesne                                             16\n",
      "Wash. Elec Co-op                                     16\n",
      "VT Elec. Co-op                                       14\n",
      "AmerenCILCO                                          12\n",
      "Carroll Electric Cooperative Corporation             10\n",
      "Arkansas Valley Electric Cooperative Corporation     10\n",
      "UGI                                                   9\n",
      "Entergy                                               8\n",
      "Ameren CILCO                                          8\n",
      "Ameren CIPS                                           7\n",
      "Entergy Arkansas, Inc.                                6\n",
      "AmerenCIPS                                            6\n",
      "Ozarks Electric Cooperative Corporation               6\n",
      "TNMP                                                  6\n",
      "Jo-Carroll Energy                                     6\n",
      "City of Lompoc                                        5\n",
      "                                                   ... \n",
      "Petit Jean Electric Cooperative Corporation           2\n",
      "Hyde Park (Village of)                                2\n",
      "Eqyptian Electric                                     2\n",
      "Hardwick (Village of)                                 2\n",
      "Citizens                                              2\n",
      "Lyndonville (Village of)                              2\n",
      "SWEPCO                                                2\n",
      "Swanton (Village of)                                  1\n",
      "Menard Electric. Coop                                 1\n",
      "Morrisville (Village of)                              1\n",
      "Wellsboro                                             1\n",
      "Conn. Valley Elec. Co.                                1\n",
      "AEP-TNC                                               1\n",
      "Mid-America                                           1\n",
      "North Shore Gas Co                                    1\n",
      "Municipal (small areas)                               1\n",
      "CWLP                                                  1\n",
      "Norris Electric Coop                                  1\n",
      "Tri-County Electric                                   1\n",
      "Ameren IP                                             1\n",
      "C&amp;L Electric Cooperative Corporation              1\n",
      "Burlington Elec. Dept.                                1\n",
      "Menard Electric Coop                                  1\n",
      "Nicor Gas                                             1\n",
      "Northfield Electric                                   1\n",
      "McDonough Power                                       1\n",
      "McDonough Power Coop                                  1\n",
      "same                                                  1\n",
      "Southwest Arkansas Electric                           1\n",
      "Burlington Elec                                       1\n",
      "Name: utility, Length: 67, dtype: int64\n"
     ]
    }
   ],
   "source": [
    "### what is the difference between utility and utility_clean?\n",
    "### \n",
    "print(dfFull.utility.equals(dfFull.utility_clean))\n",
    "print(dfFull.utility.count())\n",
    "print(dfFull.utility.value_counts())"
   ]
  },
  {
   "cell_type": "code",
   "execution_count": 47,
   "metadata": {},
   "outputs": [
    {
     "name": "stdout",
     "output_type": "stream",
     "text": [
      "utility          2117\n",
      "utility_clean       0\n",
      "dtype: int64\n",
      "                  utility utility_clean\n",
      "date_installed                         \n",
      "2004-01-15      GMP Corp.           NaN\n",
      "2004-02-13      GMP Corp.           NaN\n",
      "2004-02-19      CVPS Corp           NaN\n",
      "2004-05-07      CVPS Corp           NaN\n",
      "2004-05-28      CVPS Corp           NaN\n",
      "2004-06-11      CVPS Corp           NaN\n",
      "2004-07-02      GMP Corp.           NaN\n",
      "2004-07-23      CVPS Corp           NaN\n",
      "2004-07-23      CVPS Corp           NaN\n",
      "2004-07-30      GMP Corp.           NaN\n"
     ]
    }
   ],
   "source": [
    "# Let's count then look at some of these pairs.\n",
    "# okay, they are all the same, except 2k don't have utility_clean\n",
    "funnyUtils = dfFull[dfFull.utility.notnull() & (dfFull.utility != dfFull.utility_clean)]\n",
    "print(funnyUtils[['utility', 'utility_clean']].count())\n",
    "print(funnyUtils[['utility', 'utility_clean']].head(10))"
   ]
  },
  {
   "cell_type": "markdown",
   "metadata": {},
   "source": [
    "##### tech_1"
   ]
  },
  {
   "cell_type": "code",
   "execution_count": 48,
   "metadata": {},
   "outputs": [
    {
     "data": {
      "text/plain": [
       "Poly              350761\n",
       "Mono              215216\n",
       "crystalline         7439\n",
       "Mono + a-Si         5063\n",
       "CIGS                1097\n",
       "CdTe                 664\n",
       "a-Si                 480\n",
       "a-Si + Micro-c        60\n",
       "Thin Film             52\n",
       "CIS                   43\n",
       "multiple              42\n",
       "Name: tech_1, dtype: int64"
      ]
     },
     "execution_count": 48,
     "metadata": {},
     "output_type": "execute_result"
    }
   ],
   "source": [
    "### Possibly of interest\n",
    "dfFull.tech_1.value_counts()"
   ]
  },
  {
   "cell_type": "markdown",
   "metadata": {},
   "source": [
    "##### Model_1_clean"
   ]
  },
  {
   "cell_type": "code",
   "execution_count": 49,
   "metadata": {},
   "outputs": [
    {
     "data": {
      "text/plain": [
       "multiple matches    96988\n",
       "SPR-327NE-WHT-D     21787\n",
       "REC260PE            20071\n",
       "TSM-250PA05.18      11806\n",
       "KU265-6ZPA           8537\n",
       "Name: model1_clean, dtype: int64"
      ]
     },
     "execution_count": 49,
     "metadata": {},
     "output_type": "execute_result"
    }
   ],
   "source": [
    "### model1_clean\n",
    "### hmmm.  \n",
    "### Now, I see: the string \"multiple matches\" occurs 100k times.\n",
    "### Hard to see how I could make use of this.\n",
    "### I think these values are PV panel part numbers.\n",
    "dfFull.model1_clean.value_counts().head()"
   ]
  },
  {
   "cell_type": "code",
   "execution_count": 50,
   "metadata": {},
   "outputs": [
    {
     "data": {
      "text/plain": [
       "580917"
      ]
     },
     "execution_count": 50,
     "metadata": {},
     "output_type": "execute_result"
    }
   ],
   "source": [
    "dfFull.model1_clean.count()"
   ]
  },
  {
   "cell_type": "markdown",
   "metadata": {},
   "source": [
    "##### Annual solar production"
   ]
  },
  {
   "cell_type": "code",
   "execution_count": 51,
   "metadata": {},
   "outputs": [
    {
     "data": {
      "image/png": "[encoded data removed]",
      "text/plain": [
       "<matplotlib.figure.Figure at 0x197484bf550>"
      ]
     },
     "metadata": {},
     "output_type": "display_data"
    }
   ],
   "source": [
    "### annual solar power production.  units are kwH/yr\n",
    "dfFull.annual_PV_prod.plot(marker='.', linestyle='none')\n",
    "plt.xlabel('date_installed')\n",
    "plt.ylabel('annual_PV_prod')\n",
    "plt.title('Annual solar power production vs. date_installed');"
   ]
  },
  {
   "cell_type": "code",
   "execution_count": 52,
   "metadata": {},
   "outputs": [
    {
     "data": {
      "image/png": "[encoded data removed]",
      "text/plain": [
       "<matplotlib.figure.Figure at 0x197460e3e10>"
      ]
     },
     "metadata": {},
     "output_type": "display_data"
    }
   ],
   "source": [
    "### can I put this on log scale\n",
    "np.log10(dfFull.annual_PV_prod).plot(marker='.', linestyle='none')\n",
    "plt.xlabel('date_installed')\n",
    "plt.ylabel('log10(annual_PV_prod)')\n",
    "plt.title('log10(Annual solar power production) vs. date_installed');"
   ]
  },
  {
   "cell_type": "code",
   "execution_count": 53,
   "metadata": {},
   "outputs": [
    {
     "data": {
      "image/png": "[encoded data removed]",
      "text/plain": [
       "<matplotlib.figure.Figure at 0x19772f0f240>"
      ]
     },
     "metadata": {},
     "output_type": "display_data"
    }
   ],
   "source": [
    "### now a histogram, please.\n",
    "np.log10(dfFull.annual_PV_prod).plot(kind='hist', bins=30)\n",
    "plt.xlabel('log10(annual_PV_prod)')\n",
    "plt.ylabel('frequency')\n",
    "plt.title('distribution of log10(annual_PV_prod)');"
   ]
  },
  {
   "cell_type": "code",
   "execution_count": 54,
   "metadata": {},
   "outputs": [
    {
     "name": "stdout",
     "output_type": "stream",
     "text": [
      "date_installed\n",
      "2011-11-07    1.067801e+07\n",
      "2011-12-30    3.063050e+07\n",
      "2013-12-13    2.868939e+07\n",
      "2014-06-11    4.646728e+08\n",
      "2015-04-15    1.113476e+09\n",
      "2015-08-31    1.257042e+07\n",
      "2015-12-18    1.102429e+07\n",
      "Name: annual_PV_prod, dtype: float64\n"
     ]
    }
   ],
   "source": [
    "### Okay, a few outliers on the high size\n",
    "print(dfFull[dfFull.annual_PV_prod > 10 ** 7]['annual_PV_prod'])"
   ]
  },
  {
   "cell_type": "code",
   "execution_count": 55,
   "metadata": {},
   "outputs": [
    {
     "name": "stdout",
     "output_type": "stream",
     "text": [
      "865\n"
     ]
    }
   ],
   "source": [
    "### Outliers on the low side.  That's a lot cheaper to do... \n",
    "print(dfFull[dfFull.annual_PV_prod < 10 ** 3]['annual_PV_prod'].count())"
   ]
  },
  {
   "cell_type": "markdown",
   "metadata": {},
   "source": [
    "##### Annual_insolation"
   ]
  },
  {
   "cell_type": "code",
   "execution_count": 56,
   "metadata": {},
   "outputs": [
    {
     "data": {
      "image/png": "[encoded data removed]",
      "text/plain": [
       "<matplotlib.figure.Figure at 0x1974bd62588>"
      ]
     },
     "metadata": {},
     "output_type": "display_data"
    }
   ],
   "source": [
    "### This has no impact on price.\n",
    "### Curiosity only.  Annual_insolation units are kWh/m2/day or something like that.\n",
    "### Data docs say they calculate it from the zipcode.  This is apparently an annual\n",
    "### number and they document a daily number\n",
    "fig, axs = plt.subplots(1, 2, figsize=(14, 7))\n",
    "\n",
    "### annual insolation units are kwH/yr\n",
    "dfFull.annual_insolation.plot(marker='.', linestyle='none', ax=axs[0])\n",
    "axs[0].set_xlabel('Date_installed')\n",
    "axs[0].set_ylabel('Annual_insolation')\n",
    "axs[0].set_title('Annual_insolation vs. date_installed');\n",
    "np.log10(dfFull.annual_insolation).plot(marker='.', linestyle='none', ax=axs[1])\n",
    "axs[1].set_xlabel('Date_installed')\n",
    "axs[1].set_ylabel('log10(Annual_insolation)')\n",
    "axs[1].set_title('log10(Annual_insolation) vs. date_installed');"
   ]
  },
  {
   "cell_type": "markdown",
   "metadata": {},
   "source": [
    "##### rebate "
   ]
  },
  {
   "cell_type": "code",
   "execution_count": 57,
   "metadata": {},
   "outputs": [
    {
     "data": {
      "text/plain": [
       "386698"
      ]
     },
     "execution_count": 57,
     "metadata": {},
     "output_type": "execute_result"
    }
   ],
   "source": [
    "### This column is obj.  What kinds of things does it contain??\n",
    "theRebates = dfFull.rebate.dropna()\n",
    "theRebates.head()\n",
    "### no more NA in theRebates\n",
    "theRebates.count()"
   ]
  },
  {
   "cell_type": "code",
   "execution_count": 58,
   "metadata": {},
   "outputs": [
    {
     "data": {
      "text/plain": [
       "363246"
      ]
     },
     "execution_count": 58,
     "metadata": {},
     "output_type": "execute_result"
    }
   ],
   "source": [
    "### most of them are floats; looks like a couple of K are something else\n",
    "theRebates.apply(lambda item: True if type(item) == type(123.45) else False).sum()"
   ]
  },
  {
   "cell_type": "code",
   "execution_count": 59,
   "metadata": {},
   "outputs": [],
   "source": [
    "# vector that will select the floats\n",
    "myVec = theRebates.apply(lambda item: True if type(item) == type(123.45) else False)"
   ]
  },
  {
   "cell_type": "code",
   "execution_count": 60,
   "metadata": {},
   "outputs": [
    {
     "data": {
      "text/plain": [
       "date_installed\n",
       "2010-05-05    4144.0\n",
       "2010-05-05    2433.0\n",
       "2010-05-05    5730.0\n",
       "Name: rebate, dtype: object"
      ]
     },
     "execution_count": 60,
     "metadata": {},
     "output_type": "execute_result"
    }
   ],
   "source": [
    "# look at the ones that aren't floats\n",
    "theRebates[~myVec].head(3)\n",
    "# funny they look like floats, but..."
   ]
  },
  {
   "cell_type": "code",
   "execution_count": 61,
   "metadata": {},
   "outputs": [
    {
     "data": {
      "text/plain": [
       "date_installed\n",
       "2010-05-05    <class 'str'>\n",
       "2010-05-05    <class 'str'>\n",
       "2010-05-05    <class 'str'>\n",
       "Name: rebate, dtype: object"
      ]
     },
     "execution_count": 61,
     "metadata": {},
     "output_type": "execute_result"
    }
   ],
   "source": [
    "# they're really strings\n",
    "theRebates[~myVec].head(3).apply(type)"
   ]
  },
  {
   "cell_type": "code",
   "execution_count": 62,
   "metadata": {},
   "outputs": [
    {
     "data": {
      "text/plain": [
       "<class 'float'>    363246\n",
       "<class 'str'>       23452\n",
       "Name: rebate, dtype: int64"
      ]
     },
     "execution_count": 62,
     "metadata": {},
     "output_type": "execute_result"
    }
   ],
   "source": [
    "# defer this for now.  handle in cleaning phase\n",
    "# check the types\n",
    "# same number as I have above for floats.\n",
    "theRebates.apply(type).value_counts()"
   ]
  },
  {
   "cell_type": "markdown",
   "metadata": {},
   "source": [
    "##### sales_tax_cost\n",
    "Defering for now. I don't think it's a large factor in cost, though could matter for high tax states (e.g. CA) For completeness, I'll look at this, but it looks like there's bad data (off by factor of 10 or 100).  The excel version of this field might be cleaned up."
   ]
  },
  {
   "cell_type": "code",
   "execution_count": 63,
   "metadata": {},
   "outputs": [],
   "source": [
    "full_stc = dfFull.sales_tax_cost.dropna()"
   ]
  },
  {
   "cell_type": "code",
   "execution_count": 64,
   "metadata": {},
   "outputs": [
    {
     "data": {
      "text/plain": [
       "date_installed\n",
       "2000-01-03     787.769510\n",
       "2000-01-06     384.595726\n",
       "2000-01-06     350.862362\n",
       "2000-01-06    1237.921639\n",
       "2000-01-20     262.098811\n",
       "Name: sales_tax_cost, dtype: float64"
      ]
     },
     "execution_count": 64,
     "metadata": {},
     "output_type": "execute_result"
    }
   ],
   "source": [
    "# they're supposed to be floats\n",
    "full_stc.head()"
   ]
  },
  {
   "cell_type": "code",
   "execution_count": 65,
   "metadata": {},
   "outputs": [
    {
     "data": {
      "text/plain": [
       "count    355309.000000\n",
       "mean       2657.135224\n",
       "std       14579.815550\n",
       "min          10.130237\n",
       "25%         764.153153\n",
       "50%        1118.821468\n",
       "75%        1674.020650\n",
       "max      872902.116200\n",
       "Name: sales_tax_cost, dtype: float64"
      ]
     },
     "execution_count": 65,
     "metadata": {},
     "output_type": "execute_result"
    }
   ],
   "source": [
    "# std is very high; something's funny.\n",
    "# did someone use a percent multiplier rather than than the decimal?\n",
    "# clearly a calculated value.  Actuals would be 2 decimals.\n",
    "dfFull.sales_tax_cost.describe()"
   ]
  },
  {
   "cell_type": "code",
   "execution_count": 66,
   "metadata": {},
   "outputs": [
    {
     "data": {
      "text/plain": [
       "10343"
      ]
     },
     "execution_count": 66,
     "metadata": {},
     "output_type": "execute_result"
    }
   ],
   "source": [
    "# how many > 3 x mean\n",
    "full_stc[full_stc > 3 * 2657].count()"
   ]
  },
  {
   "cell_type": "code",
   "execution_count": 67,
   "metadata": {},
   "outputs": [
    {
     "data": {
      "text/plain": [
       "4083"
      ]
     },
     "execution_count": 67,
     "metadata": {},
     "output_type": "execute_result"
    }
   ],
   "source": [
    "# how many > 10 x mean\n",
    "full_stc[full_stc > 10 * 2657].count()"
   ]
  },
  {
   "cell_type": "code",
   "execution_count": 68,
   "metadata": {},
   "outputs": [
    {
     "data": {
      "image/png": "[encoded data removed]",
      "text/plain": [
       "<matplotlib.figure.Figure at 0x1974bdd1630>"
      ]
     },
     "metadata": {},
     "output_type": "display_data"
    }
   ],
   "source": [
    "# let's see what the distribution is like.\n",
    "# pretty hard to believe; though cost might prove informative\n",
    "full_stc.plot(kind='hist', bins=30)\n",
    "plt.xlabel('Sales_tax_cost')\n",
    "plt.ylabel('Frequency')\n",
    "plt.title('Distribution of sales_tax_cost');"
   ]
  },
  {
   "cell_type": "code",
   "execution_count": 69,
   "metadata": {},
   "outputs": [
    {
     "data": {
      "image/png": "[encoded data removed]",
      "text/plain": [
       "<matplotlib.figure.Figure at 0x19700e1a748>"
      ]
     },
     "metadata": {},
     "output_type": "display_data"
    }
   ],
   "source": [
    "full_stc.plot(marker='.', linestyle='none')\n",
    "plt.xlabel('date_installed')\n",
    "plt.ylabel('Sales_tax_cost')\n",
    "plt.title('Sales_tax_cost vs. date_installed');"
   ]
  },
  {
   "cell_type": "markdown",
   "metadata": {},
   "source": [
    "##### Tilt and Azimuth\n",
    "These are features of the installation (generally calculated to maximize total output) but not one that increases cost."
   ]
  },
  {
   "cell_type": "code",
   "execution_count": 70,
   "metadata": {},
   "outputs": [],
   "source": [
    "theTilts = dfFull.tilt1.dropna()"
   ]
  },
  {
   "cell_type": "code",
   "execution_count": 71,
   "metadata": {},
   "outputs": [
    {
     "data": {
      "image/png": "[encoded data removed]",
      "text/plain": [
       "<matplotlib.figure.Figure at 0x197080c67f0>"
      ]
     },
     "metadata": {},
     "output_type": "display_data"
    }
   ],
   "source": [
    "### hard to interpret\n",
    "theTilts.plot()\n",
    "plt.xlabel('date_installed')\n",
    "plt.ylabel('Tilt')\n",
    "plt.title('Tilt vs. date_installed');"
   ]
  },
  {
   "cell_type": "code",
   "execution_count": 72,
   "metadata": {},
   "outputs": [
    {
     "data": {
      "image/png": "[encoded data removed]",
      "text/plain": [
       "<matplotlib.figure.Figure at 0x19700e11278>"
      ]
     },
     "metadata": {},
     "output_type": "display_data"
    }
   ],
   "source": [
    "# distribution please\n",
    "# okay that's better\n",
    "theTilts.plot(kind='hist')\n",
    "plt.xlabel('Tilt')\n",
    "plt.ylabel('Frequency')\n",
    "plt.title('Distribution of tilt');"
   ]
  },
  {
   "cell_type": "code",
   "execution_count": 73,
   "metadata": {},
   "outputs": [
    {
     "data": {
      "text/plain": [
       "date_installed\n",
       "1999-12-01    180.0\n",
       "2001-02-02    270.0\n",
       "2001-04-23    180.0\n",
       "2001-04-30    180.0\n",
       "2001-08-23    180.0\n",
       "Name: azimuth1, dtype: float64"
      ]
     },
     "execution_count": 73,
     "metadata": {},
     "output_type": "execute_result"
    }
   ],
   "source": [
    "azi = dfFull.azimuth1.dropna(); azi.head()"
   ]
  },
  {
   "cell_type": "code",
   "execution_count": 74,
   "metadata": {},
   "outputs": [
    {
     "data": {
      "image/png": "[encoded data removed]",
      "text/plain": [
       "<matplotlib.figure.Figure at 0x19700e1e630>"
      ]
     },
     "metadata": {},
     "output_type": "display_data"
    }
   ],
   "source": [
    "azi.plot(marker='.', linestyle='none')\n",
    "plt.xlabel('date_installed')\n",
    "plt.ylabel('azimuth')\n",
    "plt.title('Azimuth vs. date_installed');"
   ]
  },
  {
   "cell_type": "code",
   "execution_count": 75,
   "metadata": {},
   "outputs": [
    {
     "data": {
      "image/png": "[encoded data removed]",
      "text/plain": [
       "<matplotlib.figure.Figure at 0x19772ef47f0>"
      ]
     },
     "metadata": {},
     "output_type": "display_data"
    }
   ],
   "source": [
    "azi.plot(kind='hist')\n",
    "plt.xlabel('Azimuth')\n",
    "plt.ylabel('Frequency')\n",
    "plt.title('Distribution of azimuth');"
   ]
  },
  {
   "cell_type": "code",
   "execution_count": 76,
   "metadata": {},
   "outputs": [
    {
     "data": {
      "text/plain": [
       "date_installed\n",
       "2009-11-18       390.0\n",
       "2009-12-21       390.0\n",
       "2010-02-03       450.0\n",
       "2010-03-05       390.0\n",
       "2010-03-05       374.0\n",
       "2010-03-09       390.0\n",
       "2010-03-24       370.0\n",
       "2010-03-31       420.0\n",
       "2010-04-14       400.0\n",
       "2010-05-07       370.0\n",
       "2010-05-17       368.0\n",
       "2010-06-08       378.0\n",
       "2010-06-09       390.0\n",
       "2010-06-28       380.0\n",
       "2010-07-30       363.0\n",
       "2010-08-13       380.0\n",
       "2010-09-07       405.0\n",
       "2010-09-24       405.0\n",
       "2010-12-17       450.0\n",
       "2011-01-31       400.0\n",
       "2011-02-18       372.0\n",
       "2011-04-15       367.0\n",
       "2013-10-16    200100.0\n",
       "2014-04-24       420.0\n",
       "2014-05-01       540.0\n",
       "Name: azimuth1, dtype: float64"
      ]
     },
     "execution_count": 76,
     "metadata": {},
     "output_type": "execute_result"
    }
   ],
   "source": [
    "# bad data\n",
    "azi[azi > 360.0]"
   ]
  },
  {
   "cell_type": "markdown",
   "metadata": {},
   "source": [
    "##### tracking_type\n",
    "\n",
    "There is another column called tracking (boolean).  There's probably not enough data here to do anything with."
   ]
  },
  {
   "cell_type": "code",
   "execution_count": 77,
   "metadata": {},
   "outputs": [
    {
     "data": {
      "text/plain": [
       "count     526055\n",
       "unique         4\n",
       "top        Fixed\n",
       "freq      524383\n",
       "Name: tracking_type, dtype: object"
      ]
     },
     "execution_count": 77,
     "metadata": {},
     "output_type": "execute_result"
    }
   ],
   "source": [
    "dfFull.tracking_type.describe()"
   ]
  },
  {
   "cell_type": "code",
   "execution_count": 78,
   "metadata": {},
   "outputs": [
    {
     "data": {
      "text/plain": [
       "Fixed          524383\n",
       "Single-Axis       844\n",
       "Dual-Axis         541\n",
       "Mixed             287\n",
       "Name: tracking_type, dtype: int64"
      ]
     },
     "execution_count": 78,
     "metadata": {},
     "output_type": "execute_result"
    }
   ],
   "source": [
    "dfFull.tracking_type.value_counts()"
   ]
  },
  {
   "cell_type": "markdown",
   "metadata": {},
   "source": [
    "##### manuf_1, manuf_2, manuf_3\n",
    "\n",
    "List of manufacturers of the PV modules.  Could be useful, but since the mixes aren't given, it's hard to understand what to do with it.  More analysis could point the way (e.g. does the same manufacturer show up in multiple variables?  Are these all mixed?)"
   ]
  },
  {
   "cell_type": "code",
   "execution_count": 79,
   "metadata": {},
   "outputs": [
    {
     "name": "stdout",
     "output_type": "stream",
     "text": [
      "count       201120\n",
      "unique          22\n",
      "top       SunPower\n",
      "freq         83310\n",
      "Name: manuf1_clean, dtype: object\n",
      "\n",
      "SunPower                              83310\n",
      "Canadian Solar                        47628\n",
      "Sharp                                 33129\n",
      "LG Electronics Solar Cell Division    11639\n",
      "AU Optronics                           6294\n",
      "ET Solar Industry                      5088\n",
      "Schuco USA                             4699\n",
      "Phono Solar Technology                 3004\n",
      "Andalay Solar                          1595\n",
      "GE Energy                              1572\n",
      "MAGE Solar                             1558\n",
      "Chint Solar (Zhejiang)                  563\n",
      "Siemens                                 330\n",
      "Westinghouse Solar                      266\n",
      "Open Energy                             152\n",
      "Yes! Solar                              143\n",
      "Helios USA                              129\n",
      "Honeywell                                11\n",
      "Powercom                                  4\n",
      "CFM                                       3\n",
      "GreenVolts                                2\n",
      "Solectria                                 1\n",
      "Name: manuf1_clean, dtype: int64\n"
     ]
    }
   ],
   "source": [
    "print(dfFull.manuf1_clean.describe()); print()\n",
    "print(dfFull.manuf1_clean.value_counts())"
   ]
  },
  {
   "cell_type": "code",
   "execution_count": 80,
   "metadata": {},
   "outputs": [
    {
     "name": "stdout",
     "output_type": "stream",
     "text": [
      "count       231606\n",
      "unique         183\n",
      "top       SunPower\n",
      "freq         83629\n",
      "Name: manuf2_clean, dtype: object\n",
      "\n",
      "SunPower                                               83629\n",
      "Canadian Solar                                         48371\n",
      "Sharp                                                  33218\n",
      "LG Electronics Solar Cell Division                     10358\n",
      "Trina Solar                                             9893\n",
      "AU Optronics                                            6327\n",
      "ET Solar Industry                                       5136\n",
      "Kyocera Solar                                           4993\n",
      "Schuco USA                                              4712\n",
      "Phono Solar Technology                                  3008\n",
      "REC Solar                                               2912\n",
      "Yingli Green Energy                                     2265\n",
      "Andalay Solar                                           1604\n",
      "SolarWorld                                              1573\n",
      "GE Energy                                               1572\n",
      "MAGE Solar                                              1545\n",
      "LG Electronics                                          1479\n",
      "Suntech Power                                           1158\n",
      "Hyundai Heavy Industries                                 856\n",
      "Chint Solar (Zhejiang)                                   585\n",
      "Suniva                                                   453\n",
      "Hanwha Q CELLS                                           438\n",
      "Yingli Energy (China)                                    431\n",
      "BP Solar                                                 395\n",
      "Renesola Jiangsu                                         351\n",
      "Changzhou Trina Solar Energy                             350\n",
      "Siemens                                                  328\n",
      "Renesola America                                         308\n",
      "Westinghouse Solar                                       265\n",
      "Hanwha Q-Cells                                           231\n",
      "                                                       ...  \n",
      "American Solar Wholesale                                   1\n",
      "Green Energy Technology                                    1\n",
      "Sova Power                                                 1\n",
      "Sunperfect Solar                                           1\n",
      "Tianwei New Energy Holdings Co., Ltd                       1\n",
      "Zhejiang Jiutai New Energy                                 1\n",
      "SolarBridge Technologies                                   1\n",
      "Inventec Energy                                            1\n",
      "Day4 Energy                                                1\n",
      "Solar Power Industries                                     1\n",
      "Atlantis Energy                                            1\n",
      "Shanghai Alex Solar Energy Science &amp; Technology        1\n",
      "JA Solar Holding                                           1\n",
      "Lumeta                                                     1\n",
      "Shenzhen Topray Solar                                      1\n",
      "Hanwha Solar Canada                                        1\n",
      "Du Pont Apollo                                             1\n",
      "Sun World Solar Energy Technology (Luoyang)                1\n",
      "Gloria Solar                                               1\n",
      "BIPV                                                       1\n",
      "Zhejiang Sunflower Light Energy Science Technology         1\n",
      "HelioVolt                                                  1\n",
      "Shanghai Solar Energy S&amp;T                              1\n",
      "Solarfun Power                                             1\n",
      "Changzhou Almaden                                          1\n",
      "Integrated Power                                           1\n",
      "Chinalight Haoyu Photovoltaic Technology (Beijing)         1\n",
      "Brightwatts                                                1\n",
      "Znshine PV-Tech                                            1\n",
      "SOLON                                                      1\n",
      "Name: manuf2_clean, Length: 183, dtype: int64\n"
     ]
    }
   ],
   "source": [
    "print(dfFull.manuf2_clean.describe()); print()\n",
    "print(dfFull.manuf2_clean.value_counts())"
   ]
  },
  {
   "cell_type": "code",
   "execution_count": 81,
   "metadata": {},
   "outputs": [
    {
     "name": "stdout",
     "output_type": "stream",
     "text": [
      "count       209652\n",
      "unique         121\n",
      "top       SunPower\n",
      "freq         83329\n",
      "Name: manuf3_clean, dtype: object\n",
      "SunPower                                                 83329\n",
      "Canadian Solar                                           47680\n",
      "Sharp                                                    33134\n",
      "LG Electronics Solar Cell Division                       11311\n",
      "AU Optronics                                              6293\n",
      "ET Solar Industry                                         5089\n",
      "Schuco USA                                                4700\n",
      "Phono Solar Technology                                    3006\n",
      "Trina Solar                                               2869\n",
      "Kyocera Solar                                             1977\n",
      "Andalay Solar                                             1596\n",
      "GE Energy                                                 1572\n",
      "MAGE Solar                                                1554\n",
      "REC Solar                                                 1008\n",
      "Yingli Green Energy                                        611\n",
      "Chint Solar (Zhejiang)                                     563\n",
      "LG Electronics                                             351\n",
      "Siemens                                                    330\n",
      "SolarWorld                                                 297\n",
      "Westinghouse Solar                                         266\n",
      "Hyundai Heavy Industries                                   241\n",
      "Suntech Power                                              231\n",
      "Hanwha Q CELLS                                             170\n",
      "Open Energy                                                152\n",
      "Yes! Solar                                                 143\n",
      "Suniva                                                     136\n",
      "Helios USA                                                 129\n",
      "Renesola Jiangsu                                            86\n",
      "Yingli Energy (China)                                       75\n",
      "Changzhou Trina Solar Energy                                73\n",
      "                                                         ...  \n",
      "Worldwide Energy & Mfg USA                                   1\n",
      "Global Solar Energy                                          1\n",
      "Schuco International                                         1\n",
      "Abound Solar                                                 1\n",
      "1Soltech                                                     1\n",
      "CentroSolar Sonnenstromfabrik                                1\n",
      "Solectria                                                    1\n",
      "CSG PVTech                                                   1\n",
      "MX Solar USA                                                 1\n",
      "Antaris Solar                                                1\n",
      "Samsung SDI                                                  1\n",
      "Q-Cells North America                                        1\n",
      "Upsolar                                                      1\n",
      "Atlantis Energy                                              1\n",
      "Perfect Source Technology                                    1\n",
      "Panasonic Group SANYO Electric                               1\n",
      "Kaneka                                                       1\n",
      "Solartec                                                     1\n",
      "Znshine PV-Tech                                              1\n",
      "Shanghai Solar Energy S&amp;T                                1\n",
      "SUNGEN International                                         1\n",
      "Shanghai Chaori Solar Energy Science &amp; Technology        1\n",
      "SMX Capital                                                  1\n",
      "SunWize Technologies                                         1\n",
      "EcoSolargy                                                   1\n",
      "TenKsolar                                                    1\n",
      "Renogy                                                       1\n",
      "TSMC Solar                                                   1\n",
      "Lifeline Energy                                              1\n",
      "Vikram Solar                                                 1\n",
      "Name: manuf3_clean, Length: 121, dtype: int64\n"
     ]
    }
   ],
   "source": [
    "print(dfFull.manuf3_clean.describe())\n",
    "print(dfFull.manuf3_clean.value_counts())"
   ]
  },
  {
   "cell_type": "markdown",
   "metadata": {},
   "source": [
    "##### inv_man_clean     \n",
    "Manufacturer of the inverter.  This is potentially of interest as the inverter is one of the highest cost components of the installation."
   ]
  },
  {
   "cell_type": "code",
   "execution_count": 82,
   "metadata": {},
   "outputs": [
    {
     "name": "stdout",
     "output_type": "stream",
     "text": [
      "count        49932\n",
      "unique          22\n",
      "top       SunPower\n",
      "freq         42793\n",
      "Name: inv_man_clean, dtype: object\n"
     ]
    }
   ],
   "source": [
    "inv_man = dfFull.inv_man_clean.dropna()\n",
    "print(inv_man.describe())"
   ]
  },
  {
   "cell_type": "code",
   "execution_count": 83,
   "metadata": {},
   "outputs": [
    {
     "data": {
      "text/plain": [
       "SunPower                              42793\n",
       "Solectria                              3218\n",
       "Sharp                                  1873\n",
       "Schuco USA                             1185\n",
       "AU Optronics                            156\n",
       "GE Energy                               131\n",
       "MAGE Solar                              108\n",
       "Yes! Solar                               99\n",
       "CFM                                      80\n",
       "Siemens                                  72\n",
       "ET Solar Industry                        56\n",
       "Powercom                                 34\n",
       "Open Energy                              29\n",
       "Canadian Solar                           26\n",
       "LG Electronics Solar Cell Division       25\n",
       "Phono Solar Technology                   19\n",
       "Westinghouse Solar                       10\n",
       "Honeywell                                 7\n",
       "GreenVolts                                7\n",
       "Andalay Solar                             2\n",
       "Helios USA                                1\n",
       "Chint Solar (Zhejiang)                    1\n",
       "Name: inv_man_clean, dtype: int64"
      ]
     },
     "execution_count": 83,
     "metadata": {},
     "output_type": "execute_result"
    }
   ],
   "source": [
    "inv_man.value_counts()"
   ]
  },
  {
   "cell_type": "markdown",
   "metadata": {},
   "source": [
    "##### reported_annual_energy_prod\n",
    "\n",
    "There's some doubt in my mind whether these are properly reported.  Median is 8.25k.  Presumably that is 8.25kw.  That sounds like a daily figure.  The high values may not have been properly normalized."
   ]
  },
  {
   "cell_type": "code",
   "execution_count": 84,
   "metadata": {},
   "outputs": [
    {
     "data": {
      "text/plain": [
       "count    2.044260e+05\n",
       "mean     2.001243e+04\n",
       "std      1.864276e+05\n",
       "min      8.841482e-01\n",
       "25%      5.568851e+03\n",
       "50%      8.250000e+03\n",
       "75%      1.190274e+04\n",
       "max      3.500000e+07\n",
       "Name: reported_annual_energy_prod, dtype: float64"
      ]
     },
     "execution_count": 84,
     "metadata": {},
     "output_type": "execute_result"
    }
   ],
   "source": [
    "dfFull.reported_annual_energy_prod.describe()"
   ]
  },
  {
   "cell_type": "code",
   "execution_count": 85,
   "metadata": {},
   "outputs": [
    {
     "data": {
      "image/png": "[encoded data removed]",
      "text/plain": [
       "<matplotlib.figure.Figure at 0x1974ece4ef0>"
      ]
     },
     "metadata": {},
     "output_type": "display_data"
    }
   ],
   "source": [
    "dfFull.reported_annual_energy_prod.plot(marker='.', linestyle='none')\n",
    "plt.xlabel('date_installed')\n",
    "plt.ylabel('reported_annual_energy_prod')\n",
    "plt.title('Reported_annual_energy_prod');"
   ]
  },
  {
   "cell_type": "code",
   "execution_count": 86,
   "metadata": {},
   "outputs": [
    {
     "data": {
      "text/plain": [
       "2892"
      ]
     },
     "execution_count": 86,
     "metadata": {},
     "output_type": "execute_result"
    }
   ],
   "source": [
    "(dfFull.reported_annual_energy_prod > 100000).sum()"
   ]
  },
  {
   "cell_type": "markdown",
   "metadata": {},
   "source": [
    "1. imports\n",
    "1. load csv\n",
    "1. check index has no nulls\n",
    "1. ensure index is sorted\n",
    "1. info - 37 cols\n",
    "1. make dict of column names\n",
    "1. check it\n",
    "1. pull out mixed type cols\n",
    "1. install_type value_counts\n",
    "1. capture \n",
    "1. what fraction of total are residential and commercial\n",
    "1. make dfRes - residential installs\n",
    "1. make dfCom - commercial installs\n",
    "1. describe dfRes cost_per_watt, size_kw, cost\n",
    "1. define fn to mask top and bottom 1% - mid98\n",
    "1. describe mid98(dfRes.cost_per_watt)\n",
    "1. describe dfRes.cost_per_watt\n",
    "1. look at 1 and 99 percentile values\n",
    "1. plot dist dfRes.cost_per_watt\n",
    "1. plot dist mid98(dfRes.cost_per_watt)\n",
    "1. plot cum dist dfRes.cost_per_watt\n",
    "1. plot cum dist mid98(dfRes.cost_per_watt)\n",
    "1. plot dist dfRes.cost\n",
    "1. plot dist mid98(dfRes.cost)\n",
    "1. plot dist dfRes.size_kw\n",
    "1. plot dist mid98(dfRes.size_kw)\n",
    "1. define fn to mask before 2004\n",
    "1. note to come back to validate assumptions on relationship between cpw, size, cost\n",
    "1. get info state, zipcode, city, county\n",
    "1. describe state col\n",
    "1. describe city col\n",
    "1. describe county col\n",
    "1. describe zipcode col\n",
    "1. how many zero zipcode?\n",
    "1. describe installer\n",
    "1. look at top 30\n",
    "1. get cumulative sum of top 30\n",
    "1. describe new_constr\n",
    "1. describe tracking\n",
    "1. describe 3rdparty\n",
    "1. look at 68 values of 'year' col\n",
    "1. value_counts of incentive_prog_names\n",
    "1. value_counts of appraised col\n",
    "1. value_counts lbnl_tts\n",
    "1. value_counts lbnl_tts_version_year\n",
    "1. utility and utility clean\n",
    "    * are they equal - no\n",
    "    * how many utility - 2117\n",
    "    * value_counts of utility\n",
    "1. if they're not equal, what's up?\n",
    "1. value_counts tech_1\n",
    "1. peek at beginning of value_counts of model1_clean\n",
    "1. count of model1_clean\n",
    "1. plot annual_PV_prod\n",
    "1. plot log annual_PV_prod\n",
    "1. plot dist log annual_PV_prod\n",
    "1. print all aPVprod > 10 ** 7\n",
    "1. count how many < 1000\n",
    "1. plot annual_insol and log annual insol\n",
    "1. count nonnulls in rebates col\n",
    "1. count floats in rebates col\n",
    "1. make float mask for this col\n",
    "1. print the ones that aren't floats\n",
    "1. what are they?  strings\n",
    "1. how many strings and floats?\n",
    "1. capture nonnull sales_tax_cost\n",
    "1. peek at nonnull sales_tax_cost\n",
    "1. describe sales_tax_cost\n",
    "1. how many > 3 * mean\n",
    "1. how many > 10 * mean\n",
    "1. plot distribution of nonnull sales_tax_cost\n",
    "1. scatter plot nonnull sales_tax_cost\n",
    "1. capture nonnull tilt1\n",
    "1. plot tilt1\n",
    "1. plot dist tilt1\n",
    "1. capture nonnull azimuth1\n",
    "1. plot azimuth1\n",
    "1. plot dist azimuth1\n",
    "1. print values > 360\n",
    "1. describe tracking_type\n",
    "1. value_counts tracking_type\n",
    "1. describe/value_counts manuf1\n",
    "1. describe/value_counts manuf2\n",
    "1. describe/value_counts manuf3\n",
    "1. capture nonnull inv_man_clean\n",
    "1. value_count inv_man_clean\n",
    "1. describe reported_annual_energy_prod\n",
    "1. plot reported_annual_energy_prod\n",
    "1. how many > 100000\n",
    "\n"
   ]
  }
 ],
 "metadata": {
  "kernelspec": {
   "display_name": "Python 3",
   "language": "python",
   "name": "python3"
  },
  "language_info": {
   "codemirror_mode": {
    "name": "ipython",
    "version": 3
   },
   "file_extension": ".py",
   "mimetype": "text/x-python",
   "name": "python",
   "nbconvert_exporter": "python",
   "pygments_lexer": "ipython3",
   "version": "3.6.3"
  }
 },
 "nbformat": 4,
 "nbformat_minor": 2
}
