{
 "cells": [
  {
   "cell_type": "markdown",
   "metadata": {},
   "source": [
    "## Full data set from National Renewable Energy Laboratory\n",
    "\n",
    "https://openpv.nrel.gov/\n",
    "\n",
    "*16dec2017*  This is the second time though load up and variable examination after noticing that some variables had been overlooked in the first pass.\n",
    "\n",
    "This cell describes the work in this notebook.\n",
    "\n",
    "* set up\n",
    "    * load data using (parsed) date as index\n",
    "        read_csv warns about mixed type cols\n",
    "        note: this takes a few minutes.\n",
    "    * list columns\n",
    "    * list columns with mixed type\n",
    "    * get df info\n",
    "\n",
    "* describe columns in term of level of interest.  A variable can be interesting for modeling or because it suggests a good question to ask.\n",
    "    * 38 nonnull cols\n",
    "    * 42 completely null cols\n",
    "    * drop all   completely null cols\n",
    "\n",
    "* manage the index\n",
    "    * some bogus dates\n",
    "    * look at timeline (where's the data)\n",
    "    * 2006 though 2015 has 96% of the data\n",
    "    * note possible date restriction for cleaning phase\n",
    " \n",
    "* examine each nonnull variable part 1 - useful fields (13 variables).  \n",
    "    * size and cost - 3 vars\n",
    "    * geography - 4 vars\n",
    "    * other - 6 vars\n",
    "    * Note opportunities for cleaning\n",
    "    \n",
    "*   examine each nonnull variable part 2 - possibly useful fields (26 variables).  \n",
    "    * note number of nonnull values\n",
    "    * Decide if useful (keep or drop?). \n",
    "    * Note opportunities for cleaning."
   ]
  },
  {
   "cell_type": "code",
   "execution_count": 1,
   "metadata": {},
   "outputs": [],
   "source": [
    "# set up\n",
    "import numpy as np\n",
    "import pandas as pd\n",
    "import random\n",
    "import matplotlib.pyplot as plt\n",
    "import seaborn as sns\n",
    "sns.set()\n",
    "%matplotlib inline"
   ]
  },
  {
   "cell_type": "markdown",
   "metadata": {},
   "source": [
    "### Load data; check columns"
   ]
  },
  {
   "cell_type": "code",
   "execution_count": 2,
   "metadata": {
    "scrolled": true
   },
   "outputs": [
    {
     "name": "stderr",
     "output_type": "stream",
     "text": [
      "C:\\Users\\saus\\Anaconda3\\lib\\site-packages\\IPython\\core\\interactiveshell.py:2728: DtypeWarning: Columns (2,5,8,12,13,14,15,16,20,23,25,26,27,28,32,50) have mixed types. Specify dtype option on import or set low_memory=False.\n",
      "  interactivity=interactivity, compiler=compiler, result=result)\n"
     ]
    }
   ],
   "source": [
    "dfFull = pd.read_csv('../local/data/openpv_all_master.csv', index_col='date_installed', parse_dates=True)"
   ]
  },
  {
   "cell_type": "code",
   "execution_count": 3,
   "metadata": {},
   "outputs": [
    {
     "data": {
      "text/plain": [
       "Index(['state', 'incentive_prog_names', 'type', 'size_kw', 'appraised',\n",
       "       'zipcode', 'install_type', 'installer', 'cost_per_watt', 'cost',\n",
       "       'lbnl_tts_version_year', 'lbnl_tts', 'city', 'utility_clean', 'tech_1',\n",
       "       'model1_clean', 'county', 'annual_PV_prod', 'annual_insolation',\n",
       "       'rebate', 'sales_tax_cost', 'tilt1', 'tracking_type', 'azimuth1',\n",
       "       'manuf2_clean', 'manuf3_clean', 'manuf1_clean', 'inv_man_clean',\n",
       "       'reported_annual_energy_prod', 'incentivetype', 'year_app_implied',\n",
       "       'year', 'npv_fit_real', 'application_implied', 'npv_pbi_real',\n",
       "       'other_incentive', 'appraised_cluster', 'inflation',\n",
       "       'other_incentive_real', 'zip_available', 'cust_city', 'pbi', 'pbi_real',\n",
       "       'pbi_length', 'application', 'fit_length', 'fit_rate', 'fit_payment',\n",
       "       '_3rdparty_implied', 'utility', 'install_price_real_w', 'install_price',\n",
       "       'installer_clean', 'manuf1_', 'inverter_reported', 'rebate_real',\n",
       "       'model1', '_3rdparty', 'inv_model_reported', 'microinv_solarhub',\n",
       "       'bipv_3', 'bipv_2', 'bipv_1', 'sales_tax_rate', 'sales_tax_cost_real',\n",
       "       'bipv_all', 'thinfilm_all', 'china', 'sys_sizeac', 'pbi_rate',\n",
       "       'new_constr', 'effic_1', 'cust_county', 'tracking', 'inv_model_clean',\n",
       "       'mod_cost_real', 'inv_cost_real', 'bos_powerclerk_real',\n",
       "       'permitting_real', '3rdparty'],\n",
       "      dtype='object')"
      ]
     },
     "execution_count": 3,
     "metadata": {},
     "output_type": "execute_result"
    }
   ],
   "source": [
    "# list columns\n",
    "dfFull.columns"
   ]
  },
  {
   "cell_type": "code",
   "execution_count": 4,
   "metadata": {},
   "outputs": [
    {
     "name": "stdout",
     "output_type": "stream",
     "text": [
      "[(2, 'type'), (5, 'zipcode'), (8, 'cost_per_watt'), (12, 'city'), (13, 'utility_clean'), (14, 'tech_1'), (15, 'model1_clean'), (16, 'county'), (20, 'sales_tax_cost'), (23, 'azimuth1'), (25, 'manuf3_clean'), (26, 'manuf1_clean'), (27, 'inv_man_clean'), (28, 'reported_annual_energy_prod'), (32, 'npv_fit_real'), (50, 'install_price_real_w')]\n"
     ]
    }
   ],
   "source": [
    "# maybe funky column data - mixed type\n",
    "print([list(enumerate(dfFull.columns))[i] for i in (2,5,8,12,13,14,15,16,20,23,25,26,27,28,32,50)])"
   ]
  },
  {
   "cell_type": "code",
   "execution_count": 5,
   "metadata": {},
   "outputs": [
    {
     "name": "stdout",
     "output_type": "stream",
     "text": [
      "<class 'pandas.core.frame.DataFrame'>\n",
      "DatetimeIndex: 1020521 entries, 2013-12-12 to 2017-08-18\n",
      "Data columns (total 80 columns):\n",
      "state                          1020521 non-null object\n",
      "incentive_prog_names           797958 non-null object\n",
      "type                           1020516 non-null object\n",
      "size_kw                        1020516 non-null float64\n",
      "appraised                      224036 non-null object\n",
      "zipcode                        1020516 non-null float64\n",
      "install_type                   977940 non-null object\n",
      "installer                      702466 non-null object\n",
      "cost_per_watt                  762941 non-null float64\n",
      "cost                           763102 non-null float64\n",
      "lbnl_tts_version_year          797958 non-null float64\n",
      "lbnl_tts                       797958 non-null object\n",
      "city                           798954 non-null object\n",
      "utility_clean                  792720 non-null object\n",
      "tech_1                         580919 non-null object\n",
      "model1_clean                   580919 non-null object\n",
      "county                         998652 non-null object\n",
      "annual_PV_prod                 780969 non-null float64\n",
      "annual_insolation              780969 non-null float64\n",
      "rebate                         386698 non-null object\n",
      "sales_tax_cost                 355309 non-null float64\n",
      "tilt1                          383365 non-null float64\n",
      "tracking_type                  526058 non-null object\n",
      "azimuth1                       363281 non-null float64\n",
      "manuf2_clean                   231607 non-null object\n",
      "manuf3_clean                   209653 non-null object\n",
      "manuf1_clean                   201121 non-null object\n",
      "inv_man_clean                  49933 non-null object\n",
      "reported_annual_energy_prod    204429 non-null float64\n",
      "incentivetype                  0 non-null float64\n",
      "year_app_implied               0 non-null float64\n",
      "year                           68 non-null object\n",
      "npv_fit_real                   0 non-null float64\n",
      "application_implied            0 non-null float64\n",
      "npv_pbi_real                   0 non-null float64\n",
      "other_incentive                0 non-null float64\n",
      "appraised_cluster              0 non-null float64\n",
      "inflation                      0 non-null float64\n",
      "other_incentive_real           0 non-null float64\n",
      "zip_available                  0 non-null float64\n",
      "cust_city                      0 non-null float64\n",
      "pbi                            0 non-null float64\n",
      "pbi_real                       0 non-null float64\n",
      "pbi_length                     5427 non-null float64\n",
      "application                    0 non-null float64\n",
      "fit_length                     0 non-null float64\n",
      "fit_rate                       0 non-null float64\n",
      "fit_payment                    0 non-null float64\n",
      "_3rdparty_implied              0 non-null float64\n",
      "utility                        2117 non-null object\n",
      "install_price_real_w           0 non-null float64\n",
      "install_price                  0 non-null float64\n",
      "installer_clean                0 non-null float64\n",
      "manuf1_                        0 non-null float64\n",
      "inverter_reported              0 non-null float64\n",
      "rebate_real                    0 non-null float64\n",
      "model1                         0 non-null float64\n",
      "_3rdparty                      0 non-null float64\n",
      "inv_model_reported             0 non-null float64\n",
      "microinv_solarhub              0 non-null float64\n",
      "bipv_3                         5255 non-null float64\n",
      "bipv_2                         5255 non-null float64\n",
      "bipv_1                         5255 non-null float64\n",
      "sales_tax_rate                 0 non-null float64\n",
      "sales_tax_cost_real            0 non-null float64\n",
      "bipv_all                       0 non-null float64\n",
      "thinfilm_all                   0 non-null float64\n",
      "china                          0 non-null float64\n",
      "sys_sizeac                     0 non-null float64\n",
      "pbi_rate                       0 non-null float64\n",
      "new_constr                     27106 non-null float64\n",
      "effic_1                        0 non-null float64\n",
      "cust_county                    0 non-null float64\n",
      "tracking                       1930 non-null float64\n",
      "inv_model_clean                0 non-null float64\n",
      "mod_cost_real                  0 non-null float64\n",
      "inv_cost_real                  0 non-null float64\n",
      "bos_powerclerk_real            0 non-null float64\n",
      "permitting_real                0 non-null float64\n",
      "3rdparty                       306993 non-null float64\n",
      "dtypes: float64(60), object(20)\n",
      "memory usage: 630.7+ MB\n"
     ]
    }
   ],
   "source": [
    "# tell me more\n",
    "dfFull.info()"
   ]
  },
  {
   "cell_type": "markdown",
   "metadata": {},
   "source": [
    "#### Some of these columns were overlooked the first time through the data.\n",
    "#### This list only includes columns with at least some data.\n",
    "\n",
    "1. indent indicates examined in first pass\n",
    "1. '*' indicates possible use\n",
    "1. '-' indicates probably useless\n",
    "1. '=' indicates ambiguous\n",
    "1. '#' indicates column completely null\n",
    "\n",
    "\n",
    "### 38 nonnull columns\n",
    "```\n",
    "    *state                          1020521 non-null object\n",
    "*incentive_prog_names           797958 non-null object\n",
    "    -type                           1020516 non-null object\n",
    "    *size_kw                        1020516 non-null float64\n",
    "*appraised                      224036 non-null object\n",
    "    *zipcode                        1020516 non-null float64\n",
    "    *install_type                   977940 non-null object\n",
    "    *installer                      702466 non-null object\n",
    "    **cost_per_watt                  762941 non-null float64\n",
    "    *cost                           763102 non-null float64\n",
    "-lbnl_tts_version_year          797958 non-null float64\n",
    "-lbnl_tts                       797958 non-null object\n",
    "    *city                           798954 non-null object\n",
    "-utility_clean                  792720 non-null object\n",
    "*tech_1                         580919 non-null object\n",
    "-model1_clean                   580919 non-null object\n",
    "    *county                         998652 non-null object\n",
    "*annual_PV_prod                 780969 non-null float64\n",
    "-annual_insolation              780969 non-null float64\n",
    "*rebate                         386698 non-null object\n",
    "-sales_tax_cost                 355309 non-null float64\n",
    "-tilt1                          383365 non-null float64\n",
    "-tracking_type                  526058 non-null object\n",
    "-azimuth1                       363281 non-null float64\n",
    "=manuf2_clean                   231607 non-null object\n",
    "=manuf3_clean                   209653 non-null object\n",
    "=manuf1_clean                   201121 non-null object\n",
    "=inv_man_clean                  49933 non-null object\n",
    "-reported_annual_energy_prod    204429 non-null float64\n",
    "-year                           68 non-null object\n",
    "=pbi_length                     5427 non-null float64\n",
    "*utility                        2117 non-null object\n",
    "-bipv_3                         5255 non-null float64\n",
    "-bipv_2                         5255 non-null float64\n",
    "-bipv_1                         5255 non-null float64=\n",
    "    *new_constr                     27106 non-null float64\n",
    "    *tracking                       1930 non-null float64\n",
    "    *3rdparty                       306993 non-null float64\n",
    "```\n",
    "\n",
    "### 42 null columns\n",
    "\n",
    "```\n",
    "#npv_fit_real                   0 non-null float64\n",
    "#application_implied            0 non-null float64\n",
    "#npv_pbi_real                   0 non-null float64\n",
    "#other_incentive                0 non-null float64\n",
    "#appraised_cluster              0 non-null float64\n",
    "#inflation                      0 non-null float64\n",
    "#other_incentive_real           0 non-null float64\n",
    "#zip_available                  0 non-null float64\n",
    "#cust_city                      0 non-null float64\n",
    "#pbi                            0 non-null float64\n",
    "#pbi_real                       0 non-null float64\n",
    "#install_price_real_w           0 non-null float64\n",
    "#install_price                  0 non-null float64\n",
    "#installer_clean                0 non-null float64\n",
    "#manuf1_                        0 non-null float64\n",
    "#inverter_reported              0 non-null float64\n",
    "#rebate_real                    0 non-null float64\n",
    "#model1                         0 non-null float64\n",
    "#_3rdparty                      0 non-null float64\n",
    "#inv_model_reported             0 non-null float64\n",
    "#microinv_solarhub              0 non-null float64\n",
    "#application                    0 non-null float64\n",
    "#fit_length                     0 non-null float64\n",
    "#fit_rate                       0 non-null float64\n",
    "#fit_payment                    0 non-null float64\n",
    "#_3rdparty_implied              0 non-null float64\n",
    "#effic_1                        0 non-null float64\n",
    "#cust_county                    0 non-null float64\n",
    "#sales_tax_rate                 0 non-null float64\n",
    "#sales_tax_cost_real            0 non-null float64\n",
    "#bipv_all                       0 non-null float64\n",
    "#thinfilm_all                   0 non-null float64\n",
    "#china                          0 non-null float64\n",
    "#sys_sizeac                     0 non-null float64\n",
    "#pbi_rate                       0 non-null float64\n",
    "#incentivetype                  0 non-null float64\n",
    "#year_app_implied               0 non-null float64\n",
    "#mod_cost_real                  0 non-null float64\n",
    "#inv_cost_real                  0 non-null float64\n",
    "#bos_powerclerk_real            0 non-null float64\n",
    "#permitting_real                0 non-null float64\n",
    "#inv_model_clean                0 non-null float64\n",
    "```"
   ]
  },
  {
   "cell_type": "code",
   "execution_count": 6,
   "metadata": {},
   "outputs": [],
   "source": [
    "# drop all completely empty columns\n",
    "dfFull.dropna(how='all', axis='columns', inplace=True)"
   ]
  },
  {
   "cell_type": "code",
   "execution_count": 7,
   "metadata": {},
   "outputs": [
    {
     "data": {
      "text/plain": [
       "Index(['state', 'incentive_prog_names', 'type', 'size_kw', 'appraised',\n",
       "       'zipcode', 'install_type', 'installer', 'cost_per_watt', 'cost',\n",
       "       'lbnl_tts_version_year', 'lbnl_tts', 'city', 'utility_clean', 'tech_1',\n",
       "       'model1_clean', 'county', 'annual_PV_prod', 'annual_insolation',\n",
       "       'rebate', 'sales_tax_cost', 'tilt1', 'tracking_type', 'azimuth1',\n",
       "       'manuf2_clean', 'manuf3_clean', 'manuf1_clean', 'inv_man_clean',\n",
       "       'reported_annual_energy_prod', 'year', 'pbi_length', 'utility',\n",
       "       'bipv_3', 'bipv_2', 'bipv_1', 'new_constr', 'tracking', '3rdparty'],\n",
       "      dtype='object')"
      ]
     },
     "execution_count": 7,
     "metadata": {},
     "output_type": "execute_result"
    }
   ],
   "source": [
    "dfFull.columns"
   ]
  },
  {
   "cell_type": "code",
   "execution_count": 8,
   "metadata": {},
   "outputs": [
    {
     "data": {
      "text/plain": [
       "38"
      ]
     },
     "execution_count": 8,
     "metadata": {},
     "output_type": "execute_result"
    }
   ],
   "source": [
    "len(dfFull.columns)"
   ]
  },
  {
   "cell_type": "code",
   "execution_count": 9,
   "metadata": {},
   "outputs": [
    {
     "name": "stdout",
     "output_type": "stream",
     "text": [
      "<class 'pandas.core.frame.DataFrame'>\n",
      "DatetimeIndex: 1020521 entries, 2013-12-12 to 2017-08-18\n",
      "Data columns (total 38 columns):\n",
      "state                          1020521 non-null object\n",
      "incentive_prog_names           797958 non-null object\n",
      "type                           1020516 non-null object\n",
      "size_kw                        1020516 non-null float64\n",
      "appraised                      224036 non-null object\n",
      "zipcode                        1020516 non-null float64\n",
      "install_type                   977940 non-null object\n",
      "installer                      702466 non-null object\n",
      "cost_per_watt                  762941 non-null float64\n",
      "cost                           763102 non-null float64\n",
      "lbnl_tts_version_year          797958 non-null float64\n",
      "lbnl_tts                       797958 non-null object\n",
      "city                           798954 non-null object\n",
      "utility_clean                  792720 non-null object\n",
      "tech_1                         580919 non-null object\n",
      "model1_clean                   580919 non-null object\n",
      "county                         998652 non-null object\n",
      "annual_PV_prod                 780969 non-null float64\n",
      "annual_insolation              780969 non-null float64\n",
      "rebate                         386698 non-null object\n",
      "sales_tax_cost                 355309 non-null float64\n",
      "tilt1                          383365 non-null float64\n",
      "tracking_type                  526058 non-null object\n",
      "azimuth1                       363281 non-null float64\n",
      "manuf2_clean                   231607 non-null object\n",
      "manuf3_clean                   209653 non-null object\n",
      "manuf1_clean                   201121 non-null object\n",
      "inv_man_clean                  49933 non-null object\n",
      "reported_annual_energy_prod    204429 non-null float64\n",
      "year                           68 non-null object\n",
      "pbi_length                     5427 non-null float64\n",
      "utility                        2117 non-null object\n",
      "bipv_3                         5255 non-null float64\n",
      "bipv_2                         5255 non-null float64\n",
      "bipv_1                         5255 non-null float64\n",
      "new_constr                     27106 non-null float64\n",
      "tracking                       1930 non-null float64\n",
      "3rdparty                       306993 non-null float64\n",
      "dtypes: float64(18), object(20)\n",
      "memory usage: 303.7+ MB\n"
     ]
    }
   ],
   "source": [
    "dfFull.info()"
   ]
  },
  {
   "cell_type": "code",
   "execution_count": 10,
   "metadata": {},
   "outputs": [
    {
     "data": {
      "text/html": [
       "<div>\n",
       "<style scoped>\n",
       "    .dataframe tbody tr th:only-of-type {\n",
       "        vertical-align: middle;\n",
       "    }\n",
       "\n",
       "    .dataframe tbody tr th {\n",
       "        vertical-align: top;\n",
       "    }\n",
       "\n",
       "    .dataframe thead th {\n",
       "        text-align: right;\n",
       "    }\n",
       "</style>\n",
       "<table border=\"1\" class=\"dataframe\">\n",
       "  <thead>\n",
       "    <tr style=\"text-align: right;\">\n",
       "      <th></th>\n",
       "      <th>state</th>\n",
       "      <th>incentive_prog_names</th>\n",
       "      <th>type</th>\n",
       "      <th>size_kw</th>\n",
       "      <th>appraised</th>\n",
       "      <th>zipcode</th>\n",
       "      <th>install_type</th>\n",
       "      <th>installer</th>\n",
       "      <th>cost_per_watt</th>\n",
       "      <th>cost</th>\n",
       "      <th>...</th>\n",
       "      <th>reported_annual_energy_prod</th>\n",
       "      <th>year</th>\n",
       "      <th>pbi_length</th>\n",
       "      <th>utility</th>\n",
       "      <th>bipv_3</th>\n",
       "      <th>bipv_2</th>\n",
       "      <th>bipv_1</th>\n",
       "      <th>new_constr</th>\n",
       "      <th>tracking</th>\n",
       "      <th>3rdparty</th>\n",
       "    </tr>\n",
       "    <tr>\n",
       "      <th>date_installed</th>\n",
       "      <th></th>\n",
       "      <th></th>\n",
       "      <th></th>\n",
       "      <th></th>\n",
       "      <th></th>\n",
       "      <th></th>\n",
       "      <th></th>\n",
       "      <th></th>\n",
       "      <th></th>\n",
       "      <th></th>\n",
       "      <th></th>\n",
       "      <th></th>\n",
       "      <th></th>\n",
       "      <th></th>\n",
       "      <th></th>\n",
       "      <th></th>\n",
       "      <th></th>\n",
       "      <th></th>\n",
       "      <th></th>\n",
       "      <th></th>\n",
       "      <th></th>\n",
       "    </tr>\n",
       "  </thead>\n",
       "  <tbody>\n",
       "    <tr>\n",
       "      <th>2013-12-12</th>\n",
       "      <td>TX</td>\n",
       "      <td>Austin Energy</td>\n",
       "      <td>uir</td>\n",
       "      <td>10.56</td>\n",
       "      <td>NaN</td>\n",
       "      <td>78702.0</td>\n",
       "      <td>residential</td>\n",
       "      <td>NaN</td>\n",
       "      <td>2.897777</td>\n",
       "      <td>30600.53</td>\n",
       "      <td>...</td>\n",
       "      <td>13836.0</td>\n",
       "      <td>NaN</td>\n",
       "      <td>NaN</td>\n",
       "      <td>NaN</td>\n",
       "      <td>NaN</td>\n",
       "      <td>NaN</td>\n",
       "      <td>NaN</td>\n",
       "      <td>NaN</td>\n",
       "      <td>NaN</td>\n",
       "      <td>NaN</td>\n",
       "    </tr>\n",
       "    <tr>\n",
       "      <th>2014-07-11</th>\n",
       "      <td>TX</td>\n",
       "      <td>Austin Energy</td>\n",
       "      <td>uir</td>\n",
       "      <td>12.72</td>\n",
       "      <td>NaN</td>\n",
       "      <td>78702.0</td>\n",
       "      <td>residential</td>\n",
       "      <td>NaN</td>\n",
       "      <td>3.144654</td>\n",
       "      <td>40000.00</td>\n",
       "      <td>...</td>\n",
       "      <td>16419.0</td>\n",
       "      <td>NaN</td>\n",
       "      <td>NaN</td>\n",
       "      <td>NaN</td>\n",
       "      <td>NaN</td>\n",
       "      <td>NaN</td>\n",
       "      <td>NaN</td>\n",
       "      <td>NaN</td>\n",
       "      <td>NaN</td>\n",
       "      <td>NaN</td>\n",
       "    </tr>\n",
       "    <tr>\n",
       "      <th>2014-01-17</th>\n",
       "      <td>TX</td>\n",
       "      <td>Austin Energy</td>\n",
       "      <td>uir</td>\n",
       "      <td>5.40</td>\n",
       "      <td>NaN</td>\n",
       "      <td>78702.0</td>\n",
       "      <td>residential</td>\n",
       "      <td>NaN</td>\n",
       "      <td>4.197330</td>\n",
       "      <td>22665.58</td>\n",
       "      <td>...</td>\n",
       "      <td>7235.0</td>\n",
       "      <td>NaN</td>\n",
       "      <td>NaN</td>\n",
       "      <td>NaN</td>\n",
       "      <td>NaN</td>\n",
       "      <td>NaN</td>\n",
       "      <td>NaN</td>\n",
       "      <td>NaN</td>\n",
       "      <td>NaN</td>\n",
       "      <td>NaN</td>\n",
       "    </tr>\n",
       "    <tr>\n",
       "      <th>2012-09-27</th>\n",
       "      <td>TX</td>\n",
       "      <td>Austin Energy</td>\n",
       "      <td>uir</td>\n",
       "      <td>7.50</td>\n",
       "      <td>NaN</td>\n",
       "      <td>78702.0</td>\n",
       "      <td>residential</td>\n",
       "      <td>NaN</td>\n",
       "      <td>3.750000</td>\n",
       "      <td>28125.00</td>\n",
       "      <td>...</td>\n",
       "      <td>9340.0</td>\n",
       "      <td>NaN</td>\n",
       "      <td>NaN</td>\n",
       "      <td>NaN</td>\n",
       "      <td>NaN</td>\n",
       "      <td>NaN</td>\n",
       "      <td>NaN</td>\n",
       "      <td>NaN</td>\n",
       "      <td>NaN</td>\n",
       "      <td>NaN</td>\n",
       "    </tr>\n",
       "    <tr>\n",
       "      <th>2012-09-26</th>\n",
       "      <td>TX</td>\n",
       "      <td>Austin Energy</td>\n",
       "      <td>uir</td>\n",
       "      <td>5.00</td>\n",
       "      <td>NaN</td>\n",
       "      <td>78702.0</td>\n",
       "      <td>residential</td>\n",
       "      <td>NaN</td>\n",
       "      <td>3.850000</td>\n",
       "      <td>19250.00</td>\n",
       "      <td>...</td>\n",
       "      <td>6729.0</td>\n",
       "      <td>NaN</td>\n",
       "      <td>NaN</td>\n",
       "      <td>NaN</td>\n",
       "      <td>NaN</td>\n",
       "      <td>NaN</td>\n",
       "      <td>NaN</td>\n",
       "      <td>NaN</td>\n",
       "      <td>NaN</td>\n",
       "      <td>NaN</td>\n",
       "    </tr>\n",
       "  </tbody>\n",
       "</table>\n",
       "<p>5 rows × 38 columns</p>\n",
       "</div>"
      ],
      "text/plain": [
       "               state incentive_prog_names type  size_kw appraised  zipcode  \\\n",
       "date_installed                                                               \n",
       "2013-12-12        TX        Austin Energy  uir    10.56       NaN  78702.0   \n",
       "2014-07-11        TX        Austin Energy  uir    12.72       NaN  78702.0   \n",
       "2014-01-17        TX        Austin Energy  uir     5.40       NaN  78702.0   \n",
       "2012-09-27        TX        Austin Energy  uir     7.50       NaN  78702.0   \n",
       "2012-09-26        TX        Austin Energy  uir     5.00       NaN  78702.0   \n",
       "\n",
       "               install_type installer  cost_per_watt      cost   ...     \\\n",
       "date_installed                                                   ...      \n",
       "2013-12-12      residential       NaN       2.897777  30600.53   ...      \n",
       "2014-07-11      residential       NaN       3.144654  40000.00   ...      \n",
       "2014-01-17      residential       NaN       4.197330  22665.58   ...      \n",
       "2012-09-27      residential       NaN       3.750000  28125.00   ...      \n",
       "2012-09-26      residential       NaN       3.850000  19250.00   ...      \n",
       "\n",
       "                reported_annual_energy_prod year pbi_length utility bipv_3  \\\n",
       "date_installed                                                               \n",
       "2013-12-12                          13836.0  NaN        NaN     NaN    NaN   \n",
       "2014-07-11                          16419.0  NaN        NaN     NaN    NaN   \n",
       "2014-01-17                           7235.0  NaN        NaN     NaN    NaN   \n",
       "2012-09-27                           9340.0  NaN        NaN     NaN    NaN   \n",
       "2012-09-26                           6729.0  NaN        NaN     NaN    NaN   \n",
       "\n",
       "               bipv_2 bipv_1  new_constr  tracking 3rdparty  \n",
       "date_installed                                               \n",
       "2013-12-12        NaN    NaN         NaN       NaN      NaN  \n",
       "2014-07-11        NaN    NaN         NaN       NaN      NaN  \n",
       "2014-01-17        NaN    NaN         NaN       NaN      NaN  \n",
       "2012-09-27        NaN    NaN         NaN       NaN      NaN  \n",
       "2012-09-26        NaN    NaN         NaN       NaN      NaN  \n",
       "\n",
       "[5 rows x 38 columns]"
      ]
     },
     "execution_count": 10,
     "metadata": {},
     "output_type": "execute_result"
    }
   ],
   "source": [
    "dfFull.head()"
   ]
  },
  {
   "cell_type": "markdown",
   "metadata": {},
   "source": [
    "### Manage the index (installation_date)\n",
    "\n",
    "Sort the data by installation date. Examine the data by date."
   ]
  },
  {
   "cell_type": "code",
   "execution_count": 11,
   "metadata": {},
   "outputs": [],
   "source": [
    "dfFull.sort_index(inplace=True)"
   ]
  },
  {
   "cell_type": "code",
   "execution_count": 12,
   "metadata": {},
   "outputs": [
    {
     "data": {
      "text/html": [
       "<div>\n",
       "<style scoped>\n",
       "    .dataframe tbody tr th:only-of-type {\n",
       "        vertical-align: middle;\n",
       "    }\n",
       "\n",
       "    .dataframe tbody tr th {\n",
       "        vertical-align: top;\n",
       "    }\n",
       "\n",
       "    .dataframe thead th {\n",
       "        text-align: right;\n",
       "    }\n",
       "</style>\n",
       "<table border=\"1\" class=\"dataframe\">\n",
       "  <thead>\n",
       "    <tr style=\"text-align: right;\">\n",
       "      <th></th>\n",
       "      <th>state</th>\n",
       "      <th>incentive_prog_names</th>\n",
       "      <th>type</th>\n",
       "      <th>size_kw</th>\n",
       "      <th>appraised</th>\n",
       "      <th>zipcode</th>\n",
       "      <th>install_type</th>\n",
       "      <th>installer</th>\n",
       "      <th>cost_per_watt</th>\n",
       "      <th>cost</th>\n",
       "      <th>...</th>\n",
       "      <th>reported_annual_energy_prod</th>\n",
       "      <th>year</th>\n",
       "      <th>pbi_length</th>\n",
       "      <th>utility</th>\n",
       "      <th>bipv_3</th>\n",
       "      <th>bipv_2</th>\n",
       "      <th>bipv_1</th>\n",
       "      <th>new_constr</th>\n",
       "      <th>tracking</th>\n",
       "      <th>3rdparty</th>\n",
       "    </tr>\n",
       "    <tr>\n",
       "      <th>date_installed</th>\n",
       "      <th></th>\n",
       "      <th></th>\n",
       "      <th></th>\n",
       "      <th></th>\n",
       "      <th></th>\n",
       "      <th></th>\n",
       "      <th></th>\n",
       "      <th></th>\n",
       "      <th></th>\n",
       "      <th></th>\n",
       "      <th></th>\n",
       "      <th></th>\n",
       "      <th></th>\n",
       "      <th></th>\n",
       "      <th></th>\n",
       "      <th></th>\n",
       "      <th></th>\n",
       "      <th></th>\n",
       "      <th></th>\n",
       "      <th></th>\n",
       "      <th></th>\n",
       "    </tr>\n",
       "  </thead>\n",
       "  <tbody>\n",
       "    <tr>\n",
       "      <th>1909-07-07</th>\n",
       "      <td>IN</td>\n",
       "      <td>NaN</td>\n",
       "      <td>uir</td>\n",
       "      <td>4.90</td>\n",
       "      <td>NaN</td>\n",
       "      <td>47401.0</td>\n",
       "      <td>Residential</td>\n",
       "      <td>Stumpner</td>\n",
       "      <td>NaN</td>\n",
       "      <td>NaN</td>\n",
       "      <td>...</td>\n",
       "      <td>NaN</td>\n",
       "      <td>NaN</td>\n",
       "      <td>NaN</td>\n",
       "      <td>NaN</td>\n",
       "      <td>NaN</td>\n",
       "      <td>NaN</td>\n",
       "      <td>NaN</td>\n",
       "      <td>NaN</td>\n",
       "      <td>NaN</td>\n",
       "      <td>NaN</td>\n",
       "    </tr>\n",
       "    <tr>\n",
       "      <th>1909-07-07</th>\n",
       "      <td>IN</td>\n",
       "      <td>NaN</td>\n",
       "      <td>uir</td>\n",
       "      <td>7.35</td>\n",
       "      <td>NaN</td>\n",
       "      <td>47401.0</td>\n",
       "      <td>Residential</td>\n",
       "      <td>Stumpner</td>\n",
       "      <td>NaN</td>\n",
       "      <td>NaN</td>\n",
       "      <td>...</td>\n",
       "      <td>NaN</td>\n",
       "      <td>NaN</td>\n",
       "      <td>NaN</td>\n",
       "      <td>NaN</td>\n",
       "      <td>NaN</td>\n",
       "      <td>NaN</td>\n",
       "      <td>NaN</td>\n",
       "      <td>NaN</td>\n",
       "      <td>NaN</td>\n",
       "      <td>NaN</td>\n",
       "    </tr>\n",
       "    <tr>\n",
       "      <th>1909-07-07</th>\n",
       "      <td>IN</td>\n",
       "      <td>NaN</td>\n",
       "      <td>uir</td>\n",
       "      <td>3.90</td>\n",
       "      <td>NaN</td>\n",
       "      <td>47408.0</td>\n",
       "      <td>Residential</td>\n",
       "      <td>Stumpner</td>\n",
       "      <td>NaN</td>\n",
       "      <td>NaN</td>\n",
       "      <td>...</td>\n",
       "      <td>NaN</td>\n",
       "      <td>NaN</td>\n",
       "      <td>NaN</td>\n",
       "      <td>NaN</td>\n",
       "      <td>NaN</td>\n",
       "      <td>NaN</td>\n",
       "      <td>NaN</td>\n",
       "      <td>NaN</td>\n",
       "      <td>NaN</td>\n",
       "      <td>NaN</td>\n",
       "    </tr>\n",
       "    <tr>\n",
       "      <th>1909-07-07</th>\n",
       "      <td>IN</td>\n",
       "      <td>NaN</td>\n",
       "      <td>uir</td>\n",
       "      <td>9000.00</td>\n",
       "      <td>NaN</td>\n",
       "      <td>46222.0</td>\n",
       "      <td>Commercial</td>\n",
       "      <td>JMS</td>\n",
       "      <td>NaN</td>\n",
       "      <td>NaN</td>\n",
       "      <td>...</td>\n",
       "      <td>NaN</td>\n",
       "      <td>NaN</td>\n",
       "      <td>NaN</td>\n",
       "      <td>NaN</td>\n",
       "      <td>NaN</td>\n",
       "      <td>NaN</td>\n",
       "      <td>NaN</td>\n",
       "      <td>NaN</td>\n",
       "      <td>NaN</td>\n",
       "      <td>NaN</td>\n",
       "    </tr>\n",
       "    <tr>\n",
       "      <th>1969-12-31</th>\n",
       "      <td>FL</td>\n",
       "      <td>NaN</td>\n",
       "      <td>uir</td>\n",
       "      <td>5.52</td>\n",
       "      <td>NaN</td>\n",
       "      <td>32653.0</td>\n",
       "      <td>Residential</td>\n",
       "      <td>NaN</td>\n",
       "      <td>5.9</td>\n",
       "      <td>32568.0</td>\n",
       "      <td>...</td>\n",
       "      <td>NaN</td>\n",
       "      <td>NaN</td>\n",
       "      <td>NaN</td>\n",
       "      <td>NaN</td>\n",
       "      <td>NaN</td>\n",
       "      <td>NaN</td>\n",
       "      <td>NaN</td>\n",
       "      <td>NaN</td>\n",
       "      <td>NaN</td>\n",
       "      <td>NaN</td>\n",
       "    </tr>\n",
       "  </tbody>\n",
       "</table>\n",
       "<p>5 rows × 38 columns</p>\n",
       "</div>"
      ],
      "text/plain": [
       "               state incentive_prog_names type  size_kw appraised  zipcode  \\\n",
       "date_installed                                                               \n",
       "1909-07-07        IN                  NaN  uir     4.90       NaN  47401.0   \n",
       "1909-07-07        IN                  NaN  uir     7.35       NaN  47401.0   \n",
       "1909-07-07        IN                  NaN  uir     3.90       NaN  47408.0   \n",
       "1909-07-07        IN                  NaN  uir  9000.00       NaN  46222.0   \n",
       "1969-12-31        FL                  NaN  uir     5.52       NaN  32653.0   \n",
       "\n",
       "               install_type installer  cost_per_watt     cost   ...     \\\n",
       "date_installed                                                  ...      \n",
       "1909-07-07      Residential  Stumpner            NaN      NaN   ...      \n",
       "1909-07-07      Residential  Stumpner            NaN      NaN   ...      \n",
       "1909-07-07      Residential  Stumpner            NaN      NaN   ...      \n",
       "1909-07-07       Commercial       JMS            NaN      NaN   ...      \n",
       "1969-12-31      Residential       NaN            5.9  32568.0   ...      \n",
       "\n",
       "                reported_annual_energy_prod year pbi_length utility bipv_3  \\\n",
       "date_installed                                                               \n",
       "1909-07-07                              NaN  NaN        NaN     NaN    NaN   \n",
       "1909-07-07                              NaN  NaN        NaN     NaN    NaN   \n",
       "1909-07-07                              NaN  NaN        NaN     NaN    NaN   \n",
       "1909-07-07                              NaN  NaN        NaN     NaN    NaN   \n",
       "1969-12-31                              NaN  NaN        NaN     NaN    NaN   \n",
       "\n",
       "               bipv_2 bipv_1  new_constr  tracking 3rdparty  \n",
       "date_installed                                               \n",
       "1909-07-07        NaN    NaN         NaN       NaN      NaN  \n",
       "1909-07-07        NaN    NaN         NaN       NaN      NaN  \n",
       "1909-07-07        NaN    NaN         NaN       NaN      NaN  \n",
       "1909-07-07        NaN    NaN         NaN       NaN      NaN  \n",
       "1969-12-31        NaN    NaN         NaN       NaN      NaN  \n",
       "\n",
       "[5 rows x 38 columns]"
      ]
     },
     "execution_count": 12,
     "metadata": {},
     "output_type": "execute_result"
    }
   ],
   "source": [
    "# clearly, we have some bogus dates\n",
    "dfFull.head()"
   ]
  },
  {
   "cell_type": "code",
   "execution_count": 13,
   "metadata": {},
   "outputs": [
    {
     "data": {
      "text/plain": [
       "date_installed\n",
       "1909.0         4\n",
       "1969.0       119\n",
       "1983.0         2\n",
       "1984.0         1\n",
       "1986.0         1\n",
       "1988.0         1\n",
       "1992.0         1\n",
       "1994.0        11\n",
       "1995.0        14\n",
       "1996.0        27\n",
       "1997.0       104\n",
       "1998.0        98\n",
       "1999.0      1428\n",
       "2000.0       625\n",
       "2001.0      2890\n",
       "2002.0      5524\n",
       "2003.0      7080\n",
       "2004.0     10963\n",
       "2005.0     10682\n",
       "2006.0     17360\n",
       "2007.0     29472\n",
       "2008.0     32409\n",
       "2009.0     53681\n",
       "2010.0     78182\n",
       "2011.0     88620\n",
       "2012.0    121354\n",
       "2013.0    122679\n",
       "2014.0    170873\n",
       "2015.0    265750\n",
       "2016.0       349\n",
       "2017.0       212\n",
       "dtype: int64"
      ]
     },
     "execution_count": 13,
     "metadata": {},
     "output_type": "execute_result"
    }
   ],
   "source": [
    "#  okay, this is important.  Very little data before 2001 and after 2015.\n",
    "#  \n",
    "byYear = dfFull.groupby(dfFull.index.year)\n",
    "byYear.size()"
   ]
  },
  {
   "cell_type": "code",
   "execution_count": 14,
   "metadata": {},
   "outputs": [
    {
     "data": {
      "image/png": "[encoded data removed]",
      "text/plain": [
       "<matplotlib.figure.Figure at 0x241e475d080>"
      ]
     },
     "metadata": {},
     "output_type": "display_data"
    }
   ],
   "source": [
    "# plot data size per year\n",
    "byYear.size().plot( marker='.', linestyle='none')\n",
    "plt.title('Number of installs per installation year')\n",
    "plt.ylabel('Number of Installations')\n",
    "plt.xlabel('Installation Date');"
   ]
  },
  {
   "cell_type": "code",
   "execution_count": 15,
   "metadata": {},
   "outputs": [
    {
     "data": {
      "image/png": "[encoded data removed]",
      "text/plain": [
       "<matplotlib.figure.Figure at 0x241e2ed2ac8>"
      ]
     },
     "metadata": {},
     "output_type": "display_data"
    }
   ],
   "source": [
    "# zoom in a little on recent\n",
    "bYsizes = byYear.size()\n",
    "bYsizes[bYsizes.index > 2000].plot(marker='.', linestyle='none')\n",
    "plt.title('Number of installs per installation year')\n",
    "plt.ylabel('Number of Installations')\n",
    "plt.xlabel('Installation Date');"
   ]
  },
  {
   "cell_type": "code",
   "execution_count": 16,
   "metadata": {},
   "outputs": [
    {
     "data": {
      "text/plain": [
       "1020516"
      ]
     },
     "execution_count": 16,
     "metadata": {},
     "output_type": "execute_result"
    }
   ],
   "source": [
    "# how big is the dataset?\n",
    "byYearSize = byYear.size()\n",
    "byYearSize.sum()"
   ]
  },
  {
   "cell_type": "code",
   "execution_count": 17,
   "metadata": {},
   "outputs": [
    {
     "data": {
      "text/plain": [
       "980380"
      ]
     },
     "execution_count": 17,
     "metadata": {},
     "output_type": "execute_result"
    }
   ],
   "source": [
    "# how big is the 10 years 2006-2015?\n",
    "byYearSize[(byYearSize.index >= 2006) & (byYearSize.index < 2016)].sum()"
   ]
  },
  {
   "cell_type": "code",
   "execution_count": 18,
   "metadata": {},
   "outputs": [
    {
     "data": {
      "text/plain": [
       "0.96067087630179238"
      ]
     },
     "execution_count": 18,
     "metadata": {},
     "output_type": "execute_result"
    }
   ],
   "source": [
    "# what fraction is that 10 years of the total? 96%\n",
    "byYearSize[(byYearSize.index >= 2006) & (byYearSize.index < 2016)].sum()/byYearSize.sum()"
   ]
  },
  {
   "cell_type": "markdown",
   "metadata": {},
   "source": [
    "### Decision point:\n",
    "\n",
    "There are clearly some dates that got mis-parsed (1909, 1969) but there are only ~120.\n",
    "More important, we see that 2004 is the first year that installs exceed 10k/year.\n",
    "\n",
    "###### Cleaning note: some of that \"1969\" data has very odd fields.\n",
    "\n",
    "I'm not going to do it now, but I think we should keep 10 year history for 2006-2015 for modeling.\n",
    "This represents 96% of the data."
   ]
  },
  {
   "cell_type": "markdown",
   "metadata": {},
   "source": [
    "### Examine columns - part i: useful fields\n",
    "\n",
    "#### Size and cost\n",
    "```\n",
    "size_kw                        1020516 non-null float64\n",
    "cost_per_watt                  762941 non-null float64\n",
    "cost                           763102 non-null float64\n",
    "```\n",
    "\n",
    "#### Geography\n",
    "```\n",
    "state                          1020521 non-null object\n",
    "zipcode                        1020516 non-null float64\n",
    "city                           798954 non-null object\n",
    "county                         998652 non-null object\n",
    "```\n",
    "\n",
    "#### Other\n",
    "```\n",
    "type                           1020516 non-null object\n",
    "install_type                   977940 non-null object\n",
    "installer                      702466 non-null object\n",
    "new_constr                     27106 non-null float64\n",
    "tracking                       1930 non-null float64\n",
    "3rdparty                       306993 non-null float64\n",
    "```"
   ]
  },
  {
   "cell_type": "markdown",
   "metadata": {},
   "source": [
    "### No cleaning in this phase\n",
    "\n",
    "For now, we look at the data, check for problems and if possible get an idea of distribution.  \n",
    "\n",
    "we defer problem resolution to a separate cleaning phase."
   ]
  },
  {
   "cell_type": "markdown",
   "metadata": {},
   "source": [
    "###  size and cost"
   ]
  },
  {
   "cell_type": "code",
   "execution_count": 19,
   "metadata": {},
   "outputs": [
    {
     "data": {
      "text/html": [
       "<div>\n",
       "<style scoped>\n",
       "    .dataframe tbody tr th:only-of-type {\n",
       "        vertical-align: middle;\n",
       "    }\n",
       "\n",
       "    .dataframe tbody tr th {\n",
       "        vertical-align: top;\n",
       "    }\n",
       "\n",
       "    .dataframe thead th {\n",
       "        text-align: right;\n",
       "    }\n",
       "</style>\n",
       "<table border=\"1\" class=\"dataframe\">\n",
       "  <thead>\n",
       "    <tr style=\"text-align: right;\">\n",
       "      <th></th>\n",
       "      <th>cost_per_watt</th>\n",
       "      <th>size_kw</th>\n",
       "      <th>cost</th>\n",
       "    </tr>\n",
       "  </thead>\n",
       "  <tbody>\n",
       "    <tr>\n",
       "      <th>count</th>\n",
       "      <td>762941.000000</td>\n",
       "      <td>1.020516e+06</td>\n",
       "      <td>7.631020e+05</td>\n",
       "    </tr>\n",
       "    <tr>\n",
       "      <th>mean</th>\n",
       "      <td>5.917931</td>\n",
       "      <td>1.618668e+01</td>\n",
       "      <td>6.489847e+04</td>\n",
       "    </tr>\n",
       "    <tr>\n",
       "      <th>std</th>\n",
       "      <td>2.069016</td>\n",
       "      <td>8.817405e+02</td>\n",
       "      <td>4.909837e+05</td>\n",
       "    </tr>\n",
       "    <tr>\n",
       "      <th>min</th>\n",
       "      <td>0.000000</td>\n",
       "      <td>2.000000e-03</td>\n",
       "      <td>0.000000e+00</td>\n",
       "    </tr>\n",
       "    <tr>\n",
       "      <th>25%</th>\n",
       "      <td>4.599632</td>\n",
       "      <td>3.709400e+00</td>\n",
       "      <td>2.104600e+04</td>\n",
       "    </tr>\n",
       "    <tr>\n",
       "      <th>50%</th>\n",
       "      <td>5.520000</td>\n",
       "      <td>5.490000e+00</td>\n",
       "      <td>3.022200e+04</td>\n",
       "    </tr>\n",
       "    <tr>\n",
       "      <th>75%</th>\n",
       "      <td>7.155000</td>\n",
       "      <td>7.850000e+00</td>\n",
       "      <td>4.361500e+04</td>\n",
       "    </tr>\n",
       "    <tr>\n",
       "      <th>max</th>\n",
       "      <td>30.000000</td>\n",
       "      <td>7.373190e+05</td>\n",
       "      <td>1.522000e+08</td>\n",
       "    </tr>\n",
       "  </tbody>\n",
       "</table>\n",
       "</div>"
      ],
      "text/plain": [
       "       cost_per_watt       size_kw          cost\n",
       "count  762941.000000  1.020516e+06  7.631020e+05\n",
       "mean        5.917931  1.618668e+01  6.489847e+04\n",
       "std         2.069016  8.817405e+02  4.909837e+05\n",
       "min         0.000000  2.000000e-03  0.000000e+00\n",
       "25%         4.599632  3.709400e+00  2.104600e+04\n",
       "50%         5.520000  5.490000e+00  3.022200e+04\n",
       "75%         7.155000  7.850000e+00  4.361500e+04\n",
       "max        30.000000  7.373190e+05  1.522000e+08"
      ]
     },
     "execution_count": 19,
     "metadata": {},
     "output_type": "execute_result"
    }
   ],
   "source": [
    "dfFull[['cost_per_watt', 'size_kw', 'cost']].describe()"
   ]
  },
  {
   "cell_type": "markdown",
   "metadata": {},
   "source": [
    "##### Comments\n",
    "Cost_per_watt is the most important variable because it is the value we'll be modeling.  It is not completely populated (763k/1.02M).  Given min=0 and max=30, cost_per_watt has some outliers."
   ]
  },
  {
   "cell_type": "markdown",
   "metadata": {},
   "source": [
    "###### cost_per_watt\n",
    "\n",
    "The distribution looks fairly reasonable for the data we have.   Median $5.52/watt"
   ]
  },
  {
   "cell_type": "code",
   "execution_count": 20,
   "metadata": {
    "scrolled": true
   },
   "outputs": [
    {
     "data": {
      "image/png": "[encoded data removed]",
      "text/plain": [
       "<matplotlib.figure.Figure at 0x241e3770fd0>"
      ]
     },
     "metadata": {},
     "output_type": "display_data"
    }
   ],
   "source": [
    "dfFull.cost_per_watt.plot(kind='hist', bins=30)\n",
    "plt.title('Distribution of cost_per_watt')\n",
    "plt.ylabel('Frequency')\n",
    "plt.xlabel('cost per watt');"
   ]
  },
  {
   "cell_type": "markdown",
   "metadata": {},
   "source": [
    "###### cost\n",
    "Presumably this is the total cost of the installation."
   ]
  },
  {
   "cell_type": "code",
   "execution_count": 21,
   "metadata": {},
   "outputs": [
    {
     "data": {
      "image/png": "[encoded data removed]",
      "text/plain": [
       "<matplotlib.figure.Figure at 0x241e2e89390>"
      ]
     },
     "metadata": {},
     "output_type": "display_data"
    }
   ],
   "source": [
    "# something funny here.  Summary stats say median is $30k.  Mean is double that.\n",
    "dfFull.cost.plot(kind='hist', bins=30)\n",
    "plt.title('Distribution of total cost')\n",
    "plt.ylabel('Frequency')\n",
    "plt.xlabel('total install cost');"
   ]
  },
  {
   "cell_type": "code",
   "execution_count": 22,
   "metadata": {},
   "outputs": [
    {
     "data": {
      "text/plain": [
       "215"
      ]
     },
     "execution_count": 22,
     "metadata": {},
     "output_type": "execute_result"
    }
   ],
   "source": [
    "# I want to take the log10, but suspect some 0 values.  How many?\n",
    "(dfFull.cost == 0).sum()"
   ]
  },
  {
   "cell_type": "code",
   "execution_count": 23,
   "metadata": {},
   "outputs": [
    {
     "data": {
      "image/png": "[encoded data removed]",
      "text/plain": [
       "<matplotlib.figure.Figure at 0x24189e86ac8>"
      ]
     },
     "metadata": {},
     "output_type": "display_data"
    }
   ],
   "source": [
    "# Looks like maybe some bad data at the high end.  \n",
    "np.log10(dfFull[~(dfFull.cost == 0)].cost).plot(kind='hist', bins=30)\n",
    "plt.title('Distribution of log10(cost)')\n",
    "plt.ylabel('Frequency')\n",
    "plt.xlabel('log10 of cost');"
   ]
  },
  {
   "cell_type": "markdown",
   "metadata": {},
   "source": [
    "##### size\n",
    "Total kilowatts for installation."
   ]
  },
  {
   "cell_type": "code",
   "execution_count": 24,
   "metadata": {},
   "outputs": [
    {
     "data": {
      "image/png": "[encoded data removed]",
      "text/plain": [
       "<matplotlib.figure.Figure at 0x241e3de4668>"
      ]
     },
     "metadata": {},
     "output_type": "display_data"
    }
   ],
   "source": [
    "# looks a lot like the cost distribution\n",
    "dfFull.size_kw.plot(kind='hist', bins=30)\n",
    "plt.title('Distribution of size_kw')\n",
    "plt.ylabel('Frequency')\n",
    "plt.xlabel('size_kw');"
   ]
  },
  {
   "cell_type": "code",
   "execution_count": 25,
   "metadata": {},
   "outputs": [
    {
     "data": {
      "text/plain": [
       "0"
      ]
     },
     "execution_count": 25,
     "metadata": {},
     "output_type": "execute_result"
    }
   ],
   "source": [
    "# okay, no 0 values\n",
    "(dfFull.size == 0).sum()"
   ]
  },
  {
   "cell_type": "code",
   "execution_count": 26,
   "metadata": {},
   "outputs": [
    {
     "data": {
      "image/png": "[encoded data removed]",
      "text/plain": [
       "<matplotlib.figure.Figure at 0x241e2ed2a90>"
      ]
     },
     "metadata": {},
     "output_type": "display_data"
    }
   ],
   "source": [
    "# Again, suspect problems at the high end.\n",
    "# This kind of problem could be caused in data entry (1000s of watts rather than kw)\n",
    "np.log10(dfFull.size_kw).plot(kind='hist', bins=30)\n",
    "plt.title('Distribution of log10(size_kw)')\n",
    "plt.ylabel('Frequency')\n",
    "plt.xlabel('log10(size_kw)');"
   ]
  },
  {
   "cell_type": "markdown",
   "metadata": {},
   "source": [
    "#### Geography\n",
    "```\n",
    "* state                          1020521 non-null object\n",
    "* zipcode                        1020516 non-null float64\n",
    "* city                           798954 non-null object\n",
    "* county                         998652 non-null object\n",
    "```"
   ]
  },
  {
   "cell_type": "code",
   "execution_count": 27,
   "metadata": {},
   "outputs": [
    {
     "name": "stdout",
     "output_type": "stream",
     "text": [
      "<class 'pandas.core.frame.DataFrame'>\n",
      "DatetimeIndex: 1020521 entries, 1909-07-07 to NaT\n",
      "Data columns (total 4 columns):\n",
      "state      1020521 non-null object\n",
      "zipcode    1020516 non-null float64\n",
      "city       798954 non-null object\n",
      "county     998652 non-null object\n",
      "dtypes: float64(1), object(3)\n",
      "memory usage: 38.9+ MB\n"
     ]
    }
   ],
   "source": [
    "dfFull[['state', 'zipcode', 'city', 'county']].info()"
   ]
  },
  {
   "cell_type": "markdown",
   "metadata": {},
   "source": [
    "##### State"
   ]
  },
  {
   "cell_type": "code",
   "execution_count": 28,
   "metadata": {},
   "outputs": [
    {
     "data": {
      "text/plain": [
       "count     1020521\n",
       "unique         55\n",
       "top            CA\n",
       "freq       626820\n",
       "Name: state, dtype: object"
      ]
     },
     "execution_count": 28,
     "metadata": {},
     "output_type": "execute_result"
    }
   ],
   "source": [
    "dfFull.state.describe()\n",
    "# 63% of the data is California; there are perhaps some typos (55 states?)"
   ]
  },
  {
   "cell_type": "markdown",
   "metadata": {},
   "source": [
    "##### City"
   ]
  },
  {
   "cell_type": "code",
   "execution_count": 29,
   "metadata": {},
   "outputs": [
    {
     "data": {
      "text/plain": [
       "count        798954\n",
       "unique        11296\n",
       "top       SAN DIEGO\n",
       "freq          13681\n",
       "Name: city, dtype: object"
      ]
     },
     "execution_count": 29,
     "metadata": {},
     "output_type": "execute_result"
    }
   ],
   "source": [
    "# 11k cities; not sure what I can do these.\n",
    "dfFull.city.describe()"
   ]
  },
  {
   "cell_type": "markdown",
   "metadata": {},
   "source": [
    "##### County"
   ]
  },
  {
   "cell_type": "code",
   "execution_count": 30,
   "metadata": {},
   "outputs": [
    {
     "data": {
      "text/plain": [
       "count          998652\n",
       "unique           1039\n",
       "top       Los Angeles\n",
       "freq            82650\n",
       "Name: county, dtype: object"
      ]
     },
     "execution_count": 30,
     "metadata": {},
     "output_type": "execute_result"
    }
   ],
   "source": [
    "# almost 10% in LA county.\n",
    "dfFull.county.describe()"
   ]
  },
  {
   "cell_type": "markdown",
   "metadata": {},
   "source": [
    "##### Zipcode"
   ]
  },
  {
   "cell_type": "code",
   "execution_count": 31,
   "metadata": {},
   "outputs": [
    {
     "data": {
      "text/plain": [
       "count    1.020516e+06\n",
       "mean     7.195138e+04\n",
       "std      3.548949e+04\n",
       "min      0.000000e+00\n",
       "25%      7.500200e+04\n",
       "50%      9.202800e+04\n",
       "75%      9.372200e+04\n",
       "max      9.973700e+04\n",
       "Name: zipcode, dtype: float64"
      ]
     },
     "execution_count": 31,
     "metadata": {},
     "output_type": "execute_result"
    }
   ],
   "source": [
    "# hmmm, shouldn't be any zeros but there are.  Only 1.\n",
    "# this should probably be int\n",
    "dfFull.zipcode.describe()"
   ]
  },
  {
   "cell_type": "code",
   "execution_count": 32,
   "metadata": {},
   "outputs": [
    {
     "data": {
      "text/plain": [
       "1"
      ]
     },
     "execution_count": 32,
     "metadata": {},
     "output_type": "execute_result"
    }
   ],
   "source": [
    "(dfFull.zipcode == 0).sum()"
   ]
  },
  {
   "cell_type": "markdown",
   "metadata": {},
   "source": [
    "### Other variables\n",
    "\n",
    "$Installation\\_type$ tells us whether or not an installation is at a home or business, school, government, etc.  There are potentially some interesting questions to ask about relative pricing among these groups, even though that's not the main thrust of this effort (residential).  If larger organizations pay less, it could provide a floor for residential installations.\n",
    "\n",
    "Do costs vary by $installer$?  It may be possible to say something sensible depending on the data.\n",
    "\n",
    "Is solar less or more expensive in $new\\_construction$?\n",
    "\n",
    "Do $3rd\\_party$ owners pay more or less for PV installations?  How many third party installations occur and when?\n",
    "\n",
    "```\n",
    "type                           1020516 non-null object\n",
    "install_type                   977940 non-null object\n",
    "installer                      702466 non-null object\n",
    "new_constr                     27106 non-null float64\n",
    "tracking                       1930 non-null float64\n",
    "3rdparty                       306993 non-null float6\n",
    "```"
   ]
  },
  {
   "cell_type": "markdown",
   "metadata": {},
   "source": [
    "##### Type"
   ]
  },
  {
   "cell_type": "code",
   "execution_count": 33,
   "metadata": {},
   "outputs": [
    {
     "data": {
      "text/plain": [
       "uir    1020005\n",
       "pir        511\n",
       "Name: type, dtype: int64"
      ]
     },
     "execution_count": 33,
     "metadata": {},
     "output_type": "execute_result"
    }
   ],
   "source": [
    "dfFull.type.value_counts()"
   ]
  },
  {
   "cell_type": "code",
   "execution_count": 34,
   "metadata": {},
   "outputs": [
    {
     "data": {
      "text/plain": [
       "count     1020516\n",
       "unique          2\n",
       "top           uir\n",
       "freq      1020005\n",
       "Name: type, dtype: object"
      ]
     },
     "execution_count": 34,
     "metadata": {},
     "output_type": "execute_result"
    }
   ],
   "source": [
    "# I don't know what this field means.  There are only 2 values and 1020005/1020516 are 'uir.\n",
    "# This may be internal to LBNL/NREL.\n",
    "dfFull.type.describe()"
   ]
  },
  {
   "cell_type": "markdown",
   "metadata": {},
   "source": [
    "##### Install_type"
   ]
  },
  {
   "cell_type": "code",
   "execution_count": 35,
   "metadata": {},
   "outputs": [
    {
     "data": {
      "text/plain": [
       "count          977940\n",
       "unique             33\n",
       "top       residential\n",
       "freq           728661\n",
       "Name: install_type, dtype: object"
      ]
     },
     "execution_count": 35,
     "metadata": {},
     "output_type": "execute_result"
    }
   ],
   "source": [
    "dfFull.install_type.describe()"
   ]
  },
  {
   "cell_type": "code",
   "execution_count": 36,
   "metadata": {},
   "outputs": [
    {
     "data": {
      "text/plain": [
       "residential                    728661\n",
       "Residential                    179321\n",
       "commercial                      24470\n",
       "Unknown                         15771\n",
       "Commercial                      11908\n",
       "unknown                          4034\n",
       "government                       3721\n",
       "nonprofit                        3003\n",
       "Government                       2027\n",
       "educational                      1703\n",
       "Nonprofit                        1217\n",
       "Educational                       710\n",
       "Customer                          371\n",
       "education                         290\n",
       "Agricultural                      284\n",
       "Utility                           138\n",
       "agricultural                      124\n",
       "utility                            92\n",
       "Institutional                      29\n",
       "Commercial - Other                 16\n",
       "Gov't/NP                           11\n",
       "Public                             11\n",
       "agriculture                         5\n",
       "Residential/SF                      5\n",
       "public                              5\n",
       "Nonresidential                      3\n",
       "Commercial - Small Business         2\n",
       "Small Business                      2\n",
       "Not Stated                          2\n",
       "Commercial - Agriculture            1\n",
       "Commerical                          1\n",
       "Commercial - Builders               1\n",
       "Municipal                           1\n",
       "Name: install_type, dtype: int64"
      ]
     },
     "execution_count": 36,
     "metadata": {},
     "output_type": "execute_result"
    }
   ],
   "source": [
    "# some clean up needed (e.g. 'residential' vs. 'Residential')\n",
    "dfFull.install_type.value_counts()"
   ]
  },
  {
   "cell_type": "markdown",
   "metadata": {},
   "source": [
    "##### Installer"
   ]
  },
  {
   "cell_type": "code",
   "execution_count": 37,
   "metadata": {},
   "outputs": [
    {
     "data": {
      "text/plain": [
       "count        702466\n",
       "unique        10956\n",
       "top       SolarCity\n",
       "freq         168125\n",
       "Name: installer, dtype: object"
      ]
     },
     "execution_count": 37,
     "metadata": {},
     "output_type": "execute_result"
    }
   ],
   "source": [
    "### 11k installers; that's a lot\n",
    "dfFull.installer.describe()"
   ]
  },
  {
   "cell_type": "code",
   "execution_count": 38,
   "metadata": {},
   "outputs": [
    {
     "data": {
      "text/plain": [
       "SolarCity                             168125\n",
       "Vivint                                 41615\n",
       "Sunpower                               19925\n",
       "Verengo                                16396\n",
       "Sungevity                              14939\n",
       "Rec Solar                              14291\n",
       "PetersenDean                           11235\n",
       "RGS/Real Goods                         10951\n",
       "Sunrun                                  9968\n",
       "Grid Alternatives                       8119\n",
       "Trinity Heating & Air                   7966\n",
       "Roof Diagnostics Solar & Electric       6012\n",
       "Self                                    5345\n",
       "American Solar Direct                   4917\n",
       "Direct Energy Solar                     4761\n",
       "American Solar Electric                 4453\n",
       "Future Energy Corp                      4215\n",
       "Sullivan Solar Power                    4186\n",
       "Baker Electric                          3591\n",
       "Solar Service Center                    3295\n",
       "A1 Solar Power                          3180\n",
       "Next Step Living                        3172\n",
       "Solar Company                           3043\n",
       "Horizon Solar Power                     2660\n",
       "Solar Universe                          2623\n",
       "Trinity Solar                           2532\n",
       "Akeena                                  2463\n",
       "Sun Valley Solar Solutions              2348\n",
       "Heliopower                              2147\n",
       "Semper Solaris Construction             2095\n",
       "                                       ...  \n",
       "Revolve Solar Ca                         993\n",
       "Sun Solar Energy Solutiions              985\n",
       "Fidelity Home Energy                     985\n",
       "West Coast Solar                         973\n",
       "Mohr Power Solar                         967\n",
       "Adr Electric                             964\n",
       "Valley Unique Electric                   964\n",
       "California Solar Electric Co             959\n",
       "Solare Energy                            957\n",
       "Sun Light & Power                        946\n",
       "Enver Solar                              942\n",
       "Arizona Solar Solutions                  931\n",
       "Fralick Homes                            921\n",
       "Herca Solar                              915\n",
       "Sunspot Solar Energy Systems             910\n",
       "Solarflair Energy                        899\n",
       "Advanced Solar & Electric                885\n",
       "Luminalt Energy Corp                     882\n",
       "Renova Energy Corp                       871\n",
       "Affordable Solar                         830\n",
       "Solarcraft Services                      826\n",
       "Sunpro Solar                             826\n",
       "Quality First Home Improvement           819\n",
       "360 Solar Energy                         810\n",
       "Sunbug Solar                             800\n",
       "Rcl Enterprises                          794\n",
       "Nexus Energy Systems                     789\n",
       "Arizona Solar Concepts                   786\n",
       "Streamline Solar Power Systems LLC       783\n",
       "Sky Power Systems                        781\n",
       "Name: installer, Length: 100, dtype: int64"
      ]
     },
     "execution_count": 38,
     "metadata": {},
     "output_type": "execute_result"
    }
   ],
   "source": [
    "# let's look at the top 30\n",
    "# wonder if DIY pays less?  how much?\n",
    "dfFull.installer.value_counts().head(100)"
   ]
  },
  {
   "cell_type": "code",
   "execution_count": 39,
   "metadata": {},
   "outputs": [
    {
     "data": {
      "text/plain": [
       "SolarCity                             0.239335\n",
       "Vivint                                0.298577\n",
       "Sunpower                              0.326941\n",
       "Verengo                               0.350282\n",
       "Sungevity                             0.371548\n",
       "Rec Solar                             0.391892\n",
       "PetersenDean                          0.407886\n",
       "RGS/Real Goods                        0.423475\n",
       "Sunrun                                0.437665\n",
       "Grid Alternatives                     0.449223\n",
       "Trinity Heating & Air                 0.460563\n",
       "Roof Diagnostics Solar & Electric     0.469122\n",
       "Self                                  0.476731\n",
       "American Solar Direct                 0.483730\n",
       "Direct Energy Solar                   0.490508\n",
       "American Solar Electric               0.496847\n",
       "Future Energy Corp                    0.502847\n",
       "Sullivan Solar Power                  0.508806\n",
       "Baker Electric                        0.513918\n",
       "Solar Service Center                  0.518609\n",
       "A1 Solar Power                        0.523136\n",
       "Next Step Living                      0.527651\n",
       "Solar Company                         0.531983\n",
       "Horizon Solar Power                   0.535770\n",
       "Solar Universe                        0.539504\n",
       "Trinity Solar                         0.543108\n",
       "Akeena                                0.546614\n",
       "Sun Valley Solar Solutions            0.549957\n",
       "Heliopower                            0.553013\n",
       "Semper Solaris Construction           0.555996\n",
       "                                        ...   \n",
       "Revolve Solar Ca                      0.634014\n",
       "Sun Solar Energy Solutiions           0.635416\n",
       "Fidelity Home Energy                  0.636818\n",
       "West Coast Solar                      0.638203\n",
       "Mohr Power Solar                      0.639580\n",
       "Adr Electric                          0.640952\n",
       "Valley Unique Electric                0.642324\n",
       "California Solar Electric Co          0.643690\n",
       "Solare Energy                         0.645052\n",
       "Sun Light & Power                     0.646399\n",
       "Enver Solar                           0.647740\n",
       "Arizona Solar Solutions               0.649065\n",
       "Fralick Homes                         0.650376\n",
       "Herca Solar                           0.651679\n",
       "Sunspot Solar Energy Systems          0.652974\n",
       "Solarflair Energy                     0.654254\n",
       "Advanced Solar & Electric             0.655514\n",
       "Luminalt Energy Corp                  0.656769\n",
       "Renova Energy Corp                    0.658009\n",
       "Affordable Solar                      0.659191\n",
       "Solarcraft Services                   0.660366\n",
       "Sunpro Solar                          0.661542\n",
       "Quality First Home Improvement        0.662708\n",
       "360 Solar Energy                      0.663861\n",
       "Sunbug Solar                          0.665000\n",
       "Rcl Enterprises                       0.666130\n",
       "Nexus Energy Systems                  0.667254\n",
       "Arizona Solar Concepts                0.668373\n",
       "Streamline Solar Power Systems LLC    0.669487\n",
       "Sky Power Systems                     0.670599\n",
       "Name: installer, Length: 100, dtype: float64"
      ]
     },
     "execution_count": 39,
     "metadata": {},
     "output_type": "execute_result"
    }
   ],
   "source": [
    "dfFull.installer.value_counts().head(100).cumsum()/dfFull.installer.count()"
   ]
  },
  {
   "cell_type": "markdown",
   "metadata": {},
   "source": [
    "##### new_constr "
   ]
  },
  {
   "cell_type": "code",
   "execution_count": 40,
   "metadata": {},
   "outputs": [
    {
     "data": {
      "text/plain": [
       "count    27106.0\n",
       "mean         1.0\n",
       "std          0.0\n",
       "min          1.0\n",
       "25%          1.0\n",
       "50%          1.0\n",
       "75%          1.0\n",
       "max          1.0\n",
       "Name: new_constr, dtype: float64"
      ]
     },
     "execution_count": 40,
     "metadata": {},
     "output_type": "execute_result"
    }
   ],
   "source": [
    "# presumably this is 1 if a new construction project; otherwise NA\n",
    "# should be boolean?\n",
    "dfFull.new_constr.describe()"
   ]
  },
  {
   "cell_type": "markdown",
   "metadata": {},
   "source": [
    "##### tracking"
   ]
  },
  {
   "cell_type": "code",
   "execution_count": 41,
   "metadata": {},
   "outputs": [
    {
     "data": {
      "text/plain": [
       "count    1930.0\n",
       "mean        1.0\n",
       "std         0.0\n",
       "min         1.0\n",
       "25%         1.0\n",
       "50%         1.0\n",
       "75%         1.0\n",
       "max         1.0\n",
       "Name: tracking, dtype: float64"
      ]
     },
     "execution_count": 41,
     "metadata": {},
     "output_type": "execute_result"
    }
   ],
   "source": [
    "# presumably this is 1 if project has tracking; otherwise NA, meaning fixed\n",
    "# should be boolean?\n",
    "dfFull.tracking.describe()"
   ]
  },
  {
   "cell_type": "markdown",
   "metadata": {},
   "source": [
    "##### 3rdparty "
   ]
  },
  {
   "cell_type": "code",
   "execution_count": 42,
   "metadata": {},
   "outputs": [
    {
     "data": {
      "text/plain": [
       "count    306993.0\n",
       "mean          1.0\n",
       "std           0.0\n",
       "min           1.0\n",
       "25%           1.0\n",
       "50%           1.0\n",
       "75%           1.0\n",
       "max           1.0\n",
       "Name: 3rdparty, dtype: float64"
      ]
     },
     "execution_count": 42,
     "metadata": {},
     "output_type": "execute_result"
    }
   ],
   "source": [
    "# another value that could be boolean; there is a pretty large number of these\n",
    "\n",
    "dfFull['3rdparty'].describe()"
   ]
  },
  {
   "cell_type": "markdown",
   "metadata": {},
   "source": [
    "### Examine columns - part ii: other possibly usable fields"
   ]
  },
  {
   "cell_type": "markdown",
   "metadata": {},
   "source": [
    "##### dfFull.year (as opposed to the index)"
   ]
  },
  {
   "cell_type": "code",
   "execution_count": 43,
   "metadata": {},
   "outputs": [
    {
     "name": "stdout",
     "output_type": "stream",
     "text": [
      "['1/1/1999', '1/1/1999', '1/1/1999', '1999', '1999', '1999', '1/1/2000', '1/1/2000', '1/1/2000', '1/3/2000', '1/1/2001', '1/1/2001', '1/1/2001', '1/1/2001', '1/1/2002', '1/1/2002', '1/1/2002', '1/1/2002', '1/1/2003', '1/1/2004', '1/1/2004', '1/1/2005', '1/1/2005', '1/1/2005', '1/1/2006', '1/1/2006', '1/1/2006', '1/1/2006', '1/1/2006', '1/1/2006', '1/1/2006', '1/1/2007', '1/1/2007', '1/1/2007', '1/1/2007', '1/1/2007', '1/1/2007', '1/1/2007', '1/1/2007', '1/1/2007', '1/1/2007', '1/1/2007', '1/1/2007', '1/1/2007', '1/1/2007', '1/1/2007', '1/1/2007', '1/1/2007', '1/1/2007', '1/1/2007', '1/1/2007', '1/1/2007', '1/1/2007', '1/1/2007', '1/1/2007', '1/1/2007', '1/1/2007', '1/1/2007', '1/2/2007', '1/1/2008', '1/1/2008', '1/1/2008', '1/1/2008', '1/1/2008', '1/1/2008', '1/1/2008', '1/1/2008', '1/1/2008']\n"
     ]
    }
   ],
   "source": [
    "# What is the 'year' variable.\n",
    "# Only 68 non-null, while date_installed is fully populated\n",
    "# This may be a field internal to NREL/LBNL\n",
    "print(list(dfFull[dfFull.year.notnull()].year))"
   ]
  },
  {
   "cell_type": "markdown",
   "metadata": {},
   "source": [
    "##### Incentive_program_name"
   ]
  },
  {
   "cell_type": "code",
   "execution_count": 44,
   "metadata": {},
   "outputs": [
    {
     "data": {
      "text/plain": [
       "California Public Utilities Commission (Non-CSI Net Metered Systems)          260940\n",
       "California Public Utilities Commission (California Solar Initiative)          148988\n",
       "New York State Energy Research and Development Authority                       44012\n",
       "Arizona Public Service                                                         40647\n",
       "Massachusetts Clean Energy Center                                              36810\n",
       "New Jersey Board of Public Utilities (SREC Program)                            34168\n",
       "California Energy Commission (Emerging Renewables Program)                     27952\n",
       "Massachusetts Department of Energy Resources                                   24828\n",
       "Los Angeles Department of Water & Power                                        19757\n",
       "California Energy Commission (New Solar Homes Partnership)                     17286\n",
       "Connecticut Clean Energy Finance and Investment Authority                      15746\n",
       "Salt River Project                                                             15275\n",
       "NV Energy                                                                      14530\n",
       "Sacramento Municipal Utility District                                          11694\n",
       "Tucson Electric Power                                                          10921\n",
       "New Jersey Board of Public Utilities (CORE & REIP Programs)                     8081\n",
       "Maryland Energy Administration                                                  7472\n",
       "Pennsylvania Department of Environmental Protection                             7033\n",
       "New Mexico Energy, Minerals and Natural Resources Department                    6527\n",
       "Austin Energy                                                                   4688\n",
       "Ameren                                                                          3650\n",
       "CPS Energy                                                                      3284\n",
       "Delaware Department of Natural Resources and Environmental Control              3022\n",
       "New Hampshire Public Utilities Commission                                       2909\n",
       "Imperial Irrigation District                                                    2333\n",
       "Wisconsin Focus on Energy                                                       2106\n",
       "Ohio Public Utilities Commission                                                1918\n",
       "UniSource Energy Services                                                       1827\n",
       "Oregon Department of Energy                                                     1637\n",
       "Kansas City Power & Light                                                       1517\n",
       "                                                                               ...  \n",
       "Minnesota Department of Commerce                                                1027\n",
       "Washington, DC Public Service Commission                                         953\n",
       "Oncor Electric Delivery Company                                                  904\n",
       "Washington, DC Department of Energy & Environment                                848\n",
       "City of Palo Alto Utilities                                                      823\n",
       "Pacific Power                                                                    698\n",
       "Efficiency Maine                                                                 551\n",
       "California Public Utilities Commission (Self-Generation Incentive Program)       544\n",
       "Rhode Island Office of Energy Resources                                          541\n",
       "Gainesville Regional Utilities                                                   478\n",
       "Mohave Electric Cooperative                                                      449\n",
       "Rocky Mountain Power                                                             430\n",
       "El Paso Electric                                                                 368\n",
       "Orlando Utilities Commission                                                     202\n",
       "Pennsylvania Sustainable Development Fund                                        200\n",
       "Pacific Power (California Center for Sustainable Energy)                         181\n",
       "Rebuild a Greener San Diego (California Center for Sustainable Energy)           152\n",
       "Texas Central Company                                                            146\n",
       "Navopache Electric Cooperative                                                   140\n",
       "Graham County Electric Cooperative                                               129\n",
       "Arkansas State Energy Office                                                      98\n",
       "Bear Valley Electric (California Center for Sustainable Energy)                   78\n",
       "Texas North Company                                                               74\n",
       "Entergy                                                                           57\n",
       "Southwestern Electric Power Company                                               39\n",
       "Texas New Mexico Power Company                                                    23\n",
       "Duncan Valley Electric Cooperative                                                 5\n",
       "Morenci Water and Electric                                                         3\n",
       "Ajo Improvement Company                                                            3\n",
       "Sharyland Utilities                                                                2\n",
       "Name: incentive_prog_names, Length: 65, dtype: int64"
      ]
     },
     "execution_count": 44,
     "metadata": {},
     "output_type": "execute_result"
    }
   ],
   "source": [
    "### incentive program name\n",
    "### data manual says these orgs may have provided the data\n",
    "dfFull.incentive_prog_names.value_counts()"
   ]
  },
  {
   "cell_type": "markdown",
   "metadata": {},
   "source": [
    "##### Appraised"
   ]
  },
  {
   "cell_type": "code",
   "execution_count": 45,
   "metadata": {},
   "outputs": [
    {
     "data": {
      "text/plain": [
       "True    224036\n",
       "Name: appraised, dtype: int64"
      ]
     },
     "execution_count": 45,
     "metadata": {},
     "output_type": "execute_result"
    }
   ],
   "source": [
    "### appraised\n",
    "### data manual cautions that appraised values do not represent a transaction cost \n",
    "### (i.e. may not reflect market price)\n",
    "dfFull.appraised.value_counts()"
   ]
  },
  {
   "cell_type": "markdown",
   "metadata": {},
   "source": [
    "##### dfFull.lbnl_tts and dfFull.lbnl_tts_version_year"
   ]
  },
  {
   "cell_type": "code",
   "execution_count": 46,
   "metadata": {},
   "outputs": [
    {
     "data": {
      "text/plain": [
       "True    797958\n",
       "Name: lbnl_tts, dtype: int64"
      ]
     },
     "execution_count": 46,
     "metadata": {},
     "output_type": "execute_result"
    }
   ],
   "source": [
    "### these next 2 have to do with LBNL's Tracking the Sun project\n",
    "### probably of no use \n",
    "dfFull.lbnl_tts.value_counts()"
   ]
  },
  {
   "cell_type": "code",
   "execution_count": 47,
   "metadata": {},
   "outputs": [
    {
     "data": {
      "text/plain": [
       "2016.0    797958\n",
       "Name: lbnl_tts_version_year, dtype: int64"
      ]
     },
     "execution_count": 47,
     "metadata": {},
     "output_type": "execute_result"
    }
   ],
   "source": [
    "dfFull.lbnl_tts_version_year.value_counts()"
   ]
  },
  {
   "cell_type": "markdown",
   "metadata": {},
   "source": [
    "##### utility and utility_clean"
   ]
  },
  {
   "cell_type": "code",
   "execution_count": 48,
   "metadata": {},
   "outputs": [
    {
     "name": "stdout",
     "output_type": "stream",
     "text": [
      "False\n",
      "2117\n",
      "PPL Electric Utilities                              415\n",
      "PECO                                                354\n",
      "Oncor                                               207\n",
      "Met-Ed                                              202\n",
      "Nevada Power                                        169\n",
      "Sierra Pacific Power Company                        140\n",
      "CVPS Corp                                           128\n",
      "GMP Corp.                                            73\n",
      "ComEd                                                72\n",
      "Allegheny (West Penn)                                45\n",
      "Sierra Pacific                                       42\n",
      "First Energy (Pennsylvania Electric Co)              30\n",
      "Other                                                20\n",
      "Duquesne                                             16\n",
      "Wash. Elec Co-op                                     16\n",
      "AmerenIP                                             16\n",
      "VT Elec. Co-op                                       14\n",
      "AmerenCILCO                                          12\n",
      "Arkansas Valley Electric Cooperative Corporation     10\n",
      "Carroll Electric Cooperative Corporation             10\n",
      "UGI                                                   9\n",
      "Entergy                                               8\n",
      "Ameren CILCO                                          8\n",
      "Ameren CIPS                                           7\n",
      "Entergy Arkansas, Inc.                                6\n",
      "TNMP                                                  6\n",
      "Ozarks Electric Cooperative Corporation               6\n",
      "Jo-Carroll Energy                                     6\n",
      "AmerenCIPS                                            6\n",
      "City of Lompoc                                        5\n",
      "                                                   ... \n",
      "Hardwick (Village of)                                 2\n",
      "Lyndonville (Village of)                              2\n",
      "Eqyptian Electric                                     2\n",
      "Citizens                                              2\n",
      "SWEPCO                                                2\n",
      "Petit Jean Electric Cooperative Corporation           2\n",
      "Hyde Park (Village of)                                2\n",
      "CWLP                                                  1\n",
      "Menard Electric Coop                                  1\n",
      "Wellsboro                                             1\n",
      "Burlington Elec. Dept.                                1\n",
      "Ameren IP                                             1\n",
      "Mid-America                                           1\n",
      "Southwest Arkansas Electric                           1\n",
      "Burlington Elec                                       1\n",
      "McDonough Power                                       1\n",
      "North Shore Gas Co                                    1\n",
      "Norris Electric Coop                                  1\n",
      "Municipal (small areas)                               1\n",
      "Morrisville (Village of)                              1\n",
      "Tri-County Electric                                   1\n",
      "C&amp;L Electric Cooperative Corporation              1\n",
      "Conn. Valley Elec. Co.                                1\n",
      "Nicor Gas                                             1\n",
      "Northfield Electric                                   1\n",
      "McDonough Power Coop                                  1\n",
      "Swanton (Village of)                                  1\n",
      "same                                                  1\n",
      "Menard Electric. Coop                                 1\n",
      "AEP-TNC                                               1\n",
      "Name: utility, Length: 67, dtype: int64\n"
     ]
    }
   ],
   "source": [
    "### what is the difference between utility and utility_clean?\n",
    "### utility_clean is populated.  utility is almost empty\n",
    "print(dfFull.utility.equals(dfFull.utility_clean))\n",
    "print(dfFull.utility.count())\n",
    "print(dfFull.utility.value_counts())"
   ]
  },
  {
   "cell_type": "code",
   "execution_count": 49,
   "metadata": {},
   "outputs": [
    {
     "name": "stdout",
     "output_type": "stream",
     "text": [
      "792720\n",
      "Pacific Gas & Electric Company                215183\n",
      "Southern California Edison                    164476\n",
      "San Diego Gas & Electric Company               70941\n",
      "National Grid                                  42328\n",
      "Arizona Public Service                         40647\n",
      "Los Angeles Department of Water & Power        19757\n",
      "PSEG Long Island                               18015\n",
      "NSTAR (DBA EverSource)                         16698\n",
      "JCP&L                                          16438\n",
      "PSE&G BPU                                      15883\n",
      "Salt River Project                             15275\n",
      "Connecticut Light and Power                    13391\n",
      "Nevada Power                                   12766\n",
      "Sacramento Municipal Utility District          11698\n",
      "Tucson Electric Power                          10921\n",
      "AC Electric                                     8948\n",
      "Consolidated Edison                             5894\n",
      "Baltimore Gas & Electric Co                     5212\n",
      "Austin Energy                                   4688\n",
      "Public Service Co of New Mexico                 4260\n",
      "NYS Electric and Gas                            4081\n",
      "Central Hudson Gas and Electric                 4050\n",
      "Ameren                                          3715\n",
      "Eversource Energy                               3643\n",
      "CPS Energy                                      3284\n",
      "WMECO (DBA EverSource)                          3153\n",
      "Orange and Rockland Utilities                   2881\n",
      "Pacific Gas & Electric Co                       2664\n",
      "Southern California Edison Co                   2536\n",
      "Delmarva                                        2508\n",
      "                                               ...  \n",
      "KLP                                                1\n",
      "Rural Electric Convenience Cooperative Co.         1\n",
      "PennPwr                                            1\n",
      "Champion Energy, LLC                               1\n",
      "NJR                                                1\n",
      "Hull Municipal Light Plant                         1\n",
      "North American Power                               1\n",
      "Central Maine Power Co                             1\n",
      "Willmar Public Utilities                           1\n",
      "Ohio Edison Co                                     1\n",
      "Brainerd Public Utilities                          1\n",
      "City of Anoka                                      1\n",
      "NJ Nat Gas BPU                                     1\n",
      "Spoon River Electric Cooperative                   1\n",
      "Heritage Propane                                   1\n",
      "City of St. Peter                                  1\n",
      "Otter Tail Power                                   1\n",
      "Detroit Lakes Public Utility                       1\n",
      "Chaska Public Utilties                             1\n",
      "Superior Water, Light and Power Co                 1\n",
      "City of St Charles- (IL)                           1\n",
      "Alliant                                            1\n",
      "Gosnold Electric Light Dept                        1\n",
      "IL-Power                                           1\n",
      "Norwood Municipal Light                            1\n",
      "Fox Island Electric                                1\n",
      "Eastern Maine Electric Co-op                       1\n",
      "Springer Electric Coop, Inc                        1\n",
      "Mount Carmel Public Utility                        1\n",
      "Direct Energy                                      1\n",
      "Name: utility_clean, Length: 386, dtype: int64\n"
     ]
    }
   ],
   "source": [
    "print(dfFull.utility_clean.count())\n",
    "print(dfFull.utility_clean.value_counts())"
   ]
  },
  {
   "cell_type": "code",
   "execution_count": 50,
   "metadata": {},
   "outputs": [
    {
     "name": "stdout",
     "output_type": "stream",
     "text": [
      "utility          2117\n",
      "utility_clean       0\n",
      "dtype: int64\n",
      "                  utility utility_clean\n",
      "date_installed                         \n",
      "2004-01-15      GMP Corp.           NaN\n",
      "2004-02-13      GMP Corp.           NaN\n",
      "2004-02-19      CVPS Corp           NaN\n",
      "2004-05-07      CVPS Corp           NaN\n",
      "2004-05-28      CVPS Corp           NaN\n",
      "2004-06-11      CVPS Corp           NaN\n",
      "2004-07-02      GMP Corp.           NaN\n",
      "2004-07-23      CVPS Corp           NaN\n",
      "2004-07-23      CVPS Corp           NaN\n",
      "2004-07-30      GMP Corp.           NaN\n"
     ]
    }
   ],
   "source": [
    "# Let's count then look at some of these pairs.\n",
    "# okay - utility_clean isn't populated for about 2k rows\n",
    "# don't see any downside to merging these two columns\n",
    "funnyUtils = dfFull[dfFull.utility.notnull() & (dfFull.utility != dfFull.utility_clean)]\n",
    "print(funnyUtils[['utility', 'utility_clean']].count())\n",
    "print(funnyUtils[['utility', 'utility_clean']].head(10))"
   ]
  },
  {
   "cell_type": "markdown",
   "metadata": {},
   "source": [
    "##### tech_1"
   ]
  },
  {
   "cell_type": "code",
   "execution_count": 51,
   "metadata": {},
   "outputs": [
    {
     "data": {
      "text/plain": [
       "Poly              350762\n",
       "Mono              215217\n",
       "crystalline         7439\n",
       "Mono + a-Si         5063\n",
       "CIGS                1097\n",
       "CdTe                 664\n",
       "a-Si                 480\n",
       "a-Si + Micro-c        60\n",
       "Thin Film             52\n",
       "CIS                   43\n",
       "multiple              42\n",
       "Name: tech_1, dtype: int64"
      ]
     },
     "execution_count": 51,
     "metadata": {},
     "output_type": "execute_result"
    }
   ],
   "source": [
    "### Possibly of interest\n",
    "dfFull.tech_1.value_counts()"
   ]
  },
  {
   "cell_type": "markdown",
   "metadata": {},
   "source": [
    "##### Model_1_clean"
   ]
  },
  {
   "cell_type": "code",
   "execution_count": 52,
   "metadata": {},
   "outputs": [
    {
     "data": {
      "text/plain": [
       "multiple matches    96988\n",
       "SPR-327NE-WHT-D     21787\n",
       "REC260PE            20071\n",
       "TSM-250PA05.18      11806\n",
       "KU265-6ZPA           8537\n",
       "Name: model1_clean, dtype: int64"
      ]
     },
     "execution_count": 52,
     "metadata": {},
     "output_type": "execute_result"
    }
   ],
   "source": [
    "### model1_clean\n",
    "### hmmm.  \n",
    "### Now, I see: the string \"multiple matches\" occurs 100k times.\n",
    "### Hard to see how I could make use of this.\n",
    "### I think these values are PV panel part numbers.\n",
    "dfFull.model1_clean.value_counts().head()"
   ]
  },
  {
   "cell_type": "code",
   "execution_count": 53,
   "metadata": {},
   "outputs": [
    {
     "data": {
      "text/plain": [
       "580919"
      ]
     },
     "execution_count": 53,
     "metadata": {},
     "output_type": "execute_result"
    }
   ],
   "source": [
    "dfFull.model1_clean.count()"
   ]
  },
  {
   "cell_type": "code",
   "execution_count": 54,
   "metadata": {},
   "outputs": [
    {
     "data": {
      "text/plain": [
       "580919"
      ]
     },
     "execution_count": 54,
     "metadata": {},
     "output_type": "execute_result"
    }
   ],
   "source": [
    "m1clean = dfFull.model1_clean; m1clean.count()"
   ]
  },
  {
   "cell_type": "code",
   "execution_count": 55,
   "metadata": {},
   "outputs": [
    {
     "data": {
      "text/plain": [
       "1020521"
      ]
     },
     "execution_count": 55,
     "metadata": {},
     "output_type": "execute_result"
    }
   ],
   "source": [
    "# okay, 400k + nulls\n",
    "m1clean.size"
   ]
  },
  {
   "cell_type": "code",
   "execution_count": 56,
   "metadata": {},
   "outputs": [
    {
     "data": {
      "text/plain": [
       "date_installed\n",
       "1998-04-08    multiple matches\n",
       "1998-06-30             BP4175B\n",
       "1999-04-06    PL-PLT-63L-BLK-U\n",
       "1999-04-27      SPR-225E-BLK-D\n",
       "1999-09-15       SPR-76R-BLK-U\n",
       "Name: model1_clean, dtype: object"
      ]
     },
     "execution_count": 56,
     "metadata": {},
     "output_type": "execute_result"
    }
   ],
   "source": [
    "m1clean.dropna(inplace=True)\n",
    "m1clean.head()"
   ]
  },
  {
   "cell_type": "markdown",
   "metadata": {},
   "source": [
    "##### Annual solar production"
   ]
  },
  {
   "cell_type": "code",
   "execution_count": 57,
   "metadata": {},
   "outputs": [
    {
     "data": {
      "image/png": "[encoded data removed]",
      "text/plain": [
       "<matplotlib.figure.Figure at 0x241e453b048>"
      ]
     },
     "metadata": {},
     "output_type": "display_data"
    }
   ],
   "source": [
    "### annual solar power production.  units are kwH/yr?  Think there are issues\n",
    "### with 1k divisor and/or year multiplier\n",
    "dfFull.annual_PV_prod.plot(marker='.', linestyle='none')\n",
    "plt.xlabel('Date of install')\n",
    "plt.ylabel('annual solar production')\n",
    "plt.title('annual solar production vs. install year');"
   ]
  },
  {
   "cell_type": "code",
   "execution_count": 58,
   "metadata": {},
   "outputs": [
    {
     "data": {
      "image/png": "[encoded data removed]",
      "text/plain": [
       "<matplotlib.figure.Figure at 0x241e2ed2400>"
      ]
     },
     "metadata": {},
     "output_type": "display_data"
    }
   ],
   "source": [
    "### now a histogram of log\n",
    "np.log10(dfFull.annual_PV_prod).plot(kind='hist', bins=30)\n",
    "plt.xlabel('Distribution of log10(annual_PV_prog)')\n",
    "plt.ylabel('Frequency')\n",
    "plt.title('log10(annual_PV_prog)');"
   ]
  },
  {
   "cell_type": "code",
   "execution_count": 59,
   "metadata": {},
   "outputs": [
    {
     "name": "stdout",
     "output_type": "stream",
     "text": [
      "date_installed\n",
      "2011-11-07    1.067801e+07\n",
      "2011-12-30    3.063050e+07\n",
      "2013-12-13    2.868939e+07\n",
      "2014-06-11    4.646728e+08\n",
      "2015-04-15    1.113476e+09\n",
      "2015-08-31    1.257042e+07\n",
      "2015-12-18    1.102429e+07\n",
      "Name: annual_PV_prod, dtype: float64\n"
     ]
    }
   ],
   "source": [
    "### Okay, a few outliers on the high size\n",
    "print(dfFull[dfFull.annual_PV_prod > 10 ** 7]['annual_PV_prod'])"
   ]
  },
  {
   "cell_type": "code",
   "execution_count": 60,
   "metadata": {},
   "outputs": [
    {
     "name": "stdout",
     "output_type": "stream",
     "text": [
      "865\n"
     ]
    }
   ],
   "source": [
    "### Outliers on the low side.  That's a lot cheaper to do... \n",
    "print(dfFull[dfFull.annual_PV_prod < 10 ** 3]['annual_PV_prod'].count())"
   ]
  },
  {
   "cell_type": "markdown",
   "metadata": {},
   "source": [
    "##### Annual_insolation"
   ]
  },
  {
   "cell_type": "code",
   "execution_count": 61,
   "metadata": {},
   "outputs": [
    {
     "data": {
      "text/plain": [
       "Text(0.5,1,'annual_insolation vs. install_date ')"
      ]
     },
     "execution_count": 61,
     "metadata": {},
     "output_type": "execute_result"
    },
    {
     "data": {
      "image/png": "[encoded data removed]",
      "text/plain": [
       "<matplotlib.figure.Figure at 0x24189e8f5c0>"
      ]
     },
     "metadata": {},
     "output_type": "display_data"
    }
   ],
   "source": [
    "### This has no impact on price.\n",
    "### Curiosity only.  Annual_insolation units are kWh/m2/day or something like that.\n",
    "### Data docs say they calculate it from the zipcode.  This is apparently an annual\n",
    "### number and they document a daily number\n",
    "\n",
    "### annual insolation units are kwH/yr\n",
    "dfFull.annual_insolation.plot(marker='.', linestyle='none')\n",
    "plt.xlabel('install_date')\n",
    "plt.xlabel('annual_insolation (kwH/yr)')\n",
    "plt.title('annual_insolation vs. install_date ')\n",
    "# np.log10(dfFull.annual_insolation).plot(marker='.', linestyle='none', ax=axs[1]);"
   ]
  },
  {
   "cell_type": "markdown",
   "metadata": {},
   "source": [
    "##### rebate "
   ]
  },
  {
   "cell_type": "code",
   "execution_count": 62,
   "metadata": {},
   "outputs": [
    {
     "data": {
      "text/plain": [
       "386698"
      ]
     },
     "execution_count": 62,
     "metadata": {},
     "output_type": "execute_result"
    }
   ],
   "source": [
    "### This column is obj.  What kinds of things does it contain??\n",
    "theRebates = dfFull.rebate.dropna()\n",
    "theRebates.head()\n",
    "### no more NA in theRebates\n",
    "theRebates.count()"
   ]
  },
  {
   "cell_type": "code",
   "execution_count": 63,
   "metadata": {},
   "outputs": [
    {
     "data": {
      "text/plain": [
       "384533"
      ]
     },
     "execution_count": 63,
     "metadata": {},
     "output_type": "execute_result"
    }
   ],
   "source": [
    "### most of them are floats; looks like a couple of K are something else\n",
    "theRebates.apply(lambda item: True if type(item) == type(123.45) else False).sum()"
   ]
  },
  {
   "cell_type": "code",
   "execution_count": 64,
   "metadata": {},
   "outputs": [],
   "source": [
    "# vector that will select the floats\n",
    "myVec = theRebates.apply(lambda item: True if type(item) == type(123.45) else False)"
   ]
  },
  {
   "cell_type": "code",
   "execution_count": 65,
   "metadata": {},
   "outputs": [
    {
     "data": {
      "text/plain": [
       "date_installed\n",
       "2001-07-22    15867.0\n",
       "2001-11-21    18920.0\n",
       "2001-12-06    16320.0\n",
       "Name: rebate, dtype: object"
      ]
     },
     "execution_count": 65,
     "metadata": {},
     "output_type": "execute_result"
    }
   ],
   "source": [
    "# look at the ones that aren't floats\n",
    "theRebates[~myVec].head(3)\n",
    "# funny they look like floats, but..."
   ]
  },
  {
   "cell_type": "code",
   "execution_count": 66,
   "metadata": {},
   "outputs": [
    {
     "data": {
      "text/plain": [
       "date_installed\n",
       "2001-07-22    <class 'str'>\n",
       "2001-11-21    <class 'str'>\n",
       "2001-12-06    <class 'str'>\n",
       "Name: rebate, dtype: object"
      ]
     },
     "execution_count": 66,
     "metadata": {},
     "output_type": "execute_result"
    }
   ],
   "source": [
    "# they're really strings\n",
    "theRebates[~myVec].head(3).apply(type)"
   ]
  },
  {
   "cell_type": "code",
   "execution_count": 67,
   "metadata": {},
   "outputs": [
    {
     "data": {
      "text/plain": [
       "<class 'float'>    384533\n",
       "<class 'str'>        2165\n",
       "Name: rebate, dtype: int64"
      ]
     },
     "execution_count": 67,
     "metadata": {},
     "output_type": "execute_result"
    }
   ],
   "source": [
    "# defer this for now.  handle in cleaning phase\n",
    "# check the types\n",
    "# same number as I have above for floats.\n",
    "theRebates.apply(type).value_counts()"
   ]
  },
  {
   "cell_type": "markdown",
   "metadata": {},
   "source": [
    "##### sales_tax_cost\n",
    "Defering for now. I don't think it's a large factor in cost, though could matter for high tax states (e.g. CA) For completeness, I'll look at this, but it looks like there's bad data (off by factor of 10 or 100).  The excel version of this field might be cleaned up."
   ]
  },
  {
   "cell_type": "code",
   "execution_count": 68,
   "metadata": {},
   "outputs": [],
   "source": [
    "full_stc = dfFull.sales_tax_cost.dropna()"
   ]
  },
  {
   "cell_type": "code",
   "execution_count": 69,
   "metadata": {},
   "outputs": [
    {
     "data": {
      "text/plain": [
       "date_installed\n",
       "2000-01-03     787.769510\n",
       "2000-01-06     384.595726\n",
       "2000-01-06     350.862362\n",
       "2000-01-06    1237.921639\n",
       "2000-01-20     262.098811\n",
       "Name: sales_tax_cost, dtype: float64"
      ]
     },
     "execution_count": 69,
     "metadata": {},
     "output_type": "execute_result"
    }
   ],
   "source": [
    "# they're supposed to be floats\n",
    "full_stc.head()"
   ]
  },
  {
   "cell_type": "code",
   "execution_count": 70,
   "metadata": {},
   "outputs": [
    {
     "data": {
      "text/plain": [
       "count    355309.000000\n",
       "mean       2657.135224\n",
       "std       14579.815550\n",
       "min          10.130237\n",
       "25%         764.153153\n",
       "50%        1118.821468\n",
       "75%        1674.020650\n",
       "max      872902.116200\n",
       "Name: sales_tax_cost, dtype: float64"
      ]
     },
     "execution_count": 70,
     "metadata": {},
     "output_type": "execute_result"
    }
   ],
   "source": [
    "# std is very high; something's funny.\n",
    "# did someone use a percent multiplier rather than than the decimal?\n",
    "# clearly a calculated value.  Actuals would be 2 decimals.\n",
    "dfFull.sales_tax_cost.describe()"
   ]
  },
  {
   "cell_type": "code",
   "execution_count": 71,
   "metadata": {},
   "outputs": [
    {
     "data": {
      "text/plain": [
       "10343"
      ]
     },
     "execution_count": 71,
     "metadata": {},
     "output_type": "execute_result"
    }
   ],
   "source": [
    "# how many > 3 x mean\n",
    "full_stc[full_stc > 3 * 2657].count()"
   ]
  },
  {
   "cell_type": "code",
   "execution_count": 72,
   "metadata": {},
   "outputs": [
    {
     "data": {
      "text/plain": [
       "4083"
      ]
     },
     "execution_count": 72,
     "metadata": {},
     "output_type": "execute_result"
    }
   ],
   "source": [
    "# how many > 10 x mean\n",
    "full_stc[full_stc > 10 * 2657].count()"
   ]
  },
  {
   "cell_type": "code",
   "execution_count": 73,
   "metadata": {},
   "outputs": [
    {
     "data": {
      "image/png": "[encoded data removed]",
      "text/plain": [
       "<matplotlib.figure.Figure at 0x241e3770390>"
      ]
     },
     "metadata": {},
     "output_type": "display_data"
    }
   ],
   "source": [
    "# let's see what the distribution is like.\n",
    "# Range is pretty hard to believe; though cost might prove informative.\n",
    "full_stc.plot(kind='hist', bins=30);\n",
    "plt.xlabel('sales_tax_cost')\n",
    "plt.ylabel('Frequency')\n",
    "plt.title('Distribution of sales_tax_cost');"
   ]
  },
  {
   "cell_type": "code",
   "execution_count": 74,
   "metadata": {},
   "outputs": [
    {
     "data": {
      "image/png": "[encoded data removed]",
      "text/plain": [
       "<matplotlib.figure.Figure at 0x241e41313c8>"
      ]
     },
     "metadata": {},
     "output_type": "display_data"
    }
   ],
   "source": [
    "# Now the log \n",
    "# Range is pretty hard to believe; though cost might prove informative.\n",
    "np.log10(full_stc).plot(kind='hist', bins=30);\n",
    "plt.xlabel('log10(sales_tax_cost)')\n",
    "plt.ylabel('Frequency')\n",
    "plt.title('Distribution of log10(sales_tax_cost)');"
   ]
  },
  {
   "cell_type": "markdown",
   "metadata": {},
   "source": [
    "##### Tilt and Azimuth\n",
    "These are features of the installation (generally calculated to maximize total output) but not one that increases cost."
   ]
  },
  {
   "cell_type": "code",
   "execution_count": 75,
   "metadata": {},
   "outputs": [],
   "source": [
    "theTilts = dfFull.tilt1.dropna()"
   ]
  },
  {
   "cell_type": "code",
   "execution_count": 76,
   "metadata": {},
   "outputs": [
    {
     "data": {
      "image/png": "[encoded data removed]",
      "text/plain": [
       "<matplotlib.figure.Figure at 0x241e318b518>"
      ]
     },
     "metadata": {},
     "output_type": "display_data"
    }
   ],
   "source": [
    "### hard to interpret\n",
    "theTilts.plot()\n",
    "plt.xlabel('date_installed')\n",
    "plt.ylabel('tilt')\n",
    "plt.title('tilt vs. date_installed');"
   ]
  },
  {
   "cell_type": "code",
   "execution_count": 77,
   "metadata": {},
   "outputs": [
    {
     "data": {
      "image/png": "[encoded data removed]",
      "text/plain": [
       "<matplotlib.figure.Figure at 0x2419bea7198>"
      ]
     },
     "metadata": {},
     "output_type": "display_data"
    }
   ],
   "source": [
    "# distribution please\n",
    "# okay that's better\n",
    "#\n",
    "theTilts.plot(kind='hist')\n",
    "plt.xlabel('tilt')\n",
    "plt.ylabel('Frequency')\n",
    "plt.title('Distribution of tilt');"
   ]
  },
  {
   "cell_type": "code",
   "execution_count": 78,
   "metadata": {},
   "outputs": [
    {
     "data": {
      "text/plain": [
       "date_installed\n",
       "1999-12-01    180.0\n",
       "2001-02-02    270.0\n",
       "2001-04-23    180.0\n",
       "2001-04-30    180.0\n",
       "2001-08-23    180.0\n",
       "Name: azimuth1, dtype: float64"
      ]
     },
     "execution_count": 78,
     "metadata": {},
     "output_type": "execute_result"
    }
   ],
   "source": [
    "azi = dfFull.azimuth1.dropna(); azi.head()"
   ]
  },
  {
   "cell_type": "code",
   "execution_count": 79,
   "metadata": {},
   "outputs": [
    {
     "data": {
      "image/png": "[encoded data removed]",
      "text/plain": [
       "<matplotlib.figure.Figure at 0x241e4531048>"
      ]
     },
     "metadata": {},
     "output_type": "display_data"
    }
   ],
   "source": [
    "# there's some bad data\n",
    "azi.plot(marker='.', linestyle='none')\n",
    "plt.xlabel('date_installed')\n",
    "plt.ylabel('azimuth')\n",
    "plt.title('azimuth vs. date_installed');"
   ]
  },
  {
   "cell_type": "code",
   "execution_count": 80,
   "metadata": {},
   "outputs": [
    {
     "data": {
      "image/png": "[encoded data removed]",
      "text/plain": [
       "<matplotlib.figure.Figure at 0x241b70dcd30>"
      ]
     },
     "metadata": {},
     "output_type": "display_data"
    }
   ],
   "source": [
    "# distribution\n",
    "# badness at high end\n",
    "azi.plot(kind='hist')\n",
    "plt.xlabel('azimuth')\n",
    "plt.ylabel('Frequency')\n",
    "plt.title('Distribution of azimuth');"
   ]
  },
  {
   "cell_type": "code",
   "execution_count": 81,
   "metadata": {},
   "outputs": [
    {
     "data": {
      "text/plain": [
       "date_installed\n",
       "2009-11-18       390.0\n",
       "2009-12-21       390.0\n",
       "2010-02-03       450.0\n",
       "2010-03-05       390.0\n",
       "2010-03-05       374.0\n",
       "2010-03-09       390.0\n",
       "2010-03-24       370.0\n",
       "2010-03-31       420.0\n",
       "2010-04-14       400.0\n",
       "2010-05-07       370.0\n",
       "2010-05-17       368.0\n",
       "2010-06-08       378.0\n",
       "2010-06-09       390.0\n",
       "2010-06-28       380.0\n",
       "2010-07-30       363.0\n",
       "2010-08-13       380.0\n",
       "2010-09-07       405.0\n",
       "2010-09-24       405.0\n",
       "2010-12-17       450.0\n",
       "2011-01-31       400.0\n",
       "2011-02-18       372.0\n",
       "2011-04-15       367.0\n",
       "2013-10-16    200100.0\n",
       "2014-04-24       420.0\n",
       "2014-05-01       540.0\n",
       "Name: azimuth1, dtype: float64"
      ]
     },
     "execution_count": 81,
     "metadata": {},
     "output_type": "execute_result"
    }
   ],
   "source": [
    "# bad data\n",
    "azi[azi > 360.0]"
   ]
  },
  {
   "cell_type": "markdown",
   "metadata": {},
   "source": [
    "##### tracking_type\n",
    "\n",
    "There is another column called tracking (boolean).  There's probably not enough data here to do anything with."
   ]
  },
  {
   "cell_type": "code",
   "execution_count": 82,
   "metadata": {},
   "outputs": [
    {
     "data": {
      "text/plain": [
       "count     526058\n",
       "unique         4\n",
       "top        Fixed\n",
       "freq      524386\n",
       "Name: tracking_type, dtype: object"
      ]
     },
     "execution_count": 82,
     "metadata": {},
     "output_type": "execute_result"
    }
   ],
   "source": [
    "dfFull.tracking_type.describe()"
   ]
  },
  {
   "cell_type": "code",
   "execution_count": 83,
   "metadata": {},
   "outputs": [
    {
     "data": {
      "text/plain": [
       "Fixed          524386\n",
       "Single-Axis       844\n",
       "Dual-Axis         541\n",
       "Mixed             287\n",
       "Name: tracking_type, dtype: int64"
      ]
     },
     "execution_count": 83,
     "metadata": {},
     "output_type": "execute_result"
    }
   ],
   "source": [
    "dfFull.tracking_type.value_counts()"
   ]
  },
  {
   "cell_type": "markdown",
   "metadata": {},
   "source": [
    "##### manuf_1, manuf_2, manuf_3\n",
    "\n",
    "List of manufacturers of the PV modules.  Could be useful, but since the mixes aren't given, it's hard to understand what to do with it.  More analysis could point the way (e.g. does the same manufacturer show up in multiple variables?  Are these all mixed?)"
   ]
  },
  {
   "cell_type": "code",
   "execution_count": 84,
   "metadata": {},
   "outputs": [
    {
     "name": "stdout",
     "output_type": "stream",
     "text": [
      "count       201121\n",
      "unique          22\n",
      "top       SunPower\n",
      "freq         83310\n",
      "Name: manuf1_clean, dtype: object\n",
      "SunPower                              83310\n",
      "Canadian Solar                        47629\n",
      "Sharp                                 33129\n",
      "LG Electronics Solar Cell Division    11639\n",
      "AU Optronics                           6294\n",
      "ET Solar Industry                      5088\n",
      "Schuco USA                             4699\n",
      "Phono Solar Technology                 3004\n",
      "Andalay Solar                          1595\n",
      "GE Energy                              1572\n",
      "MAGE Solar                             1558\n",
      "Chint Solar (Zhejiang)                  563\n",
      "Siemens                                 330\n",
      "Westinghouse Solar                      266\n",
      "Open Energy                             152\n",
      "Yes! Solar                              143\n",
      "Helios USA                              129\n",
      "Honeywell                                11\n",
      "Powercom                                  4\n",
      "CFM                                       3\n",
      "GreenVolts                                2\n",
      "Solectria                                 1\n",
      "Name: manuf1_clean, dtype: int64\n"
     ]
    }
   ],
   "source": [
    "print(dfFull.manuf1_clean.describe())\n",
    "print(dfFull.manuf1_clean.value_counts())"
   ]
  },
  {
   "cell_type": "code",
   "execution_count": 85,
   "metadata": {},
   "outputs": [
    {
     "name": "stdout",
     "output_type": "stream",
     "text": [
      "count       231607\n",
      "unique         183\n",
      "top       SunPower\n",
      "freq         83629\n",
      "Name: manuf2_clean, dtype: object\n",
      "SunPower                                               83629\n",
      "Canadian Solar                                         48372\n",
      "Sharp                                                  33218\n",
      "LG Electronics Solar Cell Division                     10358\n",
      "Trina Solar                                             9893\n",
      "AU Optronics                                            6327\n",
      "ET Solar Industry                                       5136\n",
      "Kyocera Solar                                           4993\n",
      "Schuco USA                                              4712\n",
      "Phono Solar Technology                                  3008\n",
      "REC Solar                                               2912\n",
      "Yingli Green Energy                                     2265\n",
      "Andalay Solar                                           1604\n",
      "SolarWorld                                              1573\n",
      "GE Energy                                               1572\n",
      "MAGE Solar                                              1545\n",
      "LG Electronics                                          1479\n",
      "Suntech Power                                           1158\n",
      "Hyundai Heavy Industries                                 856\n",
      "Chint Solar (Zhejiang)                                   585\n",
      "Suniva                                                   453\n",
      "Hanwha Q CELLS                                           438\n",
      "Yingli Energy (China)                                    431\n",
      "BP Solar                                                 395\n",
      "Renesola Jiangsu                                         351\n",
      "Changzhou Trina Solar Energy                             350\n",
      "Siemens                                                  328\n",
      "Renesola America                                         308\n",
      "Westinghouse Solar                                       265\n",
      "Hanwha Q-Cells                                           231\n",
      "                                                       ...  \n",
      "Solar Power Industries                                     1\n",
      "Ningbo Best Solar Energy Technology                        1\n",
      "Hanwha Solar Canada                                        1\n",
      "Solarzentrum Allgau                                        1\n",
      "Sunny International Power                                  1\n",
      "Centrosolar Canada                                         1\n",
      "Solar Frontier                                             1\n",
      "Zhejiang Sunflower Light Energy Science Technology         1\n",
      "SolarBridge Technologies                                   1\n",
      "Integrated Power                                           1\n",
      "Gloria Solar                                               1\n",
      "Shenzhen Topray Solar                                      1\n",
      "Solarfun Power                                             1\n",
      "Green Energy Technology                                    1\n",
      "SOLON                                                      1\n",
      "S-ENERGY                                                   1\n",
      "HelioVolt                                                  1\n",
      "Shanghai Alex Solar Energy Science &amp; Technology        1\n",
      "Solectria                                                  1\n",
      "Inventec Energy                                            1\n",
      "Vikram Solar                                               1\n",
      "Global Solar Energy                                        1\n",
      "American Solar Wholesale                                   1\n",
      "Atlantis Energy                                            1\n",
      "Tianwei New Energy Holdings Co., Ltd                       1\n",
      "Auxin Solar                                                1\n",
      "BIPV                                                       1\n",
      "Brightwatts                                                1\n",
      "Sun World Solar Energy Technology (Luoyang)                1\n",
      "Sunperfect Solar                                           1\n",
      "Name: manuf2_clean, Length: 183, dtype: int64\n"
     ]
    }
   ],
   "source": [
    "print(dfFull.manuf2_clean.describe())\n",
    "print(dfFull.manuf2_clean.value_counts())"
   ]
  },
  {
   "cell_type": "code",
   "execution_count": 86,
   "metadata": {},
   "outputs": [
    {
     "name": "stdout",
     "output_type": "stream",
     "text": [
      "count       209653\n",
      "unique         121\n",
      "top       SunPower\n",
      "freq         83329\n",
      "Name: manuf3_clean, dtype: object\n",
      "SunPower                                                 83329\n",
      "Canadian Solar                                           47681\n",
      "Sharp                                                    33134\n",
      "LG Electronics Solar Cell Division                       11311\n",
      "AU Optronics                                              6293\n",
      "ET Solar Industry                                         5089\n",
      "Schuco USA                                                4700\n",
      "Phono Solar Technology                                    3006\n",
      "Trina Solar                                               2869\n",
      "Kyocera Solar                                             1977\n",
      "Andalay Solar                                             1596\n",
      "GE Energy                                                 1572\n",
      "MAGE Solar                                                1554\n",
      "REC Solar                                                 1008\n",
      "Yingli Green Energy                                        611\n",
      "Chint Solar (Zhejiang)                                     563\n",
      "LG Electronics                                             351\n",
      "Siemens                                                    330\n",
      "SolarWorld                                                 297\n",
      "Westinghouse Solar                                         266\n",
      "Hyundai Heavy Industries                                   241\n",
      "Suntech Power                                              231\n",
      "Hanwha Q CELLS                                             170\n",
      "Open Energy                                                152\n",
      "Yes! Solar                                                 143\n",
      "Suniva                                                     136\n",
      "Helios USA                                                 129\n",
      "Renesola Jiangsu                                            86\n",
      "Yingli Energy (China)                                       75\n",
      "Changzhou Trina Solar Energy                                73\n",
      "                                                         ...  \n",
      "Global Solar Energy                                          1\n",
      "Atlantis Energy                                              1\n",
      "TenKsolar                                                    1\n",
      "Shanghai Solar Energy S&amp;T                                1\n",
      "Q-Cells North America                                        1\n",
      "MX Solar USA                                                 1\n",
      "Kaneka                                                       1\n",
      "CentroSolar Sonnenstromfabrik                                1\n",
      "Renogy                                                       1\n",
      "EcoSolargy                                                   1\n",
      "Upsolar                                                      1\n",
      "SUNGEN International                                         1\n",
      "SunWize Technologies                                         1\n",
      "Abound Solar                                                 1\n",
      "Lifeline Energy                                              1\n",
      "Solartec                                                     1\n",
      "Perfect Source Technology                                    1\n",
      "Worldwide Energy & Mfg USA                                   1\n",
      "Vikram Solar                                                 1\n",
      "Znshine PV-Tech                                              1\n",
      "CSG PVTech                                                   1\n",
      "Shanghai Chaori Solar Energy Science &amp; Technology        1\n",
      "1Soltech                                                     1\n",
      "TSMC Solar                                                   1\n",
      "SMX Capital                                                  1\n",
      "Schuco International                                         1\n",
      "Panasonic Group SANYO Electric                               1\n",
      "Solectria                                                    1\n",
      "Antaris Solar                                                1\n",
      "Samsung SDI                                                  1\n",
      "Name: manuf3_clean, Length: 121, dtype: int64\n"
     ]
    }
   ],
   "source": [
    "print(dfFull.manuf3_clean.describe())\n",
    "print(dfFull.manuf3_clean.value_counts())"
   ]
  },
  {
   "cell_type": "markdown",
   "metadata": {},
   "source": [
    "##### inv_man_clean     \n",
    "Manufacturer of the inverter.  This is potentially of interest as the inverter is one of the highest cost components of the installation."
   ]
  },
  {
   "cell_type": "code",
   "execution_count": 87,
   "metadata": {},
   "outputs": [
    {
     "name": "stdout",
     "output_type": "stream",
     "text": [
      "count        49933\n",
      "unique          22\n",
      "top       SunPower\n",
      "freq         42793\n",
      "Name: inv_man_clean, dtype: object\n"
     ]
    }
   ],
   "source": [
    "inv_man = dfFull.inv_man_clean.dropna()\n",
    "print(inv_man.describe())"
   ]
  },
  {
   "cell_type": "code",
   "execution_count": 88,
   "metadata": {
    "scrolled": true
   },
   "outputs": [
    {
     "data": {
      "text/plain": [
       "SunPower                              42793\n",
       "Solectria                              3219\n",
       "Sharp                                  1873\n",
       "Schuco USA                             1185\n",
       "AU Optronics                            156\n",
       "GE Energy                               131\n",
       "MAGE Solar                              108\n",
       "Yes! Solar                               99\n",
       "CFM                                      80\n",
       "Siemens                                  72\n",
       "ET Solar Industry                        56\n",
       "Powercom                                 34\n",
       "Open Energy                              29\n",
       "Canadian Solar                           26\n",
       "LG Electronics Solar Cell Division       25\n",
       "Phono Solar Technology                   19\n",
       "Westinghouse Solar                       10\n",
       "GreenVolts                                7\n",
       "Honeywell                                 7\n",
       "Andalay Solar                             2\n",
       "Chint Solar (Zhejiang)                    1\n",
       "Helios USA                                1\n",
       "Name: inv_man_clean, dtype: int64"
      ]
     },
     "execution_count": 88,
     "metadata": {},
     "output_type": "execute_result"
    }
   ],
   "source": [
    "inv_man.value_counts()"
   ]
  },
  {
   "cell_type": "markdown",
   "metadata": {},
   "source": [
    "##### reported_annual_energy_prod\n",
    "\n",
    "There's some doubt in my mind whether these are properly reported.  Median is 8.25k.  Presumably that is 8.25kw.  That sounds like a daily figure.  The high values may not have been properly normalized."
   ]
  },
  {
   "cell_type": "code",
   "execution_count": 89,
   "metadata": {},
   "outputs": [
    {
     "data": {
      "text/plain": [
       "count    2.044290e+05\n",
       "mean     2.001290e+04\n",
       "std      1.864263e+05\n",
       "min      8.841482e-01\n",
       "25%      5.569000e+03\n",
       "50%      8.250000e+03\n",
       "75%      1.190274e+04\n",
       "max      3.500000e+07\n",
       "Name: reported_annual_energy_prod, dtype: float64"
      ]
     },
     "execution_count": 89,
     "metadata": {},
     "output_type": "execute_result"
    }
   ],
   "source": [
    "dfFull.reported_annual_energy_prod.describe()"
   ]
  },
  {
   "cell_type": "code",
   "execution_count": 90,
   "metadata": {},
   "outputs": [
    {
     "data": {
      "image/png": "[encoded data removed]",
      "text/plain": [
       "<matplotlib.figure.Figure at 0x2419be90588>"
      ]
     },
     "metadata": {},
     "output_type": "display_data"
    }
   ],
   "source": [
    "dfFull.reported_annual_energy_prod.plot(marker='.', linestyle='none')\n",
    "plt.xlabel('date_installed')\n",
    "plt.ylabel('reported annual production')\n",
    "plt.title('reported_annual_energy_prod vs. date_installed');"
   ]
  },
  {
   "cell_type": "code",
   "execution_count": 91,
   "metadata": {},
   "outputs": [
    {
     "data": {
      "text/plain": [
       "2892"
      ]
     },
     "execution_count": 91,
     "metadata": {},
     "output_type": "execute_result"
    }
   ],
   "source": [
    "(dfFull.reported_annual_energy_prod > 100000).sum()"
   ]
  },
  {
   "cell_type": "code",
   "execution_count": 92,
   "metadata": {
    "scrolled": true
   },
   "outputs": [
    {
     "data": {
      "image/png": "[encoded data removed]",
      "text/plain": [
       "<matplotlib.figure.Figure at 0x241b70e30b8>"
      ]
     },
     "metadata": {},
     "output_type": "display_data"
    }
   ],
   "source": [
    "dfFull.reported_annual_energy_prod.plot(kind='hist')\n",
    "plt.xlabel('date_installed')\n",
    "plt.ylabel('Frequency')\n",
    "plt.title('Distribution of reported_annual_energy_prod');"
   ]
  },
  {
   "cell_type": "code",
   "execution_count": 93,
   "metadata": {},
   "outputs": [
    {
     "data": {
      "image/png": "[encoded data removed]",
      "text/plain": [
       "<matplotlib.figure.Figure at 0x241b70c7710>"
      ]
     },
     "metadata": {},
     "output_type": "display_data"
    }
   ],
   "source": [
    "# check the log\n",
    "np.log10(dfFull.reported_annual_energy_prod).plot(kind='hist')\n",
    "plt.xlabel('date_installed')\n",
    "plt.ylabel('Frequency')\n",
    "plt.title('Distribution of log10(reported_annual_energy_prod)');"
   ]
  },
  {
   "cell_type": "markdown",
   "metadata": {},
   "source": [
    "##### pbi_length\n",
    "\n",
    "Performance Based Incentive program length.  This might conceivably be of interest because it impacts perceived cost (and TCO).  There is no corresponding PBI amount data.   "
   ]
  },
  {
   "cell_type": "code",
   "execution_count": 94,
   "metadata": {},
   "outputs": [
    {
     "data": {
      "text/plain": [
       "count    5427.000000\n",
       "mean        7.313064\n",
       "std         5.542901\n",
       "min         1.000000\n",
       "25%         5.000000\n",
       "50%         5.000000\n",
       "75%         5.000000\n",
       "max        20.000000\n",
       "Name: pbi_length, dtype: float64"
      ]
     },
     "execution_count": 94,
     "metadata": {},
     "output_type": "execute_result"
    }
   ],
   "source": [
    "dfFull.pbi_length.describe()"
   ]
  },
  {
   "cell_type": "markdown",
   "metadata": {},
   "source": [
    "##### bipv_3, bipv_2, bipv_1\n",
    "\n",
    "Building Integrated Photo Voltaics has to do with whether the PV module is built into a construction material (i.e. shingle, roofing panel.  Apparently these are boolean variables."
   ]
  },
  {
   "cell_type": "code",
   "execution_count": 95,
   "metadata": {},
   "outputs": [
    {
     "data": {
      "text/html": [
       "<div>\n",
       "<style scoped>\n",
       "    .dataframe tbody tr th:only-of-type {\n",
       "        vertical-align: middle;\n",
       "    }\n",
       "\n",
       "    .dataframe tbody tr th {\n",
       "        vertical-align: top;\n",
       "    }\n",
       "\n",
       "    .dataframe thead th {\n",
       "        text-align: right;\n",
       "    }\n",
       "</style>\n",
       "<table border=\"1\" class=\"dataframe\">\n",
       "  <thead>\n",
       "    <tr style=\"text-align: right;\">\n",
       "      <th></th>\n",
       "      <th>bipv_1</th>\n",
       "      <th>bipv_2</th>\n",
       "      <th>bipv_3</th>\n",
       "    </tr>\n",
       "  </thead>\n",
       "  <tbody>\n",
       "    <tr>\n",
       "      <th>count</th>\n",
       "      <td>5255.0</td>\n",
       "      <td>5255.0</td>\n",
       "      <td>5255.0</td>\n",
       "    </tr>\n",
       "    <tr>\n",
       "      <th>mean</th>\n",
       "      <td>1.0</td>\n",
       "      <td>1.0</td>\n",
       "      <td>1.0</td>\n",
       "    </tr>\n",
       "    <tr>\n",
       "      <th>std</th>\n",
       "      <td>0.0</td>\n",
       "      <td>0.0</td>\n",
       "      <td>0.0</td>\n",
       "    </tr>\n",
       "    <tr>\n",
       "      <th>min</th>\n",
       "      <td>1.0</td>\n",
       "      <td>1.0</td>\n",
       "      <td>1.0</td>\n",
       "    </tr>\n",
       "    <tr>\n",
       "      <th>25%</th>\n",
       "      <td>1.0</td>\n",
       "      <td>1.0</td>\n",
       "      <td>1.0</td>\n",
       "    </tr>\n",
       "    <tr>\n",
       "      <th>50%</th>\n",
       "      <td>1.0</td>\n",
       "      <td>1.0</td>\n",
       "      <td>1.0</td>\n",
       "    </tr>\n",
       "    <tr>\n",
       "      <th>75%</th>\n",
       "      <td>1.0</td>\n",
       "      <td>1.0</td>\n",
       "      <td>1.0</td>\n",
       "    </tr>\n",
       "    <tr>\n",
       "      <th>max</th>\n",
       "      <td>1.0</td>\n",
       "      <td>1.0</td>\n",
       "      <td>1.0</td>\n",
       "    </tr>\n",
       "  </tbody>\n",
       "</table>\n",
       "</div>"
      ],
      "text/plain": [
       "       bipv_1  bipv_2  bipv_3\n",
       "count  5255.0  5255.0  5255.0\n",
       "mean      1.0     1.0     1.0\n",
       "std       0.0     0.0     0.0\n",
       "min       1.0     1.0     1.0\n",
       "25%       1.0     1.0     1.0\n",
       "50%       1.0     1.0     1.0\n",
       "75%       1.0     1.0     1.0\n",
       "max       1.0     1.0     1.0"
      ]
     },
     "execution_count": 95,
     "metadata": {},
     "output_type": "execute_result"
    }
   ],
   "source": [
    "### All ones...\n",
    "dfFull[['bipv_1', 'bipv_2', 'bipv_3']].describe()"
   ]
  },
  {
   "cell_type": "markdown",
   "metadata": {},
   "source": [
    "### save this data for next phase"
   ]
  },
  {
   "cell_type": "code",
   "execution_count": 96,
   "metadata": {},
   "outputs": [],
   "source": [
    "# already done\n",
    "# dfFull.to_csv('./data/live_20171219.csv')"
   ]
  }
 ],
 "metadata": {
  "kernelspec": {
   "display_name": "Python 3",
   "language": "python",
   "name": "python3"
  },
  "language_info": {
   "codemirror_mode": {
    "name": "ipython",
    "version": 3
   },
   "file_extension": ".py",
   "mimetype": "text/x-python",
   "name": "python",
   "nbconvert_exporter": "python",
   "pygments_lexer": "ipython3",
   "version": "3.6.3"
  }
 },
 "nbformat": 4,
 "nbformat_minor": 2
}
