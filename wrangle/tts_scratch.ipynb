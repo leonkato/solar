{
 "cells": [
  {
   "cell_type": "code",
   "execution_count": 2,
   "metadata": {
    "collapsed": true
   },
   "outputs": [],
   "source": [
    "import numpy as np\n",
    "import pandas as pd\n",
    "# np.random.seed(12345)\n",
    "import matplotlib.pyplot as plt\n",
    "plt.rc('figure', figsize=(10, 6))\n",
    "np.set_printoptions(precision=4, suppress=True)\n",
    "# please show all columns\n",
    "pd.set_option(\"display.max_columns\", 60)"
   ]
  },
  {
   "cell_type": "code",
   "execution_count": 3,
   "metadata": {},
   "outputs": [
    {
     "name": "stdout",
     "output_type": "stream",
     "text": [
      "/c/Users/saus/Documents/repos/springboard/solar-cap-1/wrangle\n"
     ]
    }
   ],
   "source": [
    "!pwd"
   ]
  },
  {
   "cell_type": "code",
   "execution_count": 7,
   "metadata": {},
   "outputs": [
    {
     "name": "stdout",
     "output_type": "stream",
     "text": [
      "total 1773893\n",
      "-rw-r--r-- 1 saus 197609       706 Jan 28 16:42 #README.txt#\n",
      "drwxr-xr-x 1 saus 197609         0 Jan 28 16:42 .\n",
      "-rw-r--r-- 1 saus 197609        27 Jan 28 16:42 .#README.txt\n",
      "drwxr-xr-x 1 saus 197609         0 Jan 19 21:24 ..\n",
      "drwxr-xr-x 1 saus 197609         0 Jan 19 21:31 .ipynb_checkpoints\n",
      "-rw-r--r-- 1 saus 197609    859629 Nov  9 21:36 PublicDataFile_UserGuide.pdf\n",
      "-rw-r--r-- 1 saus 197609       699 Nov 13 22:56 README.txt\n",
      "-rw-r--r-- 1 saus 197609 501984387 Jan 17 22:32 TTS.csv\n",
      "-rw-r--r-- 1 saus 197609   3977507 Jan 15 15:35 TTS10k.csv\n",
      "-rw-r--r-- 1 saus 197609 185901845 Nov  9 21:36 TTSX_LBNL_OpenPV_public_file_p1.xlsx\n",
      "-rw-r--r-- 1 saus 197609  95456887 Nov  9 21:36 TTSX_LBNL_OpenPV_public_file_p2.xlsx\n",
      "-rw-r--r-- 1 saus 197609 226627007 Jan 19 18:18 live20180119.csv\n",
      "-rw-r--r-- 1 saus 197609 232427884 Jan 18 16:01 live_20180118\n",
      "-rw-r--r-- 1 saus 197609 190295601 Jan 19 22:34 ttsclean20180119.csv\n",
      "-rw-r--r-- 1 saus 197609 187478829 Jan 23 21:33 ttsclean20180123.csv\n",
      "-rw-r--r-- 1 saus 197609 191418461 Jan 27 11:10 ttsclean20180127.csv\n"
     ]
    }
   ],
   "source": [
    "! ls -al ../local/data/LBNL_openpv_tts_data/"
   ]
  },
  {
   "cell_type": "code",
   "execution_count": 6,
   "metadata": {},
   "outputs": [
    {
     "name": "stdout",
     "output_type": "stream",
     "text": [
      "tts_2nd_look.ipynb:    \"dfmini = pd.read_csv('../local/data/LBNL_openpv_tts_data/TTS.csv',\\n\",\n",
      "tts_5.ipynb:    \"dftts = pd.read_csv('../local/data/LBNL_openpv_tts_data/live_20180118',\\n\",\n",
      "tts_6.ipynb:    \"dftts = pd.read_csv('../local/data/LBNL_openpv_tts_data/live_20180118',\\n\",\n",
      "tts_6.ipynb:    \"dftts = pd.read_csv('../local/data/LBNL_openpv_tts_data/live20180119.csv', index_col='row_id',\\n\",\n",
      "tts_7.ipynb:    \"dftts = pd.read_csv('../local/data/LBNL_openpv_tts_data/ttsclean20180119.csv',\\n\",\n",
      "tts_8.ipynb:    \"dftts = pd.read_csv('../local/data/LBNL_openpv_tts_data/ttsclean20180119.csv',\\n\",\n",
      "tts_9.ipynb:    \"dftts = pd.read_csv('../local/data/LBNL_openpv_tts_data/ttsclean20180119.csv',\\n\",\n",
      "tts_scratch.ipynb:      \"d_q_and_c_1.ipynb:    \\\"dfFull = pd.read_csv('../local/data/live_20171219.csv')\\\"\\n\",\n",
      "tts_scratch.ipynb:      \"d_q_and_c_2.ipynb:    \\\"dfFull = pd.read_csv('../local/data/live_20171219_1.csv', index_col='date_installed', parse_dates=True)\\\"\\n\",\n",
      "tts_scratch.ipynb:      \"d_q_and_c_3.ipynb:    \\\"dfFull = pd.read_csv('../local/data/live_20171219_1.csv', index_col='date_installed', \\\\n\\\",\\n\",\n",
      "tts_scratch.ipynb:      \"d_q_and_c_4.ipynb:    \\\"dfLive = pd.read_csv('../local/data/live20171229.csv', index_col='date_installed', \\\\n\\\",\\n\",\n",
      "tts_scratch.ipynb:      \"d_q_and_c_5.5.ipynb:    \\\"dfLive = pd.read_csv('../local/data/20180105', index_col='date_installed', \\\\n\\\",\\n\",\n",
      "tts_scratch.ipynb:      \"d_q_and_c_5.ipynb:    \\\"dfLive = pd.read_csv('../local/data/20180101.csv', index_col='date_installed', \\\\n\\\",\\n\",\n",
      "tts_scratch.ipynb:      \"d_q_and_c_6.ipynb:    \\\"#dfLive = pd.read_csv('../local/data/20180108.csv', index_col='date_installed', parse_dates=True, dtype={'zipcode' : np.object})\\\\n\\\",\\n\",\n",
      "tts_scratch.ipynb:      \"d_q_and_c_6.ipynb:    \\\"dfLive = pd.read_csv('../local/data/thing0108', index_col='date_installed', parse_dates=True, dtype={'zipcode' : np.object})\\\"\\n\",\n",
      "tts_scratch.ipynb:      \"fiddle_with_groupby.ipynb:    \\\"dfLive = pd.read_csv('../local/data/20180109.csv', index_col='row_id')\\\"\\n\",\n",
      "tts_scratch.ipynb:      \"preEDA-full_dataset-original.ipynb:    \\\"        read_csv warns about mixed type cols\\\\n\\\",\\n\",\n",
      "tts_scratch.ipynb:      \"preEDA-full_dataset-original.ipynb:    \\\"dfFull = pd.read_csv('../local/data/openpv_all_master.csv', index_col='date_installed', parse_dates=True)\\\"\\n\",\n",
      "tts_scratch.ipynb:      \"scratch.ipynb:    \\\"df = pd.read_csv(StringIO(data))\\\"\\n\",\n",
      "tts_scratch.ipynb:      \"tts_2nd_look.ipynb:    \\\"dfmini = pd.read_csv('../local/data/LBNL_openpv_tts_data/TTS.csv',\\\\n\\\",\\n\",\n",
      "tts_scratch.ipynb:      \"tts_5.ipynb:    \\\"dftts = pd.read_csv('../local/data/LBNL_openpv_tts_data/live_20180118',\\\\n\\\",\\n\",\n",
      "tts_scratch.ipynb:      \"tts_6.ipynb:    \\\"dftts = pd.read_csv('../local/data/LBNL_openpv_tts_data/live_20180118',\\\\n\\\",\\n\",\n",
      "tts_scratch.ipynb:      \"tts_6.ipynb:    \\\"dftts = pd.read_csv('../local/data/LBNL_openpv_tts_data/live20180119.csv', index_col='row_id',\\\\n\\\",\\n\",\n",
      "tts_scratch.ipynb:      \"tts_7.ipynb:    \\\"dftts = pd.read_csv('../local/data/LBNL_openpv_tts_data/ttsclean20180119.csv',\\\\n\\\",\\n\",\n",
      "tts_scratch.ipynb:      \"tts_8.ipynb:    \\\"dftts = pd.read_csv('../local/data/LBNL_openpv_tts_data/ttsclean20180119.csv',\\\\n\\\",\\n\",\n",
      "tts_scratch.ipynb:      \"tts_9.ipynb:    \\\"dftts = pd.read_csv('../local/data/LBNL_openpv_tts_data/ttsclean20180119.csv',\\\\n\\\",\\n\",\n",
      "tts_scratch.ipynb:      \"tts_scratch.ipynb:    \\\"dfmini = pd.read_csv('../local/data/LBNL_openpv_tts_data/TTS.csv',\\\\n\\\",\\n\",\n",
      "tts_scratch.ipynb:      \"tts_scratch.ipynb:    \\\"dphlegm = pd.read_csv('foob.csv', index_col='row_id', dtype={'DC Optimizer' : np.bool})\\\"\\n\"\n",
      "tts_scratch.ipynb:    \"dfmini = pd.read_csv('../local/data/LBNL_openpv_tts_data/TTS.csv',\\n\",\n",
      "tts_scratch.ipynb:    \"dphlegm = pd.read_csv('foob.csv', index_col='row_id', dtype={'DC Optimizer' : np.bool})\"\n"
     ]
    }
   ],
   "source": [
    "# where are the reads?\n",
    "! grep read_csv *tts*.ipynb"
   ]
  },
  {
   "cell_type": "code",
   "execution_count": 8,
   "metadata": {},
   "outputs": [
    {
     "name": "stdout",
     "output_type": "stream",
     "text": [
      "tts_5.ipynb:    \"                    encoding = 'utf-8',\\n\",\n",
      "tts_6.ipynb:    \"                    encoding = 'utf-8',\\n\",\n",
      "tts_6.ipynb:    \"dftts.to_csv('../local/data/LBNL_openpv_tts_data/live20180119.csv', encoding = 'utf-8')\"\n",
      "tts_6.ipynb:    \"                   encoding = 'utf-8', dtype={'zipcode' : np.object}) \"\n",
      "tts_6.ipynb:    \"ttsClean.to_csv('../local/data/LBNL_openpv_tts_data/ttsclean20180119.csv', encoding='utf-8')\"\n",
      "tts_7.ipynb:    \"                    encoding = 'utf-8', \\n\",\n",
      "tts_8.ipynb:    \"                    encoding = 'utf-8', \\n\",\n",
      "tts_9.ipynb:    \"                    encoding = 'utf-8', \\n\",\n",
      "tts_9.ipynb:    \"dfLive.to_csv('../local/data/LBNL_openpv_tts_data/ttsclean20180123.csv', encoding='utf-8')\"\n",
      "tts_9.ipynb:    \"dfLive.to_csv('../local/data/LBNL_openpv_tts_data/ttsclean20180123.csv', encoding='utf-8')\"\n"
     ]
    }
   ],
   "source": [
    "! grep encoding *tts*.ipynb"
   ]
  },
  {
   "cell_type": "code",
   "execution_count": 9,
   "metadata": {
    "collapsed": true
   },
   "outputs": [],
   "source": [
    "# These variableS become boolean:\n",
    "# 'Appraised Value Flag' comes in right already so doesn't need converter\n",
    "# array(['New Construction', 'Tracking', 'Ground Mounted', \n",
    "#        'Battery System', 'Third-Party Owned', 'Self-Installed', 'BIPV Module #1', \n",
    "#        'BIPV Module #2', 'BIPV Module #3', 'Microinverter', 'DC Optimizer'], dtype=object)\n",
    "\n",
    "# change to take string arg rather than int...\n",
    "def fnA(val):\n",
    "    ''' take string value of \"0\", \"1\", \"-9999\" and turn into True, False and NaN'''\n",
    "    if val in (['0', '1', '-9999']):\n",
    "        return {'0' : False,\n",
    "                '1' : True,\n",
    "                '-9999' : np.nan}[val]\n",
    "    else:\n",
    "        raise TypeError('bad arg to fnA: {}, type={}'.format(val, type(val))) \n",
    "\n",
    "# print((fnA('0'), fnA('1'), fnA('-9999')))\n",
    "# fnA('hugely successful')\n",
    "\n",
    "\n",
    "myConverters = {'New Construction' : fnA, \n",
    "                'Tracking'         : fnA, \n",
    "                'Ground Mounted'   : fnA, \n",
    "                'Battery System'   : fnA, \n",
    "                'Third-Party Owned': fnA, \n",
    "                'Self-Installed'   : fnA, \n",
    "                'BIPV Module #1'   : fnA, \n",
    "                'BIPV Module #2'   : fnA, \n",
    "                'BIPV Module #3'   : fnA, \n",
    "                'Microinverter'    : fnA, \n",
    "                'DC Optimizer'     : fnA\n",
    "               }\n"
   ]
  },
  {
   "cell_type": "code",
   "execution_count": null,
   "metadata": {
    "collapsed": true
   },
   "outputs": [],
   "source": []
  },
  {
   "cell_type": "code",
   "execution_count": 10,
   "metadata": {},
   "outputs": [
    {
     "name": "stderr",
     "output_type": "stream",
     "text": [
      "C:\\Users\\saus\\Anaconda3\\lib\\site-packages\\IPython\\core\\interactiveshell.py:2698: DtypeWarning: Columns (16,17,18,19,20,23,26,28,42,43,50,51,52,53) have mixed types. Specify dtype option on import or set low_memory=False.\n",
      "  interactivity=interactivity, compiler=compiler, result=result)\n"
     ]
    },
    {
     "data": {
      "text/html": [
       "<div>\n",
       "<style>\n",
       "    .dataframe thead tr:only-child th {\n",
       "        text-align: right;\n",
       "    }\n",
       "\n",
       "    .dataframe thead th {\n",
       "        text-align: left;\n",
       "    }\n",
       "\n",
       "    .dataframe tbody tr th {\n",
       "        vertical-align: top;\n",
       "    }\n",
       "</style>\n",
       "<table border=\"1\" class=\"dataframe\">\n",
       "  <thead>\n",
       "    <tr style=\"text-align: right;\">\n",
       "      <th></th>\n",
       "      <th>index</th>\n",
       "      <th>Data Provider</th>\n",
       "      <th>System ID (from Data Provider)</th>\n",
       "      <th>System ID (Tracking the Sun)</th>\n",
       "      <th>Installation Date</th>\n",
       "      <th>System Size</th>\n",
       "      <th>Total Installed Price</th>\n",
       "      <th>Appraised Value Flag</th>\n",
       "      <th>Sales Tax Cost</th>\n",
       "      <th>Rebate or Grant</th>\n",
       "      <th>Performance-Based Incentive (Annual Payment)</th>\n",
       "      <th>Performance-Based Incentives (Duration)</th>\n",
       "      <th>Feed-in Tariff (Annual Payment)</th>\n",
       "      <th>Feed-in Tariff (Duration)</th>\n",
       "      <th>Customer Segment</th>\n",
       "      <th>New Construction</th>\n",
       "      <th>Tracking</th>\n",
       "      <th>Tracking Type</th>\n",
       "      <th>Ground Mounted</th>\n",
       "      <th>Battery System</th>\n",
       "      <th>Zip Code</th>\n",
       "      <th>City</th>\n",
       "      <th>County</th>\n",
       "      <th>State</th>\n",
       "      <th>Utility Service Territory</th>\n",
       "      <th>Third-Party Owned</th>\n",
       "      <th>Installer Name</th>\n",
       "      <th>Self-Installed</th>\n",
       "      <th>Azimuth #1</th>\n",
       "      <th>Azimuth #2</th>\n",
       "      <th>Azimuth #3</th>\n",
       "      <th>Tilt #1</th>\n",
       "      <th>Tilt #2</th>\n",
       "      <th>Tilt #3</th>\n",
       "      <th>Module Manufacturer #1</th>\n",
       "      <th>Module Manufacturer #2</th>\n",
       "      <th>Module Manufacturer #3</th>\n",
       "      <th>Module Model #1</th>\n",
       "      <th>Module Model #2</th>\n",
       "      <th>Module Model #3</th>\n",
       "      <th>Module Technology #1</th>\n",
       "      <th>Module Technology #2</th>\n",
       "      <th>Module Technology #3</th>\n",
       "      <th>BIPV Module #1</th>\n",
       "      <th>BIPV Module #2</th>\n",
       "      <th>BIPV Module #3</th>\n",
       "      <th>Module Efficiency #1</th>\n",
       "      <th>Module Efficiency #2</th>\n",
       "      <th>Module Efficiency #3</th>\n",
       "      <th>Inverter Manufacturer</th>\n",
       "      <th>Inverter Model</th>\n",
       "      <th>Microinverter</th>\n",
       "      <th>DC Optimizer</th>\n",
       "    </tr>\n",
       "    <tr>\n",
       "      <th>row_id</th>\n",
       "      <th></th>\n",
       "      <th></th>\n",
       "      <th></th>\n",
       "      <th></th>\n",
       "      <th></th>\n",
       "      <th></th>\n",
       "      <th></th>\n",
       "      <th></th>\n",
       "      <th></th>\n",
       "      <th></th>\n",
       "      <th></th>\n",
       "      <th></th>\n",
       "      <th></th>\n",
       "      <th></th>\n",
       "      <th></th>\n",
       "      <th></th>\n",
       "      <th></th>\n",
       "      <th></th>\n",
       "      <th></th>\n",
       "      <th></th>\n",
       "      <th></th>\n",
       "      <th></th>\n",
       "      <th></th>\n",
       "      <th></th>\n",
       "      <th></th>\n",
       "      <th></th>\n",
       "      <th></th>\n",
       "      <th></th>\n",
       "      <th></th>\n",
       "      <th></th>\n",
       "      <th></th>\n",
       "      <th></th>\n",
       "      <th></th>\n",
       "      <th></th>\n",
       "      <th></th>\n",
       "      <th></th>\n",
       "      <th></th>\n",
       "      <th></th>\n",
       "      <th></th>\n",
       "      <th></th>\n",
       "      <th></th>\n",
       "      <th></th>\n",
       "      <th></th>\n",
       "      <th></th>\n",
       "      <th></th>\n",
       "      <th></th>\n",
       "      <th></th>\n",
       "      <th></th>\n",
       "      <th></th>\n",
       "      <th></th>\n",
       "      <th></th>\n",
       "      <th></th>\n",
       "      <th></th>\n",
       "    </tr>\n",
       "  </thead>\n",
       "  <tbody>\n",
       "    <tr>\n",
       "      <th>0</th>\n",
       "      <td>0</td>\n",
       "      <td>Arkansas State Energy Office</td>\n",
       "      <td>NaN</td>\n",
       "      <td>AR_EDC_1</td>\n",
       "      <td>2010-04-29</td>\n",
       "      <td>2.016</td>\n",
       "      <td>14558.0</td>\n",
       "      <td>False</td>\n",
       "      <td>510.762764</td>\n",
       "      <td>0.0</td>\n",
       "      <td>3644.64</td>\n",
       "      <td>1</td>\n",
       "      <td>0.0</td>\n",
       "      <td>0</td>\n",
       "      <td>RES</td>\n",
       "      <td>NaN</td>\n",
       "      <td>False</td>\n",
       "      <td>Fixed</td>\n",
       "      <td>False</td>\n",
       "      <td>NaN</td>\n",
       "      <td>71953.0</td>\n",
       "      <td>Mena</td>\n",
       "      <td>Polk</td>\n",
       "      <td>AR</td>\n",
       "      <td>SWEPCO</td>\n",
       "      <td>False</td>\n",
       "      <td>Liberty Solar Solutions</td>\n",
       "      <td>False</td>\n",
       "      <td>NaN</td>\n",
       "      <td>NaN</td>\n",
       "      <td>NaN</td>\n",
       "      <td>NaN</td>\n",
       "      <td>NaN</td>\n",
       "      <td>NaN</td>\n",
       "      <td>Sharp</td>\n",
       "      <td>Sharp</td>\n",
       "      <td>Sharp</td>\n",
       "      <td>ND-224UC1</td>\n",
       "      <td>no match</td>\n",
       "      <td>no match</td>\n",
       "      <td>Multi-c-Si</td>\n",
       "      <td>NaN</td>\n",
       "      <td>NaN</td>\n",
       "      <td>False</td>\n",
       "      <td>False</td>\n",
       "      <td>False</td>\n",
       "      <td>0.142431</td>\n",
       "      <td>NaN</td>\n",
       "      <td>NaN</td>\n",
       "      <td>Enphase Energy</td>\n",
       "      <td>NaN</td>\n",
       "      <td>True</td>\n",
       "      <td>False</td>\n",
       "    </tr>\n",
       "    <tr>\n",
       "      <th>1</th>\n",
       "      <td>1</td>\n",
       "      <td>Arkansas State Energy Office</td>\n",
       "      <td>NaN</td>\n",
       "      <td>AR_EDC_2</td>\n",
       "      <td>2010-04-26</td>\n",
       "      <td>3.360</td>\n",
       "      <td>26096.0</td>\n",
       "      <td>False</td>\n",
       "      <td>851.271273</td>\n",
       "      <td>0.0</td>\n",
       "      <td>7210.50</td>\n",
       "      <td>1</td>\n",
       "      <td>0.0</td>\n",
       "      <td>0</td>\n",
       "      <td>RES</td>\n",
       "      <td>NaN</td>\n",
       "      <td>False</td>\n",
       "      <td>Fixed</td>\n",
       "      <td>False</td>\n",
       "      <td>NaN</td>\n",
       "      <td>72641.0</td>\n",
       "      <td>Jasper</td>\n",
       "      <td>Newton</td>\n",
       "      <td>AR</td>\n",
       "      <td>Carroll Electric</td>\n",
       "      <td>False</td>\n",
       "      <td>Liberty Solar Solutions</td>\n",
       "      <td>False</td>\n",
       "      <td>NaN</td>\n",
       "      <td>NaN</td>\n",
       "      <td>NaN</td>\n",
       "      <td>NaN</td>\n",
       "      <td>NaN</td>\n",
       "      <td>NaN</td>\n",
       "      <td>Sharp</td>\n",
       "      <td>Sharp</td>\n",
       "      <td>Sharp</td>\n",
       "      <td>ND-224UC1</td>\n",
       "      <td>no match</td>\n",
       "      <td>no match</td>\n",
       "      <td>Multi-c-Si</td>\n",
       "      <td>NaN</td>\n",
       "      <td>NaN</td>\n",
       "      <td>False</td>\n",
       "      <td>False</td>\n",
       "      <td>False</td>\n",
       "      <td>0.142431</td>\n",
       "      <td>NaN</td>\n",
       "      <td>NaN</td>\n",
       "      <td>Enphase Energy</td>\n",
       "      <td>NaN</td>\n",
       "      <td>True</td>\n",
       "      <td>False</td>\n",
       "    </tr>\n",
       "    <tr>\n",
       "      <th>2</th>\n",
       "      <td>2</td>\n",
       "      <td>Arkansas State Energy Office</td>\n",
       "      <td>NaN</td>\n",
       "      <td>AR_EDC_3</td>\n",
       "      <td>2010-04-20</td>\n",
       "      <td>13.440</td>\n",
       "      <td>91139.0</td>\n",
       "      <td>False</td>\n",
       "      <td>3405.085091</td>\n",
       "      <td>0.0</td>\n",
       "      <td>25178.97</td>\n",
       "      <td>1</td>\n",
       "      <td>0.0</td>\n",
       "      <td>0</td>\n",
       "      <td>RES</td>\n",
       "      <td>NaN</td>\n",
       "      <td>False</td>\n",
       "      <td>Fixed</td>\n",
       "      <td>False</td>\n",
       "      <td>NaN</td>\n",
       "      <td>71801.0</td>\n",
       "      <td>Hope</td>\n",
       "      <td>Hempstead</td>\n",
       "      <td>AR</td>\n",
       "      <td>Hope Water &amp; Light</td>\n",
       "      <td>False</td>\n",
       "      <td>Liberty Solar Solutions</td>\n",
       "      <td>False</td>\n",
       "      <td>NaN</td>\n",
       "      <td>NaN</td>\n",
       "      <td>NaN</td>\n",
       "      <td>NaN</td>\n",
       "      <td>NaN</td>\n",
       "      <td>NaN</td>\n",
       "      <td>Sharp</td>\n",
       "      <td>Sharp</td>\n",
       "      <td>Sharp</td>\n",
       "      <td>ND-224UC1</td>\n",
       "      <td>no match</td>\n",
       "      <td>no match</td>\n",
       "      <td>Multi-c-Si</td>\n",
       "      <td>NaN</td>\n",
       "      <td>NaN</td>\n",
       "      <td>False</td>\n",
       "      <td>False</td>\n",
       "      <td>False</td>\n",
       "      <td>0.142431</td>\n",
       "      <td>NaN</td>\n",
       "      <td>NaN</td>\n",
       "      <td>Enphase Energy</td>\n",
       "      <td>NaN</td>\n",
       "      <td>True</td>\n",
       "      <td>False</td>\n",
       "    </tr>\n",
       "    <tr>\n",
       "      <th>3</th>\n",
       "      <td>3</td>\n",
       "      <td>Arkansas State Energy Office</td>\n",
       "      <td>NaN</td>\n",
       "      <td>AR_EDC_4</td>\n",
       "      <td>2010-04-21</td>\n",
       "      <td>5.520</td>\n",
       "      <td>40043.0</td>\n",
       "      <td>False</td>\n",
       "      <td>1398.517091</td>\n",
       "      <td>0.0</td>\n",
       "      <td>10724.34</td>\n",
       "      <td>1</td>\n",
       "      <td>0.0</td>\n",
       "      <td>0</td>\n",
       "      <td>RES</td>\n",
       "      <td>NaN</td>\n",
       "      <td>False</td>\n",
       "      <td>Fixed</td>\n",
       "      <td>False</td>\n",
       "      <td>NaN</td>\n",
       "      <td>71909.0</td>\n",
       "      <td>Hot Springs Village</td>\n",
       "      <td>Saline</td>\n",
       "      <td>AR</td>\n",
       "      <td>First Electric</td>\n",
       "      <td>False</td>\n",
       "      <td>Liberty Solar Solutions</td>\n",
       "      <td>False</td>\n",
       "      <td>NaN</td>\n",
       "      <td>NaN</td>\n",
       "      <td>NaN</td>\n",
       "      <td>NaN</td>\n",
       "      <td>NaN</td>\n",
       "      <td>NaN</td>\n",
       "      <td>Sharp</td>\n",
       "      <td>Sharp</td>\n",
       "      <td>Sharp</td>\n",
       "      <td>NU-U230F3</td>\n",
       "      <td>no match</td>\n",
       "      <td>no match</td>\n",
       "      <td>Mono-c-Si</td>\n",
       "      <td>NaN</td>\n",
       "      <td>NaN</td>\n",
       "      <td>False</td>\n",
       "      <td>False</td>\n",
       "      <td>False</td>\n",
       "      <td>0.141090</td>\n",
       "      <td>NaN</td>\n",
       "      <td>NaN</td>\n",
       "      <td>Enphase Energy</td>\n",
       "      <td>NaN</td>\n",
       "      <td>True</td>\n",
       "      <td>False</td>\n",
       "    </tr>\n",
       "    <tr>\n",
       "      <th>4</th>\n",
       "      <td>4</td>\n",
       "      <td>Arkansas State Energy Office</td>\n",
       "      <td>NaN</td>\n",
       "      <td>AR_EDC_5</td>\n",
       "      <td>2010-04-22</td>\n",
       "      <td>2.530</td>\n",
       "      <td>21497.0</td>\n",
       "      <td>False</td>\n",
       "      <td>640.987000</td>\n",
       "      <td>0.0</td>\n",
       "      <td>3736.17</td>\n",
       "      <td>1</td>\n",
       "      <td>0.0</td>\n",
       "      <td>0</td>\n",
       "      <td>RES</td>\n",
       "      <td>NaN</td>\n",
       "      <td>False</td>\n",
       "      <td>Fixed</td>\n",
       "      <td>False</td>\n",
       "      <td>NaN</td>\n",
       "      <td>71909.0</td>\n",
       "      <td>Hot Springs Village</td>\n",
       "      <td>Garland</td>\n",
       "      <td>AR</td>\n",
       "      <td>Entergy</td>\n",
       "      <td>False</td>\n",
       "      <td>Liberty Solar Solutions</td>\n",
       "      <td>False</td>\n",
       "      <td>NaN</td>\n",
       "      <td>NaN</td>\n",
       "      <td>NaN</td>\n",
       "      <td>NaN</td>\n",
       "      <td>NaN</td>\n",
       "      <td>NaN</td>\n",
       "      <td>Sharp</td>\n",
       "      <td>Sharp</td>\n",
       "      <td>Sharp</td>\n",
       "      <td>NU-U230F3</td>\n",
       "      <td>no match</td>\n",
       "      <td>no match</td>\n",
       "      <td>Mono-c-Si</td>\n",
       "      <td>NaN</td>\n",
       "      <td>NaN</td>\n",
       "      <td>False</td>\n",
       "      <td>False</td>\n",
       "      <td>False</td>\n",
       "      <td>0.141090</td>\n",
       "      <td>NaN</td>\n",
       "      <td>NaN</td>\n",
       "      <td>Enphase Energy</td>\n",
       "      <td>NaN</td>\n",
       "      <td>True</td>\n",
       "      <td>False</td>\n",
       "    </tr>\n",
       "  </tbody>\n",
       "</table>\n",
       "</div>"
      ],
      "text/plain": [
       "        index                 Data Provider System ID (from Data Provider)  \\\n",
       "row_id                                                                       \n",
       "0           0  Arkansas State Energy Office                            NaN   \n",
       "1           1  Arkansas State Energy Office                            NaN   \n",
       "2           2  Arkansas State Energy Office                            NaN   \n",
       "3           3  Arkansas State Energy Office                            NaN   \n",
       "4           4  Arkansas State Energy Office                            NaN   \n",
       "\n",
       "       System ID (Tracking the Sun) Installation Date  System Size  \\\n",
       "row_id                                                               \n",
       "0                          AR_EDC_1        2010-04-29        2.016   \n",
       "1                          AR_EDC_2        2010-04-26        3.360   \n",
       "2                          AR_EDC_3        2010-04-20       13.440   \n",
       "3                          AR_EDC_4        2010-04-21        5.520   \n",
       "4                          AR_EDC_5        2010-04-22        2.530   \n",
       "\n",
       "        Total Installed Price  Appraised Value Flag  Sales Tax Cost  \\\n",
       "row_id                                                                \n",
       "0                     14558.0                 False      510.762764   \n",
       "1                     26096.0                 False      851.271273   \n",
       "2                     91139.0                 False     3405.085091   \n",
       "3                     40043.0                 False     1398.517091   \n",
       "4                     21497.0                 False      640.987000   \n",
       "\n",
       "        Rebate or Grant  Performance-Based Incentive (Annual Payment)  \\\n",
       "row_id                                                                  \n",
       "0                   0.0                                       3644.64   \n",
       "1                   0.0                                       7210.50   \n",
       "2                   0.0                                      25178.97   \n",
       "3                   0.0                                      10724.34   \n",
       "4                   0.0                                       3736.17   \n",
       "\n",
       "        Performance-Based Incentives (Duration)  \\\n",
       "row_id                                            \n",
       "0                                             1   \n",
       "1                                             1   \n",
       "2                                             1   \n",
       "3                                             1   \n",
       "4                                             1   \n",
       "\n",
       "        Feed-in Tariff (Annual Payment)  Feed-in Tariff (Duration)  \\\n",
       "row_id                                                               \n",
       "0                                   0.0                          0   \n",
       "1                                   0.0                          0   \n",
       "2                                   0.0                          0   \n",
       "3                                   0.0                          0   \n",
       "4                                   0.0                          0   \n",
       "\n",
       "       Customer Segment New Construction Tracking Tracking Type  \\\n",
       "row_id                                                            \n",
       "0                   RES              NaN    False         Fixed   \n",
       "1                   RES              NaN    False         Fixed   \n",
       "2                   RES              NaN    False         Fixed   \n",
       "3                   RES              NaN    False         Fixed   \n",
       "4                   RES              NaN    False         Fixed   \n",
       "\n",
       "       Ground Mounted Battery System  Zip Code                 City  \\\n",
       "row_id                                                                \n",
       "0               False            NaN   71953.0                 Mena   \n",
       "1               False            NaN   72641.0               Jasper   \n",
       "2               False            NaN   71801.0                 Hope   \n",
       "3               False            NaN   71909.0  Hot Springs Village   \n",
       "4               False            NaN   71909.0  Hot Springs Village   \n",
       "\n",
       "           County State Utility Service Territory Third-Party Owned  \\\n",
       "row_id                                                                \n",
       "0            Polk    AR                    SWEPCO             False   \n",
       "1          Newton    AR          Carroll Electric             False   \n",
       "2       Hempstead    AR        Hope Water & Light             False   \n",
       "3          Saline    AR            First Electric             False   \n",
       "4         Garland    AR                   Entergy             False   \n",
       "\n",
       "                 Installer Name Self-Installed  Azimuth #1  Azimuth #2  \\\n",
       "row_id                                                                   \n",
       "0       Liberty Solar Solutions          False         NaN         NaN   \n",
       "1       Liberty Solar Solutions          False         NaN         NaN   \n",
       "2       Liberty Solar Solutions          False         NaN         NaN   \n",
       "3       Liberty Solar Solutions          False         NaN         NaN   \n",
       "4       Liberty Solar Solutions          False         NaN         NaN   \n",
       "\n",
       "        Azimuth #3  Tilt #1  Tilt #2  Tilt #3 Module Manufacturer #1  \\\n",
       "row_id                                                                 \n",
       "0              NaN      NaN      NaN      NaN                  Sharp   \n",
       "1              NaN      NaN      NaN      NaN                  Sharp   \n",
       "2              NaN      NaN      NaN      NaN                  Sharp   \n",
       "3              NaN      NaN      NaN      NaN                  Sharp   \n",
       "4              NaN      NaN      NaN      NaN                  Sharp   \n",
       "\n",
       "       Module Manufacturer #2 Module Manufacturer #3 Module Model #1  \\\n",
       "row_id                                                                 \n",
       "0                       Sharp                  Sharp       ND-224UC1   \n",
       "1                       Sharp                  Sharp       ND-224UC1   \n",
       "2                       Sharp                  Sharp       ND-224UC1   \n",
       "3                       Sharp                  Sharp       NU-U230F3   \n",
       "4                       Sharp                  Sharp       NU-U230F3   \n",
       "\n",
       "       Module Model #2 Module Model #3 Module Technology #1  \\\n",
       "row_id                                                        \n",
       "0             no match        no match           Multi-c-Si   \n",
       "1             no match        no match           Multi-c-Si   \n",
       "2             no match        no match           Multi-c-Si   \n",
       "3             no match        no match            Mono-c-Si   \n",
       "4             no match        no match            Mono-c-Si   \n",
       "\n",
       "       Module Technology #2 Module Technology #3 BIPV Module #1  \\\n",
       "row_id                                                            \n",
       "0                       NaN                  NaN          False   \n",
       "1                       NaN                  NaN          False   \n",
       "2                       NaN                  NaN          False   \n",
       "3                       NaN                  NaN          False   \n",
       "4                       NaN                  NaN          False   \n",
       "\n",
       "       BIPV Module #2 BIPV Module #3  Module Efficiency #1  \\\n",
       "row_id                                                       \n",
       "0               False          False              0.142431   \n",
       "1               False          False              0.142431   \n",
       "2               False          False              0.142431   \n",
       "3               False          False              0.141090   \n",
       "4               False          False              0.141090   \n",
       "\n",
       "        Module Efficiency #2  Module Efficiency #3 Inverter Manufacturer  \\\n",
       "row_id                                                                     \n",
       "0                        NaN                   NaN        Enphase Energy   \n",
       "1                        NaN                   NaN        Enphase Energy   \n",
       "2                        NaN                   NaN        Enphase Energy   \n",
       "3                        NaN                   NaN        Enphase Energy   \n",
       "4                        NaN                   NaN        Enphase Energy   \n",
       "\n",
       "       Inverter Model Microinverter DC Optimizer  \n",
       "row_id                                            \n",
       "0                 NaN          True        False  \n",
       "1                 NaN          True        False  \n",
       "2                 NaN          True        False  \n",
       "3                 NaN          True        False  \n",
       "4                 NaN          True        False  "
      ]
     },
     "execution_count": 10,
     "metadata": {},
     "output_type": "execute_result"
    }
   ],
   "source": [
    "dfmini = pd.read_csv('../local/data/LBNL_openpv_tts_data/TTS.csv',\n",
    "                     index_col='row_id',\n",
    "                     parse_dates=['Installation Date'],\n",
    "                     converters=myConverters,\n",
    "                     # converters=None, \n",
    "                     # low_memory=False,\n",
    "                     # dtype={'Third-Party Owned' : np.bool},\n",
    "                     na_values=[-9999],\n",
    "                     nrows = 100000\n",
    "                    ); dfmini.head()"
   ]
  },
  {
   "cell_type": "code",
   "execution_count": 13,
   "metadata": {},
   "outputs": [
    {
     "name": "stdout",
     "output_type": "stream",
     "text": [
      "False    67121\n",
      "True      3019\n",
      "Name: New Construction, dtype: int64\n",
      "False    5048\n",
      "True        8\n",
      "Name: Tracking, dtype: int64\n",
      "False    647\n",
      "True      31\n",
      "Name: Ground Mounted, dtype: int64\n",
      "False    72745\n",
      "True       128\n",
      "Name: Battery System, dtype: int64\n",
      "True     49897\n",
      "False    26101\n",
      "Name: Third-Party Owned, dtype: int64\n",
      "False    39840\n",
      "True       362\n",
      "Name: Self-Installed, dtype: int64\n",
      "False    67707\n",
      "True       566\n",
      "Name: BIPV Module #1, dtype: int64\n",
      "False    67707\n",
      "True       566\n",
      "Name: BIPV Module #2, dtype: int64\n",
      "False    67707\n",
      "True       566\n",
      "Name: BIPV Module #3, dtype: int64\n",
      "False    18279\n",
      "True      3143\n",
      "Name: Microinverter, dtype: int64\n",
      "False    21001\n",
      "True       742\n",
      "Name: DC Optimizer, dtype: int64\n"
     ]
    }
   ],
   "source": [
    "for col in ['New Construction', 'Tracking', 'Ground Mounted', \n",
    "            'Battery System', 'Third-Party Owned', 'Self-Installed', 'BIPV Module #1', \n",
    "`           'BIPV Module #2', 'BIPV Module #3', 'Microinverter', 'DC Optimizer']:\n",
    "    print(dfmini[col].value_counts())"
   ]
  },
  {
   "cell_type": "code",
   "execution_count": 15,
   "metadata": {},
   "outputs": [
    {
     "name": "stdout",
     "output_type": "stream",
     "text": [
      "<class 'pandas.core.frame.DataFrame'>\n",
      "Int64Index: 100000 entries, 0 to 99999\n",
      "Data columns (total 1 columns):\n",
      "DC Optimizer    21743 non-null object\n",
      "dtypes: object(1)\n",
      "memory usage: 4.0+ MB\n"
     ]
    }
   ],
   "source": [
    "dfmini[['DC Optimizer']].info()"
   ]
  },
  {
   "cell_type": "markdown",
   "metadata": {},
   "source": [
    "##### Looks like this is working.  Just True, False and NaN"
   ]
  },
  {
   "cell_type": "code",
   "execution_count": 16,
   "metadata": {
    "collapsed": true
   },
   "outputs": [],
   "source": [
    "dfmini.to_csv('foob.csv')"
   ]
  },
  {
   "cell_type": "code",
   "execution_count": 28,
   "metadata": {},
   "outputs": [
    {
     "name": "stderr",
     "output_type": "stream",
     "text": [
      "C:\\Users\\saus\\Anaconda3\\lib\\site-packages\\IPython\\core\\interactiveshell.py:2698: DtypeWarning: Columns (16,17,18,19,20,23,26,28,42,43,50,51,52) have mixed types. Specify dtype option on import or set low_memory=False.\n",
      "  interactivity=interactivity, compiler=compiler, result=result)\n"
     ]
    }
   ],
   "source": [
    "dphlegm = pd.read_csv('foob.csv', index_col='row_id', dtype={'DC Optimizer' : np.bool})"
   ]
  },
  {
   "cell_type": "code",
   "execution_count": 30,
   "metadata": {},
   "outputs": [
    {
     "data": {
      "text/plain": [
       "float"
      ]
     },
     "execution_count": 30,
     "metadata": {},
     "output_type": "execute_result"
    }
   ],
   "source": [
    "# this is my problem.  NaN is a float, so the column has mixed type and dtype doesn't really work then\n",
    "# because mixed type means object...\n",
    "type(np.nan)"
   ]
  },
  {
   "cell_type": "code",
   "execution_count": 34,
   "metadata": {},
   "outputs": [
    {
     "data": {
      "text/plain": [
       "107"
      ]
     },
     "execution_count": 34,
     "metadata": {},
     "output_type": "execute_result"
    }
   ],
   "source": [
    "dfmini['Zip Code'].isnull().sum()"
   ]
  },
  {
   "cell_type": "code",
   "execution_count": 37,
   "metadata": {
    "collapsed": true
   },
   "outputs": [],
   "source": [
    "def fzipToStr(z):\n",
    "    if pd.isnull(z):\n",
    "        return np.nan\n",
    "    else:\n",
    "        return '{:05d}'.format(int(z))"
   ]
  },
  {
   "cell_type": "code",
   "execution_count": null,
   "metadata": {
    "collapsed": true
   },
   "outputs": [],
   "source": []
  },
  {
   "cell_type": "code",
   "execution_count": 36,
   "metadata": {},
   "outputs": [
    {
     "data": {
      "text/plain": [
       "True"
      ]
     },
     "execution_count": 36,
     "metadata": {},
     "output_type": "execute_result"
    }
   ],
   "source": [
    "pd.isnull(np.nan)"
   ]
  },
  {
   "cell_type": "code",
   "execution_count": 38,
   "metadata": {},
   "outputs": [
    {
     "data": {
      "text/plain": [
       "row_id\n",
       "0    71953\n",
       "1    72641\n",
       "2    71801\n",
       "3    71909\n",
       "4    71909\n",
       "Name: Zip Code, dtype: object"
      ]
     },
     "execution_count": 38,
     "metadata": {},
     "output_type": "execute_result"
    }
   ],
   "source": [
    "zipcode = dfmini['Zip Code'].apply(fzipToStr); zipcode.head()"
   ]
  },
  {
   "cell_type": "code",
   "execution_count": 40,
   "metadata": {},
   "outputs": [
    {
     "data": {
      "text/plain": [
       "row_id\n",
       "21    71640\n",
       "71    71667\n",
       "75    71730\n",
       "2     71801\n",
       "97    71852\n",
       "Name: Zip Code, dtype: object"
      ]
     },
     "execution_count": 40,
     "metadata": {},
     "output_type": "execute_result"
    }
   ],
   "source": [
    "zipcode.sort_values().head()"
   ]
  },
  {
   "cell_type": "code",
   "execution_count": 42,
   "metadata": {},
   "outputs": [
    {
     "data": {
      "text/plain": [
       "row_id\n",
       "91816    96067\n",
       "91926    96067\n",
       "91813    96067\n",
       "91925    96067\n",
       "91824    96067\n",
       "91917    96067\n",
       "91829    96067\n",
       "96798    96073\n",
       "98642    96073\n",
       "96590    96080\n",
       "96911    96080\n",
       "98387    96080\n",
       "98455    96087\n",
       "99372    96087\n",
       "97135    96088\n",
       "91901    96094\n",
       "91922    96094\n",
       "91974    96094\n",
       "91978    96094\n",
       "91939    96094\n",
       "91900    96094\n",
       "91919    96094\n",
       "91858    96094\n",
       "91995    96094\n",
       "91905    96094\n",
       "92006    96094\n",
       "91849    96094\n",
       "91843    96094\n",
       "91863    96094\n",
       "91996    96094\n",
       "         ...  \n",
       "93851      NaN\n",
       "93924      NaN\n",
       "94049      NaN\n",
       "94161      NaN\n",
       "94325      NaN\n",
       "94407      NaN\n",
       "94494      NaN\n",
       "94498      NaN\n",
       "94703      NaN\n",
       "94715      NaN\n",
       "94761      NaN\n",
       "94771      NaN\n",
       "94885      NaN\n",
       "94906      NaN\n",
       "95112      NaN\n",
       "95238      NaN\n",
       "95330      NaN\n",
       "95393      NaN\n",
       "95395      NaN\n",
       "95478      NaN\n",
       "95729      NaN\n",
       "95836      NaN\n",
       "95890      NaN\n",
       "95892      NaN\n",
       "95916      NaN\n",
       "95986      NaN\n",
       "95994      NaN\n",
       "96011      NaN\n",
       "96063      NaN\n",
       "96081      NaN\n",
       "Name: Zip Code, Length: 200, dtype: object"
      ]
     },
     "execution_count": 42,
     "metadata": {},
     "output_type": "execute_result"
    }
   ],
   "source": [
    "zipcode.sort_values().tail(200)"
   ]
  },
  {
   "cell_type": "code",
   "execution_count": 29,
   "metadata": {},
   "outputs": [
    {
     "data": {
      "text/plain": [
       "index                                             int64\n",
       "Data Provider                                    object\n",
       "System ID (from Data Provider)                   object\n",
       "System ID (Tracking the Sun)                     object\n",
       "Installation Date                                object\n",
       "System Size                                     float64\n",
       "Total Installed Price                           float64\n",
       "Appraised Value Flag                               bool\n",
       "Sales Tax Cost                                  float64\n",
       "Rebate or Grant                                 float64\n",
       "Performance-Based Incentive (Annual Payment)    float64\n",
       "Performance-Based Incentives (Duration)           int64\n",
       "Feed-in Tariff (Annual Payment)                 float64\n",
       "Feed-in Tariff (Duration)                         int64\n",
       "Customer Segment                                 object\n",
       "New Construction                                 object\n",
       "Tracking                                         object\n",
       "Tracking Type                                    object\n",
       "Ground Mounted                                   object\n",
       "Battery System                                   object\n",
       "Zip Code                                        float64\n",
       "City                                             object\n",
       "County                                           object\n",
       "State                                            object\n",
       "Utility Service Territory                        object\n",
       "Third-Party Owned                                object\n",
       "Installer Name                                   object\n",
       "Self-Installed                                   object\n",
       "Azimuth #1                                      float64\n",
       "Azimuth #2                                      float64\n",
       "Azimuth #3                                      float64\n",
       "Tilt #1                                         float64\n",
       "Tilt #2                                         float64\n",
       "Tilt #3                                         float64\n",
       "Module Manufacturer #1                           object\n",
       "Module Manufacturer #2                           object\n",
       "Module Manufacturer #3                           object\n",
       "Module Model #1                                  object\n",
       "Module Model #2                                  object\n",
       "Module Model #3                                  object\n",
       "Module Technology #1                             object\n",
       "Module Technology #2                             object\n",
       "Module Technology #3                             object\n",
       "BIPV Module #1                                   object\n",
       "BIPV Module #2                                   object\n",
       "BIPV Module #3                                   object\n",
       "Module Efficiency #1                            float64\n",
       "Module Efficiency #2                            float64\n",
       "Module Efficiency #3                            float64\n",
       "Inverter Manufacturer                            object\n",
       "Inverter Model                                   object\n",
       "Microinverter                                    object\n",
       "DC Optimizer                                     object\n",
       "dtype: object"
      ]
     },
     "execution_count": 29,
     "metadata": {},
     "output_type": "execute_result"
    }
   ],
   "source": [
    "dphlegm.dtypes"
   ]
  },
  {
   "cell_type": "code",
   "execution_count": 21,
   "metadata": {},
   "outputs": [
    {
     "data": {
      "text/plain": [
       "False    21001\n",
       "True       742\n",
       "Name: DC Optimizer, dtype: int64"
      ]
     },
     "execution_count": 21,
     "metadata": {},
     "output_type": "execute_result"
    }
   ],
   "source": [
    "dphlegm['DC Optimizer'].value_counts()"
   ]
  },
  {
   "cell_type": "code",
   "execution_count": 22,
   "metadata": {
    "collapsed": true
   },
   "outputs": [],
   "source": [
    "thing = dphlegm['DC Optimizer'].astype(np.bool)"
   ]
  },
  {
   "cell_type": "code",
   "execution_count": 26,
   "metadata": {},
   "outputs": [
    {
     "data": {
      "text/plain": [
       "dtype('bool')"
      ]
     },
     "execution_count": 26,
     "metadata": {},
     "output_type": "execute_result"
    }
   ],
   "source": [
    "thing.dtype"
   ]
  },
  {
   "cell_type": "code",
   "execution_count": 27,
   "metadata": {},
   "outputs": [
    {
     "data": {
      "text/plain": [
       "pandas.core.series.Series"
      ]
     },
     "execution_count": 27,
     "metadata": {},
     "output_type": "execute_result"
    }
   ],
   "source": [
    "type(thing)"
   ]
  },
  {
   "cell_type": "code",
   "execution_count": 43,
   "metadata": {},
   "outputs": [
    {
     "data": {
      "text/plain": [
       "27930.0"
      ]
     },
     "execution_count": 43,
     "metadata": {},
     "output_type": "execute_result"
    }
   ],
   "source": [
    "2.793000e+04"
   ]
  },
  {
   "cell_type": "code",
   "execution_count": 44,
   "metadata": {
    "scrolled": true
   },
   "outputs": [
    {
     "data": {
      "text/plain": [
       "5.836735"
      ]
     },
     "execution_count": 44,
     "metadata": {},
     "output_type": "execute_result"
    }
   ],
   "source": [
    "5.836735e+00"
   ]
  },
  {
   "cell_type": "code",
   "execution_count": 3,
   "metadata": {},
   "outputs": [],
   "source": [
    "df = pd.DataFrame([[np.nan, 2, np.nan, 0], [3, 4, np.nan, 1],\n",
    "                  [np.nan, np.nan, np.nan, 5]],\n",
    "                  columns=list('ABCD'))"
   ]
  },
  {
   "cell_type": "code",
   "execution_count": 4,
   "metadata": {},
   "outputs": [
    {
     "data": {
      "text/html": [
       "<div>\n",
       "<style>\n",
       "    .dataframe thead tr:only-child th {\n",
       "        text-align: right;\n",
       "    }\n",
       "\n",
       "    .dataframe thead th {\n",
       "        text-align: left;\n",
       "    }\n",
       "\n",
       "    .dataframe tbody tr th {\n",
       "        vertical-align: top;\n",
       "    }\n",
       "</style>\n",
       "<table border=\"1\" class=\"dataframe\">\n",
       "  <thead>\n",
       "    <tr style=\"text-align: right;\">\n",
       "      <th></th>\n",
       "      <th>A</th>\n",
       "      <th>B</th>\n",
       "      <th>C</th>\n",
       "      <th>D</th>\n",
       "    </tr>\n",
       "  </thead>\n",
       "  <tbody>\n",
       "    <tr>\n",
       "      <th>0</th>\n",
       "      <td>NaN</td>\n",
       "      <td>2.0</td>\n",
       "      <td>NaN</td>\n",
       "      <td>0</td>\n",
       "    </tr>\n",
       "    <tr>\n",
       "      <th>1</th>\n",
       "      <td>3.0</td>\n",
       "      <td>4.0</td>\n",
       "      <td>NaN</td>\n",
       "      <td>1</td>\n",
       "    </tr>\n",
       "    <tr>\n",
       "      <th>2</th>\n",
       "      <td>NaN</td>\n",
       "      <td>NaN</td>\n",
       "      <td>NaN</td>\n",
       "      <td>5</td>\n",
       "    </tr>\n",
       "  </tbody>\n",
       "</table>\n",
       "</div>"
      ],
      "text/plain": [
       "     A    B   C  D\n",
       "0  NaN  2.0 NaN  0\n",
       "1  3.0  4.0 NaN  1\n",
       "2  NaN  NaN NaN  5"
      ]
     },
     "execution_count": 4,
     "metadata": {},
     "output_type": "execute_result"
    }
   ],
   "source": [
    "df"
   ]
  },
  {
   "cell_type": "code",
   "execution_count": 9,
   "metadata": {},
   "outputs": [
    {
     "data": {
      "text/html": [
       "<div>\n",
       "<style>\n",
       "    .dataframe thead tr:only-child th {\n",
       "        text-align: right;\n",
       "    }\n",
       "\n",
       "    .dataframe thead th {\n",
       "        text-align: left;\n",
       "    }\n",
       "\n",
       "    .dataframe tbody tr th {\n",
       "        vertical-align: top;\n",
       "    }\n",
       "</style>\n",
       "<table border=\"1\" class=\"dataframe\">\n",
       "  <thead>\n",
       "    <tr style=\"text-align: right;\">\n",
       "      <th></th>\n",
       "      <th>A</th>\n",
       "      <th>B</th>\n",
       "      <th>C</th>\n",
       "      <th>D</th>\n",
       "    </tr>\n",
       "  </thead>\n",
       "  <tbody>\n",
       "    <tr>\n",
       "      <th>0</th>\n",
       "      <td>NaN</td>\n",
       "      <td>2.0</td>\n",
       "      <td>NaN</td>\n",
       "      <td>0</td>\n",
       "    </tr>\n",
       "    <tr>\n",
       "      <th>1</th>\n",
       "      <td>3.0</td>\n",
       "      <td>4.0</td>\n",
       "      <td>NaN</td>\n",
       "      <td>1</td>\n",
       "    </tr>\n",
       "  </tbody>\n",
       "</table>\n",
       "</div>"
      ],
      "text/plain": [
       "     A    B   C  D\n",
       "0  NaN  2.0 NaN  0\n",
       "1  3.0  4.0 NaN  1"
      ]
     },
     "execution_count": 9,
     "metadata": {},
     "output_type": "execute_result"
    }
   ],
   "source": [
    "df.dropna(axis=0, subset=['B'])"
   ]
  },
  {
   "cell_type": "code",
   "execution_count": null,
   "metadata": {},
   "outputs": [],
   "source": []
  },
  {
   "cell_type": "markdown",
   "metadata": {},
   "source": [
    "This is a sample invocation using and enhancing subplots - might be handy to keep around\n",
    "\n",
    "Using axes objects is a great approach for this. It helps if you want to interact with multiple figures and sub-plots. To add and manipulate the axes objects directly:\n",
    "```\n",
    "fig = pylab.figure(figsize=(12,9))\n",
    "\n",
    "signal_axes = fig.add_subplot(211)\n",
    "signal_axes.plot(xs,rawsignal)\n",
    "\n",
    "fft_axes = fig.add_subplot(212)\n",
    "fft_axes.set_title(\"FFT\")\n",
    "fft_axes.set_autoscaley_on(False)\n",
    "fft_axes.set_ylim([0,1000])\n",
    "fft = scipy.fft(rawsignal)\n",
    "fft_axes.plot(abs(fft))\n",
    "```\n"
   ]
  }
 ],
 "metadata": {
  "kernelspec": {
   "display_name": "Python 3",
   "language": "python",
   "name": "python3"
  },
  "language_info": {
   "codemirror_mode": {
    "name": "ipython",
    "version": 3
   },
   "file_extension": ".py",
   "mimetype": "text/x-python",
   "name": "python",
   "nbconvert_exporter": "python",
   "pygments_lexer": "ipython3",
   "version": "3.6.3"
  }
 },
 "nbformat": 4,
 "nbformat_minor": 2
}
