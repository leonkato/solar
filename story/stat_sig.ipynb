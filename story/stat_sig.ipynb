{
 "cells": [
  {
   "cell_type": "markdown",
   "metadata": {},
   "source": [
    "### Statistical significance of the relationships between cost and size and cost and time\n",
    "\n",
    "The previous notebook explored the relationships between installation date  and cost/watt and installation size and cost/watt.\n",
    "Here we examine the statistical significance of those relationships."
   ]
  },
  {
   "cell_type": "code",
   "execution_count": 1,
   "metadata": {},
   "outputs": [],
   "source": [
    "# set up\n",
    "%matplotlib inline\n",
    "import numpy as np\n",
    "import pandas as pd\n",
    "import matplotlib.pyplot as plt\n",
    "\n",
    "plt.rc('figure', figsize=(10, 8))\n",
    "np.set_printoptions(precision=8, suppress=False)\n",
    "# please show all columns\n",
    "pd.set_option(\"display.max_columns\", 60)\n",
    "import seaborn as sns\n",
    "sns.set()"
   ]
  },
  {
   "cell_type": "code",
   "execution_count": 2,
   "metadata": {},
   "outputs": [],
   "source": [
    "# read cleaned data\n",
    "dftts = pd.read_csv('../local/data/LBNL_openpv_tts_data/ttsclean20180127.csv',\n",
    "                    encoding='iso-8859-1', # avoids windows encoding issue\n",
    "                    index_col='row_id',\n",
    "                    parse_dates=['install_date'],\n",
    "                    dtype={'zipcode' : np.object})"
   ]
  },
  {
   "cell_type": "markdown",
   "metadata": {},
   "source": [
    "##### Convert the date to number of months since data begins"
   ]
  },
  {
   "cell_type": "code",
   "execution_count": 3,
   "metadata": {},
   "outputs": [],
   "source": [
    "# capture the installation month for each row\n",
    "month = dftts.install_date.apply(lambda x: x.to_period('M'))\n",
    "\n",
    "# save in a new column\n",
    "dftts = dftts.assign(install_month=month)\n",
    "\n",
    "# the first installation date\n",
    "month0 = dftts.install_month.values[0]\n",
    "\n",
    "# convert to number of months since epoch\n",
    "nMonths = (dftts.install_month - (month0)).astype(np.float)\n",
    "\n",
    "dftts = dftts.assign(nMonths=nMonths)"
   ]
  },
  {
   "cell_type": "markdown",
   "metadata": {},
   "source": [
    "##### Or number of days since data begins"
   ]
  },
  {
   "cell_type": "code",
   "execution_count": 4,
   "metadata": {},
   "outputs": [],
   "source": [
    "# capture the installation day for each row\n",
    "day = dftts.install_date.apply(lambda x: x.to_period('D'))\n",
    "\n",
    "# save in a new column\n",
    "dftts = dftts.assign(install_day=day)\n",
    "\n",
    "# the first installation date\n",
    "day0 = dftts.install_day.values[0]\n",
    "\n",
    "# convert to number of months since epoch\n",
    "nDays = (dftts.install_day - (day0)).astype(np.float)\n",
    "\n",
    "dftts = dftts.assign(nDays=nDays)"
   ]
  },
  {
   "cell_type": "code",
   "execution_count": 5,
   "metadata": {
    "scrolled": true
   },
   "outputs": [
    {
     "data": {
      "text/html": [
       "<div>\n",
       "<style scoped>\n",
       "    .dataframe tbody tr th:only-of-type {\n",
       "        vertical-align: middle;\n",
       "    }\n",
       "\n",
       "    .dataframe tbody tr th {\n",
       "        vertical-align: top;\n",
       "    }\n",
       "\n",
       "    .dataframe thead th {\n",
       "        text-align: right;\n",
       "    }\n",
       "</style>\n",
       "<table border=\"1\" class=\"dataframe\">\n",
       "  <thead>\n",
       "    <tr style=\"text-align: right;\">\n",
       "      <th></th>\n",
       "      <th>file_row</th>\n",
       "      <th>data_provider</th>\n",
       "      <th>sysid_dp</th>\n",
       "      <th>sysid_tts</th>\n",
       "      <th>install_date</th>\n",
       "      <th>size_kw</th>\n",
       "      <th>price</th>\n",
       "      <th>appraised_value</th>\n",
       "      <th>cust_type</th>\n",
       "      <th>new_const</th>\n",
       "      <th>tracking</th>\n",
       "      <th>ground_mounted</th>\n",
       "      <th>battery</th>\n",
       "      <th>zipcode</th>\n",
       "      <th>city</th>\n",
       "      <th>county</th>\n",
       "      <th>state</th>\n",
       "      <th>third-party</th>\n",
       "      <th>uinverter</th>\n",
       "      <th>dc_optimizer</th>\n",
       "      <th>cost_per_watt</th>\n",
       "      <th>num_days</th>\n",
       "      <th>install_month</th>\n",
       "      <th>nMonths</th>\n",
       "      <th>install_day</th>\n",
       "      <th>nDays</th>\n",
       "    </tr>\n",
       "    <tr>\n",
       "      <th>row_id</th>\n",
       "      <th></th>\n",
       "      <th></th>\n",
       "      <th></th>\n",
       "      <th></th>\n",
       "      <th></th>\n",
       "      <th></th>\n",
       "      <th></th>\n",
       "      <th></th>\n",
       "      <th></th>\n",
       "      <th></th>\n",
       "      <th></th>\n",
       "      <th></th>\n",
       "      <th></th>\n",
       "      <th></th>\n",
       "      <th></th>\n",
       "      <th></th>\n",
       "      <th></th>\n",
       "      <th></th>\n",
       "      <th></th>\n",
       "      <th></th>\n",
       "      <th></th>\n",
       "      <th></th>\n",
       "      <th></th>\n",
       "      <th></th>\n",
       "      <th></th>\n",
       "      <th></th>\n",
       "    </tr>\n",
       "  </thead>\n",
       "  <tbody>\n",
       "    <tr>\n",
       "      <th>1</th>\n",
       "      <td>10108220</td>\n",
       "      <td>California Public Utilities Commission (Curren...</td>\n",
       "      <td>PGE-INT-11328 &amp; CA_ERP_24698</td>\n",
       "      <td>CA-NEM-12257</td>\n",
       "      <td>1998-01-09</td>\n",
       "      <td>2.2824</td>\n",
       "      <td>24500.00</td>\n",
       "      <td>False</td>\n",
       "      <td>RES</td>\n",
       "      <td>False</td>\n",
       "      <td>False</td>\n",
       "      <td>False</td>\n",
       "      <td>False</td>\n",
       "      <td>94107.0</td>\n",
       "      <td>San Francisco</td>\n",
       "      <td>San Francisco</td>\n",
       "      <td>CA</td>\n",
       "      <td>False</td>\n",
       "      <td>False</td>\n",
       "      <td>False</td>\n",
       "      <td>10.734315</td>\n",
       "      <td>0</td>\n",
       "      <td>1998-01</td>\n",
       "      <td>0.0</td>\n",
       "      <td>1998-01-09</td>\n",
       "      <td>0.0</td>\n",
       "    </tr>\n",
       "    <tr>\n",
       "      <th>2</th>\n",
       "      <td>10107162</td>\n",
       "      <td>California Public Utilities Commission (Curren...</td>\n",
       "      <td>PGE-INT-11220 &amp; CA_ERP_24687</td>\n",
       "      <td>CA-NEM-11180</td>\n",
       "      <td>1998-01-30</td>\n",
       "      <td>1.8504</td>\n",
       "      <td>20555.54</td>\n",
       "      <td>False</td>\n",
       "      <td>RES</td>\n",
       "      <td>False</td>\n",
       "      <td>False</td>\n",
       "      <td>False</td>\n",
       "      <td>False</td>\n",
       "      <td>95949.0</td>\n",
       "      <td>Nevada City</td>\n",
       "      <td>Nevada</td>\n",
       "      <td>CA</td>\n",
       "      <td>False</td>\n",
       "      <td>False</td>\n",
       "      <td>False</td>\n",
       "      <td>11.108701</td>\n",
       "      <td>21</td>\n",
       "      <td>1998-01</td>\n",
       "      <td>0.0</td>\n",
       "      <td>1998-01-30</td>\n",
       "      <td>21.0</td>\n",
       "    </tr>\n",
       "    <tr>\n",
       "      <th>4</th>\n",
       "      <td>10107618</td>\n",
       "      <td>California Public Utilities Commission (Curren...</td>\n",
       "      <td>PGE-INT-11268 &amp; CA_ERP_24540</td>\n",
       "      <td>CA-NEM-11641</td>\n",
       "      <td>1998-02-04</td>\n",
       "      <td>2.3076</td>\n",
       "      <td>20000.00</td>\n",
       "      <td>False</td>\n",
       "      <td>RES</td>\n",
       "      <td>False</td>\n",
       "      <td>False</td>\n",
       "      <td>False</td>\n",
       "      <td>False</td>\n",
       "      <td>94518.0</td>\n",
       "      <td>Concord</td>\n",
       "      <td>Contra Costa</td>\n",
       "      <td>CA</td>\n",
       "      <td>False</td>\n",
       "      <td>False</td>\n",
       "      <td>False</td>\n",
       "      <td>8.667013</td>\n",
       "      <td>26</td>\n",
       "      <td>1998-02</td>\n",
       "      <td>1.0</td>\n",
       "      <td>1998-02-04</td>\n",
       "      <td>26.0</td>\n",
       "    </tr>\n",
       "  </tbody>\n",
       "</table>\n",
       "</div>"
      ],
      "text/plain": [
       "        file_row                                      data_provider  \\\n",
       "row_id                                                                \n",
       "1       10108220  California Public Utilities Commission (Curren...   \n",
       "2       10107162  California Public Utilities Commission (Curren...   \n",
       "4       10107618  California Public Utilities Commission (Curren...   \n",
       "\n",
       "                            sysid_dp     sysid_tts install_date  size_kw  \\\n",
       "row_id                                                                     \n",
       "1       PGE-INT-11328 & CA_ERP_24698  CA-NEM-12257   1998-01-09   2.2824   \n",
       "2       PGE-INT-11220 & CA_ERP_24687  CA-NEM-11180   1998-01-30   1.8504   \n",
       "4       PGE-INT-11268 & CA_ERP_24540  CA-NEM-11641   1998-02-04   2.3076   \n",
       "\n",
       "           price  appraised_value cust_type  new_const  tracking  \\\n",
       "row_id                                                             \n",
       "1       24500.00            False       RES      False     False   \n",
       "2       20555.54            False       RES      False     False   \n",
       "4       20000.00            False       RES      False     False   \n",
       "\n",
       "        ground_mounted  battery  zipcode           city         county state  \\\n",
       "row_id                                                                         \n",
       "1                False    False  94107.0  San Francisco  San Francisco    CA   \n",
       "2                False    False  95949.0    Nevada City         Nevada    CA   \n",
       "4                False    False  94518.0        Concord   Contra Costa    CA   \n",
       "\n",
       "        third-party  uinverter  dc_optimizer  cost_per_watt  num_days  \\\n",
       "row_id                                                                  \n",
       "1             False      False         False      10.734315         0   \n",
       "2             False      False         False      11.108701        21   \n",
       "4             False      False         False       8.667013        26   \n",
       "\n",
       "       install_month  nMonths install_day  nDays  \n",
       "row_id                                            \n",
       "1            1998-01      0.0  1998-01-09    0.0  \n",
       "2            1998-01      0.0  1998-01-30   21.0  \n",
       "4            1998-02      1.0  1998-02-04   26.0  "
      ]
     },
     "execution_count": 5,
     "metadata": {},
     "output_type": "execute_result"
    }
   ],
   "source": [
    "dftts.head(3)"
   ]
  },
  {
   "cell_type": "markdown",
   "metadata": {},
   "source": [
    "#### Get the correlation matrix for the relevant variables.  Pandas provides a method for the correlation matrix.  \n",
    "\n",
    "The correlation coefficient for cost and time is -0.61, a moderate negative correlation.  This implies that as time increases, cost decreases moderately.\n",
    "\n",
    "The correlation coefficient for cost and time is -0.04, a slight negative correlation.  This implies that as size increases, cost decreases slightly."
   ]
  },
  {
   "cell_type": "code",
   "execution_count": 6,
   "metadata": {},
   "outputs": [
    {
     "data": {
      "text/html": [
       "<div>\n",
       "<style scoped>\n",
       "    .dataframe tbody tr th:only-of-type {\n",
       "        vertical-align: middle;\n",
       "    }\n",
       "\n",
       "    .dataframe tbody tr th {\n",
       "        vertical-align: top;\n",
       "    }\n",
       "\n",
       "    .dataframe thead th {\n",
       "        text-align: right;\n",
       "    }\n",
       "</style>\n",
       "<table border=\"1\" class=\"dataframe\">\n",
       "  <thead>\n",
       "    <tr style=\"text-align: right;\">\n",
       "      <th></th>\n",
       "      <th>cost_per_watt</th>\n",
       "      <th>size_kw</th>\n",
       "      <th>nDays</th>\n",
       "    </tr>\n",
       "  </thead>\n",
       "  <tbody>\n",
       "    <tr>\n",
       "      <th>cost_per_watt</th>\n",
       "      <td>1.000000</td>\n",
       "      <td>-0.044252</td>\n",
       "      <td>-0.611365</td>\n",
       "    </tr>\n",
       "    <tr>\n",
       "      <th>size_kw</th>\n",
       "      <td>-0.044252</td>\n",
       "      <td>1.000000</td>\n",
       "      <td>-0.006031</td>\n",
       "    </tr>\n",
       "    <tr>\n",
       "      <th>nDays</th>\n",
       "      <td>-0.611365</td>\n",
       "      <td>-0.006031</td>\n",
       "      <td>1.000000</td>\n",
       "    </tr>\n",
       "  </tbody>\n",
       "</table>\n",
       "</div>"
      ],
      "text/plain": [
       "               cost_per_watt   size_kw     nDays\n",
       "cost_per_watt       1.000000 -0.044252 -0.611365\n",
       "size_kw            -0.044252  1.000000 -0.006031\n",
       "nDays              -0.611365 -0.006031  1.000000"
      ]
     },
     "execution_count": 6,
     "metadata": {},
     "output_type": "execute_result"
    }
   ],
   "source": [
    "theCorrelationMatrix = dftts[['cost_per_watt', 'size_kw', 'nDays']].corr(); theCorrelationMatrix"
   ]
  },
  {
   "cell_type": "markdown",
   "metadata": {},
   "source": [
    "#### Scipy.stats provides a procedure for the correlation coefficient (Pearson r-value) and the associated p value.\n",
    "\n",
    "__Null Hypothesis__: $H_0: \\rho = 0$:  The population correlation coefficient IS NOT significantly different from zero. There IS NOT a significant linear relationship(correlation) between time and cost in the population.\n",
    "\n",
    "__Alternate Hypothesis__: $H_a: \\rho = 0$: The population correlation coefficient is significantly different zero. There is significant linear relationship (correlation) between time and cost in the population.\n",
    "\n",
    "The *p*-value, 0.00000 is less than the significance level (*α* = 0.01).  This indicates that it is extremely unlikely that the relationship is due to randomness. \n",
    "\n",
    "__Decision__: Reject the null hypothesis.\n",
    "__Conclusion__: There is sufficient evidence to conclude that there is a significant linear relationship between cost and time because the correlation coefficient is significantly different from zero and it is unlikely that the relationship is due to randomness.\n",
    "\n",
    "The same argument applies to cost and size since the p-value of the correlation coefficient between cost and size is 0.0000.  The relationship is much however much weaker (i.e. size accounts for much less of the variance in cost)."
   ]
  },
  {
   "cell_type": "code",
   "execution_count": 7,
   "metadata": {},
   "outputs": [
    {
     "name": "stdout",
     "output_type": "stream",
     "text": [
      "cost ~ time ==> correlation coefficient: -0.611365, p value: 0.00000000\n"
     ]
    }
   ],
   "source": [
    "\n",
    "from scipy.stats.stats import pearsonr\n",
    "cost_time_corr, cost_time_p_value = pearsonr(dftts.nDays, dftts.cost_per_watt)\n",
    "print('cost ~ time ==> correlation coefficient: {:.6f}, p value: {:.8f}'.format(cost_time_corr, cost_time_p_value))"
   ]
  },
  {
   "cell_type": "code",
   "execution_count": 8,
   "metadata": {},
   "outputs": [
    {
     "name": "stdout",
     "output_type": "stream",
     "text": [
      "cost ~ size ==> correlation coefficient: -0.61136486, p value: 0.00000000\n"
     ]
    }
   ],
   "source": [
    "from scipy.stats.stats import pearsonr\n",
    "cost_time_r, cost_time_p_value = pearsonr(dftts.size_kw, dftts.cost_per_watt)\n",
    "print('cost ~ size ==> correlation coefficient: {:.8f}, p value: {:.8f}'.format(cost_time_corr, cost_time_p_value))"
   ]
  },
  {
   "cell_type": "markdown",
   "metadata": {},
   "source": [
    "### Here we use scipy.stats ols to fit a linear regression model $cost \\sim time, size$\n",
    "\n",
    "The report from ```ols``` indicates:\n",
    "\n",
    "* $R^2$ = 0.376; This indicates approximately 38% of the variance is a accounted for by the variables `nDays` and `size_kw`.\n",
    "* `Prob (F-statistic) = 0`: This indicates that the probability of this occuring by chance is extremely small ($< 1\\%$).  Thus the null hypothesis ('There is no relationship between cost and time and size') can be rejected.\n",
    "\n",
    "Thus we conclude the correlations and regression are statisically significant."
   ]
  },
  {
   "cell_type": "code",
   "execution_count": 9,
   "metadata": {},
   "outputs": [
    {
     "name": "stdout",
     "output_type": "stream",
     "text": [
      "                            OLS Regression Results                            \n",
      "==============================================================================\n",
      "Dep. Variable:          cost_per_watt   R-squared:                       0.376\n",
      "Model:                            OLS   Adj. R-squared:                  0.376\n",
      "Method:                 Least Squares   F-statistic:                 2.338e+05\n",
      "Date:                Mon, 26 Mar 2018   Prob (F-statistic):               0.00\n",
      "Time:                        11:12:13   Log-Likelihood:            -1.4034e+06\n",
      "No. Observations:              775694   AIC:                         2.807e+06\n",
      "Df Residuals:                  775691   BIC:                         2.807e+06\n",
      "Df Model:                           2                                         \n",
      "Covariance Type:            nonrobust                                         \n",
      "==============================================================================\n",
      "                 coef    std err          t      P>|t|      [0.025      0.975]\n",
      "------------------------------------------------------------------------------\n",
      "Intercept     11.5260      0.009   1215.715      0.000      11.507      11.545\n",
      "nDays         -0.0011   1.59e-06   -681.982      0.000      -0.001      -0.001\n",
      "size_kw       -0.0013   2.48e-05    -53.453      0.000      -0.001      -0.001\n",
      "==============================================================================\n",
      "Omnibus:                   326066.940   Durbin-Watson:                   1.814\n",
      "Prob(Omnibus):                  0.000   Jarque-Bera (JB):          3854151.011\n",
      "Skew:                           1.700   Prob(JB):                         0.00\n",
      "Kurtosis:                      13.377   Cond. No.                     3.37e+04\n",
      "==============================================================================\n",
      "\n",
      "Warnings:\n",
      "[1] Standard Errors assume that the covariance matrix of the errors is correctly specified.\n",
      "[2] The condition number is large, 3.37e+04. This might indicate that there are\n",
      "strong multicollinearity or other numerical problems.\n"
     ]
    }
   ],
   "source": [
    "from statsmodels.formula.api import ols\n",
    "m1 = ols('cost_per_watt ~ nDays + size_kw', dftts).fit()\n",
    "print(m1.summary())"
   ]
  }
 ],
 "metadata": {
  "kernelspec": {
   "display_name": "Python 3",
   "language": "python",
   "name": "python3"
  },
  "language_info": {
   "codemirror_mode": {
    "name": "ipython",
    "version": 3
   },
   "file_extension": ".py",
   "mimetype": "text/x-python",
   "name": "python",
   "nbconvert_exporter": "python",
   "pygments_lexer": "ipython3",
   "version": "3.6.4"
  }
 },
 "nbformat": 4,
 "nbformat_minor": 2
}
