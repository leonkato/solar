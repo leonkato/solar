{
 "cells": [
  {
   "cell_type": "code",
   "execution_count": 1,
   "metadata": {},
   "outputs": [],
   "source": [
    "# set up\n",
    "import numpy as np\n",
    "import pandas as pd\n",
    "import random\n",
    "import matplotlib.pyplot as plt\n",
    "import seaborn as sns\n",
    "sns.set()"
   ]
  },
  {
   "cell_type": "code",
   "execution_count": 2,
   "metadata": {},
   "outputs": [],
   "source": [
    "# value_counts does what I need but just in case\n",
    "from collections import Counter"
   ]
  },
  {
   "cell_type": "code",
   "execution_count": 3,
   "metadata": {},
   "outputs": [],
   "source": [
    "# load the cleaned data set\n",
    "live = pd.read_csv('data/post_clean.csv', index_col='date_installed', parse_dates=True);"
   ]
  },
  {
   "cell_type": "markdown",
   "metadata": {},
   "source": [
    "##### CLEANING: drop date_installed"
   ]
  },
  {
   "cell_type": "code",
   "execution_count": 4,
   "metadata": {},
   "outputs": [
    {
     "data": {
      "text/html": [
       "<div>\n",
       "<style scoped>\n",
       "    .dataframe tbody tr th:only-of-type {\n",
       "        vertical-align: middle;\n",
       "    }\n",
       "\n",
       "    .dataframe tbody tr th {\n",
       "        vertical-align: top;\n",
       "    }\n",
       "\n",
       "    .dataframe thead th {\n",
       "        text-align: right;\n",
       "    }\n",
       "</style>\n",
       "<table border=\"1\" class=\"dataframe\">\n",
       "  <thead>\n",
       "    <tr style=\"text-align: right;\">\n",
       "      <th></th>\n",
       "      <th>state</th>\n",
       "      <th>date_installed.1</th>\n",
       "      <th>size_kw</th>\n",
       "      <th>zipcode</th>\n",
       "      <th>install_type</th>\n",
       "      <th>installer</th>\n",
       "      <th>cost_per_watt</th>\n",
       "      <th>cost</th>\n",
       "      <th>city</th>\n",
       "      <th>county</th>\n",
       "      <th>new_constr</th>\n",
       "      <th>tracking</th>\n",
       "      <th>3rdparty</th>\n",
       "    </tr>\n",
       "    <tr>\n",
       "      <th>date_installed</th>\n",
       "      <th></th>\n",
       "      <th></th>\n",
       "      <th></th>\n",
       "      <th></th>\n",
       "      <th></th>\n",
       "      <th></th>\n",
       "      <th></th>\n",
       "      <th></th>\n",
       "      <th></th>\n",
       "      <th></th>\n",
       "      <th></th>\n",
       "      <th></th>\n",
       "      <th></th>\n",
       "    </tr>\n",
       "  </thead>\n",
       "  <tbody>\n",
       "    <tr>\n",
       "      <th>2001-01-04</th>\n",
       "      <td>CA</td>\n",
       "      <td>2001-01-04</td>\n",
       "      <td>2.226</td>\n",
       "      <td>92111.0</td>\n",
       "      <td>residential</td>\n",
       "      <td>NaN</td>\n",
       "      <td>7.880</td>\n",
       "      <td>17541.33</td>\n",
       "      <td>NaN</td>\n",
       "      <td>San Diego</td>\n",
       "      <td>NaN</td>\n",
       "      <td>NaN</td>\n",
       "      <td>NaN</td>\n",
       "    </tr>\n",
       "    <tr>\n",
       "      <th>2001-01-04</th>\n",
       "      <td>CA</td>\n",
       "      <td>2001-01-04</td>\n",
       "      <td>2.671</td>\n",
       "      <td>90638.0</td>\n",
       "      <td>residential</td>\n",
       "      <td>NaN</td>\n",
       "      <td>5.750</td>\n",
       "      <td>15356.88</td>\n",
       "      <td>NaN</td>\n",
       "      <td>Los Angeles</td>\n",
       "      <td>NaN</td>\n",
       "      <td>NaN</td>\n",
       "      <td>NaN</td>\n",
       "    </tr>\n",
       "    <tr>\n",
       "      <th>2001-01-09</th>\n",
       "      <td>OR</td>\n",
       "      <td>2001-01-09</td>\n",
       "      <td>0.750</td>\n",
       "      <td>97734.0</td>\n",
       "      <td>residential</td>\n",
       "      <td>Self</td>\n",
       "      <td>12.164</td>\n",
       "      <td>9123.00</td>\n",
       "      <td>Culver</td>\n",
       "      <td>Jefferson</td>\n",
       "      <td>NaN</td>\n",
       "      <td>NaN</td>\n",
       "      <td>NaN</td>\n",
       "    </tr>\n",
       "    <tr>\n",
       "      <th>2001-01-18</th>\n",
       "      <td>CA</td>\n",
       "      <td>2001-01-18</td>\n",
       "      <td>0.997</td>\n",
       "      <td>92126.0</td>\n",
       "      <td>residential</td>\n",
       "      <td>NaN</td>\n",
       "      <td>5.370</td>\n",
       "      <td>5352.30</td>\n",
       "      <td>NaN</td>\n",
       "      <td>San Diego</td>\n",
       "      <td>NaN</td>\n",
       "      <td>NaN</td>\n",
       "      <td>NaN</td>\n",
       "    </tr>\n",
       "    <tr>\n",
       "      <th>2001-01-18</th>\n",
       "      <td>CA</td>\n",
       "      <td>2001-01-18</td>\n",
       "      <td>1.496</td>\n",
       "      <td>91342.0</td>\n",
       "      <td>residential</td>\n",
       "      <td>NaN</td>\n",
       "      <td>7.100</td>\n",
       "      <td>10623.00</td>\n",
       "      <td>NaN</td>\n",
       "      <td>Los Angeles</td>\n",
       "      <td>NaN</td>\n",
       "      <td>NaN</td>\n",
       "      <td>NaN</td>\n",
       "    </tr>\n",
       "  </tbody>\n",
       "</table>\n",
       "</div>"
      ],
      "text/plain": [
       "               state date_installed.1  size_kw  zipcode install_type  \\\n",
       "date_installed                                                         \n",
       "2001-01-04        CA       2001-01-04    2.226  92111.0  residential   \n",
       "2001-01-04        CA       2001-01-04    2.671  90638.0  residential   \n",
       "2001-01-09        OR       2001-01-09    0.750  97734.0  residential   \n",
       "2001-01-18        CA       2001-01-18    0.997  92126.0  residential   \n",
       "2001-01-18        CA       2001-01-18    1.496  91342.0  residential   \n",
       "\n",
       "               installer  cost_per_watt      cost    city       county  \\\n",
       "date_installed                                                           \n",
       "2001-01-04           NaN          7.880  17541.33     NaN    San Diego   \n",
       "2001-01-04           NaN          5.750  15356.88     NaN  Los Angeles   \n",
       "2001-01-09          Self         12.164   9123.00  Culver    Jefferson   \n",
       "2001-01-18           NaN          5.370   5352.30     NaN    San Diego   \n",
       "2001-01-18           NaN          7.100  10623.00     NaN  Los Angeles   \n",
       "\n",
       "                new_constr  tracking  3rdparty  \n",
       "date_installed                                  \n",
       "2001-01-04             NaN       NaN       NaN  \n",
       "2001-01-04             NaN       NaN       NaN  \n",
       "2001-01-09             NaN       NaN       NaN  \n",
       "2001-01-18             NaN       NaN       NaN  \n",
       "2001-01-18             NaN       NaN       NaN  "
      ]
     },
     "execution_count": 4,
     "metadata": {},
     "output_type": "execute_result"
    }
   ],
   "source": [
    "# have a look; date_installed.1 is a dup\n",
    "live.head()"
   ]
  },
  {
   "cell_type": "code",
   "execution_count": 5,
   "metadata": {
    "scrolled": false
   },
   "outputs": [
    {
     "data": {
      "text/html": [
       "<div>\n",
       "<style scoped>\n",
       "    .dataframe tbody tr th:only-of-type {\n",
       "        vertical-align: middle;\n",
       "    }\n",
       "\n",
       "    .dataframe tbody tr th {\n",
       "        vertical-align: top;\n",
       "    }\n",
       "\n",
       "    .dataframe thead th {\n",
       "        text-align: right;\n",
       "    }\n",
       "</style>\n",
       "<table border=\"1\" class=\"dataframe\">\n",
       "  <thead>\n",
       "    <tr style=\"text-align: right;\">\n",
       "      <th></th>\n",
       "      <th>size_kw</th>\n",
       "      <th>zipcode</th>\n",
       "      <th>cost_per_watt</th>\n",
       "      <th>cost</th>\n",
       "      <th>new_constr</th>\n",
       "      <th>tracking</th>\n",
       "      <th>3rdparty</th>\n",
       "    </tr>\n",
       "  </thead>\n",
       "  <tbody>\n",
       "    <tr>\n",
       "      <th>count</th>\n",
       "      <td>673029.000000</td>\n",
       "      <td>673029.000000</td>\n",
       "      <td>673029.000000</td>\n",
       "      <td>6.729340e+05</td>\n",
       "      <td>21000.0</td>\n",
       "      <td>1270.0</td>\n",
       "      <td>234925.0</td>\n",
       "    </tr>\n",
       "    <tr>\n",
       "      <th>mean</th>\n",
       "      <td>6.128302</td>\n",
       "      <td>71117.734763</td>\n",
       "      <td>5.798609</td>\n",
       "      <td>3.376678e+04</td>\n",
       "      <td>1.0</td>\n",
       "      <td>1.0</td>\n",
       "      <td>1.0</td>\n",
       "    </tr>\n",
       "    <tr>\n",
       "      <th>std</th>\n",
       "      <td>7.040995</td>\n",
       "      <td>35870.841194</td>\n",
       "      <td>1.988170</td>\n",
       "      <td>3.155320e+04</td>\n",
       "      <td>0.0</td>\n",
       "      <td>0.0</td>\n",
       "      <td>0.0</td>\n",
       "    </tr>\n",
       "    <tr>\n",
       "      <th>min</th>\n",
       "      <td>0.050000</td>\n",
       "      <td>0.000000</td>\n",
       "      <td>0.000000</td>\n",
       "      <td>0.000000e+00</td>\n",
       "      <td>1.0</td>\n",
       "      <td>1.0</td>\n",
       "      <td>1.0</td>\n",
       "    </tr>\n",
       "    <tr>\n",
       "      <th>25%</th>\n",
       "      <td>3.748800</td>\n",
       "      <td>77301.000000</td>\n",
       "      <td>4.536806</td>\n",
       "      <td>2.068000e+04</td>\n",
       "      <td>1.0</td>\n",
       "      <td>1.0</td>\n",
       "      <td>1.0</td>\n",
       "    </tr>\n",
       "    <tr>\n",
       "      <th>50%</th>\n",
       "      <td>5.400000</td>\n",
       "      <td>91606.000000</td>\n",
       "      <td>5.408511</td>\n",
       "      <td>2.937968e+04</td>\n",
       "      <td>1.0</td>\n",
       "      <td>1.0</td>\n",
       "      <td>1.0</td>\n",
       "    </tr>\n",
       "    <tr>\n",
       "      <th>75%</th>\n",
       "      <td>7.595000</td>\n",
       "      <td>93436.000000</td>\n",
       "      <td>6.950000</td>\n",
       "      <td>4.110000e+04</td>\n",
       "      <td>1.0</td>\n",
       "      <td>1.0</td>\n",
       "      <td>1.0</td>\n",
       "    </tr>\n",
       "    <tr>\n",
       "      <th>max</th>\n",
       "      <td>1989.520000</td>\n",
       "      <td>99737.000000</td>\n",
       "      <td>29.825243</td>\n",
       "      <td>3.940000e+06</td>\n",
       "      <td>1.0</td>\n",
       "      <td>1.0</td>\n",
       "      <td>1.0</td>\n",
       "    </tr>\n",
       "  </tbody>\n",
       "</table>\n",
       "</div>"
      ],
      "text/plain": [
       "             size_kw        zipcode  cost_per_watt          cost  new_constr  \\\n",
       "count  673029.000000  673029.000000  673029.000000  6.729340e+05     21000.0   \n",
       "mean        6.128302   71117.734763       5.798609  3.376678e+04         1.0   \n",
       "std         7.040995   35870.841194       1.988170  3.155320e+04         0.0   \n",
       "min         0.050000       0.000000       0.000000  0.000000e+00         1.0   \n",
       "25%         3.748800   77301.000000       4.536806  2.068000e+04         1.0   \n",
       "50%         5.400000   91606.000000       5.408511  2.937968e+04         1.0   \n",
       "75%         7.595000   93436.000000       6.950000  4.110000e+04         1.0   \n",
       "max      1989.520000   99737.000000      29.825243  3.940000e+06         1.0   \n",
       "\n",
       "       tracking  3rdparty  \n",
       "count    1270.0  234925.0  \n",
       "mean        1.0       1.0  \n",
       "std         0.0       0.0  \n",
       "min         1.0       1.0  \n",
       "25%         1.0       1.0  \n",
       "50%         1.0       1.0  \n",
       "75%         1.0       1.0  \n",
       "max         1.0       1.0  "
      ]
     },
     "execution_count": 5,
     "metadata": {},
     "output_type": "execute_result"
    }
   ],
   "source": [
    "# some stats\n",
    "live.describe()"
   ]
  },
  {
   "cell_type": "code",
   "execution_count": 6,
   "metadata": {},
   "outputs": [
    {
     "name": "stdout",
     "output_type": "stream",
     "text": [
      "<class 'pandas.core.frame.DataFrame'>\n",
      "DatetimeIndex: 673029 entries, 2001-01-04 to 2016-12-30\n",
      "Data columns (total 13 columns):\n",
      "state               673029 non-null object\n",
      "date_installed.1    673029 non-null object\n",
      "size_kw             673029 non-null float64\n",
      "zipcode             673029 non-null float64\n",
      "install_type        673029 non-null object\n",
      "installer           439589 non-null object\n",
      "cost_per_watt       673029 non-null float64\n",
      "cost                672934 non-null float64\n",
      "city                503629 non-null object\n",
      "county              668724 non-null object\n",
      "new_constr          21000 non-null float64\n",
      "tracking            1270 non-null float64\n",
      "3rdparty            234925 non-null float64\n",
      "dtypes: float64(7), object(6)\n",
      "memory usage: 71.9+ MB\n"
     ]
    }
   ],
   "source": [
    "live.info()"
   ]
  },
  {
   "cell_type": "code",
   "execution_count": 7,
   "metadata": {},
   "outputs": [
    {
     "data": {
      "image/png": "[encoded data removed]",
      "text/plain": [
       "<matplotlib.figure.Figure at 0x19b0a12eeb8>"
      ]
     },
     "metadata": {},
     "output_type": "display_data"
    }
   ],
   "source": [
    "### discontinuity at the end of 2015 is result of policy change.  Federal tax credit was extended\n",
    "### to 2021.\n",
    "live.cost_per_watt.resample('M').median().plot(marker='.', linestyle='none'); plt.show()"
   ]
  },
  {
   "cell_type": "markdown",
   "metadata": {},
   "source": [
    "##### CLEANING: change 3rdparty to thirdparty for convenience; consider .as_type(np.bool)"
   ]
  },
  {
   "cell_type": "code",
   "execution_count": 8,
   "metadata": {},
   "outputs": [
    {
     "data": {
      "image/png": "[encoded data removed]",
      "text/plain": [
       "<matplotlib.figure.Figure at 0x19b0b61c898>"
      ]
     },
     "metadata": {},
     "output_type": "display_data"
    }
   ],
   "source": [
    "### 3rd parties pay higher install price; also we don't see the data for 2016.\n",
    "\n",
    "live[(live['3rdparty'] == 1)].cost_per_watt.resample('M').median().plot(marker='.', linestyle='none'); plt.show()"
   ]
  },
  {
   "cell_type": "code",
   "execution_count": 9,
   "metadata": {},
   "outputs": [
    {
     "data": {
      "image/png": "[encoded data removed]",
      "text/plain": [
       "<matplotlib.figure.Figure at 0x19b0b976400>"
      ]
     },
     "metadata": {},
     "output_type": "display_data"
    }
   ],
   "source": [
    "### new construction isn't generally less expensive\n",
    "live[(live.new_constr == 1)].cost_per_watt.resample('M').median().plot(marker='.', linestyle='none'); plt.show()"
   ]
  },
  {
   "cell_type": "code",
   "execution_count": 10,
   "metadata": {},
   "outputs": [],
   "source": [
    "# how many installs for each state\n",
    "by_state=live.groupby('state')"
   ]
  },
  {
   "cell_type": "code",
   "execution_count": 11,
   "metadata": {},
   "outputs": [],
   "source": [
    "state_counts = by_state.install_type.count()"
   ]
  },
  {
   "cell_type": "code",
   "execution_count": 12,
   "metadata": {},
   "outputs": [],
   "source": [
    "state_counts.sort_values(inplace=True)"
   ]
  },
  {
   "cell_type": "code",
   "execution_count": 13,
   "metadata": {},
   "outputs": [],
   "source": [
    "state_counts_percent = state_counts/state_counts.sum()"
   ]
  },
  {
   "cell_type": "code",
   "execution_count": 16,
   "metadata": {},
   "outputs": [
    {
     "data": {
      "image/png": "[encoded data removed]",
      "text/plain": [
       "<matplotlib.figure.Figure at 0x19b0bae5a20>"
      ]
     },
     "metadata": {},
     "output_type": "display_data"
    }
   ],
   "source": [
    "fig=plt.figure(figsize=(12, 8), dpi= 80, facecolor='w', edgecolor='k')\n",
    "state_counts_percent.plot(marker='.', linestyle='none')\n",
    "plt.show()"
   ]
  },
  {
   "cell_type": "code",
   "execution_count": 15,
   "metadata": {
    "scrolled": true
   },
   "outputs": [
    {
     "data": {
      "text/plain": [
       "state\n",
       "OR      1970\n",
       "FL      2022\n",
       "DE      2939\n",
       "NH      3101\n",
       "NM      6006\n",
       "NJ      8556\n",
       "PA      9653\n",
       "MD     10525\n",
       "TX     12324\n",
       "NV     14339\n",
       "CT     15411\n",
       "NY     43454\n",
       "MA     64524\n",
       "AZ     80586\n",
       "CA    390264\n",
       "Name: install_type, dtype: int64"
      ]
     },
     "execution_count": 15,
     "metadata": {},
     "output_type": "execute_result"
    }
   ],
   "source": [
    "state_counts[-15:]"
   ]
  },
  {
   "cell_type": "code",
   "execution_count": 26,
   "metadata": {},
   "outputs": [
    {
     "data": {
      "text/plain": [
       "Int64Index([2001, 2001, 2001, 2001, 2001, 2001, 2001, 2001, 2001, 2001], dtype='int64', name='date_installed')"
      ]
     },
     "execution_count": 26,
     "metadata": {},
     "output_type": "execute_result"
    }
   ],
   "source": [
    "live.index.year[:10]"
   ]
  },
  {
   "cell_type": "code",
   "execution_count": 33,
   "metadata": {},
   "outputs": [
    {
     "data": {
      "text/plain": [
       "date_installed\n",
       "2001      1449\n",
       "2002      2783\n",
       "2003      3491\n",
       "2004      5496\n",
       "2005      5676\n",
       "2006      8985\n",
       "2007     19355\n",
       "2008     25139\n",
       "2009     44010\n",
       "2010     64580\n",
       "2011     69442\n",
       "2012     97254\n",
       "2013     72601\n",
       "2014     68887\n",
       "2015    183652\n",
       "2016       229\n",
       "dtype: int64"
      ]
     },
     "execution_count": 33,
     "metadata": {},
     "output_type": "execute_result"
    }
   ],
   "source": [
    "live.groupby(live.index.year).size()"
   ]
  }
 ],
 "metadata": {
  "kernelspec": {
   "display_name": "Python 3",
   "language": "python",
   "name": "python3"
  },
  "language_info": {
   "codemirror_mode": {
    "name": "ipython",
    "version": 3
   },
   "file_extension": ".py",
   "mimetype": "text/x-python",
   "name": "python",
   "nbconvert_exporter": "python",
   "pygments_lexer": "ipython3",
   "version": "3.6.3"
  }
 },
 "nbformat": 4,
 "nbformat_minor": 2
}
