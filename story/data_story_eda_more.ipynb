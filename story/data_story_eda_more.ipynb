{
 "cells": [
  {
   "cell_type": "markdown",
   "metadata": {},
   "source": [
    "#### Data Story - Median Cost per watt as a function of time and customer type.\n",
    "\n",
    "Revisit with cleaned up install_type.  Consolidated install_type is now i_type.\n",
    "\n",
    "Before I do this I need to clean residential data.  Maybe I should look at commercial data and see if it needs it too..."
   ]
  },
  {
   "cell_type": "code",
   "execution_count": 1,
   "metadata": {},
   "outputs": [],
   "source": [
    "# %load ../pycode/setup.py\n",
    "# set up\n",
    "import numpy as np\n",
    "import pandas as pd\n",
    "import random\n",
    "import matplotlib.pyplot as plt\n",
    "import seaborn as sns\n",
    "sns.set()\n",
    "\n",
    "%matplotlib inline\n",
    "\n",
    "def ecdf(data):\n",
    "    '''Compute ECDF for a one-dimensional array of measurements.'''\n",
    "    n = len(data)\n",
    "    x = np.sort(data)\n",
    "    y = np.arange(1, n + 1) / n\n",
    "    return x, y\n",
    "\n",
    "def min015099max(series):\n",
    "    ''' return list of [ min, 1%, median, 99%, max ] series values '''\n",
    "    vals = list(np.percentile(series, [1.0, 50.0, 99.0]))\n",
    "    vals.insert(-1, series.max())\n",
    "    vals.insert(0, series.min())\n",
    "    return vals\n",
    "\n",
    "# ss = np.arange(1, 101)\n",
    "# min_1_50_99_max(ss)             \n",
    "\n",
    "def mid98(series):\n",
    "    '''  return middle 98% of series '''\n",
    "    bounds = series.quantile([0.01, 0.99])\n",
    "    return(series[(series > bounds.values[0]) & (series < bounds.values[1])])\n",
    "\n",
    "# ss = np.arange(1, 101)\n",
    "# min_1_50_99_max(ss)\n"
   ]
  },
  {
   "cell_type": "code",
   "execution_count": 2,
   "metadata": {},
   "outputs": [],
   "source": [
    "# load more concise dataset for exploration\n",
    "dfLive = pd.read_csv('../local/data/20180101.csv ', index_col='date_installed', parse_dates=True)"
   ]
  },
  {
   "cell_type": "code",
   "execution_count": 3,
   "metadata": {},
   "outputs": [
    {
     "data": {
      "image/png": "[encoded data removed]",
      "text/plain": [
       "<matplotlib.figure.Figure at 0x1ee67d020b8>"
      ]
     },
     "metadata": {},
     "output_type": "display_data"
    }
   ],
   "source": [
    "# check to see if it's what I think\n",
    "dfLive.groupby(dfLive.index.year).size().plot(marker='.', linestyle='none')\n",
    "plt.title('Number of installs per installation year')\n",
    "plt.ylabel('Number of Installations')\n",
    "plt.xlabel('Installation Date');"
   ]
  },
  {
   "cell_type": "code",
   "execution_count": 4,
   "metadata": {},
   "outputs": [
    {
     "data": {
      "text/html": [
       "<div>\n",
       "<style scoped>\n",
       "    .dataframe tbody tr th:only-of-type {\n",
       "        vertical-align: middle;\n",
       "    }\n",
       "\n",
       "    .dataframe tbody tr th {\n",
       "        vertical-align: top;\n",
       "    }\n",
       "\n",
       "    .dataframe thead th {\n",
       "        text-align: right;\n",
       "    }\n",
       "</style>\n",
       "<table border=\"1\" class=\"dataframe\">\n",
       "  <thead>\n",
       "    <tr style=\"text-align: right;\">\n",
       "      <th></th>\n",
       "      <th>cost_per_watt</th>\n",
       "      <th>cost</th>\n",
       "      <th>size_kw</th>\n",
       "      <th>zipcode</th>\n",
       "      <th>new_constr</th>\n",
       "      <th>tracking</th>\n",
       "      <th>third_party</th>\n",
       "      <th>bipv</th>\n",
       "    </tr>\n",
       "  </thead>\n",
       "  <tbody>\n",
       "    <tr>\n",
       "      <th>count</th>\n",
       "      <td>745516.000000</td>\n",
       "      <td>7.456290e+05</td>\n",
       "      <td>1.002025e+06</td>\n",
       "      <td>1.002025e+06</td>\n",
       "      <td>27098.0</td>\n",
       "      <td>1920.0</td>\n",
       "      <td>306989.0</td>\n",
       "      <td>5252.0</td>\n",
       "    </tr>\n",
       "    <tr>\n",
       "      <th>mean</th>\n",
       "      <td>5.864389</td>\n",
       "      <td>6.531153e+04</td>\n",
       "      <td>1.629462e+01</td>\n",
       "      <td>7.168827e+04</td>\n",
       "      <td>1.0</td>\n",
       "      <td>1.0</td>\n",
       "      <td>1.0</td>\n",
       "      <td>1.0</td>\n",
       "    </tr>\n",
       "    <tr>\n",
       "      <th>std</th>\n",
       "      <td>2.026492</td>\n",
       "      <td>4.952030e+05</td>\n",
       "      <td>8.891764e+02</td>\n",
       "      <td>3.564166e+04</td>\n",
       "      <td>0.0</td>\n",
       "      <td>0.0</td>\n",
       "      <td>0.0</td>\n",
       "      <td>0.0</td>\n",
       "    </tr>\n",
       "    <tr>\n",
       "      <th>min</th>\n",
       "      <td>0.000000</td>\n",
       "      <td>0.000000e+00</td>\n",
       "      <td>2.000000e-03</td>\n",
       "      <td>0.000000e+00</td>\n",
       "      <td>1.0</td>\n",
       "      <td>1.0</td>\n",
       "      <td>1.0</td>\n",
       "      <td>1.0</td>\n",
       "    </tr>\n",
       "    <tr>\n",
       "      <th>25%</th>\n",
       "      <td>4.565217</td>\n",
       "      <td>2.114000e+04</td>\n",
       "      <td>3.750000e+00</td>\n",
       "      <td>6.370100e+04</td>\n",
       "      <td>1.0</td>\n",
       "      <td>1.0</td>\n",
       "      <td>1.0</td>\n",
       "      <td>1.0</td>\n",
       "    </tr>\n",
       "    <tr>\n",
       "      <th>50%</th>\n",
       "      <td>5.500000</td>\n",
       "      <td>3.030132e+04</td>\n",
       "      <td>5.500000e+00</td>\n",
       "      <td>9.202600e+04</td>\n",
       "      <td>1.0</td>\n",
       "      <td>1.0</td>\n",
       "      <td>1.0</td>\n",
       "      <td>1.0</td>\n",
       "    </tr>\n",
       "    <tr>\n",
       "      <th>75%</th>\n",
       "      <td>7.050000</td>\n",
       "      <td>4.363560e+04</td>\n",
       "      <td>7.905000e+00</td>\n",
       "      <td>9.371100e+04</td>\n",
       "      <td>1.0</td>\n",
       "      <td>1.0</td>\n",
       "      <td>1.0</td>\n",
       "      <td>1.0</td>\n",
       "    </tr>\n",
       "    <tr>\n",
       "      <th>max</th>\n",
       "      <td>30.000000</td>\n",
       "      <td>1.522000e+08</td>\n",
       "      <td>7.373190e+05</td>\n",
       "      <td>9.973700e+04</td>\n",
       "      <td>1.0</td>\n",
       "      <td>1.0</td>\n",
       "      <td>1.0</td>\n",
       "      <td>1.0</td>\n",
       "    </tr>\n",
       "  </tbody>\n",
       "</table>\n",
       "</div>"
      ],
      "text/plain": [
       "       cost_per_watt          cost       size_kw       zipcode  new_constr  \\\n",
       "count  745516.000000  7.456290e+05  1.002025e+06  1.002025e+06     27098.0   \n",
       "mean        5.864389  6.531153e+04  1.629462e+01  7.168827e+04         1.0   \n",
       "std         2.026492  4.952030e+05  8.891764e+02  3.564166e+04         0.0   \n",
       "min         0.000000  0.000000e+00  2.000000e-03  0.000000e+00         1.0   \n",
       "25%         4.565217  2.114000e+04  3.750000e+00  6.370100e+04         1.0   \n",
       "50%         5.500000  3.030132e+04  5.500000e+00  9.202600e+04         1.0   \n",
       "75%         7.050000  4.363560e+04  7.905000e+00  9.371100e+04         1.0   \n",
       "max        30.000000  1.522000e+08  7.373190e+05  9.973700e+04         1.0   \n",
       "\n",
       "       tracking  third_party    bipv  \n",
       "count    1920.0     306989.0  5252.0  \n",
       "mean        1.0          1.0     1.0  \n",
       "std         0.0          0.0     0.0  \n",
       "min         1.0          1.0     1.0  \n",
       "25%         1.0          1.0     1.0  \n",
       "50%         1.0          1.0     1.0  \n",
       "75%         1.0          1.0     1.0  \n",
       "max         1.0          1.0     1.0  "
      ]
     },
     "execution_count": 4,
     "metadata": {},
     "output_type": "execute_result"
    }
   ],
   "source": [
    "# all numerical fields\n",
    "dfLive.describe()"
   ]
  },
  {
   "cell_type": "code",
   "execution_count": 5,
   "metadata": {},
   "outputs": [
    {
     "data": {
      "text/html": [
       "<div>\n",
       "<style scoped>\n",
       "    .dataframe tbody tr th:only-of-type {\n",
       "        vertical-align: middle;\n",
       "    }\n",
       "\n",
       "    .dataframe tbody tr th {\n",
       "        vertical-align: top;\n",
       "    }\n",
       "\n",
       "    .dataframe thead th {\n",
       "        text-align: right;\n",
       "    }\n",
       "</style>\n",
       "<table border=\"1\" class=\"dataframe\">\n",
       "  <thead>\n",
       "    <tr style=\"text-align: right;\">\n",
       "      <th></th>\n",
       "      <th>state</th>\n",
       "      <th>city</th>\n",
       "      <th>county</th>\n",
       "      <th>appraised</th>\n",
       "      <th>incentive</th>\n",
       "      <th>utility</th>\n",
       "      <th>tech</th>\n",
       "      <th>model</th>\n",
       "      <th>installer</th>\n",
       "      <th>i_type</th>\n",
       "    </tr>\n",
       "  </thead>\n",
       "  <tbody>\n",
       "    <tr>\n",
       "      <th>count</th>\n",
       "      <td>1002025</td>\n",
       "      <td>788849</td>\n",
       "      <td>980790</td>\n",
       "      <td>223431</td>\n",
       "      <td>788415</td>\n",
       "      <td>783186</td>\n",
       "      <td>580399</td>\n",
       "      <td>580399</td>\n",
       "      <td>694390</td>\n",
       "      <td>966720</td>\n",
       "    </tr>\n",
       "    <tr>\n",
       "      <th>unique</th>\n",
       "      <td>52</td>\n",
       "      <td>11152</td>\n",
       "      <td>1019</td>\n",
       "      <td>1</td>\n",
       "      <td>65</td>\n",
       "      <td>378</td>\n",
       "      <td>11</td>\n",
       "      <td>3263</td>\n",
       "      <td>10168</td>\n",
       "      <td>8</td>\n",
       "    </tr>\n",
       "    <tr>\n",
       "      <th>top</th>\n",
       "      <td>CA</td>\n",
       "      <td>SAN DIEGO</td>\n",
       "      <td>Los Angeles</td>\n",
       "      <td>True</td>\n",
       "      <td>California Public Utilities Commission (Non-CS...</td>\n",
       "      <td>Pacific Gas &amp; Electric Company</td>\n",
       "      <td>Poly</td>\n",
       "      <td>multiple matches</td>\n",
       "      <td>SolarCity</td>\n",
       "      <td>residential</td>\n",
       "    </tr>\n",
       "    <tr>\n",
       "      <th>freq</th>\n",
       "      <td>611709</td>\n",
       "      <td>13681</td>\n",
       "      <td>80985</td>\n",
       "      <td>223431</td>\n",
       "      <td>260940</td>\n",
       "      <td>211222</td>\n",
       "      <td>350294</td>\n",
       "      <td>96843</td>\n",
       "      <td>167523</td>\n",
       "      <td>898183</td>\n",
       "    </tr>\n",
       "  </tbody>\n",
       "</table>\n",
       "</div>"
      ],
      "text/plain": [
       "          state       city       county appraised  \\\n",
       "count   1002025     788849       980790    223431   \n",
       "unique       52      11152         1019         1   \n",
       "top          CA  SAN DIEGO  Los Angeles      True   \n",
       "freq     611709      13681        80985    223431   \n",
       "\n",
       "                                                incentive  \\\n",
       "count                                              788415   \n",
       "unique                                                 65   \n",
       "top     California Public Utilities Commission (Non-CS...   \n",
       "freq                                               260940   \n",
       "\n",
       "                               utility    tech             model  installer  \\\n",
       "count                           783186  580399            580399     694390   \n",
       "unique                             378      11              3263      10168   \n",
       "top     Pacific Gas & Electric Company    Poly  multiple matches  SolarCity   \n",
       "freq                            211222  350294             96843     167523   \n",
       "\n",
       "             i_type  \n",
       "count        966720  \n",
       "unique            8  \n",
       "top     residential  \n",
       "freq         898183  "
      ]
     },
     "execution_count": 5,
     "metadata": {},
     "output_type": "execute_result"
    }
   ],
   "source": [
    "# non-numeric fields\n",
    "dfLive.describe(include=np.object)"
   ]
  },
  {
   "cell_type": "code",
   "execution_count": 6,
   "metadata": {},
   "outputs": [],
   "source": [
    "dfRes = dfLive.loc[dfLive.i_type == 'residential']"
   ]
  },
  {
   "cell_type": "code",
   "execution_count": 7,
   "metadata": {},
   "outputs": [
    {
     "data": {
      "image/png": "[encoded data removed]",
      "text/plain": [
       "<matplotlib.figure.Figure at 0x1ee00097ac8>"
      ]
     },
     "metadata": {},
     "output_type": "display_data"
    }
   ],
   "source": [
    "dfRes.resample('M')['cost_per_watt'].median().plot(marker='.', linestyle='none')\n",
    "plt.title('Residential monthly median cost_per_watt')\n",
    "plt.ylabel('Cost per watt')\n",
    "plt.xlabel('Installation Date');"
   ]
  },
  {
   "cell_type": "code",
   "execution_count": 8,
   "metadata": {},
   "outputs": [
    {
     "data": {
      "text/html": [
       "<div>\n",
       "<style scoped>\n",
       "    .dataframe tbody tr th:only-of-type {\n",
       "        vertical-align: middle;\n",
       "    }\n",
       "\n",
       "    .dataframe tbody tr th {\n",
       "        vertical-align: top;\n",
       "    }\n",
       "\n",
       "    .dataframe thead th {\n",
       "        text-align: right;\n",
       "    }\n",
       "</style>\n",
       "<table border=\"1\" class=\"dataframe\">\n",
       "  <thead>\n",
       "    <tr style=\"text-align: right;\">\n",
       "      <th></th>\n",
       "      <th></th>\n",
       "      <th></th>\n",
       "      <th>cost_per_watt</th>\n",
       "    </tr>\n",
       "    <tr>\n",
       "      <th>i_type</th>\n",
       "      <th>date_installed</th>\n",
       "      <th>date_installed</th>\n",
       "      <th></th>\n",
       "    </tr>\n",
       "  </thead>\n",
       "  <tbody>\n",
       "    <tr>\n",
       "      <th rowspan=\"5\" valign=\"top\">agricultural</th>\n",
       "      <th rowspan=\"2\" valign=\"top\">2004</th>\n",
       "      <th>4</th>\n",
       "      <td>5.89</td>\n",
       "    </tr>\n",
       "    <tr>\n",
       "      <th>8</th>\n",
       "      <td>7.60</td>\n",
       "    </tr>\n",
       "    <tr>\n",
       "      <th>2005</th>\n",
       "      <th>9</th>\n",
       "      <td>7.96</td>\n",
       "    </tr>\n",
       "    <tr>\n",
       "      <th rowspan=\"2\" valign=\"top\">2006</th>\n",
       "      <th>3</th>\n",
       "      <td>11.07</td>\n",
       "    </tr>\n",
       "    <tr>\n",
       "      <th>5</th>\n",
       "      <td>7.22</td>\n",
       "    </tr>\n",
       "  </tbody>\n",
       "</table>\n",
       "</div>"
      ],
      "text/plain": [
       "                                            cost_per_watt\n",
       "i_type       date_installed date_installed               \n",
       "agricultural 2004           4                        5.89\n",
       "                            8                        7.60\n",
       "             2005           9                        7.96\n",
       "             2006           3                       11.07\n",
       "                            5                        7.22"
      ]
     },
     "execution_count": 8,
     "metadata": {},
     "output_type": "execute_result"
    }
   ],
   "source": [
    "# this is starting to look a lot like what I need\n",
    "# we needed to have a df to work with.\n",
    "# dfLive.groupby(['install_type', dfLive.index.year, dfLive.index.month])['cost_per_watt'].median()\n",
    "# delivers a series.  That's fine, but we need df methods to change the shape into the right form.\n",
    "tyYeMo = pd.DataFrame(dfLive.groupby(['i_type', dfLive.index.year, dfLive.index.month])['cost_per_watt'].median())\n",
    "tyYeMo.head()"
   ]
  },
  {
   "cell_type": "code",
   "execution_count": 9,
   "metadata": {},
   "outputs": [
    {
     "data": {
      "text/html": [
       "<div>\n",
       "<style scoped>\n",
       "    .dataframe tbody tr th:only-of-type {\n",
       "        vertical-align: middle;\n",
       "    }\n",
       "\n",
       "    .dataframe tbody tr th {\n",
       "        vertical-align: top;\n",
       "    }\n",
       "\n",
       "    .dataframe thead th {\n",
       "        text-align: right;\n",
       "    }\n",
       "</style>\n",
       "<table border=\"1\" class=\"dataframe\">\n",
       "  <thead>\n",
       "    <tr style=\"text-align: right;\">\n",
       "      <th></th>\n",
       "      <th></th>\n",
       "      <th>cost_per_watt</th>\n",
       "    </tr>\n",
       "    <tr>\n",
       "      <th>date_installed</th>\n",
       "      <th>date_installed</th>\n",
       "      <th></th>\n",
       "    </tr>\n",
       "  </thead>\n",
       "  <tbody>\n",
       "    <tr>\n",
       "      <th rowspan=\"5\" valign=\"top\">2004</th>\n",
       "      <th>1</th>\n",
       "      <td>7.87</td>\n",
       "    </tr>\n",
       "    <tr>\n",
       "      <th>2</th>\n",
       "      <td>7.66</td>\n",
       "    </tr>\n",
       "    <tr>\n",
       "      <th>3</th>\n",
       "      <td>7.71</td>\n",
       "    </tr>\n",
       "    <tr>\n",
       "      <th>4</th>\n",
       "      <td>7.51</td>\n",
       "    </tr>\n",
       "    <tr>\n",
       "      <th>5</th>\n",
       "      <td>7.61</td>\n",
       "    </tr>\n",
       "  </tbody>\n",
       "</table>\n",
       "</div>"
      ],
      "text/plain": [
       "                               cost_per_watt\n",
       "date_installed date_installed               \n",
       "2004           1                        7.87\n",
       "               2                        7.66\n",
       "               3                        7.71\n",
       "               4                        7.51\n",
       "               5                        7.61"
      ]
     },
     "execution_count": 9,
     "metadata": {},
     "output_type": "execute_result"
    }
   ],
   "source": [
    "tyYeMo.loc['residential'].head()"
   ]
  },
  {
   "cell_type": "code",
   "execution_count": 10,
   "metadata": {},
   "outputs": [
    {
     "data": {
      "text/plain": [
       "pandas.core.frame.DataFrame"
      ]
     },
     "execution_count": 10,
     "metadata": {},
     "output_type": "execute_result"
    }
   ],
   "source": [
    "# okay, what I want to do is pivot the type into the columns\n",
    "type(tyYeMo)"
   ]
  },
  {
   "cell_type": "code",
   "execution_count": 11,
   "metadata": {},
   "outputs": [
    {
     "data": {
      "text/html": [
       "<div>\n",
       "<style scoped>\n",
       "    .dataframe tbody tr th:only-of-type {\n",
       "        vertical-align: middle;\n",
       "    }\n",
       "\n",
       "    .dataframe tbody tr th {\n",
       "        vertical-align: top;\n",
       "    }\n",
       "\n",
       "    .dataframe thead tr th {\n",
       "        text-align: left;\n",
       "    }\n",
       "\n",
       "    .dataframe thead tr:last-of-type th {\n",
       "        text-align: right;\n",
       "    }\n",
       "</style>\n",
       "<table border=\"1\" class=\"dataframe\">\n",
       "  <thead>\n",
       "    <tr>\n",
       "      <th></th>\n",
       "      <th></th>\n",
       "      <th colspan=\"8\" halign=\"left\">cost_per_watt</th>\n",
       "    </tr>\n",
       "    <tr>\n",
       "      <th></th>\n",
       "      <th>i_type</th>\n",
       "      <th>agricultural</th>\n",
       "      <th>commercial</th>\n",
       "      <th>educational</th>\n",
       "      <th>government</th>\n",
       "      <th>nonprofit</th>\n",
       "      <th>residential</th>\n",
       "      <th>unknown</th>\n",
       "      <th>utility</th>\n",
       "    </tr>\n",
       "    <tr>\n",
       "      <th>date_installed</th>\n",
       "      <th>date_installed</th>\n",
       "      <th></th>\n",
       "      <th></th>\n",
       "      <th></th>\n",
       "      <th></th>\n",
       "      <th></th>\n",
       "      <th></th>\n",
       "      <th></th>\n",
       "      <th></th>\n",
       "    </tr>\n",
       "  </thead>\n",
       "  <tbody>\n",
       "    <tr>\n",
       "      <th rowspan=\"12\" valign=\"top\">2004</th>\n",
       "      <th>1</th>\n",
       "      <td>NaN</td>\n",
       "      <td>6.805000</td>\n",
       "      <td>9.696746</td>\n",
       "      <td>NaN</td>\n",
       "      <td>7.618437</td>\n",
       "      <td>7.870000</td>\n",
       "      <td>NaN</td>\n",
       "      <td>NaN</td>\n",
       "    </tr>\n",
       "    <tr>\n",
       "      <th>2</th>\n",
       "      <td>NaN</td>\n",
       "      <td>7.562500</td>\n",
       "      <td>NaN</td>\n",
       "      <td>7.735404</td>\n",
       "      <td>13.809524</td>\n",
       "      <td>7.660000</td>\n",
       "      <td>13.810000</td>\n",
       "      <td>NaN</td>\n",
       "    </tr>\n",
       "    <tr>\n",
       "      <th>3</th>\n",
       "      <td>NaN</td>\n",
       "      <td>8.016250</td>\n",
       "      <td>10.017734</td>\n",
       "      <td>NaN</td>\n",
       "      <td>NaN</td>\n",
       "      <td>7.710000</td>\n",
       "      <td>7.690000</td>\n",
       "      <td>NaN</td>\n",
       "    </tr>\n",
       "    <tr>\n",
       "      <th>4</th>\n",
       "      <td>5.89</td>\n",
       "      <td>7.230000</td>\n",
       "      <td>8.786111</td>\n",
       "      <td>NaN</td>\n",
       "      <td>8.225000</td>\n",
       "      <td>7.510000</td>\n",
       "      <td>7.915000</td>\n",
       "      <td>NaN</td>\n",
       "    </tr>\n",
       "    <tr>\n",
       "      <th>5</th>\n",
       "      <td>NaN</td>\n",
       "      <td>8.140000</td>\n",
       "      <td>8.240000</td>\n",
       "      <td>6.310000</td>\n",
       "      <td>21.980000</td>\n",
       "      <td>7.610000</td>\n",
       "      <td>7.200000</td>\n",
       "      <td>NaN</td>\n",
       "    </tr>\n",
       "    <tr>\n",
       "      <th>6</th>\n",
       "      <td>NaN</td>\n",
       "      <td>6.928465</td>\n",
       "      <td>7.525000</td>\n",
       "      <td>6.730000</td>\n",
       "      <td>6.450000</td>\n",
       "      <td>7.470000</td>\n",
       "      <td>7.781230</td>\n",
       "      <td>NaN</td>\n",
       "    </tr>\n",
       "    <tr>\n",
       "      <th>7</th>\n",
       "      <td>NaN</td>\n",
       "      <td>7.808602</td>\n",
       "      <td>10.000000</td>\n",
       "      <td>NaN</td>\n",
       "      <td>8.108333</td>\n",
       "      <td>7.478095</td>\n",
       "      <td>8.640000</td>\n",
       "      <td>NaN</td>\n",
       "    </tr>\n",
       "    <tr>\n",
       "      <th>8</th>\n",
       "      <td>7.60</td>\n",
       "      <td>7.788333</td>\n",
       "      <td>8.655000</td>\n",
       "      <td>15.898312</td>\n",
       "      <td>7.962500</td>\n",
       "      <td>7.360000</td>\n",
       "      <td>9.730000</td>\n",
       "      <td>NaN</td>\n",
       "    </tr>\n",
       "    <tr>\n",
       "      <th>9</th>\n",
       "      <td>NaN</td>\n",
       "      <td>7.390000</td>\n",
       "      <td>13.215000</td>\n",
       "      <td>9.880952</td>\n",
       "      <td>8.986492</td>\n",
       "      <td>7.520000</td>\n",
       "      <td>8.014052</td>\n",
       "      <td>NaN</td>\n",
       "    </tr>\n",
       "    <tr>\n",
       "      <th>10</th>\n",
       "      <td>NaN</td>\n",
       "      <td>7.981291</td>\n",
       "      <td>7.379931</td>\n",
       "      <td>9.705000</td>\n",
       "      <td>NaN</td>\n",
       "      <td>7.540000</td>\n",
       "      <td>7.860000</td>\n",
       "      <td>NaN</td>\n",
       "    </tr>\n",
       "    <tr>\n",
       "      <th>11</th>\n",
       "      <td>NaN</td>\n",
       "      <td>7.512381</td>\n",
       "      <td>NaN</td>\n",
       "      <td>NaN</td>\n",
       "      <td>NaN</td>\n",
       "      <td>7.580000</td>\n",
       "      <td>8.000000</td>\n",
       "      <td>NaN</td>\n",
       "    </tr>\n",
       "    <tr>\n",
       "      <th>12</th>\n",
       "      <td>NaN</td>\n",
       "      <td>7.270276</td>\n",
       "      <td>9.455694</td>\n",
       "      <td>18.998221</td>\n",
       "      <td>7.490000</td>\n",
       "      <td>7.440000</td>\n",
       "      <td>7.290000</td>\n",
       "      <td>NaN</td>\n",
       "    </tr>\n",
       "    <tr>\n",
       "      <th rowspan=\"3\" valign=\"top\">2005</th>\n",
       "      <th>1</th>\n",
       "      <td>NaN</td>\n",
       "      <td>8.000000</td>\n",
       "      <td>NaN</td>\n",
       "      <td>7.247033</td>\n",
       "      <td>9.815000</td>\n",
       "      <td>7.500000</td>\n",
       "      <td>8.278542</td>\n",
       "      <td>NaN</td>\n",
       "    </tr>\n",
       "    <tr>\n",
       "      <th>2</th>\n",
       "      <td>NaN</td>\n",
       "      <td>7.740000</td>\n",
       "      <td>8.530000</td>\n",
       "      <td>NaN</td>\n",
       "      <td>8.125000</td>\n",
       "      <td>7.500000</td>\n",
       "      <td>9.180000</td>\n",
       "      <td>NaN</td>\n",
       "    </tr>\n",
       "    <tr>\n",
       "      <th>3</th>\n",
       "      <td>NaN</td>\n",
       "      <td>7.430000</td>\n",
       "      <td>10.000000</td>\n",
       "      <td>9.888219</td>\n",
       "      <td>3.270000</td>\n",
       "      <td>7.410195</td>\n",
       "      <td>8.850000</td>\n",
       "      <td>NaN</td>\n",
       "    </tr>\n",
       "  </tbody>\n",
       "</table>\n",
       "</div>"
      ],
      "text/plain": [
       "                              cost_per_watt                                    \\\n",
       "i_type                         agricultural commercial educational government   \n",
       "date_installed date_installed                                                   \n",
       "2004           1                        NaN   6.805000    9.696746        NaN   \n",
       "               2                        NaN   7.562500         NaN   7.735404   \n",
       "               3                        NaN   8.016250   10.017734        NaN   \n",
       "               4                       5.89   7.230000    8.786111        NaN   \n",
       "               5                        NaN   8.140000    8.240000   6.310000   \n",
       "               6                        NaN   6.928465    7.525000   6.730000   \n",
       "               7                        NaN   7.808602   10.000000        NaN   \n",
       "               8                       7.60   7.788333    8.655000  15.898312   \n",
       "               9                        NaN   7.390000   13.215000   9.880952   \n",
       "               10                       NaN   7.981291    7.379931   9.705000   \n",
       "               11                       NaN   7.512381         NaN        NaN   \n",
       "               12                       NaN   7.270276    9.455694  18.998221   \n",
       "2005           1                        NaN   8.000000         NaN   7.247033   \n",
       "               2                        NaN   7.740000    8.530000        NaN   \n",
       "               3                        NaN   7.430000   10.000000   9.888219   \n",
       "\n",
       "                                                                         \n",
       "i_type                         nonprofit residential    unknown utility  \n",
       "date_installed date_installed                                            \n",
       "2004           1                7.618437    7.870000        NaN     NaN  \n",
       "               2               13.809524    7.660000  13.810000     NaN  \n",
       "               3                     NaN    7.710000   7.690000     NaN  \n",
       "               4                8.225000    7.510000   7.915000     NaN  \n",
       "               5               21.980000    7.610000   7.200000     NaN  \n",
       "               6                6.450000    7.470000   7.781230     NaN  \n",
       "               7                8.108333    7.478095   8.640000     NaN  \n",
       "               8                7.962500    7.360000   9.730000     NaN  \n",
       "               9                8.986492    7.520000   8.014052     NaN  \n",
       "               10                    NaN    7.540000   7.860000     NaN  \n",
       "               11                    NaN    7.580000   8.000000     NaN  \n",
       "               12               7.490000    7.440000   7.290000     NaN  \n",
       "2005           1                9.815000    7.500000   8.278542     NaN  \n",
       "               2                8.125000    7.500000   9.180000     NaN  \n",
       "               3                3.270000    7.410195   8.850000     NaN  "
      ]
     },
     "execution_count": 11,
     "metadata": {},
     "output_type": "execute_result"
    }
   ],
   "source": [
    "# year, Month in rows - cost_per_watt, install_type in columns\n",
    "yeMo_cpwTy = tyYeMo.unstack('i_type'); yeMo_cpwTy.head(15)"
   ]
  },
  {
   "cell_type": "code",
   "execution_count": 12,
   "metadata": {},
   "outputs": [
    {
     "data": {
      "text/plain": [
       "array([(2004, 1), (2004, 2), (2004, 3), (2004, 4), (2004, 5), (2004, 6),\n",
       "       (2004, 7), (2004, 8), (2004, 9), (2004, 10)], dtype=object)"
      ]
     },
     "execution_count": 12,
     "metadata": {},
     "output_type": "execute_result"
    }
   ],
   "source": [
    "# the values of the index are tuples. first element is year(int), 2nd is month(int)\n",
    "yeMo_cpwTy.index.get_values()[:10]"
   ]
  },
  {
   "cell_type": "code",
   "execution_count": 13,
   "metadata": {},
   "outputs": [],
   "source": [
    "def yeMoTup_to_datetime(tup):\n",
    "    ''' Takes a tuple of the form (year(int), month(int)); returns datetime for first of that month'''\n",
    "    str = '{}{:02d}{}'.format(tup[0], tup[1], '01')\n",
    "    return pd.to_datetime(str)"
   ]
  },
  {
   "cell_type": "code",
   "execution_count": 14,
   "metadata": {},
   "outputs": [
    {
     "data": {
      "text/plain": [
       "Timestamp('2004-01-01 00:00:00')"
      ]
     },
     "execution_count": 14,
     "metadata": {},
     "output_type": "execute_result"
    }
   ],
   "source": [
    "yeMoTup_to_datetime((2004, 1))"
   ]
  },
  {
   "cell_type": "code",
   "execution_count": 15,
   "metadata": {},
   "outputs": [],
   "source": [
    "# now I need to fix the index so that I can use it for plotting\n",
    "# maybe just make a new column that's a datetime with year and month from existing index\n",
    "dtYeMo = yeMo_cpwTy.index.map(yeMoTup_to_datetime)"
   ]
  },
  {
   "cell_type": "code",
   "execution_count": 16,
   "metadata": {},
   "outputs": [
    {
     "data": {
      "text/plain": [
       "DatetimeIndex(['2004-01-01', '2004-02-01', '2004-03-01', '2004-04-01',\n",
       "               '2004-05-01', '2004-06-01', '2004-07-01', '2004-08-01',\n",
       "               '2004-09-01', '2004-10-01'],\n",
       "              dtype='datetime64[ns]', freq=None)"
      ]
     },
     "execution_count": 16,
     "metadata": {},
     "output_type": "execute_result"
    }
   ],
   "source": [
    "# nice\n",
    "dtYeMo[:10]"
   ]
  },
  {
   "cell_type": "code",
   "execution_count": 17,
   "metadata": {},
   "outputs": [],
   "source": [
    "dt_cpwType = yeMo_cpwTy.set_index(dtYeMo)"
   ]
  },
  {
   "cell_type": "code",
   "execution_count": 18,
   "metadata": {},
   "outputs": [
    {
     "data": {
      "text/html": [
       "<div>\n",
       "<style scoped>\n",
       "    .dataframe tbody tr th:only-of-type {\n",
       "        vertical-align: middle;\n",
       "    }\n",
       "\n",
       "    .dataframe tbody tr th {\n",
       "        vertical-align: top;\n",
       "    }\n",
       "\n",
       "    .dataframe thead tr th {\n",
       "        text-align: left;\n",
       "    }\n",
       "</style>\n",
       "<table border=\"1\" class=\"dataframe\">\n",
       "  <thead>\n",
       "    <tr>\n",
       "      <th></th>\n",
       "      <th colspan=\"8\" halign=\"left\">cost_per_watt</th>\n",
       "    </tr>\n",
       "    <tr>\n",
       "      <th>i_type</th>\n",
       "      <th>agricultural</th>\n",
       "      <th>commercial</th>\n",
       "      <th>educational</th>\n",
       "      <th>government</th>\n",
       "      <th>nonprofit</th>\n",
       "      <th>residential</th>\n",
       "      <th>unknown</th>\n",
       "      <th>utility</th>\n",
       "    </tr>\n",
       "  </thead>\n",
       "  <tbody>\n",
       "    <tr>\n",
       "      <th>2004-01-01</th>\n",
       "      <td>NaN</td>\n",
       "      <td>6.80500</td>\n",
       "      <td>9.696746</td>\n",
       "      <td>NaN</td>\n",
       "      <td>7.618437</td>\n",
       "      <td>7.87</td>\n",
       "      <td>NaN</td>\n",
       "      <td>NaN</td>\n",
       "    </tr>\n",
       "    <tr>\n",
       "      <th>2004-02-01</th>\n",
       "      <td>NaN</td>\n",
       "      <td>7.56250</td>\n",
       "      <td>NaN</td>\n",
       "      <td>7.735404</td>\n",
       "      <td>13.809524</td>\n",
       "      <td>7.66</td>\n",
       "      <td>13.810</td>\n",
       "      <td>NaN</td>\n",
       "    </tr>\n",
       "    <tr>\n",
       "      <th>2004-03-01</th>\n",
       "      <td>NaN</td>\n",
       "      <td>8.01625</td>\n",
       "      <td>10.017734</td>\n",
       "      <td>NaN</td>\n",
       "      <td>NaN</td>\n",
       "      <td>7.71</td>\n",
       "      <td>7.690</td>\n",
       "      <td>NaN</td>\n",
       "    </tr>\n",
       "    <tr>\n",
       "      <th>2004-04-01</th>\n",
       "      <td>5.89</td>\n",
       "      <td>7.23000</td>\n",
       "      <td>8.786111</td>\n",
       "      <td>NaN</td>\n",
       "      <td>8.225000</td>\n",
       "      <td>7.51</td>\n",
       "      <td>7.915</td>\n",
       "      <td>NaN</td>\n",
       "    </tr>\n",
       "    <tr>\n",
       "      <th>2004-05-01</th>\n",
       "      <td>NaN</td>\n",
       "      <td>8.14000</td>\n",
       "      <td>8.240000</td>\n",
       "      <td>6.310000</td>\n",
       "      <td>21.980000</td>\n",
       "      <td>7.61</td>\n",
       "      <td>7.200</td>\n",
       "      <td>NaN</td>\n",
       "    </tr>\n",
       "  </tbody>\n",
       "</table>\n",
       "</div>"
      ],
      "text/plain": [
       "           cost_per_watt                                               \\\n",
       "i_type      agricultural commercial educational government  nonprofit   \n",
       "2004-01-01           NaN    6.80500    9.696746        NaN   7.618437   \n",
       "2004-02-01           NaN    7.56250         NaN   7.735404  13.809524   \n",
       "2004-03-01           NaN    8.01625   10.017734        NaN        NaN   \n",
       "2004-04-01          5.89    7.23000    8.786111        NaN   8.225000   \n",
       "2004-05-01           NaN    8.14000    8.240000   6.310000  21.980000   \n",
       "\n",
       "                                        \n",
       "i_type     residential unknown utility  \n",
       "2004-01-01        7.87     NaN     NaN  \n",
       "2004-02-01        7.66  13.810     NaN  \n",
       "2004-03-01        7.71   7.690     NaN  \n",
       "2004-04-01        7.51   7.915     NaN  \n",
       "2004-05-01        7.61   7.200     NaN  "
      ]
     },
     "execution_count": 18,
     "metadata": {},
     "output_type": "execute_result"
    }
   ],
   "source": [
    "dt_cpwType.head()"
   ]
  },
  {
   "cell_type": "code",
   "execution_count": 19,
   "metadata": {},
   "outputs": [],
   "source": [
    "plt.rc('figure', figsize=(10, 6))"
   ]
  },
  {
   "cell_type": "code",
   "execution_count": 20,
   "metadata": {},
   "outputs": [
    {
     "data": {
      "text/plain": [
       "<matplotlib.axes._subplots.AxesSubplot at 0x1ee000ae048>"
      ]
     },
     "execution_count": 20,
     "metadata": {},
     "output_type": "execute_result"
    },
    {
     "data": {
      "image/png": "[encoded data removed]",
      "text/plain": [
       "<matplotlib.figure.Figure at 0x1ee00378c50>"
      ]
     },
     "metadata": {},
     "output_type": "display_data"
    }
   ],
   "source": [
    "dt_cpwType.plot()"
   ]
  },
  {
   "cell_type": "code",
   "execution_count": 21,
   "metadata": {},
   "outputs": [
    {
     "data": {
      "text/plain": [
       "MultiIndex(levels=[['cost_per_watt'], ['agricultural', 'commercial', 'educational', 'government', 'nonprofit', 'residential', 'unknown', 'utility']],\n",
       "           labels=[[0, 0, 0, 0, 0, 0, 0, 0], [0, 1, 2, 3, 4, 5, 6, 7]],\n",
       "           names=[None, 'i_type'])"
      ]
     },
     "execution_count": 21,
     "metadata": {},
     "output_type": "execute_result"
    }
   ],
   "source": [
    "dt_cpwType.columns"
   ]
  },
  {
   "cell_type": "code",
   "execution_count": 22,
   "metadata": {},
   "outputs": [
    {
     "data": {
      "text/html": [
       "<div>\n",
       "<style scoped>\n",
       "    .dataframe tbody tr th:only-of-type {\n",
       "        vertical-align: middle;\n",
       "    }\n",
       "\n",
       "    .dataframe tbody tr th {\n",
       "        vertical-align: top;\n",
       "    }\n",
       "\n",
       "    .dataframe thead tr th {\n",
       "        text-align: left;\n",
       "    }\n",
       "</style>\n",
       "<table border=\"1\" class=\"dataframe\">\n",
       "  <thead>\n",
       "    <tr>\n",
       "      <th></th>\n",
       "      <th colspan=\"6\" halign=\"left\">cost_per_watt</th>\n",
       "    </tr>\n",
       "    <tr>\n",
       "      <th>i_type</th>\n",
       "      <th>commercial</th>\n",
       "      <th>educational</th>\n",
       "      <th>government</th>\n",
       "      <th>nonprofit</th>\n",
       "      <th>residential</th>\n",
       "      <th>unknown</th>\n",
       "    </tr>\n",
       "  </thead>\n",
       "  <tbody>\n",
       "    <tr>\n",
       "      <th>2004-01-01</th>\n",
       "      <td>6.80500</td>\n",
       "      <td>9.696746</td>\n",
       "      <td>NaN</td>\n",
       "      <td>7.618437</td>\n",
       "      <td>7.87</td>\n",
       "      <td>NaN</td>\n",
       "    </tr>\n",
       "    <tr>\n",
       "      <th>2004-02-01</th>\n",
       "      <td>7.56250</td>\n",
       "      <td>NaN</td>\n",
       "      <td>7.735404</td>\n",
       "      <td>13.809524</td>\n",
       "      <td>7.66</td>\n",
       "      <td>13.810</td>\n",
       "    </tr>\n",
       "    <tr>\n",
       "      <th>2004-03-01</th>\n",
       "      <td>8.01625</td>\n",
       "      <td>10.017734</td>\n",
       "      <td>NaN</td>\n",
       "      <td>NaN</td>\n",
       "      <td>7.71</td>\n",
       "      <td>7.690</td>\n",
       "    </tr>\n",
       "    <tr>\n",
       "      <th>2004-04-01</th>\n",
       "      <td>7.23000</td>\n",
       "      <td>8.786111</td>\n",
       "      <td>NaN</td>\n",
       "      <td>8.225000</td>\n",
       "      <td>7.51</td>\n",
       "      <td>7.915</td>\n",
       "    </tr>\n",
       "    <tr>\n",
       "      <th>2004-05-01</th>\n",
       "      <td>8.14000</td>\n",
       "      <td>8.240000</td>\n",
       "      <td>6.310000</td>\n",
       "      <td>21.980000</td>\n",
       "      <td>7.61</td>\n",
       "      <td>7.200</td>\n",
       "    </tr>\n",
       "  </tbody>\n",
       "</table>\n",
       "</div>"
      ],
      "text/plain": [
       "           cost_per_watt                                                      \n",
       "i_type        commercial educational government  nonprofit residential unknown\n",
       "2004-01-01       6.80500    9.696746        NaN   7.618437        7.87     NaN\n",
       "2004-02-01       7.56250         NaN   7.735404  13.809524        7.66  13.810\n",
       "2004-03-01       8.01625   10.017734        NaN        NaN        7.71   7.690\n",
       "2004-04-01       7.23000    8.786111        NaN   8.225000        7.51   7.915\n",
       "2004-05-01       8.14000    8.240000   6.310000  21.980000        7.61   7.200"
      ]
     },
     "execution_count": 22,
     "metadata": {},
     "output_type": "execute_result"
    }
   ],
   "source": [
    "# so how do I get to my columns in this multi-index\n",
    "dt_cpwType.loc[:, (slice(None), ['residential', 'commercial', 'unknown', \n",
    "                    'government', 'nonprofit', 'educational'] )].head()"
   ]
  },
  {
   "cell_type": "code",
   "execution_count": 23,
   "metadata": {},
   "outputs": [
    {
     "data": {
      "text/html": [
       "<div>\n",
       "<style scoped>\n",
       "    .dataframe tbody tr th:only-of-type {\n",
       "        vertical-align: middle;\n",
       "    }\n",
       "\n",
       "    .dataframe tbody tr th {\n",
       "        vertical-align: top;\n",
       "    }\n",
       "\n",
       "    .dataframe thead tr th {\n",
       "        text-align: left;\n",
       "    }\n",
       "</style>\n",
       "<table border=\"1\" class=\"dataframe\">\n",
       "  <thead>\n",
       "    <tr>\n",
       "      <th></th>\n",
       "      <th colspan=\"6\" halign=\"left\">cost_per_watt</th>\n",
       "    </tr>\n",
       "    <tr>\n",
       "      <th>i_type</th>\n",
       "      <th>commercial</th>\n",
       "      <th>educational</th>\n",
       "      <th>government</th>\n",
       "      <th>nonprofit</th>\n",
       "      <th>residential</th>\n",
       "      <th>unknown</th>\n",
       "    </tr>\n",
       "  </thead>\n",
       "  <tbody>\n",
       "    <tr>\n",
       "      <th>2015-08-01</th>\n",
       "      <td>3.706003</td>\n",
       "      <td>NaN</td>\n",
       "      <td>3.397163</td>\n",
       "      <td>3.760507</td>\n",
       "      <td>4.944088</td>\n",
       "      <td>3.959575</td>\n",
       "    </tr>\n",
       "    <tr>\n",
       "      <th>2015-09-01</th>\n",
       "      <td>3.499898</td>\n",
       "      <td>4.188811</td>\n",
       "      <td>3.044213</td>\n",
       "      <td>3.225813</td>\n",
       "      <td>4.814330</td>\n",
       "      <td>3.500000</td>\n",
       "    </tr>\n",
       "    <tr>\n",
       "      <th>2015-10-01</th>\n",
       "      <td>3.535391</td>\n",
       "      <td>3.014136</td>\n",
       "      <td>3.734409</td>\n",
       "      <td>3.404698</td>\n",
       "      <td>4.661990</td>\n",
       "      <td>3.074000</td>\n",
       "    </tr>\n",
       "    <tr>\n",
       "      <th>2015-11-01</th>\n",
       "      <td>3.531926</td>\n",
       "      <td>3.665946</td>\n",
       "      <td>3.883331</td>\n",
       "      <td>3.435305</td>\n",
       "      <td>4.550795</td>\n",
       "      <td>4.550638</td>\n",
       "    </tr>\n",
       "    <tr>\n",
       "      <th>2015-12-01</th>\n",
       "      <td>3.676716</td>\n",
       "      <td>3.077250</td>\n",
       "      <td>3.916587</td>\n",
       "      <td>3.830264</td>\n",
       "      <td>4.665583</td>\n",
       "      <td>3.240146</td>\n",
       "    </tr>\n",
       "  </tbody>\n",
       "</table>\n",
       "</div>"
      ],
      "text/plain": [
       "           cost_per_watt                                               \\\n",
       "i_type        commercial educational government nonprofit residential   \n",
       "2015-08-01      3.706003         NaN   3.397163  3.760507    4.944088   \n",
       "2015-09-01      3.499898    4.188811   3.044213  3.225813    4.814330   \n",
       "2015-10-01      3.535391    3.014136   3.734409  3.404698    4.661990   \n",
       "2015-11-01      3.531926    3.665946   3.883331  3.435305    4.550795   \n",
       "2015-12-01      3.676716    3.077250   3.916587  3.830264    4.665583   \n",
       "\n",
       "                      \n",
       "i_type       unknown  \n",
       "2015-08-01  3.959575  \n",
       "2015-09-01  3.500000  \n",
       "2015-10-01  3.074000  \n",
       "2015-11-01  4.550638  \n",
       "2015-12-01  3.240146  "
      ]
     },
     "execution_count": 23,
     "metadata": {},
     "output_type": "execute_result"
    }
   ],
   "source": [
    "dt_cpwType.loc[:, (slice(None), ['residential', 'commercial', 'unknown', \n",
    "                    'government', 'nonprofit', 'educational'])].tail()"
   ]
  },
  {
   "cell_type": "code",
   "execution_count": 24,
   "metadata": {},
   "outputs": [
    {
     "data": {
      "text/plain": [
       "residential     898183\n",
       "commercial       35950\n",
       "unknown          19520\n",
       "government        5702\n",
       "nonprofit         4220\n",
       "educational       2572\n",
       "agricultural       349\n",
       "utility            224\n",
       "Name: i_type, dtype: int64"
      ]
     },
     "execution_count": 24,
     "metadata": {},
     "output_type": "execute_result"
    }
   ],
   "source": [
    "# what are the value_counts again?  I want to leave out the ones with not many installations.\n",
    "dfLive.i_type.value_counts()"
   ]
  },
  {
   "cell_type": "code",
   "execution_count": 25,
   "metadata": {},
   "outputs": [
    {
     "data": {
      "image/png": "[encoded data removed]",
      "text/plain": [
       "<matplotlib.figure.Figure at 0x1ee6ac6a2b0>"
      ]
     },
     "metadata": {},
     "output_type": "display_data"
    }
   ],
   "source": [
    "dt_cpwType.loc[:, (slice(None), ['residential', 'commercial'])].plot() \n",
    "# marker='.', linestyle='none'\n",
    "plt.title('Median cost/watt for different customer types over time')\n",
    "plt.xlabel('Installation Date')\n",
    "plt.ylabel('Cost per watt');"
   ]
  },
  {
   "cell_type": "markdown",
   "metadata": {},
   "source": [
    "### What does this chart tell us?\n",
    "\n",
    "It says:\n",
    "\n",
    "1. cost per watt declines for all installations from 2005 to 2015.\n",
    "2. residential customers pay more than commercial customers.\n",
    "\n",
    "#### What does it make me want to ask?\n",
    "\n",
    "1. it that strictly a function of size?  \n",
    "2. are commercial installations generally larger than residential installations?\n",
    "3. does that vary with time?\n",
    "4. what is the distribution of size by i_type?  does that vary over time.\n",
    "\n",
    "\n",
    "\n"
   ]
  },
  {
   "cell_type": "code",
   "execution_count": 26,
   "metadata": {},
   "outputs": [],
   "source": [
    "byType = dfLive.groupby('i_type')"
   ]
  },
  {
   "cell_type": "code",
   "execution_count": 27,
   "metadata": {},
   "outputs": [
    {
     "data": {
      "text/html": [
       "<div>\n",
       "<style scoped>\n",
       "    .dataframe tbody tr th:only-of-type {\n",
       "        vertical-align: middle;\n",
       "    }\n",
       "\n",
       "    .dataframe tbody tr th {\n",
       "        vertical-align: top;\n",
       "    }\n",
       "\n",
       "    .dataframe thead th {\n",
       "        text-align: right;\n",
       "    }\n",
       "</style>\n",
       "<table border=\"1\" class=\"dataframe\">\n",
       "  <thead>\n",
       "    <tr style=\"text-align: right;\">\n",
       "      <th></th>\n",
       "      <th>count</th>\n",
       "      <th>mean</th>\n",
       "      <th>std</th>\n",
       "      <th>min</th>\n",
       "      <th>25%</th>\n",
       "      <th>50%</th>\n",
       "      <th>75%</th>\n",
       "      <th>max</th>\n",
       "    </tr>\n",
       "    <tr>\n",
       "      <th>i_type</th>\n",
       "      <th></th>\n",
       "      <th></th>\n",
       "      <th></th>\n",
       "      <th></th>\n",
       "      <th></th>\n",
       "      <th></th>\n",
       "      <th></th>\n",
       "      <th></th>\n",
       "    </tr>\n",
       "  </thead>\n",
       "  <tbody>\n",
       "    <tr>\n",
       "      <th>agricultural</th>\n",
       "      <td>349.0</td>\n",
       "      <td>54.388754</td>\n",
       "      <td>192.500899</td>\n",
       "      <td>0.5700</td>\n",
       "      <td>9.84000</td>\n",
       "      <td>20.460</td>\n",
       "      <td>51.300</td>\n",
       "      <td>3251.28</td>\n",
       "    </tr>\n",
       "    <tr>\n",
       "      <th>commercial</th>\n",
       "      <td>35950.0</td>\n",
       "      <td>117.419603</td>\n",
       "      <td>434.520770</td>\n",
       "      <td>0.0400</td>\n",
       "      <td>9.90000</td>\n",
       "      <td>24.705</td>\n",
       "      <td>63.420</td>\n",
       "      <td>18000.00</td>\n",
       "    </tr>\n",
       "    <tr>\n",
       "      <th>educational</th>\n",
       "      <td>2572.0</td>\n",
       "      <td>162.975931</td>\n",
       "      <td>364.117021</td>\n",
       "      <td>0.3800</td>\n",
       "      <td>20.44500</td>\n",
       "      <td>63.640</td>\n",
       "      <td>171.395</td>\n",
       "      <td>6108.83</td>\n",
       "    </tr>\n",
       "    <tr>\n",
       "      <th>government</th>\n",
       "      <td>5702.0</td>\n",
       "      <td>223.714317</td>\n",
       "      <td>461.754086</td>\n",
       "      <td>0.1300</td>\n",
       "      <td>20.22375</td>\n",
       "      <td>72.380</td>\n",
       "      <td>228.875</td>\n",
       "      <td>10000.00</td>\n",
       "    </tr>\n",
       "    <tr>\n",
       "      <th>nonprofit</th>\n",
       "      <td>4220.0</td>\n",
       "      <td>95.156413</td>\n",
       "      <td>242.316759</td>\n",
       "      <td>0.0100</td>\n",
       "      <td>10.56000</td>\n",
       "      <td>25.380</td>\n",
       "      <td>66.550</td>\n",
       "      <td>4778.72</td>\n",
       "    </tr>\n",
       "    <tr>\n",
       "      <th>residential</th>\n",
       "      <td>898183.0</td>\n",
       "      <td>7.273613</td>\n",
       "      <td>843.057750</td>\n",
       "      <td>0.0056</td>\n",
       "      <td>3.74880</td>\n",
       "      <td>5.390</td>\n",
       "      <td>7.520</td>\n",
       "      <td>737319.00</td>\n",
       "    </tr>\n",
       "    <tr>\n",
       "      <th>unknown</th>\n",
       "      <td>19520.0</td>\n",
       "      <td>64.453779</td>\n",
       "      <td>366.494036</td>\n",
       "      <td>0.1500</td>\n",
       "      <td>3.80000</td>\n",
       "      <td>6.480</td>\n",
       "      <td>11.000</td>\n",
       "      <td>18000.00</td>\n",
       "    </tr>\n",
       "    <tr>\n",
       "      <th>utility</th>\n",
       "      <td>224.0</td>\n",
       "      <td>8021.190232</td>\n",
       "      <td>23873.558319</td>\n",
       "      <td>0.9000</td>\n",
       "      <td>710.00000</td>\n",
       "      <td>2303.500</td>\n",
       "      <td>10000.000</td>\n",
       "      <td>333000.00</td>\n",
       "    </tr>\n",
       "  </tbody>\n",
       "</table>\n",
       "</div>"
      ],
      "text/plain": [
       "                 count         mean           std     min        25%  \\\n",
       "i_type                                                                 \n",
       "agricultural     349.0    54.388754    192.500899  0.5700    9.84000   \n",
       "commercial     35950.0   117.419603    434.520770  0.0400    9.90000   \n",
       "educational     2572.0   162.975931    364.117021  0.3800   20.44500   \n",
       "government      5702.0   223.714317    461.754086  0.1300   20.22375   \n",
       "nonprofit       4220.0    95.156413    242.316759  0.0100   10.56000   \n",
       "residential   898183.0     7.273613    843.057750  0.0056    3.74880   \n",
       "unknown        19520.0    64.453779    366.494036  0.1500    3.80000   \n",
       "utility          224.0  8021.190232  23873.558319  0.9000  710.00000   \n",
       "\n",
       "                   50%        75%        max  \n",
       "i_type                                        \n",
       "agricultural    20.460     51.300    3251.28  \n",
       "commercial      24.705     63.420   18000.00  \n",
       "educational     63.640    171.395    6108.83  \n",
       "government      72.380    228.875   10000.00  \n",
       "nonprofit       25.380     66.550    4778.72  \n",
       "residential      5.390      7.520  737319.00  \n",
       "unknown          6.480     11.000   18000.00  \n",
       "utility       2303.500  10000.000  333000.00  "
      ]
     },
     "execution_count": 27,
     "metadata": {},
     "output_type": "execute_result"
    }
   ],
   "source": [
    "byType.size_kw.describe()"
   ]
  },
  {
   "cell_type": "code",
   "execution_count": 28,
   "metadata": {},
   "outputs": [
    {
     "data": {
      "text/plain": [
       "i_type\n",
       "agricultural    AxesSubplot(0.125,0.2;0.775x0.68)\n",
       "commercial      AxesSubplot(0.125,0.2;0.775x0.68)\n",
       "educational     AxesSubplot(0.125,0.2;0.775x0.68)\n",
       "government      AxesSubplot(0.125,0.2;0.775x0.68)\n",
       "nonprofit       AxesSubplot(0.125,0.2;0.775x0.68)\n",
       "residential     AxesSubplot(0.125,0.2;0.775x0.68)\n",
       "unknown         AxesSubplot(0.125,0.2;0.775x0.68)\n",
       "utility         AxesSubplot(0.125,0.2;0.775x0.68)\n",
       "Name: size_kw, dtype: object"
      ]
     },
     "execution_count": 28,
     "metadata": {},
     "output_type": "execute_result"
    },
    {
     "data": {
      "image/png": "[encoded data removed]",
      "text/plain": [
       "<matplotlib.figure.Figure at 0x1ee003aeda0>"
      ]
     },
     "metadata": {},
     "output_type": "display_data"
    }
   ],
   "source": [
    "byType.size_kw.plot()"
   ]
  },
  {
   "cell_type": "code",
   "execution_count": 29,
   "metadata": {},
   "outputs": [],
   "source": [
    "# not working the way I want\n",
    "# (byType.size_kw).apply(np.log10).plot()"
   ]
  },
  {
   "cell_type": "markdown",
   "metadata": {},
   "source": [
    "### What does this say?  \n",
    "\n",
    "It says residential has some wacky data.  The largest utility install is 333 MWatts.  The largest residential install has 737 MWatts.  I don't think so.\n",
    "\n",
    "Actually I think all of these maximums are broken; probably off by factor of 1000."
   ]
  },
  {
   "cell_type": "code",
   "execution_count": 30,
   "metadata": {},
   "outputs": [],
   "source": [
    "# look at res size > 100kw\n",
    "res_install = (dfLive.i_type == 'residential')"
   ]
  },
  {
   "cell_type": "code",
   "execution_count": 31,
   "metadata": {},
   "outputs": [
    {
     "data": {
      "text/plain": [
       "date_installed\n",
       "2004-01-01    False\n",
       "2004-01-01    False\n",
       "2004-01-01    False\n",
       "2004-01-01    False\n",
       "2004-01-01    False\n",
       "Name: i_type, dtype: bool"
      ]
     },
     "execution_count": 31,
     "metadata": {},
     "output_type": "execute_result"
    }
   ],
   "source": [
    "res_install.head()"
   ]
  },
  {
   "cell_type": "code",
   "execution_count": 32,
   "metadata": {},
   "outputs": [],
   "source": [
    "res_huge = dfLive.loc[res_install & (dfLive.size_kw > 1000)]"
   ]
  },
  {
   "cell_type": "code",
   "execution_count": 33,
   "metadata": {},
   "outputs": [
    {
     "data": {
      "text/plain": [
       "198"
      ]
     },
     "execution_count": 33,
     "metadata": {},
     "output_type": "execute_result"
    }
   ],
   "source": [
    "res_huge.size"
   ]
  },
  {
   "cell_type": "code",
   "execution_count": 34,
   "metadata": {},
   "outputs": [
    {
     "data": {
      "text/html": [
       "<div>\n",
       "<style scoped>\n",
       "    .dataframe tbody tr th:only-of-type {\n",
       "        vertical-align: middle;\n",
       "    }\n",
       "\n",
       "    .dataframe tbody tr th {\n",
       "        vertical-align: top;\n",
       "    }\n",
       "\n",
       "    .dataframe thead th {\n",
       "        text-align: right;\n",
       "    }\n",
       "</style>\n",
       "<table border=\"1\" class=\"dataframe\">\n",
       "  <thead>\n",
       "    <tr style=\"text-align: right;\">\n",
       "      <th></th>\n",
       "      <th>cost_per_watt</th>\n",
       "      <th>cost</th>\n",
       "      <th>size_kw</th>\n",
       "      <th>state</th>\n",
       "      <th>zipcode</th>\n",
       "      <th>city</th>\n",
       "      <th>county</th>\n",
       "      <th>new_constr</th>\n",
       "      <th>tracking</th>\n",
       "      <th>third_party</th>\n",
       "      <th>appraised</th>\n",
       "      <th>incentive</th>\n",
       "      <th>utility</th>\n",
       "      <th>tech</th>\n",
       "      <th>model</th>\n",
       "      <th>installer</th>\n",
       "      <th>bipv</th>\n",
       "      <th>i_type</th>\n",
       "    </tr>\n",
       "    <tr>\n",
       "      <th>date_installed</th>\n",
       "      <th></th>\n",
       "      <th></th>\n",
       "      <th></th>\n",
       "      <th></th>\n",
       "      <th></th>\n",
       "      <th></th>\n",
       "      <th></th>\n",
       "      <th></th>\n",
       "      <th></th>\n",
       "      <th></th>\n",
       "      <th></th>\n",
       "      <th></th>\n",
       "      <th></th>\n",
       "      <th></th>\n",
       "      <th></th>\n",
       "      <th></th>\n",
       "      <th></th>\n",
       "      <th></th>\n",
       "    </tr>\n",
       "  </thead>\n",
       "  <tbody>\n",
       "    <tr>\n",
       "      <th>2010-03-15</th>\n",
       "      <td>NaN</td>\n",
       "      <td>NaN</td>\n",
       "      <td>4140.000000</td>\n",
       "      <td>FL</td>\n",
       "      <td>32958</td>\n",
       "      <td>NaN</td>\n",
       "      <td>Indian River</td>\n",
       "      <td>NaN</td>\n",
       "      <td>NaN</td>\n",
       "      <td>NaN</td>\n",
       "      <td>NaN</td>\n",
       "      <td>NaN</td>\n",
       "      <td>NaN</td>\n",
       "      <td>NaN</td>\n",
       "      <td>NaN</td>\n",
       "      <td>NaN</td>\n",
       "      <td>NaN</td>\n",
       "      <td>residential</td>\n",
       "    </tr>\n",
       "    <tr>\n",
       "      <th>2012-11-27</th>\n",
       "      <td>NaN</td>\n",
       "      <td>NaN</td>\n",
       "      <td>1653.312000</td>\n",
       "      <td>NJ</td>\n",
       "      <td>8536</td>\n",
       "      <td>NaN</td>\n",
       "      <td>Middlesex</td>\n",
       "      <td>NaN</td>\n",
       "      <td>NaN</td>\n",
       "      <td>NaN</td>\n",
       "      <td>NaN</td>\n",
       "      <td>NaN</td>\n",
       "      <td>NaN</td>\n",
       "      <td>NaN</td>\n",
       "      <td>NaN</td>\n",
       "      <td>NaN</td>\n",
       "      <td>NaN</td>\n",
       "      <td>residential</td>\n",
       "    </tr>\n",
       "    <tr>\n",
       "      <th>2014-06-10</th>\n",
       "      <td>NaN</td>\n",
       "      <td>NaN</td>\n",
       "      <td>1040.416667</td>\n",
       "      <td>CA</td>\n",
       "      <td>92241</td>\n",
       "      <td>DESERT HOT SPRINGS</td>\n",
       "      <td>Riverside</td>\n",
       "      <td>NaN</td>\n",
       "      <td>NaN</td>\n",
       "      <td>NaN</td>\n",
       "      <td>NaN</td>\n",
       "      <td>California Public Utilities Commission (Non-CS...</td>\n",
       "      <td>Southern California Edison</td>\n",
       "      <td>NaN</td>\n",
       "      <td>NaN</td>\n",
       "      <td>Shorebreak Energy Developers</td>\n",
       "      <td>NaN</td>\n",
       "      <td>residential</td>\n",
       "    </tr>\n",
       "    <tr>\n",
       "      <th>2014-06-11</th>\n",
       "      <td>NaN</td>\n",
       "      <td>NaN</td>\n",
       "      <td>307696.000000</td>\n",
       "      <td>CA</td>\n",
       "      <td>95678</td>\n",
       "      <td>Roseville</td>\n",
       "      <td>Placer</td>\n",
       "      <td>NaN</td>\n",
       "      <td>NaN</td>\n",
       "      <td>NaN</td>\n",
       "      <td>NaN</td>\n",
       "      <td>Roseville Electric</td>\n",
       "      <td>Roseville Electric</td>\n",
       "      <td>NaN</td>\n",
       "      <td>NaN</td>\n",
       "      <td>NaN</td>\n",
       "      <td>NaN</td>\n",
       "      <td>residential</td>\n",
       "    </tr>\n",
       "    <tr>\n",
       "      <th>2014-12-18</th>\n",
       "      <td>1.870232</td>\n",
       "      <td>3720864.0</td>\n",
       "      <td>1989.520000</td>\n",
       "      <td>MA</td>\n",
       "      <td>2720</td>\n",
       "      <td>Fall River</td>\n",
       "      <td>Bristol</td>\n",
       "      <td>NaN</td>\n",
       "      <td>NaN</td>\n",
       "      <td>1.0</td>\n",
       "      <td>NaN</td>\n",
       "      <td>Massachusetts Department of Energy Resources</td>\n",
       "      <td>National Grid</td>\n",
       "      <td>NaN</td>\n",
       "      <td>NaN</td>\n",
       "      <td>Rexel Energy Solutions</td>\n",
       "      <td>NaN</td>\n",
       "      <td>residential</td>\n",
       "    </tr>\n",
       "  </tbody>\n",
       "</table>\n",
       "</div>"
      ],
      "text/plain": [
       "                cost_per_watt       cost        size_kw state  zipcode  \\\n",
       "date_installed                                                           \n",
       "2010-03-15                NaN        NaN    4140.000000    FL    32958   \n",
       "2012-11-27                NaN        NaN    1653.312000    NJ     8536   \n",
       "2014-06-10                NaN        NaN    1040.416667    CA    92241   \n",
       "2014-06-11                NaN        NaN  307696.000000    CA    95678   \n",
       "2014-12-18           1.870232  3720864.0    1989.520000    MA     2720   \n",
       "\n",
       "                              city        county  new_constr  tracking  \\\n",
       "date_installed                                                           \n",
       "2010-03-15                     NaN  Indian River         NaN       NaN   \n",
       "2012-11-27                     NaN     Middlesex         NaN       NaN   \n",
       "2014-06-10      DESERT HOT SPRINGS     Riverside         NaN       NaN   \n",
       "2014-06-11               Roseville        Placer         NaN       NaN   \n",
       "2014-12-18              Fall River       Bristol         NaN       NaN   \n",
       "\n",
       "                third_party appraised  \\\n",
       "date_installed                          \n",
       "2010-03-15              NaN       NaN   \n",
       "2012-11-27              NaN       NaN   \n",
       "2014-06-10              NaN       NaN   \n",
       "2014-06-11              NaN       NaN   \n",
       "2014-12-18              1.0       NaN   \n",
       "\n",
       "                                                        incentive  \\\n",
       "date_installed                                                      \n",
       "2010-03-15                                                    NaN   \n",
       "2012-11-27                                                    NaN   \n",
       "2014-06-10      California Public Utilities Commission (Non-CS...   \n",
       "2014-06-11                                     Roseville Electric   \n",
       "2014-12-18           Massachusetts Department of Energy Resources   \n",
       "\n",
       "                                   utility tech model  \\\n",
       "date_installed                                          \n",
       "2010-03-15                             NaN  NaN   NaN   \n",
       "2012-11-27                             NaN  NaN   NaN   \n",
       "2014-06-10      Southern California Edison  NaN   NaN   \n",
       "2014-06-11              Roseville Electric  NaN   NaN   \n",
       "2014-12-18                   National Grid  NaN   NaN   \n",
       "\n",
       "                                   installer  bipv       i_type  \n",
       "date_installed                                                   \n",
       "2010-03-15                               NaN   NaN  residential  \n",
       "2012-11-27                               NaN   NaN  residential  \n",
       "2014-06-10      Shorebreak Energy Developers   NaN  residential  \n",
       "2014-06-11                               NaN   NaN  residential  \n",
       "2014-12-18            Rexel Energy Solutions   NaN  residential  "
      ]
     },
     "execution_count": 34,
     "metadata": {},
     "output_type": "execute_result"
    }
   ],
   "source": [
    "res_huge.head()"
   ]
  },
  {
   "cell_type": "code",
   "execution_count": 35,
   "metadata": {},
   "outputs": [],
   "source": [
    "x, y = ecdf(dfLive.loc[res_install].size_kw)"
   ]
  },
  {
   "cell_type": "code",
   "execution_count": 36,
   "metadata": {},
   "outputs": [
    {
     "data": {
      "image/png": "[encoded data removed]",
      "text/plain": [
       "<matplotlib.figure.Figure at 0x1ee00409978>"
      ]
     },
     "metadata": {},
     "output_type": "display_data"
    }
   ],
   "source": [
    "np.log10(dfLive.loc[res_install].size_kw).plot(kind='hist', bins=30);"
   ]
  },
  {
   "cell_type": "code",
   "execution_count": 37,
   "metadata": {},
   "outputs": [],
   "source": [
    "lose_junk = dfLive.drop(dfLive.loc[res_install & (dfLive.size_kw > 100)].index)"
   ]
  },
  {
   "cell_type": "code",
   "execution_count": 38,
   "metadata": {},
   "outputs": [
    {
     "data": {
      "text/plain": [
       "<matplotlib.axes._subplots.AxesSubplot at 0x1ee162f5828>"
      ]
     },
     "execution_count": 38,
     "metadata": {},
     "output_type": "execute_result"
    },
    {
     "data": {
      "image/png": "[encoded data removed]",
      "text/plain": [
       "<matplotlib.figure.Figure at 0x1ee03752860>"
      ]
     },
     "metadata": {},
     "output_type": "display_data"
    }
   ],
   "source": [
    "np.log10(lose_junk.loc[lose_junk.i_type == 'residential'].size_kw).plot(kind='hist', bins=30)"
   ]
  },
  {
   "cell_type": "code",
   "execution_count": 39,
   "metadata": {},
   "outputs": [],
   "source": [
    "theMask = (lose_junk.i_type == 'residential') & lose_junk.size_kw.notnull()"
   ]
  },
  {
   "cell_type": "code",
   "execution_count": 40,
   "metadata": {},
   "outputs": [
    {
     "data": {
      "text/plain": [
       "<matplotlib.axes._subplots.AxesSubplot at 0x1ee03792128>"
      ]
     },
     "execution_count": 40,
     "metadata": {},
     "output_type": "execute_result"
    },
    {
     "data": {
      "image/png": "[encoded data removed]",
      "text/plain": [
       "<matplotlib.figure.Figure at 0x1ee003ae780>"
      ]
     },
     "metadata": {},
     "output_type": "display_data"
    }
   ],
   "source": [
    "lose_junk.loc[lose_junk.i_type == 'residential'].size_kw.plot(kind='hist', bins=60)"
   ]
  },
  {
   "cell_type": "code",
   "execution_count": 41,
   "metadata": {},
   "outputs": [],
   "source": [
    "x, y = ecdf(lose_junk.loc[theMask].size_kw)"
   ]
  },
  {
   "cell_type": "code",
   "execution_count": 42,
   "metadata": {},
   "outputs": [
    {
     "data": {
      "text/plain": [
       "[<matplotlib.lines.Line2D at 0x1ee0312ef60>]"
      ]
     },
     "execution_count": 42,
     "metadata": {},
     "output_type": "execute_result"
    },
    {
     "data": {
      "image/png": "[encoded data removed]",
      "text/plain": [
       "<matplotlib.figure.Figure at 0x1ee6fb8be48>"
      ]
     },
     "metadata": {},
     "output_type": "display_data"
    }
   ],
   "source": [
    "plt.plot(x, y)"
   ]
  },
  {
   "cell_type": "code",
   "execution_count": 43,
   "metadata": {},
   "outputs": [
    {
     "data": {
      "text/plain": [
       "<matplotlib.axes._subplots.AxesSubplot at 0x1ee030db780>"
      ]
     },
     "execution_count": 43,
     "metadata": {},
     "output_type": "execute_result"
    },
    {
     "data": {
      "image/png": "[encoded data removed]",
      "text/plain": [
       "<matplotlib.figure.Figure at 0x1ee6e5dc470>"
      ]
     },
     "metadata": {},
     "output_type": "display_data"
    }
   ],
   "source": [
    "lose_junk.loc[lose_junk.i_type == 'residential'].size_kw.plot(kind='hist', bins=60, cumulative=True)"
   ]
  },
  {
   "cell_type": "markdown",
   "metadata": {},
   "source": [
    "#### What's a mother to do?\n",
    "\n",
    "I have to get rid of the crappy data or it'll take way too much time and I'll keep losing the thread.\n",
    "\n",
    "One sign of crappy data is that there's a null in size_kw or cost or cost_per_watt.\n",
    "Another sign is that they're all there, but cost_per_watt != size_kw / cost."
   ]
  },
  {
   "cell_type": "code",
   "execution_count": 44,
   "metadata": {},
   "outputs": [],
   "source": [
    "zeMask = dfLive.size_kw.notnull() & dfLive.cost.notnull() & dfLive.cost_per_watt.notnull()"
   ]
  },
  {
   "cell_type": "code",
   "execution_count": 45,
   "metadata": {},
   "outputs": [],
   "source": [
    "maybeLive = dfLive.loc[zeMask]"
   ]
  },
  {
   "cell_type": "code",
   "execution_count": 46,
   "metadata": {},
   "outputs": [],
   "source": [
    "xx, yy = ecdf(maybeLive.loc[maybeLive.i_type == 'residential'].size_kw)"
   ]
  },
  {
   "cell_type": "code",
   "execution_count": 47,
   "metadata": {},
   "outputs": [
    {
     "data": {
      "text/plain": [
       "[<matplotlib.lines.Line2D at 0x1ee02a60dd8>]"
      ]
     },
     "execution_count": 47,
     "metadata": {},
     "output_type": "execute_result"
    },
    {
     "data": {
      "image/png": "[encoded data removed]",
      "text/plain": [
       "<matplotlib.figure.Figure at 0x1ee00082160>"
      ]
     },
     "metadata": {},
     "output_type": "display_data"
    }
   ],
   "source": [
    "plt.plot(xx, yy)"
   ]
  },
  {
   "cell_type": "code",
   "execution_count": 48,
   "metadata": {},
   "outputs": [
    {
     "data": {
      "text/plain": [
       "<matplotlib.axes._subplots.AxesSubplot at 0x1ee02a44080>"
      ]
     },
     "execution_count": 48,
     "metadata": {},
     "output_type": "execute_result"
    },
    {
     "data": {
      "image/png": "[encoded data removed]",
      "text/plain": [
       "<matplotlib.figure.Figure at 0x1ee02a77198>"
      ]
     },
     "metadata": {},
     "output_type": "display_data"
    }
   ],
   "source": [
    "np.log10(maybeLive.loc[maybeLive.i_type == 'residential'].size_kw).plot(kind='hist', bins = 30)"
   ]
  },
  {
   "cell_type": "code",
   "execution_count": 49,
   "metadata": {
    "scrolled": true
   },
   "outputs": [
    {
     "data": {
      "text/plain": [
       "cost_per_watt     745516\n",
       "cost              745629\n",
       "size_kw          1002025\n",
       "state            1002025\n",
       "zipcode          1002025\n",
       "city              788849\n",
       "county            980790\n",
       "new_constr         27098\n",
       "tracking            1920\n",
       "third_party       306989\n",
       "appraised         223431\n",
       "incentive         788415\n",
       "utility           783186\n",
       "tech              580399\n",
       "model             580399\n",
       "installer         694390\n",
       "bipv                5252\n",
       "i_type            966720\n",
       "dtype: int64"
      ]
     },
     "execution_count": 49,
     "metadata": {},
     "output_type": "execute_result"
    }
   ],
   "source": [
    "dfLive.count()"
   ]
  },
  {
   "cell_type": "code",
   "execution_count": 50,
   "metadata": {},
   "outputs": [
    {
     "name": "stdout",
     "output_type": "stream",
     "text": [
      "<class 'pandas.core.frame.DataFrame'>\n",
      "DatetimeIndex: 1002025 entries, 2004-01-01 to 2015-12-31\n",
      "Data columns (total 18 columns):\n",
      "cost_per_watt    745516 non-null float64\n",
      "cost             745629 non-null float64\n",
      "size_kw          1002025 non-null float64\n",
      "state            1002025 non-null object\n",
      "zipcode          1002025 non-null int64\n",
      "city             788849 non-null object\n",
      "county           980790 non-null object\n",
      "new_constr       27098 non-null float64\n",
      "tracking         1920 non-null float64\n",
      "third_party      306989 non-null float64\n",
      "appraised        223431 non-null object\n",
      "incentive        788415 non-null object\n",
      "utility          783186 non-null object\n",
      "tech             580399 non-null object\n",
      "model            580399 non-null object\n",
      "installer        694390 non-null object\n",
      "bipv             5252 non-null float64\n",
      "i_type           966720 non-null object\n",
      "dtypes: float64(7), int64(1), object(10)\n",
      "memory usage: 165.3+ MB\n"
     ]
    }
   ],
   "source": [
    "dfLive.info()"
   ]
  },
  {
   "cell_type": "code",
   "execution_count": 51,
   "metadata": {},
   "outputs": [
    {
     "data": {
      "text/html": [
       "<div>\n",
       "<style scoped>\n",
       "    .dataframe tbody tr th:only-of-type {\n",
       "        vertical-align: middle;\n",
       "    }\n",
       "\n",
       "    .dataframe tbody tr th {\n",
       "        vertical-align: top;\n",
       "    }\n",
       "\n",
       "    .dataframe thead th {\n",
       "        text-align: right;\n",
       "    }\n",
       "</style>\n",
       "<table border=\"1\" class=\"dataframe\">\n",
       "  <thead>\n",
       "    <tr style=\"text-align: right;\">\n",
       "      <th></th>\n",
       "      <th>cost_per_watt</th>\n",
       "      <th>cost</th>\n",
       "      <th>size_kw</th>\n",
       "      <th>zipcode</th>\n",
       "      <th>new_constr</th>\n",
       "      <th>tracking</th>\n",
       "      <th>third_party</th>\n",
       "      <th>bipv</th>\n",
       "    </tr>\n",
       "  </thead>\n",
       "  <tbody>\n",
       "    <tr>\n",
       "      <th>count</th>\n",
       "      <td>745516.000000</td>\n",
       "      <td>7.456290e+05</td>\n",
       "      <td>1.002025e+06</td>\n",
       "      <td>1.002025e+06</td>\n",
       "      <td>27098.0</td>\n",
       "      <td>1920.0</td>\n",
       "      <td>306989.0</td>\n",
       "      <td>5252.0</td>\n",
       "    </tr>\n",
       "    <tr>\n",
       "      <th>mean</th>\n",
       "      <td>5.864389</td>\n",
       "      <td>6.531153e+04</td>\n",
       "      <td>1.629462e+01</td>\n",
       "      <td>7.168827e+04</td>\n",
       "      <td>1.0</td>\n",
       "      <td>1.0</td>\n",
       "      <td>1.0</td>\n",
       "      <td>1.0</td>\n",
       "    </tr>\n",
       "    <tr>\n",
       "      <th>std</th>\n",
       "      <td>2.026492</td>\n",
       "      <td>4.952030e+05</td>\n",
       "      <td>8.891764e+02</td>\n",
       "      <td>3.564166e+04</td>\n",
       "      <td>0.0</td>\n",
       "      <td>0.0</td>\n",
       "      <td>0.0</td>\n",
       "      <td>0.0</td>\n",
       "    </tr>\n",
       "    <tr>\n",
       "      <th>min</th>\n",
       "      <td>0.000000</td>\n",
       "      <td>0.000000e+00</td>\n",
       "      <td>2.000000e-03</td>\n",
       "      <td>0.000000e+00</td>\n",
       "      <td>1.0</td>\n",
       "      <td>1.0</td>\n",
       "      <td>1.0</td>\n",
       "      <td>1.0</td>\n",
       "    </tr>\n",
       "    <tr>\n",
       "      <th>25%</th>\n",
       "      <td>4.565217</td>\n",
       "      <td>2.114000e+04</td>\n",
       "      <td>3.750000e+00</td>\n",
       "      <td>6.370100e+04</td>\n",
       "      <td>1.0</td>\n",
       "      <td>1.0</td>\n",
       "      <td>1.0</td>\n",
       "      <td>1.0</td>\n",
       "    </tr>\n",
       "    <tr>\n",
       "      <th>50%</th>\n",
       "      <td>5.500000</td>\n",
       "      <td>3.030132e+04</td>\n",
       "      <td>5.500000e+00</td>\n",
       "      <td>9.202600e+04</td>\n",
       "      <td>1.0</td>\n",
       "      <td>1.0</td>\n",
       "      <td>1.0</td>\n",
       "      <td>1.0</td>\n",
       "    </tr>\n",
       "    <tr>\n",
       "      <th>75%</th>\n",
       "      <td>7.050000</td>\n",
       "      <td>4.363560e+04</td>\n",
       "      <td>7.905000e+00</td>\n",
       "      <td>9.371100e+04</td>\n",
       "      <td>1.0</td>\n",
       "      <td>1.0</td>\n",
       "      <td>1.0</td>\n",
       "      <td>1.0</td>\n",
       "    </tr>\n",
       "    <tr>\n",
       "      <th>max</th>\n",
       "      <td>30.000000</td>\n",
       "      <td>1.522000e+08</td>\n",
       "      <td>7.373190e+05</td>\n",
       "      <td>9.973700e+04</td>\n",
       "      <td>1.0</td>\n",
       "      <td>1.0</td>\n",
       "      <td>1.0</td>\n",
       "      <td>1.0</td>\n",
       "    </tr>\n",
       "  </tbody>\n",
       "</table>\n",
       "</div>"
      ],
      "text/plain": [
       "       cost_per_watt          cost       size_kw       zipcode  new_constr  \\\n",
       "count  745516.000000  7.456290e+05  1.002025e+06  1.002025e+06     27098.0   \n",
       "mean        5.864389  6.531153e+04  1.629462e+01  7.168827e+04         1.0   \n",
       "std         2.026492  4.952030e+05  8.891764e+02  3.564166e+04         0.0   \n",
       "min         0.000000  0.000000e+00  2.000000e-03  0.000000e+00         1.0   \n",
       "25%         4.565217  2.114000e+04  3.750000e+00  6.370100e+04         1.0   \n",
       "50%         5.500000  3.030132e+04  5.500000e+00  9.202600e+04         1.0   \n",
       "75%         7.050000  4.363560e+04  7.905000e+00  9.371100e+04         1.0   \n",
       "max        30.000000  1.522000e+08  7.373190e+05  9.973700e+04         1.0   \n",
       "\n",
       "       tracking  third_party    bipv  \n",
       "count    1920.0     306989.0  5252.0  \n",
       "mean        1.0          1.0     1.0  \n",
       "std         0.0          0.0     0.0  \n",
       "min         1.0          1.0     1.0  \n",
       "25%         1.0          1.0     1.0  \n",
       "50%         1.0          1.0     1.0  \n",
       "75%         1.0          1.0     1.0  \n",
       "max         1.0          1.0     1.0  "
      ]
     },
     "execution_count": 51,
     "metadata": {},
     "output_type": "execute_result"
    }
   ],
   "source": [
    "dfLive.describe()"
   ]
  },
  {
   "cell_type": "code",
   "execution_count": 52,
   "metadata": {},
   "outputs": [
    {
     "data": {
      "text/html": [
       "<div>\n",
       "<style scoped>\n",
       "    .dataframe tbody tr th:only-of-type {\n",
       "        vertical-align: middle;\n",
       "    }\n",
       "\n",
       "    .dataframe tbody tr th {\n",
       "        vertical-align: top;\n",
       "    }\n",
       "\n",
       "    .dataframe thead th {\n",
       "        text-align: right;\n",
       "    }\n",
       "</style>\n",
       "<table border=\"1\" class=\"dataframe\">\n",
       "  <thead>\n",
       "    <tr style=\"text-align: right;\">\n",
       "      <th></th>\n",
       "      <th>state</th>\n",
       "      <th>city</th>\n",
       "      <th>county</th>\n",
       "      <th>appraised</th>\n",
       "      <th>incentive</th>\n",
       "      <th>utility</th>\n",
       "      <th>tech</th>\n",
       "      <th>model</th>\n",
       "      <th>installer</th>\n",
       "      <th>i_type</th>\n",
       "    </tr>\n",
       "  </thead>\n",
       "  <tbody>\n",
       "    <tr>\n",
       "      <th>count</th>\n",
       "      <td>1002025</td>\n",
       "      <td>788849</td>\n",
       "      <td>980790</td>\n",
       "      <td>223431</td>\n",
       "      <td>788415</td>\n",
       "      <td>783186</td>\n",
       "      <td>580399</td>\n",
       "      <td>580399</td>\n",
       "      <td>694390</td>\n",
       "      <td>966720</td>\n",
       "    </tr>\n",
       "    <tr>\n",
       "      <th>unique</th>\n",
       "      <td>52</td>\n",
       "      <td>11152</td>\n",
       "      <td>1019</td>\n",
       "      <td>1</td>\n",
       "      <td>65</td>\n",
       "      <td>378</td>\n",
       "      <td>11</td>\n",
       "      <td>3263</td>\n",
       "      <td>10168</td>\n",
       "      <td>8</td>\n",
       "    </tr>\n",
       "    <tr>\n",
       "      <th>top</th>\n",
       "      <td>CA</td>\n",
       "      <td>SAN DIEGO</td>\n",
       "      <td>Los Angeles</td>\n",
       "      <td>True</td>\n",
       "      <td>California Public Utilities Commission (Non-CS...</td>\n",
       "      <td>Pacific Gas &amp; Electric Company</td>\n",
       "      <td>Poly</td>\n",
       "      <td>multiple matches</td>\n",
       "      <td>SolarCity</td>\n",
       "      <td>residential</td>\n",
       "    </tr>\n",
       "    <tr>\n",
       "      <th>freq</th>\n",
       "      <td>611709</td>\n",
       "      <td>13681</td>\n",
       "      <td>80985</td>\n",
       "      <td>223431</td>\n",
       "      <td>260940</td>\n",
       "      <td>211222</td>\n",
       "      <td>350294</td>\n",
       "      <td>96843</td>\n",
       "      <td>167523</td>\n",
       "      <td>898183</td>\n",
       "    </tr>\n",
       "  </tbody>\n",
       "</table>\n",
       "</div>"
      ],
      "text/plain": [
       "          state       city       county appraised  \\\n",
       "count   1002025     788849       980790    223431   \n",
       "unique       52      11152         1019         1   \n",
       "top          CA  SAN DIEGO  Los Angeles      True   \n",
       "freq     611709      13681        80985    223431   \n",
       "\n",
       "                                                incentive  \\\n",
       "count                                              788415   \n",
       "unique                                                 65   \n",
       "top     California Public Utilities Commission (Non-CS...   \n",
       "freq                                               260940   \n",
       "\n",
       "                               utility    tech             model  installer  \\\n",
       "count                           783186  580399            580399     694390   \n",
       "unique                             378      11              3263      10168   \n",
       "top     Pacific Gas & Electric Company    Poly  multiple matches  SolarCity   \n",
       "freq                            211222  350294             96843     167523   \n",
       "\n",
       "             i_type  \n",
       "count        966720  \n",
       "unique            8  \n",
       "top     residential  \n",
       "freq         898183  "
      ]
     },
     "execution_count": 52,
     "metadata": {},
     "output_type": "execute_result"
    }
   ],
   "source": [
    "dfLive.describe(include=np.object)"
   ]
  }
 ],
 "metadata": {
  "kernelspec": {
   "display_name": "Python 3",
   "language": "python",
   "name": "python3"
  },
  "language_info": {
   "codemirror_mode": {
    "name": "ipython",
    "version": 3
   },
   "file_extension": ".py",
   "mimetype": "text/x-python",
   "name": "python",
   "nbconvert_exporter": "python",
   "pygments_lexer": "ipython3",
   "version": "3.6.3"
  }
 },
 "nbformat": 4,
 "nbformat_minor": 2
}
