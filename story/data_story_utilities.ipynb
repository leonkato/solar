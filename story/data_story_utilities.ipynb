{
 "cells": [
  {
   "cell_type": "markdown",
   "metadata": {},
   "source": [
    "## Data Stories\n",
    "\n",
    "Let's have some fun poking around the data.  \n",
    "\n",
    "Contents:\n",
    "1. imports\n",
    "2. ecdf, min_1_50_99_max\n",
    "    * todo: rename that fn min015099max\n",
    "3. load data\n",
    "4. check index for nulls\n",
    "5. peek at data\n",
    "6. ensure sorted index\n",
    "7. info\n",
    "8. drop empty cols\n",
    "9. check\n",
    "10. assign\n",
    "11. plot cost_per_watt vs data\n",
    "12. make mdf for linear regression\n",
    "13. lose rows with null values\n",
    "14. peek at mdf\n",
    "15. reset the index (for consecutive.\n",
    "16. lose old index\n",
    "17. peek again\n",
    "18. build series days: days since day0\n",
    "19. new col for mdf name: ndays, content: days\n",
    "20. peek\n",
    "21. sns.lmplot model\n",
    "22. fit with ols\n",
    "23. sns.pairplot\n",
    "24. sns lmplot cost and size\n",
    "25. fit with ols - $R^2$ is strong"
   ]
  },
  {
   "cell_type": "markdown",
   "metadata": {},
   "source": [
    "### Start by loading up"
   ]
  },
  {
   "cell_type": "code",
   "execution_count": 1,
   "metadata": {},
   "outputs": [
    {
     "name": "stderr",
     "output_type": "stream",
     "text": [
      "C:\\Users\\saus\\Anaconda3\\lib\\site-packages\\statsmodels\\compat\\pandas.py:56: FutureWarning: The pandas.core.datetools module is deprecated and will be removed in a future version. Please use the pandas.tseries module instead.\n",
      "  from pandas.core import datetools\n"
     ]
    }
   ],
   "source": [
    "# I need a python setup file.\n",
    "\n",
    "# set up\n",
    "import numpy as np\n",
    "import pandas as pd\n",
    "import random\n",
    "import matplotlib.pyplot as plt\n",
    "import seaborn as sns\n",
    "import scipy.stats as stats\n",
    "# Import regression modules\n",
    "import statsmodels.api as sm\n",
    "from statsmodels.formula.api import ols\n",
    "\n",
    "sns.set()\n",
    "%matplotlib inline"
   ]
  },
  {
   "cell_type": "code",
   "execution_count": 2,
   "metadata": {},
   "outputs": [],
   "source": [
    "def ecdf(data):\n",
    "    \"\"\"Compute ECDF for a one-dimensional array of measurements.\"\"\"\n",
    "    # Number of data points: n\n",
    "    n = len(data)\n",
    "    # x-data for the ECDF: x\n",
    "    x = np.sort(data)\n",
    "    # y-data for the ECDF: y\n",
    "    y = np.arange(1, n + 1) / n\n",
    "    return x, y\n",
    "\n",
    "def min_1_50_99_max(series):\n",
    "    vals = list(np.percentile(series, [1.0, 50.0, 99.0]))\n",
    "    vals.insert(-1, series.max())\n",
    "    vals.insert(0, series.min())\n",
    "    return vals\n",
    "\n",
    "# ss = np.arange(1, 101)\n",
    "# min_1_50_99_max(ss)                "
   ]
  },
  {
   "cell_type": "code",
   "execution_count": 3,
   "metadata": {},
   "outputs": [],
   "source": [
    "# load df\n",
    "utils = pd.read_csv('../local/data/utilities.csv', index_col='date_installed', parse_dates=True)"
   ]
  },
  {
   "cell_type": "code",
   "execution_count": 4,
   "metadata": {},
   "outputs": [
    {
     "data": {
      "text/plain": [
       "0"
      ]
     },
     "execution_count": 4,
     "metadata": {},
     "output_type": "execute_result"
    }
   ],
   "source": [
    "# index has no nulls\n",
    "utils.index.isnull().sum()"
   ]
  },
  {
   "cell_type": "code",
   "execution_count": 5,
   "metadata": {},
   "outputs": [
    {
     "data": {
      "text/html": [
       "<div>\n",
       "<style scoped>\n",
       "    .dataframe tbody tr th:only-of-type {\n",
       "        vertical-align: middle;\n",
       "    }\n",
       "\n",
       "    .dataframe tbody tr th {\n",
       "        vertical-align: top;\n",
       "    }\n",
       "\n",
       "    .dataframe thead th {\n",
       "        text-align: right;\n",
       "    }\n",
       "</style>\n",
       "<table border=\"1\" class=\"dataframe\">\n",
       "  <thead>\n",
       "    <tr style=\"text-align: right;\">\n",
       "      <th></th>\n",
       "      <th>state</th>\n",
       "      <th>incentive_prog_names</th>\n",
       "      <th>size_kw</th>\n",
       "      <th>appraised</th>\n",
       "      <th>zipcode</th>\n",
       "      <th>install_type</th>\n",
       "      <th>installer</th>\n",
       "      <th>cost_per_watt</th>\n",
       "      <th>cost</th>\n",
       "      <th>lbnl_tts_version_year</th>\n",
       "      <th>...</th>\n",
       "      <th>reported_annual_energy_prod</th>\n",
       "      <th>year</th>\n",
       "      <th>pbi_length</th>\n",
       "      <th>utility</th>\n",
       "      <th>bipv_3</th>\n",
       "      <th>bipv_2</th>\n",
       "      <th>bipv_1</th>\n",
       "      <th>new_constr</th>\n",
       "      <th>tracking</th>\n",
       "      <th>3rdparty</th>\n",
       "    </tr>\n",
       "    <tr>\n",
       "      <th>date_installed</th>\n",
       "      <th></th>\n",
       "      <th></th>\n",
       "      <th></th>\n",
       "      <th></th>\n",
       "      <th></th>\n",
       "      <th></th>\n",
       "      <th></th>\n",
       "      <th></th>\n",
       "      <th></th>\n",
       "      <th></th>\n",
       "      <th></th>\n",
       "      <th></th>\n",
       "      <th></th>\n",
       "      <th></th>\n",
       "      <th></th>\n",
       "      <th></th>\n",
       "      <th></th>\n",
       "      <th></th>\n",
       "      <th></th>\n",
       "      <th></th>\n",
       "      <th></th>\n",
       "    </tr>\n",
       "  </thead>\n",
       "  <tbody>\n",
       "    <tr>\n",
       "      <th>1997-11-18</th>\n",
       "      <td>NY</td>\n",
       "      <td>NaN</td>\n",
       "      <td>5.50</td>\n",
       "      <td>NaN</td>\n",
       "      <td>10601</td>\n",
       "      <td>utility</td>\n",
       "      <td>NaN</td>\n",
       "      <td>NaN</td>\n",
       "      <td>NaN</td>\n",
       "      <td>NaN</td>\n",
       "      <td>...</td>\n",
       "      <td>NaN</td>\n",
       "      <td>NaN</td>\n",
       "      <td>NaN</td>\n",
       "      <td>NaN</td>\n",
       "      <td>NaN</td>\n",
       "      <td>NaN</td>\n",
       "      <td>NaN</td>\n",
       "      <td>NaN</td>\n",
       "      <td>NaN</td>\n",
       "      <td>NaN</td>\n",
       "    </tr>\n",
       "    <tr>\n",
       "      <th>1998-11-12</th>\n",
       "      <td>NY</td>\n",
       "      <td>NaN</td>\n",
       "      <td>7.56</td>\n",
       "      <td>NaN</td>\n",
       "      <td>10546</td>\n",
       "      <td>utility</td>\n",
       "      <td>NaN</td>\n",
       "      <td>7.67</td>\n",
       "      <td>58000.0</td>\n",
       "      <td>NaN</td>\n",
       "      <td>...</td>\n",
       "      <td>NaN</td>\n",
       "      <td>NaN</td>\n",
       "      <td>NaN</td>\n",
       "      <td>NaN</td>\n",
       "      <td>NaN</td>\n",
       "      <td>NaN</td>\n",
       "      <td>NaN</td>\n",
       "      <td>NaN</td>\n",
       "      <td>NaN</td>\n",
       "      <td>NaN</td>\n",
       "    </tr>\n",
       "    <tr>\n",
       "      <th>2001-06-06</th>\n",
       "      <td>TN</td>\n",
       "      <td>NaN</td>\n",
       "      <td>15.00</td>\n",
       "      <td>NaN</td>\n",
       "      <td>37923</td>\n",
       "      <td>utility</td>\n",
       "      <td>NaN</td>\n",
       "      <td>10.00</td>\n",
       "      <td>150000.0</td>\n",
       "      <td>NaN</td>\n",
       "      <td>...</td>\n",
       "      <td>NaN</td>\n",
       "      <td>NaN</td>\n",
       "      <td>NaN</td>\n",
       "      <td>NaN</td>\n",
       "      <td>NaN</td>\n",
       "      <td>NaN</td>\n",
       "      <td>NaN</td>\n",
       "      <td>NaN</td>\n",
       "      <td>NaN</td>\n",
       "      <td>NaN</td>\n",
       "    </tr>\n",
       "    <tr>\n",
       "      <th>2002-05-02</th>\n",
       "      <td>WA</td>\n",
       "      <td>NaN</td>\n",
       "      <td>38.70</td>\n",
       "      <td>NaN</td>\n",
       "      <td>99353</td>\n",
       "      <td>utility</td>\n",
       "      <td>NaN</td>\n",
       "      <td>7.26</td>\n",
       "      <td>281000.0</td>\n",
       "      <td>NaN</td>\n",
       "      <td>...</td>\n",
       "      <td>NaN</td>\n",
       "      <td>NaN</td>\n",
       "      <td>NaN</td>\n",
       "      <td>NaN</td>\n",
       "      <td>NaN</td>\n",
       "      <td>NaN</td>\n",
       "      <td>NaN</td>\n",
       "      <td>NaN</td>\n",
       "      <td>NaN</td>\n",
       "      <td>NaN</td>\n",
       "    </tr>\n",
       "    <tr>\n",
       "      <th>2002-12-18</th>\n",
       "      <td>FL</td>\n",
       "      <td>NaN</td>\n",
       "      <td>10.00</td>\n",
       "      <td>NaN</td>\n",
       "      <td>32614</td>\n",
       "      <td>utility</td>\n",
       "      <td>NaN</td>\n",
       "      <td>NaN</td>\n",
       "      <td>NaN</td>\n",
       "      <td>NaN</td>\n",
       "      <td>...</td>\n",
       "      <td>NaN</td>\n",
       "      <td>NaN</td>\n",
       "      <td>NaN</td>\n",
       "      <td>NaN</td>\n",
       "      <td>NaN</td>\n",
       "      <td>NaN</td>\n",
       "      <td>NaN</td>\n",
       "      <td>NaN</td>\n",
       "      <td>NaN</td>\n",
       "      <td>NaN</td>\n",
       "    </tr>\n",
       "  </tbody>\n",
       "</table>\n",
       "<p>5 rows × 37 columns</p>\n",
       "</div>"
      ],
      "text/plain": [
       "               state  incentive_prog_names  size_kw  appraised  zipcode  \\\n",
       "date_installed                                                            \n",
       "1997-11-18        NY                   NaN     5.50        NaN    10601   \n",
       "1998-11-12        NY                   NaN     7.56        NaN    10546   \n",
       "2001-06-06        TN                   NaN    15.00        NaN    37923   \n",
       "2002-05-02        WA                   NaN    38.70        NaN    99353   \n",
       "2002-12-18        FL                   NaN    10.00        NaN    32614   \n",
       "\n",
       "               install_type installer  cost_per_watt      cost  \\\n",
       "date_installed                                                   \n",
       "1997-11-18          utility       NaN            NaN       NaN   \n",
       "1998-11-12          utility       NaN           7.67   58000.0   \n",
       "2001-06-06          utility       NaN          10.00  150000.0   \n",
       "2002-05-02          utility       NaN           7.26  281000.0   \n",
       "2002-12-18          utility       NaN            NaN       NaN   \n",
       "\n",
       "                lbnl_tts_version_year    ...     reported_annual_energy_prod  \\\n",
       "date_installed                           ...                                   \n",
       "1997-11-18                        NaN    ...                             NaN   \n",
       "1998-11-12                        NaN    ...                             NaN   \n",
       "2001-06-06                        NaN    ...                             NaN   \n",
       "2002-05-02                        NaN    ...                             NaN   \n",
       "2002-12-18                        NaN    ...                             NaN   \n",
       "\n",
       "               year  pbi_length  utility  bipv_3 bipv_2  bipv_1  new_constr  \\\n",
       "date_installed                                                                \n",
       "1997-11-18      NaN         NaN      NaN     NaN    NaN     NaN         NaN   \n",
       "1998-11-12      NaN         NaN      NaN     NaN    NaN     NaN         NaN   \n",
       "2001-06-06      NaN         NaN      NaN     NaN    NaN     NaN         NaN   \n",
       "2002-05-02      NaN         NaN      NaN     NaN    NaN     NaN         NaN   \n",
       "2002-12-18      NaN         NaN      NaN     NaN    NaN     NaN         NaN   \n",
       "\n",
       "                tracking  3rdparty  \n",
       "date_installed                      \n",
       "1997-11-18           NaN       NaN  \n",
       "1998-11-12           NaN       NaN  \n",
       "2001-06-06           NaN       NaN  \n",
       "2002-05-02           NaN       NaN  \n",
       "2002-12-18           NaN       NaN  \n",
       "\n",
       "[5 rows x 37 columns]"
      ]
     },
     "execution_count": 5,
     "metadata": {},
     "output_type": "execute_result"
    }
   ],
   "source": [
    "utils.head()"
   ]
  },
  {
   "cell_type": "code",
   "execution_count": 6,
   "metadata": {},
   "outputs": [],
   "source": [
    "# make sure it's in order\n",
    "utils.sort_index(inplace=True)"
   ]
  },
  {
   "cell_type": "code",
   "execution_count": 7,
   "metadata": {},
   "outputs": [
    {
     "name": "stdout",
     "output_type": "stream",
     "text": [
      "<class 'pandas.core.frame.DataFrame'>\n",
      "DatetimeIndex: 230 entries, 1997-11-18 to 2015-09-25\n",
      "Data columns (total 37 columns):\n",
      "state                          230 non-null object\n",
      "incentive_prog_names           0 non-null float64\n",
      "size_kw                        230 non-null float64\n",
      "appraised                      0 non-null float64\n",
      "zipcode                        230 non-null int64\n",
      "install_type                   230 non-null object\n",
      "installer                      2 non-null object\n",
      "cost_per_watt                  66 non-null float64\n",
      "cost                           66 non-null float64\n",
      "lbnl_tts_version_year          0 non-null float64\n",
      "lbnl_tts                       0 non-null float64\n",
      "city                           11 non-null object\n",
      "utility_clean                  0 non-null float64\n",
      "tech_1                         0 non-null float64\n",
      "model1_clean                   0 non-null float64\n",
      "county                         195 non-null object\n",
      "annual_PV_prod                 0 non-null float64\n",
      "annual_insolation              0 non-null float64\n",
      "rebate                         0 non-null float64\n",
      "sales_tax_cost                 0 non-null float64\n",
      "tilt1                          0 non-null float64\n",
      "tracking_type                  0 non-null float64\n",
      "azimuth1                       0 non-null float64\n",
      "manuf2_clean                   0 non-null float64\n",
      "manuf3_clean                   0 non-null float64\n",
      "manuf1_clean                   0 non-null float64\n",
      "inv_man_clean                  0 non-null float64\n",
      "reported_annual_energy_prod    0 non-null float64\n",
      "year                           0 non-null float64\n",
      "pbi_length                     0 non-null float64\n",
      "utility                        0 non-null float64\n",
      "bipv_3                         0 non-null float64\n",
      "bipv_2                         0 non-null float64\n",
      "bipv_1                         0 non-null float64\n",
      "new_constr                     0 non-null float64\n",
      "tracking                       0 non-null float64\n",
      "3rdparty                       0 non-null float64\n",
      "dtypes: float64(31), int64(1), object(5)\n",
      "memory usage: 68.3+ KB\n"
     ]
    }
   ],
   "source": [
    "# lots of null cols\n",
    "# 230 rows, 66 with cost and cost_per_watt\n",
    "# the rest are just informational\n",
    "utils.info()"
   ]
  },
  {
   "cell_type": "code",
   "execution_count": 8,
   "metadata": {},
   "outputs": [],
   "source": [
    "# drop all the empty columns\n",
    "tmp = utils.dropna(how='all', axis=1)"
   ]
  },
  {
   "cell_type": "code",
   "execution_count": 9,
   "metadata": {},
   "outputs": [
    {
     "name": "stdout",
     "output_type": "stream",
     "text": [
      "<class 'pandas.core.frame.DataFrame'>\n",
      "DatetimeIndex: 230 entries, 1997-11-18 to 2015-09-25\n",
      "Data columns (total 9 columns):\n",
      "state            230 non-null object\n",
      "size_kw          230 non-null float64\n",
      "zipcode          230 non-null int64\n",
      "install_type     230 non-null object\n",
      "installer        2 non-null object\n",
      "cost_per_watt    66 non-null float64\n",
      "cost             66 non-null float64\n",
      "city             11 non-null object\n",
      "county           195 non-null object\n",
      "dtypes: float64(3), int64(1), object(5)\n",
      "memory usage: 18.0+ KB\n"
     ]
    }
   ],
   "source": [
    "# and check.  \n",
    "tmp.info()"
   ]
  },
  {
   "cell_type": "code",
   "execution_count": 10,
   "metadata": {},
   "outputs": [],
   "source": [
    "# ok, looks good; now we're down to a nice little set of variables; lock it in.\n",
    "utils = tmp"
   ]
  },
  {
   "cell_type": "code",
   "execution_count": 11,
   "metadata": {
    "scrolled": true
   },
   "outputs": [
    {
     "data": {
      "image/png": "[encoded data removed]",
      "text/plain": [
       "<matplotlib.figure.Figure at 0x135448554a8>"
      ]
     },
     "metadata": {},
     "output_type": "display_data"
    }
   ],
   "source": [
    "# this is so nice I want to regress it right away though outliers may be a problem.\n",
    "utils.cost_per_watt.plot(marker='.', linestyle='none')\n",
    "plt.title('cost_per_watt vs. install date')\n",
    "plt.ylabel('cost_per_watt')\n",
    "plt.xlabel('date_installed');"
   ]
  },
  {
   "cell_type": "markdown",
   "metadata": {},
   "source": [
    "#### Set up df for linear regression"
   ]
  },
  {
   "cell_type": "code",
   "execution_count": 12,
   "metadata": {},
   "outputs": [],
   "source": [
    "mdf = pd.DataFrame({'date_installed' : pd.Series(utils.index),\n",
    "                    'cost_per_watt'   : pd.Series(utils.cost_per_watt.values)})"
   ]
  },
  {
   "cell_type": "code",
   "execution_count": 13,
   "metadata": {},
   "outputs": [],
   "source": [
    "# get rid of null values\n",
    "mdf.dropna(how='any', inplace=True)"
   ]
  },
  {
   "cell_type": "code",
   "execution_count": 14,
   "metadata": {},
   "outputs": [
    {
     "data": {
      "text/html": [
       "<div>\n",
       "<style scoped>\n",
       "    .dataframe tbody tr th:only-of-type {\n",
       "        vertical-align: middle;\n",
       "    }\n",
       "\n",
       "    .dataframe tbody tr th {\n",
       "        vertical-align: top;\n",
       "    }\n",
       "\n",
       "    .dataframe thead th {\n",
       "        text-align: right;\n",
       "    }\n",
       "</style>\n",
       "<table border=\"1\" class=\"dataframe\">\n",
       "  <thead>\n",
       "    <tr style=\"text-align: right;\">\n",
       "      <th></th>\n",
       "      <th>cost_per_watt</th>\n",
       "      <th>date_installed</th>\n",
       "    </tr>\n",
       "  </thead>\n",
       "  <tbody>\n",
       "    <tr>\n",
       "      <th>1</th>\n",
       "      <td>7.67</td>\n",
       "      <td>1998-11-12</td>\n",
       "    </tr>\n",
       "    <tr>\n",
       "      <th>2</th>\n",
       "      <td>10.00</td>\n",
       "      <td>2001-06-06</td>\n",
       "    </tr>\n",
       "    <tr>\n",
       "      <th>3</th>\n",
       "      <td>7.26</td>\n",
       "      <td>2002-05-02</td>\n",
       "    </tr>\n",
       "    <tr>\n",
       "      <th>5</th>\n",
       "      <td>7.87</td>\n",
       "      <td>2003-12-24</td>\n",
       "    </tr>\n",
       "    <tr>\n",
       "      <th>7</th>\n",
       "      <td>14.55</td>\n",
       "      <td>2007-08-23</td>\n",
       "    </tr>\n",
       "  </tbody>\n",
       "</table>\n",
       "</div>"
      ],
      "text/plain": [
       "   cost_per_watt date_installed\n",
       "1           7.67     1998-11-12\n",
       "2          10.00     2001-06-06\n",
       "3           7.26     2002-05-02\n",
       "5           7.87     2003-12-24\n",
       "7          14.55     2007-08-23"
      ]
     },
     "execution_count": 14,
     "metadata": {},
     "output_type": "execute_result"
    }
   ],
   "source": [
    "mdf.head()"
   ]
  },
  {
   "cell_type": "code",
   "execution_count": 15,
   "metadata": {},
   "outputs": [
    {
     "data": {
      "text/html": [
       "<div>\n",
       "<style scoped>\n",
       "    .dataframe tbody tr th:only-of-type {\n",
       "        vertical-align: middle;\n",
       "    }\n",
       "\n",
       "    .dataframe tbody tr th {\n",
       "        vertical-align: top;\n",
       "    }\n",
       "\n",
       "    .dataframe thead th {\n",
       "        text-align: right;\n",
       "    }\n",
       "</style>\n",
       "<table border=\"1\" class=\"dataframe\">\n",
       "  <thead>\n",
       "    <tr style=\"text-align: right;\">\n",
       "      <th></th>\n",
       "      <th>index</th>\n",
       "      <th>cost_per_watt</th>\n",
       "      <th>date_installed</th>\n",
       "    </tr>\n",
       "  </thead>\n",
       "  <tbody>\n",
       "    <tr>\n",
       "      <th>0</th>\n",
       "      <td>1</td>\n",
       "      <td>7.67</td>\n",
       "      <td>1998-11-12</td>\n",
       "    </tr>\n",
       "    <tr>\n",
       "      <th>1</th>\n",
       "      <td>2</td>\n",
       "      <td>10.00</td>\n",
       "      <td>2001-06-06</td>\n",
       "    </tr>\n",
       "    <tr>\n",
       "      <th>2</th>\n",
       "      <td>3</td>\n",
       "      <td>7.26</td>\n",
       "      <td>2002-05-02</td>\n",
       "    </tr>\n",
       "    <tr>\n",
       "      <th>3</th>\n",
       "      <td>5</td>\n",
       "      <td>7.87</td>\n",
       "      <td>2003-12-24</td>\n",
       "    </tr>\n",
       "    <tr>\n",
       "      <th>4</th>\n",
       "      <td>7</td>\n",
       "      <td>14.55</td>\n",
       "      <td>2007-08-23</td>\n",
       "    </tr>\n",
       "  </tbody>\n",
       "</table>\n",
       "</div>"
      ],
      "text/plain": [
       "   index  cost_per_watt date_installed\n",
       "0      1           7.67     1998-11-12\n",
       "1      2          10.00     2001-06-06\n",
       "2      3           7.26     2002-05-02\n",
       "3      5           7.87     2003-12-24\n",
       "4      7          14.55     2007-08-23"
      ]
     },
     "execution_count": 15,
     "metadata": {},
     "output_type": "execute_result"
    }
   ],
   "source": [
    "mdf.reset_index(level=0, inplace=True); mdf.head()"
   ]
  },
  {
   "cell_type": "code",
   "execution_count": 16,
   "metadata": {},
   "outputs": [],
   "source": [
    "# get rid of old index\n",
    "mdf.drop('index', axis='columns', inplace=True)"
   ]
  },
  {
   "cell_type": "code",
   "execution_count": 17,
   "metadata": {},
   "outputs": [
    {
     "data": {
      "text/html": [
       "<div>\n",
       "<style scoped>\n",
       "    .dataframe tbody tr th:only-of-type {\n",
       "        vertical-align: middle;\n",
       "    }\n",
       "\n",
       "    .dataframe tbody tr th {\n",
       "        vertical-align: top;\n",
       "    }\n",
       "\n",
       "    .dataframe thead th {\n",
       "        text-align: right;\n",
       "    }\n",
       "</style>\n",
       "<table border=\"1\" class=\"dataframe\">\n",
       "  <thead>\n",
       "    <tr style=\"text-align: right;\">\n",
       "      <th></th>\n",
       "      <th>cost_per_watt</th>\n",
       "      <th>date_installed</th>\n",
       "    </tr>\n",
       "  </thead>\n",
       "  <tbody>\n",
       "    <tr>\n",
       "      <th>0</th>\n",
       "      <td>7.67</td>\n",
       "      <td>1998-11-12</td>\n",
       "    </tr>\n",
       "    <tr>\n",
       "      <th>1</th>\n",
       "      <td>10.00</td>\n",
       "      <td>2001-06-06</td>\n",
       "    </tr>\n",
       "    <tr>\n",
       "      <th>2</th>\n",
       "      <td>7.26</td>\n",
       "      <td>2002-05-02</td>\n",
       "    </tr>\n",
       "    <tr>\n",
       "      <th>3</th>\n",
       "      <td>7.87</td>\n",
       "      <td>2003-12-24</td>\n",
       "    </tr>\n",
       "    <tr>\n",
       "      <th>4</th>\n",
       "      <td>14.55</td>\n",
       "      <td>2007-08-23</td>\n",
       "    </tr>\n",
       "  </tbody>\n",
       "</table>\n",
       "</div>"
      ],
      "text/plain": [
       "   cost_per_watt date_installed\n",
       "0           7.67     1998-11-12\n",
       "1          10.00     2001-06-06\n",
       "2           7.26     2002-05-02\n",
       "3           7.87     2003-12-24\n",
       "4          14.55     2007-08-23"
      ]
     },
     "execution_count": 17,
     "metadata": {},
     "output_type": "execute_result"
    }
   ],
   "source": [
    "mdf.head()"
   ]
  },
  {
   "cell_type": "code",
   "execution_count": 18,
   "metadata": {},
   "outputs": [
    {
     "data": {
      "text/plain": [
       "0       0\n",
       "1     937\n",
       "2    1267\n",
       "3    1868\n",
       "4    3206\n",
       "Name: date_installed, dtype: int64"
      ]
     },
     "execution_count": 18,
     "metadata": {},
     "output_type": "execute_result"
    }
   ],
   "source": [
    "# add a column that is number of days after 1998-11-12\n",
    "day0 = pd.to_datetime('1998-11-12')\n",
    "days = (mdf.date_installed - day0).apply(lambda x: x.days)\n",
    "days.head()"
   ]
  },
  {
   "cell_type": "code",
   "execution_count": 19,
   "metadata": {},
   "outputs": [],
   "source": [
    "mdf = mdf.assign(ndays = days)"
   ]
  },
  {
   "cell_type": "code",
   "execution_count": 20,
   "metadata": {},
   "outputs": [
    {
     "data": {
      "text/html": [
       "<div>\n",
       "<style scoped>\n",
       "    .dataframe tbody tr th:only-of-type {\n",
       "        vertical-align: middle;\n",
       "    }\n",
       "\n",
       "    .dataframe tbody tr th {\n",
       "        vertical-align: top;\n",
       "    }\n",
       "\n",
       "    .dataframe thead th {\n",
       "        text-align: right;\n",
       "    }\n",
       "</style>\n",
       "<table border=\"1\" class=\"dataframe\">\n",
       "  <thead>\n",
       "    <tr style=\"text-align: right;\">\n",
       "      <th></th>\n",
       "      <th>cost_per_watt</th>\n",
       "      <th>date_installed</th>\n",
       "      <th>ndays</th>\n",
       "    </tr>\n",
       "  </thead>\n",
       "  <tbody>\n",
       "    <tr>\n",
       "      <th>0</th>\n",
       "      <td>7.67</td>\n",
       "      <td>1998-11-12</td>\n",
       "      <td>0</td>\n",
       "    </tr>\n",
       "    <tr>\n",
       "      <th>1</th>\n",
       "      <td>10.00</td>\n",
       "      <td>2001-06-06</td>\n",
       "      <td>937</td>\n",
       "    </tr>\n",
       "    <tr>\n",
       "      <th>2</th>\n",
       "      <td>7.26</td>\n",
       "      <td>2002-05-02</td>\n",
       "      <td>1267</td>\n",
       "    </tr>\n",
       "    <tr>\n",
       "      <th>3</th>\n",
       "      <td>7.87</td>\n",
       "      <td>2003-12-24</td>\n",
       "      <td>1868</td>\n",
       "    </tr>\n",
       "    <tr>\n",
       "      <th>4</th>\n",
       "      <td>14.55</td>\n",
       "      <td>2007-08-23</td>\n",
       "      <td>3206</td>\n",
       "    </tr>\n",
       "  </tbody>\n",
       "</table>\n",
       "</div>"
      ],
      "text/plain": [
       "   cost_per_watt date_installed  ndays\n",
       "0           7.67     1998-11-12      0\n",
       "1          10.00     2001-06-06    937\n",
       "2           7.26     2002-05-02   1267\n",
       "3           7.87     2003-12-24   1868\n",
       "4          14.55     2007-08-23   3206"
      ]
     },
     "execution_count": 20,
     "metadata": {},
     "output_type": "execute_result"
    }
   ],
   "source": [
    "mdf.head()"
   ]
  },
  {
   "cell_type": "code",
   "execution_count": 21,
   "metadata": {},
   "outputs": [
    {
     "data": {
      "text/plain": [
       "<seaborn.axisgrid.FacetGrid at 0x13544873be0>"
      ]
     },
     "execution_count": 21,
     "metadata": {},
     "output_type": "execute_result"
    },
    {
     "data": {
      "image/png": "[encoded data removed]",
      "text/plain": [
       "<matplotlib.figure.Figure at 0x13544873c88>"
      ]
     },
     "metadata": {},
     "output_type": "display_data"
    }
   ],
   "source": [
    "# like I thought, not a real powerful model, but maybe not useless.\n",
    "sns.lmplot('ndays', 'cost_per_watt', mdf, size=6, markers='.')"
   ]
  },
  {
   "cell_type": "code",
   "execution_count": 22,
   "metadata": {},
   "outputs": [
    {
     "name": "stdout",
     "output_type": "stream",
     "text": [
      "                            OLS Regression Results                            \n",
      "==============================================================================\n",
      "Dep. Variable:          cost_per_watt   R-squared:                       0.248\n",
      "Model:                            OLS   Adj. R-squared:                  0.236\n",
      "Method:                 Least Squares   F-statistic:                     21.06\n",
      "Date:                Wed, 27 Dec 2017   Prob (F-statistic):           2.14e-05\n",
      "Time:                        22:19:32   Log-Likelihood:                -159.29\n",
      "No. Observations:                  66   AIC:                             322.6\n",
      "Df Residuals:                      64   BIC:                             327.0\n",
      "Df Model:                           1                                         \n",
      "Covariance Type:            nonrobust                                         \n",
      "==============================================================================\n",
      "                 coef    std err          t      P>|t|      [0.025      0.975]\n",
      "------------------------------------------------------------------------------\n",
      "Intercept     13.1396      1.434      9.162      0.000      10.275      16.005\n",
      "ndays         -0.0015      0.000     -4.589      0.000      -0.002      -0.001\n",
      "==============================================================================\n",
      "Omnibus:                        9.269   Durbin-Watson:                   1.640\n",
      "Prob(Omnibus):                  0.010   Jarque-Bera (JB):                9.026\n",
      "Skew:                           0.878   Prob(JB):                       0.0110\n",
      "Kurtosis:                       3.443   Cond. No.                     1.86e+04\n",
      "==============================================================================\n",
      "\n",
      "Warnings:\n",
      "[1] Standard Errors assume that the covariance matrix of the errors is correctly specified.\n",
      "[2] The condition number is large, 1.86e+04. This might indicate that there are\n",
      "strong multicollinearity or other numerical problems.\n"
     ]
    }
   ],
   "source": [
    "# \n",
    "# okay, this says you pay $1.50 less for every 1000 days you wait, or about $0.50/watt less per year\n",
    "# \n",
    "\n",
    "m = ols('cost_per_watt ~ ndays', mdf).fit()\n",
    "print(m.summary())"
   ]
  },
  {
   "cell_type": "markdown",
   "metadata": {},
   "source": [
    "### Check relationship cost, size, cost_per_watt\n",
    "\n",
    "Should be linear."
   ]
  },
  {
   "cell_type": "markdown",
   "metadata": {},
   "source": [
    "####  Pair plot\n",
    "\n",
    "Let's see what pair plot shows us."
   ]
  },
  {
   "cell_type": "code",
   "execution_count": 23,
   "metadata": {},
   "outputs": [
    {
     "data": {
      "text/html": [
       "<div>\n",
       "<style scoped>\n",
       "    .dataframe tbody tr th:only-of-type {\n",
       "        vertical-align: middle;\n",
       "    }\n",
       "\n",
       "    .dataframe tbody tr th {\n",
       "        vertical-align: top;\n",
       "    }\n",
       "\n",
       "    .dataframe thead th {\n",
       "        text-align: right;\n",
       "    }\n",
       "</style>\n",
       "<table border=\"1\" class=\"dataframe\">\n",
       "  <thead>\n",
       "    <tr style=\"text-align: right;\">\n",
       "      <th></th>\n",
       "      <th>size_kw</th>\n",
       "      <th>zipcode</th>\n",
       "      <th>cost_per_watt</th>\n",
       "      <th>cost</th>\n",
       "    </tr>\n",
       "  </thead>\n",
       "  <tbody>\n",
       "    <tr>\n",
       "      <th>count</th>\n",
       "      <td>230.000000</td>\n",
       "      <td>230.000000</td>\n",
       "      <td>66.000000</td>\n",
       "      <td>6.600000e+01</td>\n",
       "    </tr>\n",
       "    <tr>\n",
       "      <th>mean</th>\n",
       "      <td>7813.015487</td>\n",
       "      <td>52276.147826</td>\n",
       "      <td>6.744091</td>\n",
       "      <td>1.564180e+07</td>\n",
       "    </tr>\n",
       "    <tr>\n",
       "      <th>std</th>\n",
       "      <td>23593.192729</td>\n",
       "      <td>33723.885321</td>\n",
       "      <td>3.140749</td>\n",
       "      <td>2.888603e+07</td>\n",
       "    </tr>\n",
       "    <tr>\n",
       "      <th>min</th>\n",
       "      <td>0.900000</td>\n",
       "      <td>1007.000000</td>\n",
       "      <td>2.430000</td>\n",
       "      <td>1.150000e+04</td>\n",
       "    </tr>\n",
       "    <tr>\n",
       "      <th>25%</th>\n",
       "      <td>517.693750</td>\n",
       "      <td>19947.750000</td>\n",
       "      <td>4.040000</td>\n",
       "      <td>6.879875e+04</td>\n",
       "    </tr>\n",
       "    <tr>\n",
       "      <th>50%</th>\n",
       "      <td>2164.600000</td>\n",
       "      <td>47485.000000</td>\n",
       "      <td>6.075000</td>\n",
       "      <td>3.979253e+06</td>\n",
       "    </tr>\n",
       "    <tr>\n",
       "      <th>75%</th>\n",
       "      <td>8165.000000</td>\n",
       "      <td>87089.500000</td>\n",
       "      <td>9.002500</td>\n",
       "      <td>1.184034e+07</td>\n",
       "    </tr>\n",
       "    <tr>\n",
       "      <th>max</th>\n",
       "      <td>333000.000000</td>\n",
       "      <td>99353.000000</td>\n",
       "      <td>14.940000</td>\n",
       "      <td>1.522000e+08</td>\n",
       "    </tr>\n",
       "  </tbody>\n",
       "</table>\n",
       "</div>"
      ],
      "text/plain": [
       "             size_kw       zipcode  cost_per_watt          cost\n",
       "count     230.000000    230.000000      66.000000  6.600000e+01\n",
       "mean     7813.015487  52276.147826       6.744091  1.564180e+07\n",
       "std     23593.192729  33723.885321       3.140749  2.888603e+07\n",
       "min         0.900000   1007.000000       2.430000  1.150000e+04\n",
       "25%       517.693750  19947.750000       4.040000  6.879875e+04\n",
       "50%      2164.600000  47485.000000       6.075000  3.979253e+06\n",
       "75%      8165.000000  87089.500000       9.002500  1.184034e+07\n",
       "max    333000.000000  99353.000000      14.940000  1.522000e+08"
      ]
     },
     "execution_count": 23,
     "metadata": {},
     "output_type": "execute_result"
    }
   ],
   "source": [
    "utils.describe()"
   ]
  },
  {
   "cell_type": "code",
   "execution_count": 24,
   "metadata": {},
   "outputs": [
    {
     "data": {
      "image/png": "[encoded data removed]",
      "text/plain": [
       "<matplotlib.figure.Figure at 0x13544cb0ba8>"
      ]
     },
     "metadata": {},
     "output_type": "display_data"
    }
   ],
   "source": [
    "# maybe blowing up because of null values\n",
    "# masking nulls makes it go\n",
    "sns.pairplot(utils[utils.cost.notnull()][['cost', 'size_kw', 'cost_per_watt']]);"
   ]
  },
  {
   "cell_type": "markdown",
   "metadata": {},
   "source": [
    "### Interpretation of the above plots\n",
    "\n",
    "We expect to see a linear relationship between cost and size.  If you pay more, you should get more and vice versa.  If the cost per watt changes over time then we would see divergence from a pure linear function.\n",
    "\n",
    "We might expect to see price drop as size increases.  The plot above doesn't say either way.  It's not surpising as the data set is tiny and time is not taken into account.\n",
    "\n",
    "In fact, when we model, we are going to want to be careful with cost and size because they are linearly related.  The target, cost_per_size, may have meaningful relationships with time (component price reduction over time) and size (economy of scale).  Thus cost is the best candidate for leaving out."
   ]
  },
  {
   "cell_type": "code",
   "execution_count": 25,
   "metadata": {},
   "outputs": [
    {
     "data": {
      "image/png": "[encoded data removed]",
      "text/plain": [
       "<matplotlib.figure.Figure at 0x1354560fc18>"
      ]
     },
     "metadata": {},
     "output_type": "display_data"
    }
   ],
   "source": [
    "# I predict this will give me back the mean cost_per_watt as the slope\n",
    "sns.lmplot( 'size_kw', 'cost', utils[utils.cost.notnull()], markers='.')\n",
    "plt.title('Utilities Cost vs Size');"
   ]
  },
  {
   "cell_type": "code",
   "execution_count": 26,
   "metadata": {},
   "outputs": [
    {
     "name": "stdout",
     "output_type": "stream",
     "text": [
      "                            OLS Regression Results                            \n",
      "==============================================================================\n",
      "Dep. Variable:                   cost   R-squared:                       0.925\n",
      "Model:                            OLS   Adj. R-squared:                  0.924\n",
      "Method:                 Least Squares   F-statistic:                     792.5\n",
      "Date:                Wed, 27 Dec 2017   Prob (F-statistic):           9.22e-38\n",
      "Time:                        22:19:33   Log-Likelihood:                -1141.4\n",
      "No. Observations:                  66   AIC:                             2287.\n",
      "Df Residuals:                      64   BIC:                             2291.\n",
      "Df Model:                           1                                         \n",
      "Covariance Type:            nonrobust                                         \n",
      "==============================================================================\n",
      "                 coef    std err          t      P>|t|      [0.025      0.975]\n",
      "------------------------------------------------------------------------------\n",
      "Intercept   6.048e+05   1.12e+06      0.542      0.590   -1.62e+06    2.83e+06\n",
      "size_kw     4115.8792    146.209     28.151      0.000    3823.794    4407.965\n",
      "==============================================================================\n",
      "Omnibus:                       52.243   Durbin-Watson:                   2.083\n",
      "Prob(Omnibus):                  0.000   Jarque-Bera (JB):              294.309\n",
      "Skew:                           2.170   Prob(JB):                     1.23e-64\n",
      "Kurtosis:                      12.391   Cond. No.                     8.69e+03\n",
      "==============================================================================\n",
      "\n",
      "Warnings:\n",
      "[1] Standard Errors assume that the covariance matrix of the errors is correctly specified.\n",
      "[2] The condition number is large, 8.69e+03. This might indicate that there are\n",
      "strong multicollinearity or other numerical problems.\n"
     ]
    }
   ],
   "source": [
    "# \n",
    "# okay, the model says you pay $4k for every kwatt you add.\n",
    "# \n",
    "\n",
    "m = ols('cost ~ size_kw', utils[utils.cost.notnull()]).fit()\n",
    "print(m.summary())"
   ]
  },
  {
   "cell_type": "markdown",
   "metadata": {},
   "source": [
    "#### These cells gave me the idea to focus in on utilities.  Left here as comments for documentation."
   ]
  },
  {
   "cell_type": "code",
   "execution_count": 27,
   "metadata": {},
   "outputs": [],
   "source": [
    "# I wonder if this copies the data or just gives you an array of pointers to it?\n",
    "# bySize = dfFull.sort_values(['size_kw'])"
   ]
  },
  {
   "cell_type": "code",
   "execution_count": 28,
   "metadata": {},
   "outputs": [],
   "source": [
    "# 88733345.0/1000000"
   ]
  },
  {
   "cell_type": "code",
   "execution_count": 29,
   "metadata": {},
   "outputs": [],
   "source": [
    "# okay everyone is a utility except for 2 bad data from Roseville CA.\n",
    "# and every is null everywhere except for size.  Wait there's 1 priced entry in TX\n",
    "# $89M @ 3.84/watt in 2012\n",
    "# bySize.tail(24)"
   ]
  },
  {
   "cell_type": "code",
   "execution_count": 30,
   "metadata": {},
   "outputs": [],
   "source": [
    "# let's look at all the 'utility's"
   ]
  },
  {
   "cell_type": "code",
   "execution_count": 31,
   "metadata": {},
   "outputs": [],
   "source": [
    "### Okay, light bulb goes on.  Since this is a nice little set of data we can save it out\n",
    "### on its own and science the shit out of it.  Also has the charactistic that many fields\n",
    "### are null and can be dropped.utils = dfFull[dfFull.install_type == 'utility']\n"
   ]
  },
  {
   "cell_type": "code",
   "execution_count": 32,
   "metadata": {},
   "outputs": [],
   "source": [
    "# df.describe's default behavior is to show stats for numeric fields.  That's nice in this case \n",
    "# because it's expose some of the fields as particularly useless.\n",
    "# Let's begin to list candidates for dropping to reduce cognitive load.\n",
    "# utils.describe()"
   ]
  },
  {
   "cell_type": "code",
   "execution_count": 33,
   "metadata": {},
   "outputs": [],
   "source": [
    "# utils.to_csv('../local/data/utilities.csv')"
   ]
  }
 ],
 "metadata": {
  "kernelspec": {
   "display_name": "Python 3",
   "language": "python",
   "name": "python3"
  },
  "language_info": {
   "codemirror_mode": {
    "name": "ipython",
    "version": 3
   },
   "file_extension": ".py",
   "mimetype": "text/x-python",
   "name": "python",
   "nbconvert_exporter": "python",
   "pygments_lexer": "ipython3",
   "version": "3.6.3"
  }
 },
 "nbformat": 4,
 "nbformat_minor": 2
}
